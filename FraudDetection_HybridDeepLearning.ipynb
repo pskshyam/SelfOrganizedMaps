{
  "nbformat": 4,
  "nbformat_minor": 0,
  "metadata": {
    "colab": {
      "name": "FraudDetection-HybridDeepLearning",
      "version": "0.3.2",
      "provenance": []
    },
    "kernelspec": {
      "name": "python3",
      "display_name": "Python 3"
    },
    "accelerator": "GPU"
  },
  "cells": [
    {
      "cell_type": "markdown",
      "metadata": {
        "id": "view-in-github",
        "colab_type": "text"
      },
      "source": [
        "[View in Colaboratory](https://colab.research.google.com/github/pskshyam/SelfOrganizedMaps/blob/master/FraudDetection_HybridDeepLearning.ipynb)"
      ]
    },
    {
      "metadata": {
        "id": "CD_KgxlBG8Bp",
        "colab_type": "code",
        "colab": {
          "resources": {
            "http://localhost:8080/nbextensions/google.colab/files.js": {
              "data": "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",
              "ok": true,
              "headers": [
                [
                  "content-type",
                  "application/javascript"
                ]
              ],
              "status": 200,
              "status_text": "OK"
            }
          },
          "base_uri": "https://localhost:8080/",
          "height": 89
        },
        "outputId": "3934a503-c4cf-4cd6-ad99-c823ad2554a8"
      },
      "cell_type": "code",
      "source": [
        "#Upload the data file into Colab\n",
        "from google.colab import files\n",
        "uploaded = files.upload()\n",
        "\n",
        "for fn in uploaded.keys():\n",
        "  print('User uploaded file \"{name}\" with length {length} bytes'.format(\n",
        "      name=fn, length=len(uploaded[fn])))"
      ],
      "execution_count": 1,
      "outputs": [
        {
          "output_type": "display_data",
          "data": {
            "text/html": [
              "\n",
              "     <input type=\"file\" id=\"files-86623cf9-7c06-480d-bce3-4429b7418840\" name=\"files[]\" multiple disabled />\n",
              "     <output id=\"result-86623cf9-7c06-480d-bce3-4429b7418840\">\n",
              "      Upload widget is only available when the cell has been executed in the\n",
              "      current browser session. Please rerun this cell to enable.\n",
              "      </output>\n",
              "      <script src=\"/nbextensions/google.colab/files.js\"></script> "
            ],
            "text/plain": [
              "<IPython.core.display.HTML object>"
            ]
          },
          "metadata": {
            "tags": []
          }
        },
        {
          "output_type": "stream",
          "text": [
            "Saving Credit_Card_Applications.csv to Credit_Card_Applications.csv\n",
            "User uploaded file \"Credit_Card_Applications.csv\" with length 35641 bytes\n"
          ],
          "name": "stdout"
        }
      ]
    },
    {
      "metadata": {
        "id": "5U9IqqG2LuQF",
        "colab_type": "text"
      },
      "cell_type": "markdown",
      "source": [
        "**UnSupervised Model**"
      ]
    },
    {
      "metadata": {
        "id": "qo-OkjmbHoKa",
        "colab_type": "code",
        "colab": {}
      },
      "cell_type": "code",
      "source": [
        "#Import basic libraries\n",
        "import pandas as pd\n",
        "import numpy as np\n",
        "import matplotlib.pyplot as plt\n",
        "from IPython.core.interactiveshell import InteractiveShell #To print multiple outputs\n",
        "InteractiveShell.ast_node_interactivity = 'all'"
      ],
      "execution_count": 0,
      "outputs": []
    },
    {
      "metadata": {
        "id": "6VxNO4deaa_g",
        "colab_type": "code",
        "colab": {
          "base_uri": "https://localhost:8080/",
          "height": 204
        },
        "outputId": "01df7cd1-9e15-4e82-fad9-ae4aca3e20b1"
      },
      "cell_type": "code",
      "source": [
        "#Import the dataset\n",
        "dataset = pd.read_csv('Credit_Card_Applications.csv')\n",
        "dataset.head()"
      ],
      "execution_count": 2,
      "outputs": [
        {
          "output_type": "execute_result",
          "data": {
            "text/html": [
              "<div>\n",
              "<style scoped>\n",
              "    .dataframe tbody tr th:only-of-type {\n",
              "        vertical-align: middle;\n",
              "    }\n",
              "\n",
              "    .dataframe tbody tr th {\n",
              "        vertical-align: top;\n",
              "    }\n",
              "\n",
              "    .dataframe thead th {\n",
              "        text-align: right;\n",
              "    }\n",
              "</style>\n",
              "<table border=\"1\" class=\"dataframe\">\n",
              "  <thead>\n",
              "    <tr style=\"text-align: right;\">\n",
              "      <th></th>\n",
              "      <th>CustomerID</th>\n",
              "      <th>A1</th>\n",
              "      <th>A2</th>\n",
              "      <th>A3</th>\n",
              "      <th>A4</th>\n",
              "      <th>A5</th>\n",
              "      <th>A6</th>\n",
              "      <th>A7</th>\n",
              "      <th>A8</th>\n",
              "      <th>A9</th>\n",
              "      <th>A10</th>\n",
              "      <th>A11</th>\n",
              "      <th>A12</th>\n",
              "      <th>A13</th>\n",
              "      <th>A14</th>\n",
              "      <th>Class</th>\n",
              "    </tr>\n",
              "  </thead>\n",
              "  <tbody>\n",
              "    <tr>\n",
              "      <th>0</th>\n",
              "      <td>15776156</td>\n",
              "      <td>1</td>\n",
              "      <td>22.08</td>\n",
              "      <td>11.46</td>\n",
              "      <td>2</td>\n",
              "      <td>4</td>\n",
              "      <td>4</td>\n",
              "      <td>1.585</td>\n",
              "      <td>0</td>\n",
              "      <td>0</td>\n",
              "      <td>0</td>\n",
              "      <td>1</td>\n",
              "      <td>2</td>\n",
              "      <td>100</td>\n",
              "      <td>1213</td>\n",
              "      <td>0</td>\n",
              "    </tr>\n",
              "    <tr>\n",
              "      <th>1</th>\n",
              "      <td>15739548</td>\n",
              "      <td>0</td>\n",
              "      <td>22.67</td>\n",
              "      <td>7.00</td>\n",
              "      <td>2</td>\n",
              "      <td>8</td>\n",
              "      <td>4</td>\n",
              "      <td>0.165</td>\n",
              "      <td>0</td>\n",
              "      <td>0</td>\n",
              "      <td>0</td>\n",
              "      <td>0</td>\n",
              "      <td>2</td>\n",
              "      <td>160</td>\n",
              "      <td>1</td>\n",
              "      <td>0</td>\n",
              "    </tr>\n",
              "    <tr>\n",
              "      <th>2</th>\n",
              "      <td>15662854</td>\n",
              "      <td>0</td>\n",
              "      <td>29.58</td>\n",
              "      <td>1.75</td>\n",
              "      <td>1</td>\n",
              "      <td>4</td>\n",
              "      <td>4</td>\n",
              "      <td>1.250</td>\n",
              "      <td>0</td>\n",
              "      <td>0</td>\n",
              "      <td>0</td>\n",
              "      <td>1</td>\n",
              "      <td>2</td>\n",
              "      <td>280</td>\n",
              "      <td>1</td>\n",
              "      <td>0</td>\n",
              "    </tr>\n",
              "    <tr>\n",
              "      <th>3</th>\n",
              "      <td>15687688</td>\n",
              "      <td>0</td>\n",
              "      <td>21.67</td>\n",
              "      <td>11.50</td>\n",
              "      <td>1</td>\n",
              "      <td>5</td>\n",
              "      <td>3</td>\n",
              "      <td>0.000</td>\n",
              "      <td>1</td>\n",
              "      <td>1</td>\n",
              "      <td>11</td>\n",
              "      <td>1</td>\n",
              "      <td>2</td>\n",
              "      <td>0</td>\n",
              "      <td>1</td>\n",
              "      <td>1</td>\n",
              "    </tr>\n",
              "    <tr>\n",
              "      <th>4</th>\n",
              "      <td>15715750</td>\n",
              "      <td>1</td>\n",
              "      <td>20.17</td>\n",
              "      <td>8.17</td>\n",
              "      <td>2</td>\n",
              "      <td>6</td>\n",
              "      <td>4</td>\n",
              "      <td>1.960</td>\n",
              "      <td>1</td>\n",
              "      <td>1</td>\n",
              "      <td>14</td>\n",
              "      <td>0</td>\n",
              "      <td>2</td>\n",
              "      <td>60</td>\n",
              "      <td>159</td>\n",
              "      <td>1</td>\n",
              "    </tr>\n",
              "  </tbody>\n",
              "</table>\n",
              "</div>"
            ],
            "text/plain": [
              "   CustomerID  A1     A2     A3  A4  A5  A6     A7  A8  A9  A10  A11  A12  \\\n",
              "0    15776156   1  22.08  11.46   2   4   4  1.585   0   0    0    1    2   \n",
              "1    15739548   0  22.67   7.00   2   8   4  0.165   0   0    0    0    2   \n",
              "2    15662854   0  29.58   1.75   1   4   4  1.250   0   0    0    1    2   \n",
              "3    15687688   0  21.67  11.50   1   5   3  0.000   1   1   11    1    2   \n",
              "4    15715750   1  20.17   8.17   2   6   4  1.960   1   1   14    0    2   \n",
              "\n",
              "   A13   A14  Class  \n",
              "0  100  1213      0  \n",
              "1  160     1      0  \n",
              "2  280     1      0  \n",
              "3    0     1      1  \n",
              "4   60   159      1  "
            ]
          },
          "metadata": {
            "tags": []
          },
          "execution_count": 2
        }
      ]
    },
    {
      "metadata": {
        "id": "xtZSoSNJhHA3",
        "colab_type": "code",
        "colab": {}
      },
      "cell_type": "code",
      "source": [
        "#Create subsets of data\n",
        "X = dataset.iloc[:, :-1].values\n",
        "y = dataset.iloc[:, -1].values #We are not goign to use this. This is just to distinguish between the customers who are approved and who are not."
      ],
      "execution_count": 0,
      "outputs": []
    },
    {
      "metadata": {
        "id": "pWTB0c4ihVc2",
        "colab_type": "code",
        "colab": {
          "base_uri": "https://localhost:8080/",
          "height": 272
        },
        "outputId": "a21d448c-daee-4a5e-93e2-988188ae2526"
      },
      "cell_type": "code",
      "source": [
        "print(X[0:5])"
      ],
      "execution_count": 4,
      "outputs": [
        {
          "output_type": "stream",
          "text": [
            "[[1.5776156e+07 1.0000000e+00 2.2080000e+01 1.1460000e+01 2.0000000e+00\n",
            "  4.0000000e+00 4.0000000e+00 1.5850000e+00 0.0000000e+00 0.0000000e+00\n",
            "  0.0000000e+00 1.0000000e+00 2.0000000e+00 1.0000000e+02 1.2130000e+03]\n",
            " [1.5739548e+07 0.0000000e+00 2.2670000e+01 7.0000000e+00 2.0000000e+00\n",
            "  8.0000000e+00 4.0000000e+00 1.6500000e-01 0.0000000e+00 0.0000000e+00\n",
            "  0.0000000e+00 0.0000000e+00 2.0000000e+00 1.6000000e+02 1.0000000e+00]\n",
            " [1.5662854e+07 0.0000000e+00 2.9580000e+01 1.7500000e+00 1.0000000e+00\n",
            "  4.0000000e+00 4.0000000e+00 1.2500000e+00 0.0000000e+00 0.0000000e+00\n",
            "  0.0000000e+00 1.0000000e+00 2.0000000e+00 2.8000000e+02 1.0000000e+00]\n",
            " [1.5687688e+07 0.0000000e+00 2.1670000e+01 1.1500000e+01 1.0000000e+00\n",
            "  5.0000000e+00 3.0000000e+00 0.0000000e+00 1.0000000e+00 1.0000000e+00\n",
            "  1.1000000e+01 1.0000000e+00 2.0000000e+00 0.0000000e+00 1.0000000e+00]\n",
            " [1.5715750e+07 1.0000000e+00 2.0170000e+01 8.1700000e+00 2.0000000e+00\n",
            "  6.0000000e+00 4.0000000e+00 1.9600000e+00 1.0000000e+00 1.0000000e+00\n",
            "  1.4000000e+01 0.0000000e+00 2.0000000e+00 6.0000000e+01 1.5900000e+02]]\n"
          ],
          "name": "stdout"
        }
      ]
    },
    {
      "metadata": {
        "id": "oQ8eMeeyhmUQ",
        "colab_type": "code",
        "colab": {
          "base_uri": "https://localhost:8080/",
          "height": 272
        },
        "outputId": "47cb23a7-23b5-445e-ff3e-77571120b8d7"
      },
      "cell_type": "code",
      "source": [
        "#Feature Scaling\n",
        "from sklearn.preprocessing import MinMaxScaler\n",
        "sc = MinMaxScaler(feature_range = (0, 1))\n",
        "X = sc.fit_transform(X)\n",
        "X[0:5]"
      ],
      "execution_count": 5,
      "outputs": [
        {
          "output_type": "execute_result",
          "data": {
            "text/plain": [
              "array([[0.84268147, 1.        , 0.12526316, 0.40928571, 0.5       ,\n",
              "        0.23076923, 0.375     , 0.05561404, 0.        , 0.        ,\n",
              "        0.        , 1.        , 0.5       , 0.05      , 0.01212   ],\n",
              "       [0.69609056, 0.        , 0.13413534, 0.25      , 0.5       ,\n",
              "        0.53846154, 0.375     , 0.00578947, 0.        , 0.        ,\n",
              "        0.        , 0.        , 0.5       , 0.08      , 0.        ],\n",
              "       [0.38898166, 0.        , 0.23804511, 0.0625    , 0.        ,\n",
              "        0.23076923, 0.375     , 0.04385965, 0.        , 0.        ,\n",
              "        0.        , 1.        , 0.5       , 0.14      , 0.        ],\n",
              "       [0.48842545, 0.        , 0.11909774, 0.41071429, 0.        ,\n",
              "        0.30769231, 0.25      , 0.        , 1.        , 1.        ,\n",
              "        0.1641791 , 1.        , 0.5       , 0.        , 0.        ],\n",
              "       [0.60079526, 1.        , 0.09654135, 0.29178571, 0.5       ,\n",
              "        0.38461538, 0.375     , 0.06877193, 1.        , 1.        ,\n",
              "        0.20895522, 0.        , 0.5       , 0.03      , 0.00158   ]])"
            ]
          },
          "metadata": {
            "tags": []
          },
          "execution_count": 5
        }
      ]
    },
    {
      "metadata": {
        "id": "65fD2_vJI1H5",
        "colab_type": "code",
        "colab": {
          "base_uri": "https://localhost:8080/",
          "height": 153
        },
        "outputId": "fbe8f8cf-0a15-4f9d-97eb-ec1b2dc3670f"
      },
      "cell_type": "code",
      "source": [
        "!pip install minisom"
      ],
      "execution_count": 8,
      "outputs": [
        {
          "output_type": "stream",
          "text": [
            "Collecting minisom\n",
            "  Downloading https://files.pythonhosted.org/packages/2f/74/2f874da0ae3a4cbc2af079692e939342a96fb6bd67fa6b4f1d3c97071281/MiniSom-1.1.1.tar.gz\n",
            "Building wheels for collected packages: minisom\n",
            "  Running setup.py bdist_wheel for minisom ... \u001b[?25l-\b \bdone\n",
            "\u001b[?25h  Stored in directory: /content/.cache/pip/wheels/bf/41/74/f249faec59290949ed0f67953dadb616efc3e6860c9dcba454\n",
            "Successfully built minisom\n",
            "Installing collected packages: minisom\n",
            "Successfully installed minisom-1.1.1\n"
          ],
          "name": "stdout"
        }
      ]
    },
    {
      "metadata": {
        "id": "GxqHZj1Tjk_9",
        "colab_type": "code",
        "colab": {}
      },
      "cell_type": "code",
      "source": [
        "#Initializing the SOM\n",
        "from minisom import MiniSom\n",
        "som = MiniSom(10, 10, 15, 1.0, 0.5)"
      ],
      "execution_count": 0,
      "outputs": []
    },
    {
      "metadata": {
        "id": "_3sQA-ENnQfe",
        "colab_type": "code",
        "colab": {}
      },
      "cell_type": "code",
      "source": [
        "#Initialize weights and train the SOM\n",
        "som.random_weights_init(X)\n",
        "som.train_random(X, 100)"
      ],
      "execution_count": 0,
      "outputs": []
    },
    {
      "metadata": {
        "id": "kmUWfJ_yo2Ar",
        "colab_type": "code",
        "colab": {
          "base_uri": "https://localhost:8080/",
          "height": 388
        },
        "outputId": "58c1b8b2-f101-490a-a7f6-4d8c1994a5b1"
      },
      "cell_type": "code",
      "source": [
        "#Plot the SOM\n",
        "from pylab import bone, pcolor, colorbar, plot, show\n",
        "bone() #initialize the map window\n",
        "pcolor(som.distance_map().T) #Take transpose of MID matrix and color plot of the map\n",
        "colorbar() #gives legend of all the colors\n",
        "markers = ['o','s'] #add markers\n",
        "colors = ['r', 'g'] #red squares did not get approval, green circles got approval\n",
        "#loop through each customer and mark the fraudsters\n",
        "for i, x in enumerate(X): #i indicates all indexes of customers and X is all vectors of customers\n",
        "  w = som.winner(x) #get the winning node\n",
        "  plot(w[0] + 0.5,\n",
        "       w[1] + 0.5,\n",
        "      markers[y[i]],\n",
        "      markeredgecolor = colors[y[i]],\n",
        "      markerfacecolor = 'None',\n",
        "      markersize = 10,\n",
        "      markeredgewidth = 2) #plot the color marker in the center of the winning node\n",
        "show()"
      ],
      "execution_count": 9,
      "outputs": [
        {
          "output_type": "execute_result",
          "data": {
            "text/plain": [
              "<matplotlib.collections.PolyCollection at 0x7f0892027128>"
            ]
          },
          "metadata": {
            "tags": []
          },
          "execution_count": 9
        },
        {
          "output_type": "execute_result",
          "data": {
            "text/plain": [
              "<matplotlib.colorbar.Colorbar at 0x7f0891f7d208>"
            ]
          },
          "metadata": {
            "tags": []
          },
          "execution_count": 9
        },
        {
          "output_type": "execute_result",
          "data": {
            "text/plain": [
              "[<matplotlib.lines.Line2D at 0x7f0891f8a518>]"
            ]
          },
          "metadata": {
            "tags": []
          },
          "execution_count": 9
        },
        {
          "output_type": "execute_result",
          "data": {
            "text/plain": [
              "[<matplotlib.lines.Line2D at 0x7f0891f90978>]"
            ]
          },
          "metadata": {
            "tags": []
          },
          "execution_count": 9
        },
        {
          "output_type": "execute_result",
          "data": {
            "text/plain": [
              "[<matplotlib.lines.Line2D at 0x7f0891f8a2b0>]"
            ]
          },
          "metadata": {
            "tags": []
          },
          "execution_count": 9
        },
        {
          "output_type": "execute_result",
          "data": {
            "text/plain": [
              "[<matplotlib.lines.Line2D at 0x7f0891f7dd68>]"
            ]
          },
          "metadata": {
            "tags": []
          },
          "execution_count": 9
        },
        {
          "output_type": "execute_result",
          "data": {
            "text/plain": [
              "[<matplotlib.lines.Line2D at 0x7f0891fc9e80>]"
            ]
          },
          "metadata": {
            "tags": []
          },
          "execution_count": 9
        },
        {
          "output_type": "execute_result",
          "data": {
            "text/plain": [
              "[<matplotlib.lines.Line2D at 0x7f0891ff72b0>]"
            ]
          },
          "metadata": {
            "tags": []
          },
          "execution_count": 9
        },
        {
          "output_type": "execute_result",
          "data": {
            "text/plain": [
              "[<matplotlib.lines.Line2D at 0x7f0891ff79b0>]"
            ]
          },
          "metadata": {
            "tags": []
          },
          "execution_count": 9
        },
        {
          "output_type": "execute_result",
          "data": {
            "text/plain": [
              "[<matplotlib.lines.Line2D at 0x7f0891f94390>]"
            ]
          },
          "metadata": {
            "tags": []
          },
          "execution_count": 9
        },
        {
          "output_type": "execute_result",
          "data": {
            "text/plain": [
              "[<matplotlib.lines.Line2D at 0x7f0891f94f98>]"
            ]
          },
          "metadata": {
            "tags": []
          },
          "execution_count": 9
        },
        {
          "output_type": "execute_result",
          "data": {
            "text/plain": [
              "[<matplotlib.lines.Line2D at 0x7f0891f32438>]"
            ]
          },
          "metadata": {
            "tags": []
          },
          "execution_count": 9
        },
        {
          "output_type": "execute_result",
          "data": {
            "text/plain": [
              "[<matplotlib.lines.Line2D at 0x7f0891f32898>]"
            ]
          },
          "metadata": {
            "tags": []
          },
          "execution_count": 9
        },
        {
          "output_type": "execute_result",
          "data": {
            "text/plain": [
              "[<matplotlib.lines.Line2D at 0x7f0891f32d68>]"
            ]
          },
          "metadata": {
            "tags": []
          },
          "execution_count": 9
        },
        {
          "output_type": "execute_result",
          "data": {
            "text/plain": [
              "[<matplotlib.lines.Line2D at 0x7f0891f32dd8>]"
            ]
          },
          "metadata": {
            "tags": []
          },
          "execution_count": 9
        },
        {
          "output_type": "execute_result",
          "data": {
            "text/plain": [
              "[<matplotlib.lines.Line2D at 0x7f0891f376a0>]"
            ]
          },
          "metadata": {
            "tags": []
          },
          "execution_count": 9
        },
        {
          "output_type": "execute_result",
          "data": {
            "text/plain": [
              "[<matplotlib.lines.Line2D at 0x7f0891f37b70>]"
            ]
          },
          "metadata": {
            "tags": []
          },
          "execution_count": 9
        },
        {
          "output_type": "execute_result",
          "data": {
            "text/plain": [
              "[<matplotlib.lines.Line2D at 0x7f0891f37be0>]"
            ]
          },
          "metadata": {
            "tags": []
          },
          "execution_count": 9
        },
        {
          "output_type": "execute_result",
          "data": {
            "text/plain": [
              "[<matplotlib.lines.Line2D at 0x7f0891f424e0>]"
            ]
          },
          "metadata": {
            "tags": []
          },
          "execution_count": 9
        },
        {
          "output_type": "execute_result",
          "data": {
            "text/plain": [
              "[<matplotlib.lines.Line2D at 0x7f0891f42940>]"
            ]
          },
          "metadata": {
            "tags": []
          },
          "execution_count": 9
        },
        {
          "output_type": "execute_result",
          "data": {
            "text/plain": [
              "[<matplotlib.lines.Line2D at 0x7f0891f42e10>]"
            ]
          },
          "metadata": {
            "tags": []
          },
          "execution_count": 9
        },
        {
          "output_type": "execute_result",
          "data": {
            "text/plain": [
              "[<matplotlib.lines.Line2D at 0x7f0891f42e80>]"
            ]
          },
          "metadata": {
            "tags": []
          },
          "execution_count": 9
        },
        {
          "output_type": "execute_result",
          "data": {
            "text/plain": [
              "[<matplotlib.lines.Line2D at 0x7f0891f47748>]"
            ]
          },
          "metadata": {
            "tags": []
          },
          "execution_count": 9
        },
        {
          "output_type": "execute_result",
          "data": {
            "text/plain": [
              "[<matplotlib.lines.Line2D at 0x7f0891f47c18>]"
            ]
          },
          "metadata": {
            "tags": []
          },
          "execution_count": 9
        },
        {
          "output_type": "execute_result",
          "data": {
            "text/plain": [
              "[<matplotlib.lines.Line2D at 0x7f0891f47c88>]"
            ]
          },
          "metadata": {
            "tags": []
          },
          "execution_count": 9
        },
        {
          "output_type": "execute_result",
          "data": {
            "text/plain": [
              "[<matplotlib.lines.Line2D at 0x7f0891f4bac8>]"
            ]
          },
          "metadata": {
            "tags": []
          },
          "execution_count": 9
        },
        {
          "output_type": "execute_result",
          "data": {
            "text/plain": [
              "[<matplotlib.lines.Line2D at 0x7f0891f4b9e8>]"
            ]
          },
          "metadata": {
            "tags": []
          },
          "execution_count": 9
        },
        {
          "output_type": "execute_result",
          "data": {
            "text/plain": [
              "[<matplotlib.lines.Line2D at 0x7f0891f4beb8>]"
            ]
          },
          "metadata": {
            "tags": []
          },
          "execution_count": 9
        },
        {
          "output_type": "execute_result",
          "data": {
            "text/plain": [
              "[<matplotlib.lines.Line2D at 0x7f0891f4bf28>]"
            ]
          },
          "metadata": {
            "tags": []
          },
          "execution_count": 9
        },
        {
          "output_type": "execute_result",
          "data": {
            "text/plain": [
              "[<matplotlib.lines.Line2D at 0x7f0891f587f0>]"
            ]
          },
          "metadata": {
            "tags": []
          },
          "execution_count": 9
        },
        {
          "output_type": "execute_result",
          "data": {
            "text/plain": [
              "[<matplotlib.lines.Line2D at 0x7f0891f58cc0>]"
            ]
          },
          "metadata": {
            "tags": []
          },
          "execution_count": 9
        },
        {
          "output_type": "execute_result",
          "data": {
            "text/plain": [
              "[<matplotlib.lines.Line2D at 0x7f0891f58d30>]"
            ]
          },
          "metadata": {
            "tags": []
          },
          "execution_count": 9
        },
        {
          "output_type": "execute_result",
          "data": {
            "text/plain": [
              "[<matplotlib.lines.Line2D at 0x7f0891f5d5f8>]"
            ]
          },
          "metadata": {
            "tags": []
          },
          "execution_count": 9
        },
        {
          "output_type": "execute_result",
          "data": {
            "text/plain": [
              "[<matplotlib.lines.Line2D at 0x7f0891f5dac8>]"
            ]
          },
          "metadata": {
            "tags": []
          },
          "execution_count": 9
        },
        {
          "output_type": "execute_result",
          "data": {
            "text/plain": [
              "[<matplotlib.lines.Line2D at 0x7f0891f5df98>]"
            ]
          },
          "metadata": {
            "tags": []
          },
          "execution_count": 9
        },
        {
          "output_type": "execute_result",
          "data": {
            "text/plain": [
              "[<matplotlib.lines.Line2D at 0x7f0891f61438>]"
            ]
          },
          "metadata": {
            "tags": []
          },
          "execution_count": 9
        },
        {
          "output_type": "execute_result",
          "data": {
            "text/plain": [
              "[<matplotlib.lines.Line2D at 0x7f0891f617b8>]"
            ]
          },
          "metadata": {
            "tags": []
          },
          "execution_count": 9
        },
        {
          "output_type": "execute_result",
          "data": {
            "text/plain": [
              "[<matplotlib.lines.Line2D at 0x7f0891f61da0>]"
            ]
          },
          "metadata": {
            "tags": []
          },
          "execution_count": 9
        },
        {
          "output_type": "execute_result",
          "data": {
            "text/plain": [
              "[<matplotlib.lines.Line2D at 0x7f0891f61e48>]"
            ]
          },
          "metadata": {
            "tags": []
          },
          "execution_count": 9
        },
        {
          "output_type": "execute_result",
          "data": {
            "text/plain": [
              "[<matplotlib.lines.Line2D at 0x7f0891eee6a0>]"
            ]
          },
          "metadata": {
            "tags": []
          },
          "execution_count": 9
        },
        {
          "output_type": "execute_result",
          "data": {
            "text/plain": [
              "[<matplotlib.lines.Line2D at 0x7f0891eeeb70>]"
            ]
          },
          "metadata": {
            "tags": []
          },
          "execution_count": 9
        },
        {
          "output_type": "execute_result",
          "data": {
            "text/plain": [
              "[<matplotlib.lines.Line2D at 0x7f0891eeebe0>]"
            ]
          },
          "metadata": {
            "tags": []
          },
          "execution_count": 9
        },
        {
          "output_type": "execute_result",
          "data": {
            "text/plain": [
              "[<matplotlib.lines.Line2D at 0x7f0891ef84e0>]"
            ]
          },
          "metadata": {
            "tags": []
          },
          "execution_count": 9
        },
        {
          "output_type": "execute_result",
          "data": {
            "text/plain": [
              "[<matplotlib.lines.Line2D at 0x7f0891ef8940>]"
            ]
          },
          "metadata": {
            "tags": []
          },
          "execution_count": 9
        },
        {
          "output_type": "execute_result",
          "data": {
            "text/plain": [
              "[<matplotlib.lines.Line2D at 0x7f0891ef8e10>]"
            ]
          },
          "metadata": {
            "tags": []
          },
          "execution_count": 9
        },
        {
          "output_type": "execute_result",
          "data": {
            "text/plain": [
              "[<matplotlib.lines.Line2D at 0x7f0891ef8e80>]"
            ]
          },
          "metadata": {
            "tags": []
          },
          "execution_count": 9
        },
        {
          "output_type": "execute_result",
          "data": {
            "text/plain": [
              "[<matplotlib.lines.Line2D at 0x7f0891efe780>]"
            ]
          },
          "metadata": {
            "tags": []
          },
          "execution_count": 9
        },
        {
          "output_type": "execute_result",
          "data": {
            "text/plain": [
              "[<matplotlib.lines.Line2D at 0x7f0891efec18>]"
            ]
          },
          "metadata": {
            "tags": []
          },
          "execution_count": 9
        },
        {
          "output_type": "execute_result",
          "data": {
            "text/plain": [
              "[<matplotlib.lines.Line2D at 0x7f0891efec88>]"
            ]
          },
          "metadata": {
            "tags": []
          },
          "execution_count": 9
        },
        {
          "output_type": "execute_result",
          "data": {
            "text/plain": [
              "[<matplotlib.lines.Line2D at 0x7f0891f00588>]"
            ]
          },
          "metadata": {
            "tags": []
          },
          "execution_count": 9
        },
        {
          "output_type": "execute_result",
          "data": {
            "text/plain": [
              "[<matplotlib.lines.Line2D at 0x7f0891f009e8>]"
            ]
          },
          "metadata": {
            "tags": []
          },
          "execution_count": 9
        },
        {
          "output_type": "execute_result",
          "data": {
            "text/plain": [
              "[<matplotlib.lines.Line2D at 0x7f0891f00eb8>]"
            ]
          },
          "metadata": {
            "tags": []
          },
          "execution_count": 9
        },
        {
          "output_type": "execute_result",
          "data": {
            "text/plain": [
              "[<matplotlib.lines.Line2D at 0x7f0891f00f28>]"
            ]
          },
          "metadata": {
            "tags": []
          },
          "execution_count": 9
        },
        {
          "output_type": "execute_result",
          "data": {
            "text/plain": [
              "[<matplotlib.lines.Line2D at 0x7f0891f097f0>]"
            ]
          },
          "metadata": {
            "tags": []
          },
          "execution_count": 9
        },
        {
          "output_type": "execute_result",
          "data": {
            "text/plain": [
              "[<matplotlib.lines.Line2D at 0x7f0891f09c18>]"
            ]
          },
          "metadata": {
            "tags": []
          },
          "execution_count": 9
        },
        {
          "output_type": "execute_result",
          "data": {
            "text/plain": [
              "[<matplotlib.lines.Line2D at 0x7f0891f09dd8>]"
            ]
          },
          "metadata": {
            "tags": []
          },
          "execution_count": 9
        },
        {
          "output_type": "execute_result",
          "data": {
            "text/plain": [
              "[<matplotlib.lines.Line2D at 0x7f0891f145f8>]"
            ]
          },
          "metadata": {
            "tags": []
          },
          "execution_count": 9
        },
        {
          "output_type": "execute_result",
          "data": {
            "text/plain": [
              "[<matplotlib.lines.Line2D at 0x7f0891f14ac8>]"
            ]
          },
          "metadata": {
            "tags": []
          },
          "execution_count": 9
        },
        {
          "output_type": "execute_result",
          "data": {
            "text/plain": [
              "[<matplotlib.lines.Line2D at 0x7f0891f14f98>]"
            ]
          },
          "metadata": {
            "tags": []
          },
          "execution_count": 9
        },
        {
          "output_type": "execute_result",
          "data": {
            "text/plain": [
              "[<matplotlib.lines.Line2D at 0x7f0891f21438>]"
            ]
          },
          "metadata": {
            "tags": []
          },
          "execution_count": 9
        },
        {
          "output_type": "execute_result",
          "data": {
            "text/plain": [
              "[<matplotlib.lines.Line2D at 0x7f0891f21898>]"
            ]
          },
          "metadata": {
            "tags": []
          },
          "execution_count": 9
        },
        {
          "output_type": "execute_result",
          "data": {
            "text/plain": [
              "[<matplotlib.lines.Line2D at 0x7f0891f21d68>]"
            ]
          },
          "metadata": {
            "tags": []
          },
          "execution_count": 9
        },
        {
          "output_type": "execute_result",
          "data": {
            "text/plain": [
              "[<matplotlib.lines.Line2D at 0x7f0891f21dd8>]"
            ]
          },
          "metadata": {
            "tags": []
          },
          "execution_count": 9
        },
        {
          "output_type": "execute_result",
          "data": {
            "text/plain": [
              "[<matplotlib.lines.Line2D at 0x7f0891f205c0>]"
            ]
          },
          "metadata": {
            "tags": []
          },
          "execution_count": 9
        },
        {
          "output_type": "execute_result",
          "data": {
            "text/plain": [
              "[<matplotlib.lines.Line2D at 0x7f0891f20b38>]"
            ]
          },
          "metadata": {
            "tags": []
          },
          "execution_count": 9
        },
        {
          "output_type": "execute_result",
          "data": {
            "text/plain": [
              "[<matplotlib.lines.Line2D at 0x7f0891f20f98>]"
            ]
          },
          "metadata": {
            "tags": []
          },
          "execution_count": 9
        },
        {
          "output_type": "execute_result",
          "data": {
            "text/plain": [
              "[<matplotlib.lines.Line2D at 0x7f0891eb0a90>]"
            ]
          },
          "metadata": {
            "tags": []
          },
          "execution_count": 9
        },
        {
          "output_type": "execute_result",
          "data": {
            "text/plain": [
              "[<matplotlib.lines.Line2D at 0x7f0891eb08d0>]"
            ]
          },
          "metadata": {
            "tags": []
          },
          "execution_count": 9
        },
        {
          "output_type": "execute_result",
          "data": {
            "text/plain": [
              "[<matplotlib.lines.Line2D at 0x7f0891eb0dd8>]"
            ]
          },
          "metadata": {
            "tags": []
          },
          "execution_count": 9
        },
        {
          "output_type": "execute_result",
          "data": {
            "text/plain": [
              "[<matplotlib.lines.Line2D at 0x7f0891eb0ef0>]"
            ]
          },
          "metadata": {
            "tags": []
          },
          "execution_count": 9
        },
        {
          "output_type": "execute_result",
          "data": {
            "text/plain": [
              "[<matplotlib.lines.Line2D at 0x7f0891eaf6d8>]"
            ]
          },
          "metadata": {
            "tags": []
          },
          "execution_count": 9
        },
        {
          "output_type": "execute_result",
          "data": {
            "text/plain": [
              "[<matplotlib.lines.Line2D at 0x7f0891eafbe0>]"
            ]
          },
          "metadata": {
            "tags": []
          },
          "execution_count": 9
        },
        {
          "output_type": "execute_result",
          "data": {
            "text/plain": [
              "[<matplotlib.lines.Line2D at 0x7f0891eafcf8>]"
            ]
          },
          "metadata": {
            "tags": []
          },
          "execution_count": 9
        },
        {
          "output_type": "execute_result",
          "data": {
            "text/plain": [
              "[<matplotlib.lines.Line2D at 0x7f0891ebd4e0>]"
            ]
          },
          "metadata": {
            "tags": []
          },
          "execution_count": 9
        },
        {
          "output_type": "execute_result",
          "data": {
            "text/plain": [
              "[<matplotlib.lines.Line2D at 0x7f0891ebd978>]"
            ]
          },
          "metadata": {
            "tags": []
          },
          "execution_count": 9
        },
        {
          "output_type": "execute_result",
          "data": {
            "text/plain": [
              "[<matplotlib.lines.Line2D at 0x7f0891ebde80>]"
            ]
          },
          "metadata": {
            "tags": []
          },
          "execution_count": 9
        },
        {
          "output_type": "execute_result",
          "data": {
            "text/plain": [
              "[<matplotlib.lines.Line2D at 0x7f0891ebdf98>]"
            ]
          },
          "metadata": {
            "tags": []
          },
          "execution_count": 9
        },
        {
          "output_type": "execute_result",
          "data": {
            "text/plain": [
              "[<matplotlib.lines.Line2D at 0x7f0891ec4780>]"
            ]
          },
          "metadata": {
            "tags": []
          },
          "execution_count": 9
        },
        {
          "output_type": "execute_result",
          "data": {
            "text/plain": [
              "[<matplotlib.lines.Line2D at 0x7f0891ec4c88>]"
            ]
          },
          "metadata": {
            "tags": []
          },
          "execution_count": 9
        },
        {
          "output_type": "execute_result",
          "data": {
            "text/plain": [
              "[<matplotlib.lines.Line2D at 0x7f0891ec4da0>]"
            ]
          },
          "metadata": {
            "tags": []
          },
          "execution_count": 9
        },
        {
          "output_type": "execute_result",
          "data": {
            "text/plain": [
              "[<matplotlib.lines.Line2D at 0x7f0891ece588>]"
            ]
          },
          "metadata": {
            "tags": []
          },
          "execution_count": 9
        },
        {
          "output_type": "execute_result",
          "data": {
            "text/plain": [
              "[<matplotlib.lines.Line2D at 0x7f0891ecea90>]"
            ]
          },
          "metadata": {
            "tags": []
          },
          "execution_count": 9
        },
        {
          "output_type": "execute_result",
          "data": {
            "text/plain": [
              "[<matplotlib.lines.Line2D at 0x7f0891ecef60>]"
            ]
          },
          "metadata": {
            "tags": []
          },
          "execution_count": 9
        },
        {
          "output_type": "execute_result",
          "data": {
            "text/plain": [
              "[<matplotlib.lines.Line2D at 0x7f0891ed83c8>]"
            ]
          },
          "metadata": {
            "tags": []
          },
          "execution_count": 9
        },
        {
          "output_type": "execute_result",
          "data": {
            "text/plain": [
              "[<matplotlib.lines.Line2D at 0x7f0891ed8828>]"
            ]
          },
          "metadata": {
            "tags": []
          },
          "execution_count": 9
        },
        {
          "output_type": "execute_result",
          "data": {
            "text/plain": [
              "[<matplotlib.lines.Line2D at 0x7f0891ed8d30>]"
            ]
          },
          "metadata": {
            "tags": []
          },
          "execution_count": 9
        },
        {
          "output_type": "execute_result",
          "data": {
            "text/plain": [
              "[<matplotlib.lines.Line2D at 0x7f0891ed8e48>]"
            ]
          },
          "metadata": {
            "tags": []
          },
          "execution_count": 9
        },
        {
          "output_type": "execute_result",
          "data": {
            "text/plain": [
              "[<matplotlib.lines.Line2D at 0x7f0891ede630>]"
            ]
          },
          "metadata": {
            "tags": []
          },
          "execution_count": 9
        },
        {
          "output_type": "execute_result",
          "data": {
            "text/plain": [
              "[<matplotlib.lines.Line2D at 0x7f0891edeb38>]"
            ]
          },
          "metadata": {
            "tags": []
          },
          "execution_count": 9
        },
        {
          "output_type": "execute_result",
          "data": {
            "text/plain": [
              "[<matplotlib.lines.Line2D at 0x7f0891edef98>]"
            ]
          },
          "metadata": {
            "tags": []
          },
          "execution_count": 9
        },
        {
          "output_type": "execute_result",
          "data": {
            "text/plain": [
              "[<matplotlib.lines.Line2D at 0x7f0891ee3438>]"
            ]
          },
          "metadata": {
            "tags": []
          },
          "execution_count": 9
        },
        {
          "output_type": "execute_result",
          "data": {
            "text/plain": [
              "[<matplotlib.lines.Line2D at 0x7f0891ee38d0>]"
            ]
          },
          "metadata": {
            "tags": []
          },
          "execution_count": 9
        },
        {
          "output_type": "execute_result",
          "data": {
            "text/plain": [
              "[<matplotlib.lines.Line2D at 0x7f0891ee3dd8>]"
            ]
          },
          "metadata": {
            "tags": []
          },
          "execution_count": 9
        },
        {
          "output_type": "execute_result",
          "data": {
            "text/plain": [
              "[<matplotlib.lines.Line2D at 0x7f0891ee3ef0>]"
            ]
          },
          "metadata": {
            "tags": []
          },
          "execution_count": 9
        },
        {
          "output_type": "execute_result",
          "data": {
            "text/plain": [
              "[<matplotlib.lines.Line2D at 0x7f0891e6c6d8>]"
            ]
          },
          "metadata": {
            "tags": []
          },
          "execution_count": 9
        },
        {
          "output_type": "execute_result",
          "data": {
            "text/plain": [
              "[<matplotlib.lines.Line2D at 0x7f0891e6cbe0>]"
            ]
          },
          "metadata": {
            "tags": []
          },
          "execution_count": 9
        },
        {
          "output_type": "execute_result",
          "data": {
            "text/plain": [
              "[<matplotlib.lines.Line2D at 0x7f0891e6ccf8>]"
            ]
          },
          "metadata": {
            "tags": []
          },
          "execution_count": 9
        },
        {
          "output_type": "execute_result",
          "data": {
            "text/plain": [
              "[<matplotlib.lines.Line2D at 0x7f0891e754e0>]"
            ]
          },
          "metadata": {
            "tags": []
          },
          "execution_count": 9
        },
        {
          "output_type": "execute_result",
          "data": {
            "text/plain": [
              "[<matplotlib.lines.Line2D at 0x7f0891e75978>]"
            ]
          },
          "metadata": {
            "tags": []
          },
          "execution_count": 9
        },
        {
          "output_type": "execute_result",
          "data": {
            "text/plain": [
              "[<matplotlib.lines.Line2D at 0x7f0891e75e80>]"
            ]
          },
          "metadata": {
            "tags": []
          },
          "execution_count": 9
        },
        {
          "output_type": "execute_result",
          "data": {
            "text/plain": [
              "[<matplotlib.lines.Line2D at 0x7f0891e75f98>]"
            ]
          },
          "metadata": {
            "tags": []
          },
          "execution_count": 9
        },
        {
          "output_type": "execute_result",
          "data": {
            "text/plain": [
              "[<matplotlib.lines.Line2D at 0x7f0891e7e780>]"
            ]
          },
          "metadata": {
            "tags": []
          },
          "execution_count": 9
        },
        {
          "output_type": "execute_result",
          "data": {
            "text/plain": [
              "[<matplotlib.lines.Line2D at 0x7f0891e7ec88>]"
            ]
          },
          "metadata": {
            "tags": []
          },
          "execution_count": 9
        },
        {
          "output_type": "execute_result",
          "data": {
            "text/plain": [
              "[<matplotlib.lines.Line2D at 0x7f0891e7eda0>]"
            ]
          },
          "metadata": {
            "tags": []
          },
          "execution_count": 9
        },
        {
          "output_type": "execute_result",
          "data": {
            "text/plain": [
              "[<matplotlib.lines.Line2D at 0x7f0891e85588>]"
            ]
          },
          "metadata": {
            "tags": []
          },
          "execution_count": 9
        },
        {
          "output_type": "execute_result",
          "data": {
            "text/plain": [
              "[<matplotlib.lines.Line2D at 0x7f0891e859e8>]"
            ]
          },
          "metadata": {
            "tags": []
          },
          "execution_count": 9
        },
        {
          "output_type": "execute_result",
          "data": {
            "text/plain": [
              "[<matplotlib.lines.Line2D at 0x7f0891e85e10>]"
            ]
          },
          "metadata": {
            "tags": []
          },
          "execution_count": 9
        },
        {
          "output_type": "execute_result",
          "data": {
            "text/plain": [
              "[<matplotlib.lines.Line2D at 0x7f0891e85f60>]"
            ]
          },
          "metadata": {
            "tags": []
          },
          "execution_count": 9
        },
        {
          "output_type": "execute_result",
          "data": {
            "text/plain": [
              "[<matplotlib.lines.Line2D at 0x7f0891e8e748>]"
            ]
          },
          "metadata": {
            "tags": []
          },
          "execution_count": 9
        },
        {
          "output_type": "execute_result",
          "data": {
            "text/plain": [
              "[<matplotlib.lines.Line2D at 0x7f0891e8eb70>]"
            ]
          },
          "metadata": {
            "tags": []
          },
          "execution_count": 9
        },
        {
          "output_type": "execute_result",
          "data": {
            "text/plain": [
              "[<matplotlib.lines.Line2D at 0x7f0891e8ecc0>]"
            ]
          },
          "metadata": {
            "tags": []
          },
          "execution_count": 9
        },
        {
          "output_type": "execute_result",
          "data": {
            "text/plain": [
              "[<matplotlib.lines.Line2D at 0x7f0891e964e0>]"
            ]
          },
          "metadata": {
            "tags": []
          },
          "execution_count": 9
        },
        {
          "output_type": "execute_result",
          "data": {
            "text/plain": [
              "[<matplotlib.lines.Line2D at 0x7f0891e96908>]"
            ]
          },
          "metadata": {
            "tags": []
          },
          "execution_count": 9
        },
        {
          "output_type": "execute_result",
          "data": {
            "text/plain": [
              "[<matplotlib.lines.Line2D at 0x7f0891e96d30>]"
            ]
          },
          "metadata": {
            "tags": []
          },
          "execution_count": 9
        },
        {
          "output_type": "execute_result",
          "data": {
            "text/plain": [
              "[<matplotlib.lines.Line2D at 0x7f0891e96e80>]"
            ]
          },
          "metadata": {
            "tags": []
          },
          "execution_count": 9
        },
        {
          "output_type": "execute_result",
          "data": {
            "text/plain": [
              "[<matplotlib.lines.Line2D at 0x7f0891e9d6a0>]"
            ]
          },
          "metadata": {
            "tags": []
          },
          "execution_count": 9
        },
        {
          "output_type": "execute_result",
          "data": {
            "text/plain": [
              "[<matplotlib.lines.Line2D at 0x7f0891e9da58>]"
            ]
          },
          "metadata": {
            "tags": []
          },
          "execution_count": 9
        },
        {
          "output_type": "execute_result",
          "data": {
            "text/plain": [
              "[<matplotlib.lines.Line2D at 0x7f0891e9df28>]"
            ]
          },
          "metadata": {
            "tags": []
          },
          "execution_count": 9
        },
        {
          "output_type": "execute_result",
          "data": {
            "text/plain": [
              "[<matplotlib.lines.Line2D at 0x7f0891ea7400>]"
            ]
          },
          "metadata": {
            "tags": []
          },
          "execution_count": 9
        },
        {
          "output_type": "execute_result",
          "data": {
            "text/plain": [
              "[<matplotlib.lines.Line2D at 0x7f0891ea7828>]"
            ]
          },
          "metadata": {
            "tags": []
          },
          "execution_count": 9
        },
        {
          "output_type": "execute_result",
          "data": {
            "text/plain": [
              "[<matplotlib.lines.Line2D at 0x7f0891ea7c50>]"
            ]
          },
          "metadata": {
            "tags": []
          },
          "execution_count": 9
        },
        {
          "output_type": "execute_result",
          "data": {
            "text/plain": [
              "[<matplotlib.lines.Line2D at 0x7f0891ea7da0>]"
            ]
          },
          "metadata": {
            "tags": []
          },
          "execution_count": 9
        },
        {
          "output_type": "execute_result",
          "data": {
            "text/plain": [
              "[<matplotlib.lines.Line2D at 0x7f0891e2a588>]"
            ]
          },
          "metadata": {
            "tags": []
          },
          "execution_count": 9
        },
        {
          "output_type": "execute_result",
          "data": {
            "text/plain": [
              "[<matplotlib.lines.Line2D at 0x7f0891e2a9e8>]"
            ]
          },
          "metadata": {
            "tags": []
          },
          "execution_count": 9
        },
        {
          "output_type": "execute_result",
          "data": {
            "text/plain": [
              "[<matplotlib.lines.Line2D at 0x7f0891e2ae10>]"
            ]
          },
          "metadata": {
            "tags": []
          },
          "execution_count": 9
        },
        {
          "output_type": "execute_result",
          "data": {
            "text/plain": [
              "[<matplotlib.lines.Line2D at 0x7f0891e2af60>]"
            ]
          },
          "metadata": {
            "tags": []
          },
          "execution_count": 9
        },
        {
          "output_type": "execute_result",
          "data": {
            "text/plain": [
              "[<matplotlib.lines.Line2D at 0x7f0891e37748>]"
            ]
          },
          "metadata": {
            "tags": []
          },
          "execution_count": 9
        },
        {
          "output_type": "execute_result",
          "data": {
            "text/plain": [
              "[<matplotlib.lines.Line2D at 0x7f0891e37b70>]"
            ]
          },
          "metadata": {
            "tags": []
          },
          "execution_count": 9
        },
        {
          "output_type": "execute_result",
          "data": {
            "text/plain": [
              "[<matplotlib.lines.Line2D at 0x7f0891e37cc0>]"
            ]
          },
          "metadata": {
            "tags": []
          },
          "execution_count": 9
        },
        {
          "output_type": "execute_result",
          "data": {
            "text/plain": [
              "[<matplotlib.lines.Line2D at 0x7f0891e404e0>]"
            ]
          },
          "metadata": {
            "tags": []
          },
          "execution_count": 9
        },
        {
          "output_type": "execute_result",
          "data": {
            "text/plain": [
              "[<matplotlib.lines.Line2D at 0x7f0891e40908>]"
            ]
          },
          "metadata": {
            "tags": []
          },
          "execution_count": 9
        },
        {
          "output_type": "execute_result",
          "data": {
            "text/plain": [
              "[<matplotlib.lines.Line2D at 0x7f0891e40d30>]"
            ]
          },
          "metadata": {
            "tags": []
          },
          "execution_count": 9
        },
        {
          "output_type": "execute_result",
          "data": {
            "text/plain": [
              "[<matplotlib.lines.Line2D at 0x7f0891e40e80>]"
            ]
          },
          "metadata": {
            "tags": []
          },
          "execution_count": 9
        },
        {
          "output_type": "execute_result",
          "data": {
            "text/plain": [
              "[<matplotlib.lines.Line2D at 0x7f0891e46668>]"
            ]
          },
          "metadata": {
            "tags": []
          },
          "execution_count": 9
        },
        {
          "output_type": "execute_result",
          "data": {
            "text/plain": [
              "[<matplotlib.lines.Line2D at 0x7f0891e46a90>]"
            ]
          },
          "metadata": {
            "tags": []
          },
          "execution_count": 9
        },
        {
          "output_type": "execute_result",
          "data": {
            "text/plain": [
              "[<matplotlib.lines.Line2D at 0x7f0891e46f28>]"
            ]
          },
          "metadata": {
            "tags": []
          },
          "execution_count": 9
        },
        {
          "output_type": "execute_result",
          "data": {
            "text/plain": [
              "[<matplotlib.lines.Line2D at 0x7f0891e51400>]"
            ]
          },
          "metadata": {
            "tags": []
          },
          "execution_count": 9
        },
        {
          "output_type": "execute_result",
          "data": {
            "text/plain": [
              "[<matplotlib.lines.Line2D at 0x7f0891e51828>]"
            ]
          },
          "metadata": {
            "tags": []
          },
          "execution_count": 9
        },
        {
          "output_type": "execute_result",
          "data": {
            "text/plain": [
              "[<matplotlib.lines.Line2D at 0x7f0891e51c50>]"
            ]
          },
          "metadata": {
            "tags": []
          },
          "execution_count": 9
        },
        {
          "output_type": "execute_result",
          "data": {
            "text/plain": [
              "[<matplotlib.lines.Line2D at 0x7f0891e51da0>]"
            ]
          },
          "metadata": {
            "tags": []
          },
          "execution_count": 9
        },
        {
          "output_type": "execute_result",
          "data": {
            "text/plain": [
              "[<matplotlib.lines.Line2D at 0x7f0891e57588>]"
            ]
          },
          "metadata": {
            "tags": []
          },
          "execution_count": 9
        },
        {
          "output_type": "execute_result",
          "data": {
            "text/plain": [
              "[<matplotlib.lines.Line2D at 0x7f0891e579e8>]"
            ]
          },
          "metadata": {
            "tags": []
          },
          "execution_count": 9
        },
        {
          "output_type": "execute_result",
          "data": {
            "text/plain": [
              "[<matplotlib.lines.Line2D at 0x7f0891e57e10>]"
            ]
          },
          "metadata": {
            "tags": []
          },
          "execution_count": 9
        },
        {
          "output_type": "execute_result",
          "data": {
            "text/plain": [
              "[<matplotlib.lines.Line2D at 0x7f0891e57f60>]"
            ]
          },
          "metadata": {
            "tags": []
          },
          "execution_count": 9
        },
        {
          "output_type": "execute_result",
          "data": {
            "text/plain": [
              "[<matplotlib.lines.Line2D at 0x7f0891e62748>]"
            ]
          },
          "metadata": {
            "tags": []
          },
          "execution_count": 9
        },
        {
          "output_type": "execute_result",
          "data": {
            "text/plain": [
              "[<matplotlib.lines.Line2D at 0x7f0891e62b70>]"
            ]
          },
          "metadata": {
            "tags": []
          },
          "execution_count": 9
        },
        {
          "output_type": "execute_result",
          "data": {
            "text/plain": [
              "[<matplotlib.lines.Line2D at 0x7f0891e62cc0>]"
            ]
          },
          "metadata": {
            "tags": []
          },
          "execution_count": 9
        },
        {
          "output_type": "execute_result",
          "data": {
            "text/plain": [
              "[<matplotlib.lines.Line2D at 0x7f0891e674a8>]"
            ]
          },
          "metadata": {
            "tags": []
          },
          "execution_count": 9
        },
        {
          "output_type": "execute_result",
          "data": {
            "text/plain": [
              "[<matplotlib.lines.Line2D at 0x7f0891e67908>]"
            ]
          },
          "metadata": {
            "tags": []
          },
          "execution_count": 9
        },
        {
          "output_type": "execute_result",
          "data": {
            "text/plain": [
              "[<matplotlib.lines.Line2D at 0x7f0891e67d30>]"
            ]
          },
          "metadata": {
            "tags": []
          },
          "execution_count": 9
        },
        {
          "output_type": "execute_result",
          "data": {
            "text/plain": [
              "[<matplotlib.lines.Line2D at 0x7f0891e67e80>]"
            ]
          },
          "metadata": {
            "tags": []
          },
          "execution_count": 9
        },
        {
          "output_type": "execute_result",
          "data": {
            "text/plain": [
              "[<matplotlib.lines.Line2D at 0x7f0891df0668>]"
            ]
          },
          "metadata": {
            "tags": []
          },
          "execution_count": 9
        },
        {
          "output_type": "execute_result",
          "data": {
            "text/plain": [
              "[<matplotlib.lines.Line2D at 0x7f0891df0a90>]"
            ]
          },
          "metadata": {
            "tags": []
          },
          "execution_count": 9
        },
        {
          "output_type": "execute_result",
          "data": {
            "text/plain": [
              "[<matplotlib.lines.Line2D at 0x7f0891df0f28>]"
            ]
          },
          "metadata": {
            "tags": []
          },
          "execution_count": 9
        },
        {
          "output_type": "execute_result",
          "data": {
            "text/plain": [
              "[<matplotlib.lines.Line2D at 0x7f0891dfb438>]"
            ]
          },
          "metadata": {
            "tags": []
          },
          "execution_count": 9
        },
        {
          "output_type": "execute_result",
          "data": {
            "text/plain": [
              "[<matplotlib.lines.Line2D at 0x7f0891dfb828>]"
            ]
          },
          "metadata": {
            "tags": []
          },
          "execution_count": 9
        },
        {
          "output_type": "execute_result",
          "data": {
            "text/plain": [
              "[<matplotlib.lines.Line2D at 0x7f0891dfbcc0>]"
            ]
          },
          "metadata": {
            "tags": []
          },
          "execution_count": 9
        },
        {
          "output_type": "execute_result",
          "data": {
            "text/plain": [
              "[<matplotlib.lines.Line2D at 0x7f0891dfbd30>]"
            ]
          },
          "metadata": {
            "tags": []
          },
          "execution_count": 9
        },
        {
          "output_type": "execute_result",
          "data": {
            "text/plain": [
              "[<matplotlib.lines.Line2D at 0x7f0891dfd518>]"
            ]
          },
          "metadata": {
            "tags": []
          },
          "execution_count": 9
        },
        {
          "output_type": "execute_result",
          "data": {
            "text/plain": [
              "[<matplotlib.lines.Line2D at 0x7f0891dfd9e8>]"
            ]
          },
          "metadata": {
            "tags": []
          },
          "execution_count": 9
        },
        {
          "output_type": "execute_result",
          "data": {
            "text/plain": [
              "[<matplotlib.lines.Line2D at 0x7f0891dfde10>]"
            ]
          },
          "metadata": {
            "tags": []
          },
          "execution_count": 9
        },
        {
          "output_type": "execute_result",
          "data": {
            "text/plain": [
              "[<matplotlib.lines.Line2D at 0x7f0891dfdf60>]"
            ]
          },
          "metadata": {
            "tags": []
          },
          "execution_count": 9
        },
        {
          "output_type": "execute_result",
          "data": {
            "text/plain": [
              "[<matplotlib.lines.Line2D at 0x7f0891e0a748>]"
            ]
          },
          "metadata": {
            "tags": []
          },
          "execution_count": 9
        },
        {
          "output_type": "execute_result",
          "data": {
            "text/plain": [
              "[<matplotlib.lines.Line2D at 0x7f0891e0ab70>]"
            ]
          },
          "metadata": {
            "tags": []
          },
          "execution_count": 9
        },
        {
          "output_type": "execute_result",
          "data": {
            "text/plain": [
              "[<matplotlib.lines.Line2D at 0x7f0891e0acc0>]"
            ]
          },
          "metadata": {
            "tags": []
          },
          "execution_count": 9
        },
        {
          "output_type": "execute_result",
          "data": {
            "text/plain": [
              "[<matplotlib.lines.Line2D at 0x7f0891e134e0>]"
            ]
          },
          "metadata": {
            "tags": []
          },
          "execution_count": 9
        },
        {
          "output_type": "execute_result",
          "data": {
            "text/plain": [
              "[<matplotlib.lines.Line2D at 0x7f0891e13908>]"
            ]
          },
          "metadata": {
            "tags": []
          },
          "execution_count": 9
        },
        {
          "output_type": "execute_result",
          "data": {
            "text/plain": [
              "[<matplotlib.lines.Line2D at 0x7f0891e13d30>]"
            ]
          },
          "metadata": {
            "tags": []
          },
          "execution_count": 9
        },
        {
          "output_type": "execute_result",
          "data": {
            "text/plain": [
              "[<matplotlib.lines.Line2D at 0x7f0891e13e80>]"
            ]
          },
          "metadata": {
            "tags": []
          },
          "execution_count": 9
        },
        {
          "output_type": "execute_result",
          "data": {
            "text/plain": [
              "[<matplotlib.lines.Line2D at 0x7f0891e1a668>]"
            ]
          },
          "metadata": {
            "tags": []
          },
          "execution_count": 9
        },
        {
          "output_type": "execute_result",
          "data": {
            "text/plain": [
              "[<matplotlib.lines.Line2D at 0x7f0891e1aa90>]"
            ]
          },
          "metadata": {
            "tags": []
          },
          "execution_count": 9
        },
        {
          "output_type": "execute_result",
          "data": {
            "text/plain": [
              "[<matplotlib.lines.Line2D at 0x7f0891e1af28>]"
            ]
          },
          "metadata": {
            "tags": []
          },
          "execution_count": 9
        },
        {
          "output_type": "execute_result",
          "data": {
            "text/plain": [
              "[<matplotlib.lines.Line2D at 0x7f0891e24400>]"
            ]
          },
          "metadata": {
            "tags": []
          },
          "execution_count": 9
        },
        {
          "output_type": "execute_result",
          "data": {
            "text/plain": [
              "[<matplotlib.lines.Line2D at 0x7f0891e24828>]"
            ]
          },
          "metadata": {
            "tags": []
          },
          "execution_count": 9
        },
        {
          "output_type": "execute_result",
          "data": {
            "text/plain": [
              "[<matplotlib.lines.Line2D at 0x7f0891e24c50>]"
            ]
          },
          "metadata": {
            "tags": []
          },
          "execution_count": 9
        },
        {
          "output_type": "execute_result",
          "data": {
            "text/plain": [
              "[<matplotlib.lines.Line2D at 0x7f0891e24da0>]"
            ]
          },
          "metadata": {
            "tags": []
          },
          "execution_count": 9
        },
        {
          "output_type": "execute_result",
          "data": {
            "text/plain": [
              "[<matplotlib.lines.Line2D at 0x7f0891da8588>]"
            ]
          },
          "metadata": {
            "tags": []
          },
          "execution_count": 9
        },
        {
          "output_type": "execute_result",
          "data": {
            "text/plain": [
              "[<matplotlib.lines.Line2D at 0x7f0891da89e8>]"
            ]
          },
          "metadata": {
            "tags": []
          },
          "execution_count": 9
        },
        {
          "output_type": "execute_result",
          "data": {
            "text/plain": [
              "[<matplotlib.lines.Line2D at 0x7f0891da8e10>]"
            ]
          },
          "metadata": {
            "tags": []
          },
          "execution_count": 9
        },
        {
          "output_type": "execute_result",
          "data": {
            "text/plain": [
              "[<matplotlib.lines.Line2D at 0x7f0891da8f60>]"
            ]
          },
          "metadata": {
            "tags": []
          },
          "execution_count": 9
        },
        {
          "output_type": "execute_result",
          "data": {
            "text/plain": [
              "[<matplotlib.lines.Line2D at 0x7f0891db3748>]"
            ]
          },
          "metadata": {
            "tags": []
          },
          "execution_count": 9
        },
        {
          "output_type": "execute_result",
          "data": {
            "text/plain": [
              "[<matplotlib.lines.Line2D at 0x7f0891db3b70>]"
            ]
          },
          "metadata": {
            "tags": []
          },
          "execution_count": 9
        },
        {
          "output_type": "execute_result",
          "data": {
            "text/plain": [
              "[<matplotlib.lines.Line2D at 0x7f0891db3cc0>]"
            ]
          },
          "metadata": {
            "tags": []
          },
          "execution_count": 9
        },
        {
          "output_type": "execute_result",
          "data": {
            "text/plain": [
              "[<matplotlib.lines.Line2D at 0x7f0891dbd4e0>]"
            ]
          },
          "metadata": {
            "tags": []
          },
          "execution_count": 9
        },
        {
          "output_type": "execute_result",
          "data": {
            "text/plain": [
              "[<matplotlib.lines.Line2D at 0x7f0891dbd908>]"
            ]
          },
          "metadata": {
            "tags": []
          },
          "execution_count": 9
        },
        {
          "output_type": "execute_result",
          "data": {
            "text/plain": [
              "[<matplotlib.lines.Line2D at 0x7f0891dbdd30>]"
            ]
          },
          "metadata": {
            "tags": []
          },
          "execution_count": 9
        },
        {
          "output_type": "execute_result",
          "data": {
            "text/plain": [
              "[<matplotlib.lines.Line2D at 0x7f0891dbde80>]"
            ]
          },
          "metadata": {
            "tags": []
          },
          "execution_count": 9
        },
        {
          "output_type": "execute_result",
          "data": {
            "text/plain": [
              "[<matplotlib.lines.Line2D at 0x7f0891dc4668>]"
            ]
          },
          "metadata": {
            "tags": []
          },
          "execution_count": 9
        },
        {
          "output_type": "execute_result",
          "data": {
            "text/plain": [
              "[<matplotlib.lines.Line2D at 0x7f0891dc4a90>]"
            ]
          },
          "metadata": {
            "tags": []
          },
          "execution_count": 9
        },
        {
          "output_type": "execute_result",
          "data": {
            "text/plain": [
              "[<matplotlib.lines.Line2D at 0x7f0891dc4f28>]"
            ]
          },
          "metadata": {
            "tags": []
          },
          "execution_count": 9
        },
        {
          "output_type": "execute_result",
          "data": {
            "text/plain": [
              "[<matplotlib.lines.Line2D at 0x7f0891dcc400>]"
            ]
          },
          "metadata": {
            "tags": []
          },
          "execution_count": 9
        },
        {
          "output_type": "execute_result",
          "data": {
            "text/plain": [
              "[<matplotlib.lines.Line2D at 0x7f0891dcc828>]"
            ]
          },
          "metadata": {
            "tags": []
          },
          "execution_count": 9
        },
        {
          "output_type": "execute_result",
          "data": {
            "text/plain": [
              "[<matplotlib.lines.Line2D at 0x7f0891dccc50>]"
            ]
          },
          "metadata": {
            "tags": []
          },
          "execution_count": 9
        },
        {
          "output_type": "execute_result",
          "data": {
            "text/plain": [
              "[<matplotlib.lines.Line2D at 0x7f0891dccda0>]"
            ]
          },
          "metadata": {
            "tags": []
          },
          "execution_count": 9
        },
        {
          "output_type": "execute_result",
          "data": {
            "text/plain": [
              "[<matplotlib.lines.Line2D at 0x7f0891dd0588>]"
            ]
          },
          "metadata": {
            "tags": []
          },
          "execution_count": 9
        },
        {
          "output_type": "execute_result",
          "data": {
            "text/plain": [
              "[<matplotlib.lines.Line2D at 0x7f0891dd09e8>]"
            ]
          },
          "metadata": {
            "tags": []
          },
          "execution_count": 9
        },
        {
          "output_type": "execute_result",
          "data": {
            "text/plain": [
              "[<matplotlib.lines.Line2D at 0x7f0891dd0e10>]"
            ]
          },
          "metadata": {
            "tags": []
          },
          "execution_count": 9
        },
        {
          "output_type": "execute_result",
          "data": {
            "text/plain": [
              "[<matplotlib.lines.Line2D at 0x7f0891dd0f60>]"
            ]
          },
          "metadata": {
            "tags": []
          },
          "execution_count": 9
        },
        {
          "output_type": "execute_result",
          "data": {
            "text/plain": [
              "[<matplotlib.lines.Line2D at 0x7f0891ddc748>]"
            ]
          },
          "metadata": {
            "tags": []
          },
          "execution_count": 9
        },
        {
          "output_type": "execute_result",
          "data": {
            "text/plain": [
              "[<matplotlib.lines.Line2D at 0x7f0891ddcb70>]"
            ]
          },
          "metadata": {
            "tags": []
          },
          "execution_count": 9
        },
        {
          "output_type": "execute_result",
          "data": {
            "text/plain": [
              "[<matplotlib.lines.Line2D at 0x7f0891ddccc0>]"
            ]
          },
          "metadata": {
            "tags": []
          },
          "execution_count": 9
        },
        {
          "output_type": "execute_result",
          "data": {
            "text/plain": [
              "[<matplotlib.lines.Line2D at 0x7f0891ddf4a8>]"
            ]
          },
          "metadata": {
            "tags": []
          },
          "execution_count": 9
        },
        {
          "output_type": "execute_result",
          "data": {
            "text/plain": [
              "[<matplotlib.lines.Line2D at 0x7f0891ddf908>]"
            ]
          },
          "metadata": {
            "tags": []
          },
          "execution_count": 9
        },
        {
          "output_type": "execute_result",
          "data": {
            "text/plain": [
              "[<matplotlib.lines.Line2D at 0x7f0891ddfd30>]"
            ]
          },
          "metadata": {
            "tags": []
          },
          "execution_count": 9
        },
        {
          "output_type": "execute_result",
          "data": {
            "text/plain": [
              "[<matplotlib.lines.Line2D at 0x7f0891ddfe80>]"
            ]
          },
          "metadata": {
            "tags": []
          },
          "execution_count": 9
        },
        {
          "output_type": "execute_result",
          "data": {
            "text/plain": [
              "[<matplotlib.lines.Line2D at 0x7f0891d6d668>]"
            ]
          },
          "metadata": {
            "tags": []
          },
          "execution_count": 9
        },
        {
          "output_type": "execute_result",
          "data": {
            "text/plain": [
              "[<matplotlib.lines.Line2D at 0x7f0891d6da90>]"
            ]
          },
          "metadata": {
            "tags": []
          },
          "execution_count": 9
        },
        {
          "output_type": "execute_result",
          "data": {
            "text/plain": [
              "[<matplotlib.lines.Line2D at 0x7f0891d6df28>]"
            ]
          },
          "metadata": {
            "tags": []
          },
          "execution_count": 9
        },
        {
          "output_type": "execute_result",
          "data": {
            "text/plain": [
              "[<matplotlib.lines.Line2D at 0x7f0891d77400>]"
            ]
          },
          "metadata": {
            "tags": []
          },
          "execution_count": 9
        },
        {
          "output_type": "execute_result",
          "data": {
            "text/plain": [
              "[<matplotlib.lines.Line2D at 0x7f0891d77828>]"
            ]
          },
          "metadata": {
            "tags": []
          },
          "execution_count": 9
        },
        {
          "output_type": "execute_result",
          "data": {
            "text/plain": [
              "[<matplotlib.lines.Line2D at 0x7f0891d77c50>]"
            ]
          },
          "metadata": {
            "tags": []
          },
          "execution_count": 9
        },
        {
          "output_type": "execute_result",
          "data": {
            "text/plain": [
              "[<matplotlib.lines.Line2D at 0x7f0891d77da0>]"
            ]
          },
          "metadata": {
            "tags": []
          },
          "execution_count": 9
        },
        {
          "output_type": "execute_result",
          "data": {
            "text/plain": [
              "[<matplotlib.lines.Line2D at 0x7f0891d7d588>]"
            ]
          },
          "metadata": {
            "tags": []
          },
          "execution_count": 9
        },
        {
          "output_type": "execute_result",
          "data": {
            "text/plain": [
              "[<matplotlib.lines.Line2D at 0x7f0891d7d9e8>]"
            ]
          },
          "metadata": {
            "tags": []
          },
          "execution_count": 9
        },
        {
          "output_type": "execute_result",
          "data": {
            "text/plain": [
              "[<matplotlib.lines.Line2D at 0x7f0891d7de10>]"
            ]
          },
          "metadata": {
            "tags": []
          },
          "execution_count": 9
        },
        {
          "output_type": "execute_result",
          "data": {
            "text/plain": [
              "[<matplotlib.lines.Line2D at 0x7f0891d7df60>]"
            ]
          },
          "metadata": {
            "tags": []
          },
          "execution_count": 9
        },
        {
          "output_type": "execute_result",
          "data": {
            "text/plain": [
              "[<matplotlib.lines.Line2D at 0x7f0891d86748>]"
            ]
          },
          "metadata": {
            "tags": []
          },
          "execution_count": 9
        },
        {
          "output_type": "execute_result",
          "data": {
            "text/plain": [
              "[<matplotlib.lines.Line2D at 0x7f0891d86b70>]"
            ]
          },
          "metadata": {
            "tags": []
          },
          "execution_count": 9
        },
        {
          "output_type": "execute_result",
          "data": {
            "text/plain": [
              "[<matplotlib.lines.Line2D at 0x7f0891d86cc0>]"
            ]
          },
          "metadata": {
            "tags": []
          },
          "execution_count": 9
        },
        {
          "output_type": "execute_result",
          "data": {
            "text/plain": [
              "[<matplotlib.lines.Line2D at 0x7f0891d8a4e0>]"
            ]
          },
          "metadata": {
            "tags": []
          },
          "execution_count": 9
        },
        {
          "output_type": "execute_result",
          "data": {
            "text/plain": [
              "[<matplotlib.lines.Line2D at 0x7f0891d8a908>]"
            ]
          },
          "metadata": {
            "tags": []
          },
          "execution_count": 9
        },
        {
          "output_type": "execute_result",
          "data": {
            "text/plain": [
              "[<matplotlib.lines.Line2D at 0x7f0891d8ad30>]"
            ]
          },
          "metadata": {
            "tags": []
          },
          "execution_count": 9
        },
        {
          "output_type": "execute_result",
          "data": {
            "text/plain": [
              "[<matplotlib.lines.Line2D at 0x7f0891d8ae80>]"
            ]
          },
          "metadata": {
            "tags": []
          },
          "execution_count": 9
        },
        {
          "output_type": "execute_result",
          "data": {
            "text/plain": [
              "[<matplotlib.lines.Line2D at 0x7f0891d97668>]"
            ]
          },
          "metadata": {
            "tags": []
          },
          "execution_count": 9
        },
        {
          "output_type": "execute_result",
          "data": {
            "text/plain": [
              "[<matplotlib.lines.Line2D at 0x7f0891d97a90>]"
            ]
          },
          "metadata": {
            "tags": []
          },
          "execution_count": 9
        },
        {
          "output_type": "execute_result",
          "data": {
            "text/plain": [
              "[<matplotlib.lines.Line2D at 0x7f0891d97f28>]"
            ]
          },
          "metadata": {
            "tags": []
          },
          "execution_count": 9
        },
        {
          "output_type": "execute_result",
          "data": {
            "text/plain": [
              "[<matplotlib.lines.Line2D at 0x7f0891d9f400>]"
            ]
          },
          "metadata": {
            "tags": []
          },
          "execution_count": 9
        },
        {
          "output_type": "execute_result",
          "data": {
            "text/plain": [
              "[<matplotlib.lines.Line2D at 0x7f0891d9f828>]"
            ]
          },
          "metadata": {
            "tags": []
          },
          "execution_count": 9
        },
        {
          "output_type": "execute_result",
          "data": {
            "text/plain": [
              "[<matplotlib.lines.Line2D at 0x7f0891d9fc50>]"
            ]
          },
          "metadata": {
            "tags": []
          },
          "execution_count": 9
        },
        {
          "output_type": "execute_result",
          "data": {
            "text/plain": [
              "[<matplotlib.lines.Line2D at 0x7f0891d9fda0>]"
            ]
          },
          "metadata": {
            "tags": []
          },
          "execution_count": 9
        },
        {
          "output_type": "execute_result",
          "data": {
            "text/plain": [
              "[<matplotlib.lines.Line2D at 0x7f0891da0588>]"
            ]
          },
          "metadata": {
            "tags": []
          },
          "execution_count": 9
        },
        {
          "output_type": "execute_result",
          "data": {
            "text/plain": [
              "[<matplotlib.lines.Line2D at 0x7f0891da09e8>]"
            ]
          },
          "metadata": {
            "tags": []
          },
          "execution_count": 9
        },
        {
          "output_type": "execute_result",
          "data": {
            "text/plain": [
              "[<matplotlib.lines.Line2D at 0x7f0891da0e10>]"
            ]
          },
          "metadata": {
            "tags": []
          },
          "execution_count": 9
        },
        {
          "output_type": "execute_result",
          "data": {
            "text/plain": [
              "[<matplotlib.lines.Line2D at 0x7f0891da0f60>]"
            ]
          },
          "metadata": {
            "tags": []
          },
          "execution_count": 9
        },
        {
          "output_type": "execute_result",
          "data": {
            "text/plain": [
              "[<matplotlib.lines.Line2D at 0x7f0891d30748>]"
            ]
          },
          "metadata": {
            "tags": []
          },
          "execution_count": 9
        },
        {
          "output_type": "execute_result",
          "data": {
            "text/plain": [
              "[<matplotlib.lines.Line2D at 0x7f0891d30b70>]"
            ]
          },
          "metadata": {
            "tags": []
          },
          "execution_count": 9
        },
        {
          "output_type": "execute_result",
          "data": {
            "text/plain": [
              "[<matplotlib.lines.Line2D at 0x7f0891d30cc0>]"
            ]
          },
          "metadata": {
            "tags": []
          },
          "execution_count": 9
        },
        {
          "output_type": "execute_result",
          "data": {
            "text/plain": [
              "[<matplotlib.lines.Line2D at 0x7f0891d394e0>]"
            ]
          },
          "metadata": {
            "tags": []
          },
          "execution_count": 9
        },
        {
          "output_type": "execute_result",
          "data": {
            "text/plain": [
              "[<matplotlib.lines.Line2D at 0x7f0891d39908>]"
            ]
          },
          "metadata": {
            "tags": []
          },
          "execution_count": 9
        },
        {
          "output_type": "execute_result",
          "data": {
            "text/plain": [
              "[<matplotlib.lines.Line2D at 0x7f0891d39d30>]"
            ]
          },
          "metadata": {
            "tags": []
          },
          "execution_count": 9
        },
        {
          "output_type": "execute_result",
          "data": {
            "text/plain": [
              "[<matplotlib.lines.Line2D at 0x7f0891d39e80>]"
            ]
          },
          "metadata": {
            "tags": []
          },
          "execution_count": 9
        },
        {
          "output_type": "execute_result",
          "data": {
            "text/plain": [
              "[<matplotlib.lines.Line2D at 0x7f0891d40668>]"
            ]
          },
          "metadata": {
            "tags": []
          },
          "execution_count": 9
        },
        {
          "output_type": "execute_result",
          "data": {
            "text/plain": [
              "[<matplotlib.lines.Line2D at 0x7f0891d40a90>]"
            ]
          },
          "metadata": {
            "tags": []
          },
          "execution_count": 9
        },
        {
          "output_type": "execute_result",
          "data": {
            "text/plain": [
              "[<matplotlib.lines.Line2D at 0x7f0891d40f28>]"
            ]
          },
          "metadata": {
            "tags": []
          },
          "execution_count": 9
        },
        {
          "output_type": "execute_result",
          "data": {
            "text/plain": [
              "[<matplotlib.lines.Line2D at 0x7f0891d43400>]"
            ]
          },
          "metadata": {
            "tags": []
          },
          "execution_count": 9
        },
        {
          "output_type": "execute_result",
          "data": {
            "text/plain": [
              "[<matplotlib.lines.Line2D at 0x7f0891d43828>]"
            ]
          },
          "metadata": {
            "tags": []
          },
          "execution_count": 9
        },
        {
          "output_type": "execute_result",
          "data": {
            "text/plain": [
              "[<matplotlib.lines.Line2D at 0x7f0891d43c50>]"
            ]
          },
          "metadata": {
            "tags": []
          },
          "execution_count": 9
        },
        {
          "output_type": "execute_result",
          "data": {
            "text/plain": [
              "[<matplotlib.lines.Line2D at 0x7f0891d43da0>]"
            ]
          },
          "metadata": {
            "tags": []
          },
          "execution_count": 9
        },
        {
          "output_type": "execute_result",
          "data": {
            "text/plain": [
              "[<matplotlib.lines.Line2D at 0x7f0891d52588>]"
            ]
          },
          "metadata": {
            "tags": []
          },
          "execution_count": 9
        },
        {
          "output_type": "execute_result",
          "data": {
            "text/plain": [
              "[<matplotlib.lines.Line2D at 0x7f0891d529e8>]"
            ]
          },
          "metadata": {
            "tags": []
          },
          "execution_count": 9
        },
        {
          "output_type": "execute_result",
          "data": {
            "text/plain": [
              "[<matplotlib.lines.Line2D at 0x7f0891d52e10>]"
            ]
          },
          "metadata": {
            "tags": []
          },
          "execution_count": 9
        },
        {
          "output_type": "execute_result",
          "data": {
            "text/plain": [
              "[<matplotlib.lines.Line2D at 0x7f0891d52f60>]"
            ]
          },
          "metadata": {
            "tags": []
          },
          "execution_count": 9
        },
        {
          "output_type": "execute_result",
          "data": {
            "text/plain": [
              "[<matplotlib.lines.Line2D at 0x7f0891d5b748>]"
            ]
          },
          "metadata": {
            "tags": []
          },
          "execution_count": 9
        },
        {
          "output_type": "execute_result",
          "data": {
            "text/plain": [
              "[<matplotlib.lines.Line2D at 0x7f0891d5bb70>]"
            ]
          },
          "metadata": {
            "tags": []
          },
          "execution_count": 9
        },
        {
          "output_type": "execute_result",
          "data": {
            "text/plain": [
              "[<matplotlib.lines.Line2D at 0x7f0891d5bcc0>]"
            ]
          },
          "metadata": {
            "tags": []
          },
          "execution_count": 9
        },
        {
          "output_type": "execute_result",
          "data": {
            "text/plain": [
              "[<matplotlib.lines.Line2D at 0x7f0891d614e0>]"
            ]
          },
          "metadata": {
            "tags": []
          },
          "execution_count": 9
        },
        {
          "output_type": "execute_result",
          "data": {
            "text/plain": [
              "[<matplotlib.lines.Line2D at 0x7f0891d61908>]"
            ]
          },
          "metadata": {
            "tags": []
          },
          "execution_count": 9
        },
        {
          "output_type": "execute_result",
          "data": {
            "text/plain": [
              "[<matplotlib.lines.Line2D at 0x7f0891d61d30>]"
            ]
          },
          "metadata": {
            "tags": []
          },
          "execution_count": 9
        },
        {
          "output_type": "execute_result",
          "data": {
            "text/plain": [
              "[<matplotlib.lines.Line2D at 0x7f0891d61e80>]"
            ]
          },
          "metadata": {
            "tags": []
          },
          "execution_count": 9
        },
        {
          "output_type": "execute_result",
          "data": {
            "text/plain": [
              "[<matplotlib.lines.Line2D at 0x7f0891ce8668>]"
            ]
          },
          "metadata": {
            "tags": []
          },
          "execution_count": 9
        },
        {
          "output_type": "execute_result",
          "data": {
            "text/plain": [
              "[<matplotlib.lines.Line2D at 0x7f0891ce8a90>]"
            ]
          },
          "metadata": {
            "tags": []
          },
          "execution_count": 9
        },
        {
          "output_type": "execute_result",
          "data": {
            "text/plain": [
              "[<matplotlib.lines.Line2D at 0x7f0891ce8f28>]"
            ]
          },
          "metadata": {
            "tags": []
          },
          "execution_count": 9
        },
        {
          "output_type": "execute_result",
          "data": {
            "text/plain": [
              "[<matplotlib.lines.Line2D at 0x7f0891cf3400>]"
            ]
          },
          "metadata": {
            "tags": []
          },
          "execution_count": 9
        },
        {
          "output_type": "execute_result",
          "data": {
            "text/plain": [
              "[<matplotlib.lines.Line2D at 0x7f0891cf3828>]"
            ]
          },
          "metadata": {
            "tags": []
          },
          "execution_count": 9
        },
        {
          "output_type": "execute_result",
          "data": {
            "text/plain": [
              "[<matplotlib.lines.Line2D at 0x7f0891cf3c50>]"
            ]
          },
          "metadata": {
            "tags": []
          },
          "execution_count": 9
        },
        {
          "output_type": "execute_result",
          "data": {
            "text/plain": [
              "[<matplotlib.lines.Line2D at 0x7f0891cf3da0>]"
            ]
          },
          "metadata": {
            "tags": []
          },
          "execution_count": 9
        },
        {
          "output_type": "execute_result",
          "data": {
            "text/plain": [
              "[<matplotlib.lines.Line2D at 0x7f0891cf7588>]"
            ]
          },
          "metadata": {
            "tags": []
          },
          "execution_count": 9
        },
        {
          "output_type": "execute_result",
          "data": {
            "text/plain": [
              "[<matplotlib.lines.Line2D at 0x7f0891cf79e8>]"
            ]
          },
          "metadata": {
            "tags": []
          },
          "execution_count": 9
        },
        {
          "output_type": "execute_result",
          "data": {
            "text/plain": [
              "[<matplotlib.lines.Line2D at 0x7f0891cf7e10>]"
            ]
          },
          "metadata": {
            "tags": []
          },
          "execution_count": 9
        },
        {
          "output_type": "execute_result",
          "data": {
            "text/plain": [
              "[<matplotlib.lines.Line2D at 0x7f0891cf7f60>]"
            ]
          },
          "metadata": {
            "tags": []
          },
          "execution_count": 9
        },
        {
          "output_type": "execute_result",
          "data": {
            "text/plain": [
              "[<matplotlib.lines.Line2D at 0x7f0891d01748>]"
            ]
          },
          "metadata": {
            "tags": []
          },
          "execution_count": 9
        },
        {
          "output_type": "execute_result",
          "data": {
            "text/plain": [
              "[<matplotlib.lines.Line2D at 0x7f0891d01c18>]"
            ]
          },
          "metadata": {
            "tags": []
          },
          "execution_count": 9
        },
        {
          "output_type": "execute_result",
          "data": {
            "text/plain": [
              "[<matplotlib.lines.Line2D at 0x7f0891d01c88>]"
            ]
          },
          "metadata": {
            "tags": []
          },
          "execution_count": 9
        },
        {
          "output_type": "execute_result",
          "data": {
            "text/plain": [
              "[<matplotlib.lines.Line2D at 0x7f0891d0d4e0>]"
            ]
          },
          "metadata": {
            "tags": []
          },
          "execution_count": 9
        },
        {
          "output_type": "execute_result",
          "data": {
            "text/plain": [
              "[<matplotlib.lines.Line2D at 0x7f0891d0d908>]"
            ]
          },
          "metadata": {
            "tags": []
          },
          "execution_count": 9
        },
        {
          "output_type": "execute_result",
          "data": {
            "text/plain": [
              "[<matplotlib.lines.Line2D at 0x7f0891d0dda0>]"
            ]
          },
          "metadata": {
            "tags": []
          },
          "execution_count": 9
        },
        {
          "output_type": "execute_result",
          "data": {
            "text/plain": [
              "[<matplotlib.lines.Line2D at 0x7f0891d0de10>]"
            ]
          },
          "metadata": {
            "tags": []
          },
          "execution_count": 9
        },
        {
          "output_type": "execute_result",
          "data": {
            "text/plain": [
              "[<matplotlib.lines.Line2D at 0x7f0891d12668>]"
            ]
          },
          "metadata": {
            "tags": []
          },
          "execution_count": 9
        },
        {
          "output_type": "execute_result",
          "data": {
            "text/plain": [
              "[<matplotlib.lines.Line2D at 0x7f0891d12b00>]"
            ]
          },
          "metadata": {
            "tags": []
          },
          "execution_count": 9
        },
        {
          "output_type": "execute_result",
          "data": {
            "text/plain": [
              "[<matplotlib.lines.Line2D at 0x7f0891d12f98>]"
            ]
          },
          "metadata": {
            "tags": []
          },
          "execution_count": 9
        },
        {
          "output_type": "execute_result",
          "data": {
            "text/plain": [
              "[<matplotlib.lines.Line2D at 0x7f0891d1b400>]"
            ]
          },
          "metadata": {
            "tags": []
          },
          "execution_count": 9
        },
        {
          "output_type": "execute_result",
          "data": {
            "text/plain": [
              "[<matplotlib.lines.Line2D at 0x7f0891d1b828>]"
            ]
          },
          "metadata": {
            "tags": []
          },
          "execution_count": 9
        },
        {
          "output_type": "execute_result",
          "data": {
            "text/plain": [
              "[<matplotlib.lines.Line2D at 0x7f0891d1bcc0>]"
            ]
          },
          "metadata": {
            "tags": []
          },
          "execution_count": 9
        },
        {
          "output_type": "execute_result",
          "data": {
            "text/plain": [
              "[<matplotlib.lines.Line2D at 0x7f0891d1bd30>]"
            ]
          },
          "metadata": {
            "tags": []
          },
          "execution_count": 9
        },
        {
          "output_type": "execute_result",
          "data": {
            "text/plain": [
              "[<matplotlib.lines.Line2D at 0x7f0891d25588>]"
            ]
          },
          "metadata": {
            "tags": []
          },
          "execution_count": 9
        },
        {
          "output_type": "execute_result",
          "data": {
            "text/plain": [
              "[<matplotlib.lines.Line2D at 0x7f0891d259e8>]"
            ]
          },
          "metadata": {
            "tags": []
          },
          "execution_count": 9
        },
        {
          "output_type": "execute_result",
          "data": {
            "text/plain": [
              "[<matplotlib.lines.Line2D at 0x7f0891d25e80>]"
            ]
          },
          "metadata": {
            "tags": []
          },
          "execution_count": 9
        },
        {
          "output_type": "execute_result",
          "data": {
            "text/plain": [
              "[<matplotlib.lines.Line2D at 0x7f0891d25ef0>]"
            ]
          },
          "metadata": {
            "tags": []
          },
          "execution_count": 9
        },
        {
          "output_type": "execute_result",
          "data": {
            "text/plain": [
              "[<matplotlib.lines.Line2D at 0x7f0891caacc0>]"
            ]
          },
          "metadata": {
            "tags": []
          },
          "execution_count": 9
        },
        {
          "output_type": "execute_result",
          "data": {
            "text/plain": [
              "[<matplotlib.lines.Line2D at 0x7f0891caab70>]"
            ]
          },
          "metadata": {
            "tags": []
          },
          "execution_count": 9
        },
        {
          "output_type": "execute_result",
          "data": {
            "text/plain": [
              "[<matplotlib.lines.Line2D at 0x7f0891caacf8>]"
            ]
          },
          "metadata": {
            "tags": []
          },
          "execution_count": 9
        },
        {
          "output_type": "execute_result",
          "data": {
            "text/plain": [
              "[<matplotlib.lines.Line2D at 0x7f0891cb34e0>]"
            ]
          },
          "metadata": {
            "tags": []
          },
          "execution_count": 9
        },
        {
          "output_type": "execute_result",
          "data": {
            "text/plain": [
              "[<matplotlib.lines.Line2D at 0x7f0891cb3908>]"
            ]
          },
          "metadata": {
            "tags": []
          },
          "execution_count": 9
        },
        {
          "output_type": "execute_result",
          "data": {
            "text/plain": [
              "[<matplotlib.lines.Line2D at 0x7f0891cb3d30>]"
            ]
          },
          "metadata": {
            "tags": []
          },
          "execution_count": 9
        },
        {
          "output_type": "execute_result",
          "data": {
            "text/plain": [
              "[<matplotlib.lines.Line2D at 0x7f0891cb3e80>]"
            ]
          },
          "metadata": {
            "tags": []
          },
          "execution_count": 9
        },
        {
          "output_type": "execute_result",
          "data": {
            "text/plain": [
              "[<matplotlib.lines.Line2D at 0x7f0891cbc6a0>]"
            ]
          },
          "metadata": {
            "tags": []
          },
          "execution_count": 9
        },
        {
          "output_type": "execute_result",
          "data": {
            "text/plain": [
              "[<matplotlib.lines.Line2D at 0x7f0891cbcb00>]"
            ]
          },
          "metadata": {
            "tags": []
          },
          "execution_count": 9
        },
        {
          "output_type": "execute_result",
          "data": {
            "text/plain": [
              "[<matplotlib.lines.Line2D at 0x7f0891cbceb8>]"
            ]
          },
          "metadata": {
            "tags": []
          },
          "execution_count": 9
        },
        {
          "output_type": "execute_result",
          "data": {
            "text/plain": [
              "[<matplotlib.lines.Line2D at 0x7f0891cc7400>]"
            ]
          },
          "metadata": {
            "tags": []
          },
          "execution_count": 9
        },
        {
          "output_type": "execute_result",
          "data": {
            "text/plain": [
              "[<matplotlib.lines.Line2D at 0x7f0891cc7860>]"
            ]
          },
          "metadata": {
            "tags": []
          },
          "execution_count": 9
        },
        {
          "output_type": "execute_result",
          "data": {
            "text/plain": [
              "[<matplotlib.lines.Line2D at 0x7f0891cc7c18>]"
            ]
          },
          "metadata": {
            "tags": []
          },
          "execution_count": 9
        },
        {
          "output_type": "execute_result",
          "data": {
            "text/plain": [
              "[<matplotlib.lines.Line2D at 0x7f0891cc7da0>]"
            ]
          },
          "metadata": {
            "tags": []
          },
          "execution_count": 9
        },
        {
          "output_type": "execute_result",
          "data": {
            "text/plain": [
              "[<matplotlib.lines.Line2D at 0x7f0891cc8588>]"
            ]
          },
          "metadata": {
            "tags": []
          },
          "execution_count": 9
        },
        {
          "output_type": "execute_result",
          "data": {
            "text/plain": [
              "[<matplotlib.lines.Line2D at 0x7f0891cc89e8>]"
            ]
          },
          "metadata": {
            "tags": []
          },
          "execution_count": 9
        },
        {
          "output_type": "execute_result",
          "data": {
            "text/plain": [
              "[<matplotlib.lines.Line2D at 0x7f0891cc8e10>]"
            ]
          },
          "metadata": {
            "tags": []
          },
          "execution_count": 9
        },
        {
          "output_type": "execute_result",
          "data": {
            "text/plain": [
              "[<matplotlib.lines.Line2D at 0x7f0891cc8f60>]"
            ]
          },
          "metadata": {
            "tags": []
          },
          "execution_count": 9
        },
        {
          "output_type": "execute_result",
          "data": {
            "text/plain": [
              "[<matplotlib.lines.Line2D at 0x7f0891cd0d30>]"
            ]
          },
          "metadata": {
            "tags": []
          },
          "execution_count": 9
        },
        {
          "output_type": "execute_result",
          "data": {
            "text/plain": [
              "[<matplotlib.lines.Line2D at 0x7f0891cd0828>]"
            ]
          },
          "metadata": {
            "tags": []
          },
          "execution_count": 9
        },
        {
          "output_type": "execute_result",
          "data": {
            "text/plain": [
              "[<matplotlib.lines.Line2D at 0x7f0891cd0c88>]"
            ]
          },
          "metadata": {
            "tags": []
          },
          "execution_count": 9
        },
        {
          "output_type": "execute_result",
          "data": {
            "text/plain": [
              "[<matplotlib.lines.Line2D at 0x7f0891ce14e0>]"
            ]
          },
          "metadata": {
            "tags": []
          },
          "execution_count": 9
        },
        {
          "output_type": "execute_result",
          "data": {
            "text/plain": [
              "[<matplotlib.lines.Line2D at 0x7f0891ce1898>]"
            ]
          },
          "metadata": {
            "tags": []
          },
          "execution_count": 9
        },
        {
          "output_type": "execute_result",
          "data": {
            "text/plain": [
              "[<matplotlib.lines.Line2D at 0x7f0891ce1d30>]"
            ]
          },
          "metadata": {
            "tags": []
          },
          "execution_count": 9
        },
        {
          "output_type": "execute_result",
          "data": {
            "text/plain": [
              "[<matplotlib.lines.Line2D at 0x7f0891ce1eb8>]"
            ]
          },
          "metadata": {
            "tags": []
          },
          "execution_count": 9
        },
        {
          "output_type": "execute_result",
          "data": {
            "text/plain": [
              "[<matplotlib.lines.Line2D at 0x7f0891ce4668>]"
            ]
          },
          "metadata": {
            "tags": []
          },
          "execution_count": 9
        },
        {
          "output_type": "execute_result",
          "data": {
            "text/plain": [
              "[<matplotlib.lines.Line2D at 0x7f0891ce4a90>]"
            ]
          },
          "metadata": {
            "tags": []
          },
          "execution_count": 9
        },
        {
          "output_type": "execute_result",
          "data": {
            "text/plain": [
              "[<matplotlib.lines.Line2D at 0x7f0891ce4f28>]"
            ]
          },
          "metadata": {
            "tags": []
          },
          "execution_count": 9
        },
        {
          "output_type": "execute_result",
          "data": {
            "text/plain": [
              "[<matplotlib.lines.Line2D at 0x7f0891c70400>]"
            ]
          },
          "metadata": {
            "tags": []
          },
          "execution_count": 9
        },
        {
          "output_type": "execute_result",
          "data": {
            "text/plain": [
              "[<matplotlib.lines.Line2D at 0x7f0891c70828>]"
            ]
          },
          "metadata": {
            "tags": []
          },
          "execution_count": 9
        },
        {
          "output_type": "execute_result",
          "data": {
            "text/plain": [
              "[<matplotlib.lines.Line2D at 0x7f0891c70c50>]"
            ]
          },
          "metadata": {
            "tags": []
          },
          "execution_count": 9
        },
        {
          "output_type": "execute_result",
          "data": {
            "text/plain": [
              "[<matplotlib.lines.Line2D at 0x7f0891c70da0>]"
            ]
          },
          "metadata": {
            "tags": []
          },
          "execution_count": 9
        },
        {
          "output_type": "execute_result",
          "data": {
            "text/plain": [
              "[<matplotlib.lines.Line2D at 0x7f0891c72588>]"
            ]
          },
          "metadata": {
            "tags": []
          },
          "execution_count": 9
        },
        {
          "output_type": "execute_result",
          "data": {
            "text/plain": [
              "[<matplotlib.lines.Line2D at 0x7f0891c729e8>]"
            ]
          },
          "metadata": {
            "tags": []
          },
          "execution_count": 9
        },
        {
          "output_type": "execute_result",
          "data": {
            "text/plain": [
              "[<matplotlib.lines.Line2D at 0x7f0891c72e10>]"
            ]
          },
          "metadata": {
            "tags": []
          },
          "execution_count": 9
        },
        {
          "output_type": "execute_result",
          "data": {
            "text/plain": [
              "[<matplotlib.lines.Line2D at 0x7f0891c72f60>]"
            ]
          },
          "metadata": {
            "tags": []
          },
          "execution_count": 9
        },
        {
          "output_type": "execute_result",
          "data": {
            "text/plain": [
              "[<matplotlib.lines.Line2D at 0x7f0891c81748>]"
            ]
          },
          "metadata": {
            "tags": []
          },
          "execution_count": 9
        },
        {
          "output_type": "execute_result",
          "data": {
            "text/plain": [
              "[<matplotlib.lines.Line2D at 0x7f0891c81b70>]"
            ]
          },
          "metadata": {
            "tags": []
          },
          "execution_count": 9
        },
        {
          "output_type": "execute_result",
          "data": {
            "text/plain": [
              "[<matplotlib.lines.Line2D at 0x7f0891c81cc0>]"
            ]
          },
          "metadata": {
            "tags": []
          },
          "execution_count": 9
        },
        {
          "output_type": "execute_result",
          "data": {
            "text/plain": [
              "[<matplotlib.lines.Line2D at 0x7f0891c874e0>]"
            ]
          },
          "metadata": {
            "tags": []
          },
          "execution_count": 9
        },
        {
          "output_type": "execute_result",
          "data": {
            "text/plain": [
              "[<matplotlib.lines.Line2D at 0x7f0891c87908>]"
            ]
          },
          "metadata": {
            "tags": []
          },
          "execution_count": 9
        },
        {
          "output_type": "execute_result",
          "data": {
            "text/plain": [
              "[<matplotlib.lines.Line2D at 0x7f0891c87d30>]"
            ]
          },
          "metadata": {
            "tags": []
          },
          "execution_count": 9
        },
        {
          "output_type": "execute_result",
          "data": {
            "text/plain": [
              "[<matplotlib.lines.Line2D at 0x7f0891c87e80>]"
            ]
          },
          "metadata": {
            "tags": []
          },
          "execution_count": 9
        },
        {
          "output_type": "execute_result",
          "data": {
            "text/plain": [
              "[<matplotlib.lines.Line2D at 0x7f0891c8b668>]"
            ]
          },
          "metadata": {
            "tags": []
          },
          "execution_count": 9
        },
        {
          "output_type": "execute_result",
          "data": {
            "text/plain": [
              "[<matplotlib.lines.Line2D at 0x7f0891c8ba90>]"
            ]
          },
          "metadata": {
            "tags": []
          },
          "execution_count": 9
        },
        {
          "output_type": "execute_result",
          "data": {
            "text/plain": [
              "[<matplotlib.lines.Line2D at 0x7f0891c8bf28>]"
            ]
          },
          "metadata": {
            "tags": []
          },
          "execution_count": 9
        },
        {
          "output_type": "execute_result",
          "data": {
            "text/plain": [
              "[<matplotlib.lines.Line2D at 0x7f0891c98400>]"
            ]
          },
          "metadata": {
            "tags": []
          },
          "execution_count": 9
        },
        {
          "output_type": "execute_result",
          "data": {
            "text/plain": [
              "[<matplotlib.lines.Line2D at 0x7f0891c98828>]"
            ]
          },
          "metadata": {
            "tags": []
          },
          "execution_count": 9
        },
        {
          "output_type": "execute_result",
          "data": {
            "text/plain": [
              "[<matplotlib.lines.Line2D at 0x7f0891c98c50>]"
            ]
          },
          "metadata": {
            "tags": []
          },
          "execution_count": 9
        },
        {
          "output_type": "execute_result",
          "data": {
            "text/plain": [
              "[<matplotlib.lines.Line2D at 0x7f0891c98da0>]"
            ]
          },
          "metadata": {
            "tags": []
          },
          "execution_count": 9
        },
        {
          "output_type": "execute_result",
          "data": {
            "text/plain": [
              "[<matplotlib.lines.Line2D at 0x7f0891c9b588>]"
            ]
          },
          "metadata": {
            "tags": []
          },
          "execution_count": 9
        },
        {
          "output_type": "execute_result",
          "data": {
            "text/plain": [
              "[<matplotlib.lines.Line2D at 0x7f0891c9b9e8>]"
            ]
          },
          "metadata": {
            "tags": []
          },
          "execution_count": 9
        },
        {
          "output_type": "execute_result",
          "data": {
            "text/plain": [
              "[<matplotlib.lines.Line2D at 0x7f0891c9be10>]"
            ]
          },
          "metadata": {
            "tags": []
          },
          "execution_count": 9
        },
        {
          "output_type": "execute_result",
          "data": {
            "text/plain": [
              "[<matplotlib.lines.Line2D at 0x7f0891c9bf60>]"
            ]
          },
          "metadata": {
            "tags": []
          },
          "execution_count": 9
        },
        {
          "output_type": "execute_result",
          "data": {
            "text/plain": [
              "[<matplotlib.lines.Line2D at 0x7f0891ca7748>]"
            ]
          },
          "metadata": {
            "tags": []
          },
          "execution_count": 9
        },
        {
          "output_type": "execute_result",
          "data": {
            "text/plain": [
              "[<matplotlib.lines.Line2D at 0x7f0891ca7b70>]"
            ]
          },
          "metadata": {
            "tags": []
          },
          "execution_count": 9
        },
        {
          "output_type": "execute_result",
          "data": {
            "text/plain": [
              "[<matplotlib.lines.Line2D at 0x7f0891ca7cc0>]"
            ]
          },
          "metadata": {
            "tags": []
          },
          "execution_count": 9
        },
        {
          "output_type": "execute_result",
          "data": {
            "text/plain": [
              "[<matplotlib.lines.Line2D at 0x7f0891c2a4e0>]"
            ]
          },
          "metadata": {
            "tags": []
          },
          "execution_count": 9
        },
        {
          "output_type": "execute_result",
          "data": {
            "text/plain": [
              "[<matplotlib.lines.Line2D at 0x7f0891c2a908>]"
            ]
          },
          "metadata": {
            "tags": []
          },
          "execution_count": 9
        },
        {
          "output_type": "execute_result",
          "data": {
            "text/plain": [
              "[<matplotlib.lines.Line2D at 0x7f0891c2ad68>]"
            ]
          },
          "metadata": {
            "tags": []
          },
          "execution_count": 9
        },
        {
          "output_type": "execute_result",
          "data": {
            "text/plain": [
              "[<matplotlib.lines.Line2D at 0x7f0891c2ae48>]"
            ]
          },
          "metadata": {
            "tags": []
          },
          "execution_count": 9
        },
        {
          "output_type": "execute_result",
          "data": {
            "text/plain": [
              "[<matplotlib.lines.Line2D at 0x7f0891c3a668>]"
            ]
          },
          "metadata": {
            "tags": []
          },
          "execution_count": 9
        },
        {
          "output_type": "execute_result",
          "data": {
            "text/plain": [
              "[<matplotlib.lines.Line2D at 0x7f0891c3ab00>]"
            ]
          },
          "metadata": {
            "tags": []
          },
          "execution_count": 9
        },
        {
          "output_type": "execute_result",
          "data": {
            "text/plain": [
              "[<matplotlib.lines.Line2D at 0x7f0891c3aef0>]"
            ]
          },
          "metadata": {
            "tags": []
          },
          "execution_count": 9
        },
        {
          "output_type": "execute_result",
          "data": {
            "text/plain": [
              "[<matplotlib.lines.Line2D at 0x7f0891c3af60>]"
            ]
          },
          "metadata": {
            "tags": []
          },
          "execution_count": 9
        },
        {
          "output_type": "execute_result",
          "data": {
            "text/plain": [
              "[<matplotlib.lines.Line2D at 0x7f0891c3af98>]"
            ]
          },
          "metadata": {
            "tags": []
          },
          "execution_count": 9
        },
        {
          "output_type": "execute_result",
          "data": {
            "text/plain": [
              "[<matplotlib.lines.Line2D at 0x7f0891c44d30>]"
            ]
          },
          "metadata": {
            "tags": []
          },
          "execution_count": 9
        },
        {
          "output_type": "execute_result",
          "data": {
            "text/plain": [
              "[<matplotlib.lines.Line2D at 0x7f0891c449e8>]"
            ]
          },
          "metadata": {
            "tags": []
          },
          "execution_count": 9
        },
        {
          "output_type": "execute_result",
          "data": {
            "text/plain": [
              "[<matplotlib.lines.Line2D at 0x7f0891c44e10>]"
            ]
          },
          "metadata": {
            "tags": []
          },
          "execution_count": 9
        },
        {
          "output_type": "execute_result",
          "data": {
            "text/plain": [
              "[<matplotlib.lines.Line2D at 0x7f0891c44cf8>]"
            ]
          },
          "metadata": {
            "tags": []
          },
          "execution_count": 9
        },
        {
          "output_type": "execute_result",
          "data": {
            "text/plain": [
              "[<matplotlib.lines.Line2D at 0x7f0891c47a90>]"
            ]
          },
          "metadata": {
            "tags": []
          },
          "execution_count": 9
        },
        {
          "output_type": "execute_result",
          "data": {
            "text/plain": [
              "[<matplotlib.lines.Line2D at 0x7f0891c47ba8>]"
            ]
          },
          "metadata": {
            "tags": []
          },
          "execution_count": 9
        },
        {
          "output_type": "execute_result",
          "data": {
            "text/plain": [
              "[<matplotlib.lines.Line2D at 0x7f0891c47f28>]"
            ]
          },
          "metadata": {
            "tags": []
          },
          "execution_count": 9
        },
        {
          "output_type": "execute_result",
          "data": {
            "text/plain": [
              "[<matplotlib.lines.Line2D at 0x7f0891c534a8>]"
            ]
          },
          "metadata": {
            "tags": []
          },
          "execution_count": 9
        },
        {
          "output_type": "execute_result",
          "data": {
            "text/plain": [
              "[<matplotlib.lines.Line2D at 0x7f0891c53c50>]"
            ]
          },
          "metadata": {
            "tags": []
          },
          "execution_count": 9
        },
        {
          "output_type": "execute_result",
          "data": {
            "text/plain": [
              "[<matplotlib.lines.Line2D at 0x7f0891c59518>]"
            ]
          },
          "metadata": {
            "tags": []
          },
          "execution_count": 9
        },
        {
          "output_type": "execute_result",
          "data": {
            "text/plain": [
              "[<matplotlib.lines.Line2D at 0x7f0891c59588>]"
            ]
          },
          "metadata": {
            "tags": []
          },
          "execution_count": 9
        },
        {
          "output_type": "execute_result",
          "data": {
            "text/plain": [
              "[<matplotlib.lines.Line2D at 0x7f0891c59d68>]"
            ]
          },
          "metadata": {
            "tags": []
          },
          "execution_count": 9
        },
        {
          "output_type": "execute_result",
          "data": {
            "text/plain": [
              "[<matplotlib.lines.Line2D at 0x7f0891c59f28>]"
            ]
          },
          "metadata": {
            "tags": []
          },
          "execution_count": 9
        },
        {
          "output_type": "execute_result",
          "data": {
            "text/plain": [
              "[<matplotlib.lines.Line2D at 0x7f0891c64390>]"
            ]
          },
          "metadata": {
            "tags": []
          },
          "execution_count": 9
        },
        {
          "output_type": "execute_result",
          "data": {
            "text/plain": [
              "[<matplotlib.lines.Line2D at 0x7f0891c64ac8>]"
            ]
          },
          "metadata": {
            "tags": []
          },
          "execution_count": 9
        },
        {
          "output_type": "execute_result",
          "data": {
            "text/plain": [
              "[<matplotlib.lines.Line2D at 0x7f0891c64fd0>]"
            ]
          },
          "metadata": {
            "tags": []
          },
          "execution_count": 9
        },
        {
          "output_type": "execute_result",
          "data": {
            "text/plain": [
              "[<matplotlib.lines.Line2D at 0x7f0891be8400>]"
            ]
          },
          "metadata": {
            "tags": []
          },
          "execution_count": 9
        },
        {
          "output_type": "execute_result",
          "data": {
            "text/plain": [
              "[<matplotlib.lines.Line2D at 0x7f0891be8828>]"
            ]
          },
          "metadata": {
            "tags": []
          },
          "execution_count": 9
        },
        {
          "output_type": "execute_result",
          "data": {
            "text/plain": [
              "[<matplotlib.lines.Line2D at 0x7f0891be8cc0>]"
            ]
          },
          "metadata": {
            "tags": []
          },
          "execution_count": 9
        },
        {
          "output_type": "execute_result",
          "data": {
            "text/plain": [
              "[<matplotlib.lines.Line2D at 0x7f0891be8d30>]"
            ]
          },
          "metadata": {
            "tags": []
          },
          "execution_count": 9
        },
        {
          "output_type": "execute_result",
          "data": {
            "text/plain": [
              "[<matplotlib.lines.Line2D at 0x7f0891bf2588>]"
            ]
          },
          "metadata": {
            "tags": []
          },
          "execution_count": 9
        },
        {
          "output_type": "execute_result",
          "data": {
            "text/plain": [
              "[<matplotlib.lines.Line2D at 0x7f0891bf29e8>]"
            ]
          },
          "metadata": {
            "tags": []
          },
          "execution_count": 9
        },
        {
          "output_type": "execute_result",
          "data": {
            "text/plain": [
              "[<matplotlib.lines.Line2D at 0x7f0891bf2e80>]"
            ]
          },
          "metadata": {
            "tags": []
          },
          "execution_count": 9
        },
        {
          "output_type": "execute_result",
          "data": {
            "text/plain": [
              "[<matplotlib.lines.Line2D at 0x7f0891bf2ef0>]"
            ]
          },
          "metadata": {
            "tags": []
          },
          "execution_count": 9
        },
        {
          "output_type": "execute_result",
          "data": {
            "text/plain": [
              "[<matplotlib.lines.Line2D at 0x7f0891bfd748>]"
            ]
          },
          "metadata": {
            "tags": []
          },
          "execution_count": 9
        },
        {
          "output_type": "execute_result",
          "data": {
            "text/plain": [
              "[<matplotlib.lines.Line2D at 0x7f0891bfdbe0>]"
            ]
          },
          "metadata": {
            "tags": []
          },
          "execution_count": 9
        },
        {
          "output_type": "execute_result",
          "data": {
            "text/plain": [
              "[<matplotlib.lines.Line2D at 0x7f0891bfdc50>]"
            ]
          },
          "metadata": {
            "tags": []
          },
          "execution_count": 9
        },
        {
          "output_type": "execute_result",
          "data": {
            "text/plain": [
              "[<matplotlib.lines.Line2D at 0x7f0891c064e0>]"
            ]
          },
          "metadata": {
            "tags": []
          },
          "execution_count": 9
        },
        {
          "output_type": "execute_result",
          "data": {
            "text/plain": [
              "[<matplotlib.lines.Line2D at 0x7f0891c06e80>]"
            ]
          },
          "metadata": {
            "tags": []
          },
          "execution_count": 9
        },
        {
          "output_type": "execute_result",
          "data": {
            "text/plain": [
              "[<matplotlib.lines.Line2D at 0x7f0891c06d30>]"
            ]
          },
          "metadata": {
            "tags": []
          },
          "execution_count": 9
        },
        {
          "output_type": "execute_result",
          "data": {
            "text/plain": [
              "[<matplotlib.lines.Line2D at 0x7f0891c06eb8>]"
            ]
          },
          "metadata": {
            "tags": []
          },
          "execution_count": 9
        },
        {
          "output_type": "execute_result",
          "data": {
            "text/plain": [
              "[<matplotlib.lines.Line2D at 0x7f0891c0a668>]"
            ]
          },
          "metadata": {
            "tags": []
          },
          "execution_count": 9
        },
        {
          "output_type": "execute_result",
          "data": {
            "text/plain": [
              "[<matplotlib.lines.Line2D at 0x7f0891c0aa90>]"
            ]
          },
          "metadata": {
            "tags": []
          },
          "execution_count": 9
        },
        {
          "output_type": "execute_result",
          "data": {
            "text/plain": [
              "[<matplotlib.lines.Line2D at 0x7f0891c0af28>]"
            ]
          },
          "metadata": {
            "tags": []
          },
          "execution_count": 9
        },
        {
          "output_type": "execute_result",
          "data": {
            "text/plain": [
              "[<matplotlib.lines.Line2D at 0x7f0891c17400>]"
            ]
          },
          "metadata": {
            "tags": []
          },
          "execution_count": 9
        },
        {
          "output_type": "execute_result",
          "data": {
            "text/plain": [
              "[<matplotlib.lines.Line2D at 0x7f0891c17828>]"
            ]
          },
          "metadata": {
            "tags": []
          },
          "execution_count": 9
        },
        {
          "output_type": "execute_result",
          "data": {
            "text/plain": [
              "[<matplotlib.lines.Line2D at 0x7f0891c17c50>]"
            ]
          },
          "metadata": {
            "tags": []
          },
          "execution_count": 9
        },
        {
          "output_type": "execute_result",
          "data": {
            "text/plain": [
              "[<matplotlib.lines.Line2D at 0x7f0891c17da0>]"
            ]
          },
          "metadata": {
            "tags": []
          },
          "execution_count": 9
        },
        {
          "output_type": "execute_result",
          "data": {
            "text/plain": [
              "[<matplotlib.lines.Line2D at 0x7f0891c1b588>]"
            ]
          },
          "metadata": {
            "tags": []
          },
          "execution_count": 9
        },
        {
          "output_type": "execute_result",
          "data": {
            "text/plain": [
              "[<matplotlib.lines.Line2D at 0x7f0891c1b9e8>]"
            ]
          },
          "metadata": {
            "tags": []
          },
          "execution_count": 9
        },
        {
          "output_type": "execute_result",
          "data": {
            "text/plain": [
              "[<matplotlib.lines.Line2D at 0x7f0891c1be10>]"
            ]
          },
          "metadata": {
            "tags": []
          },
          "execution_count": 9
        },
        {
          "output_type": "execute_result",
          "data": {
            "text/plain": [
              "[<matplotlib.lines.Line2D at 0x7f0891c1bf60>]"
            ]
          },
          "metadata": {
            "tags": []
          },
          "execution_count": 9
        },
        {
          "output_type": "execute_result",
          "data": {
            "text/plain": [
              "[<matplotlib.lines.Line2D at 0x7f0891c27748>]"
            ]
          },
          "metadata": {
            "tags": []
          },
          "execution_count": 9
        },
        {
          "output_type": "execute_result",
          "data": {
            "text/plain": [
              "[<matplotlib.lines.Line2D at 0x7f0891c27b70>]"
            ]
          },
          "metadata": {
            "tags": []
          },
          "execution_count": 9
        },
        {
          "output_type": "execute_result",
          "data": {
            "text/plain": [
              "[<matplotlib.lines.Line2D at 0x7f0891c27cc0>]"
            ]
          },
          "metadata": {
            "tags": []
          },
          "execution_count": 9
        },
        {
          "output_type": "execute_result",
          "data": {
            "text/plain": [
              "[<matplotlib.lines.Line2D at 0x7f0891bb04e0>]"
            ]
          },
          "metadata": {
            "tags": []
          },
          "execution_count": 9
        },
        {
          "output_type": "execute_result",
          "data": {
            "text/plain": [
              "[<matplotlib.lines.Line2D at 0x7f0891bb0908>]"
            ]
          },
          "metadata": {
            "tags": []
          },
          "execution_count": 9
        },
        {
          "output_type": "execute_result",
          "data": {
            "text/plain": [
              "[<matplotlib.lines.Line2D at 0x7f0891bb0d30>]"
            ]
          },
          "metadata": {
            "tags": []
          },
          "execution_count": 9
        },
        {
          "output_type": "execute_result",
          "data": {
            "text/plain": [
              "[<matplotlib.lines.Line2D at 0x7f0891bb7240>]"
            ]
          },
          "metadata": {
            "tags": []
          },
          "execution_count": 9
        },
        {
          "output_type": "execute_result",
          "data": {
            "text/plain": [
              "[<matplotlib.lines.Line2D at 0x7f0891bb7710>]"
            ]
          },
          "metadata": {
            "tags": []
          },
          "execution_count": 9
        },
        {
          "output_type": "execute_result",
          "data": {
            "text/plain": [
              "[<matplotlib.lines.Line2D at 0x7f0891bb7b38>]"
            ]
          },
          "metadata": {
            "tags": []
          },
          "execution_count": 9
        },
        {
          "output_type": "execute_result",
          "data": {
            "text/plain": [
              "[<matplotlib.lines.Line2D at 0x7f0891bb7f98>]"
            ]
          },
          "metadata": {
            "tags": []
          },
          "execution_count": 9
        },
        {
          "output_type": "execute_result",
          "data": {
            "text/plain": [
              "[<matplotlib.lines.Line2D at 0x7f0891bc1400>]"
            ]
          },
          "metadata": {
            "tags": []
          },
          "execution_count": 9
        },
        {
          "output_type": "execute_result",
          "data": {
            "text/plain": [
              "[<matplotlib.lines.Line2D at 0x7f0891bc1828>]"
            ]
          },
          "metadata": {
            "tags": []
          },
          "execution_count": 9
        },
        {
          "output_type": "execute_result",
          "data": {
            "text/plain": [
              "[<matplotlib.lines.Line2D at 0x7f0891bc1cc0>]"
            ]
          },
          "metadata": {
            "tags": []
          },
          "execution_count": 9
        },
        {
          "output_type": "execute_result",
          "data": {
            "text/plain": [
              "[<matplotlib.lines.Line2D at 0x7f0891bc1d30>]"
            ]
          },
          "metadata": {
            "tags": []
          },
          "execution_count": 9
        },
        {
          "output_type": "execute_result",
          "data": {
            "text/plain": [
              "[<matplotlib.lines.Line2D at 0x7f0891bc6588>]"
            ]
          },
          "metadata": {
            "tags": []
          },
          "execution_count": 9
        },
        {
          "output_type": "execute_result",
          "data": {
            "text/plain": [
              "[<matplotlib.lines.Line2D at 0x7f0891bc6f60>]"
            ]
          },
          "metadata": {
            "tags": []
          },
          "execution_count": 9
        },
        {
          "output_type": "execute_result",
          "data": {
            "text/plain": [
              "[<matplotlib.lines.Line2D at 0x7f0891bc6e10>]"
            ]
          },
          "metadata": {
            "tags": []
          },
          "execution_count": 9
        },
        {
          "output_type": "execute_result",
          "data": {
            "text/plain": [
              "[<matplotlib.lines.Line2D at 0x7f0891bc6f98>]"
            ]
          },
          "metadata": {
            "tags": []
          },
          "execution_count": 9
        },
        {
          "output_type": "execute_result",
          "data": {
            "text/plain": [
              "[<matplotlib.lines.Line2D at 0x7f0891bcd748>]"
            ]
          },
          "metadata": {
            "tags": []
          },
          "execution_count": 9
        },
        {
          "output_type": "execute_result",
          "data": {
            "text/plain": [
              "[<matplotlib.lines.Line2D at 0x7f0891bcdc18>]"
            ]
          },
          "metadata": {
            "tags": []
          },
          "execution_count": 9
        },
        {
          "output_type": "execute_result",
          "data": {
            "text/plain": [
              "[<matplotlib.lines.Line2D at 0x7f0891bcdc88>]"
            ]
          },
          "metadata": {
            "tags": []
          },
          "execution_count": 9
        },
        {
          "output_type": "execute_result",
          "data": {
            "text/plain": [
              "[<matplotlib.lines.Line2D at 0x7f0891bdb470>]"
            ]
          },
          "metadata": {
            "tags": []
          },
          "execution_count": 9
        },
        {
          "output_type": "execute_result",
          "data": {
            "text/plain": [
              "[<matplotlib.lines.Line2D at 0x7f0891bdb940>]"
            ]
          },
          "metadata": {
            "tags": []
          },
          "execution_count": 9
        },
        {
          "output_type": "execute_result",
          "data": {
            "text/plain": [
              "[<matplotlib.lines.Line2D at 0x7f0891bdbda0>]"
            ]
          },
          "metadata": {
            "tags": []
          },
          "execution_count": 9
        },
        {
          "output_type": "execute_result",
          "data": {
            "text/plain": [
              "[<matplotlib.lines.Line2D at 0x7f0891bdbe10>]"
            ]
          },
          "metadata": {
            "tags": []
          },
          "execution_count": 9
        },
        {
          "output_type": "execute_result",
          "data": {
            "text/plain": [
              "[<matplotlib.lines.Line2D at 0x7f0891be0668>]"
            ]
          },
          "metadata": {
            "tags": []
          },
          "execution_count": 9
        },
        {
          "output_type": "execute_result",
          "data": {
            "text/plain": [
              "[<matplotlib.lines.Line2D at 0x7f0891be0a90>]"
            ]
          },
          "metadata": {
            "tags": []
          },
          "execution_count": 9
        },
        {
          "output_type": "execute_result",
          "data": {
            "text/plain": [
              "[<matplotlib.lines.Line2D at 0x7f0891be0f28>]"
            ]
          },
          "metadata": {
            "tags": []
          },
          "execution_count": 9
        },
        {
          "output_type": "execute_result",
          "data": {
            "text/plain": [
              "[<matplotlib.lines.Line2D at 0x7f0891b6c400>]"
            ]
          },
          "metadata": {
            "tags": []
          },
          "execution_count": 9
        },
        {
          "output_type": "execute_result",
          "data": {
            "text/plain": [
              "[<matplotlib.lines.Line2D at 0x7f0891b6c828>]"
            ]
          },
          "metadata": {
            "tags": []
          },
          "execution_count": 9
        },
        {
          "output_type": "execute_result",
          "data": {
            "text/plain": [
              "[<matplotlib.lines.Line2D at 0x7f0891b6cc50>]"
            ]
          },
          "metadata": {
            "tags": []
          },
          "execution_count": 9
        },
        {
          "output_type": "execute_result",
          "data": {
            "text/plain": [
              "[<matplotlib.lines.Line2D at 0x7f0891b6cda0>]"
            ]
          },
          "metadata": {
            "tags": []
          },
          "execution_count": 9
        },
        {
          "output_type": "execute_result",
          "data": {
            "text/plain": [
              "[<matplotlib.lines.Line2D at 0x7f0891b70588>]"
            ]
          },
          "metadata": {
            "tags": []
          },
          "execution_count": 9
        },
        {
          "output_type": "execute_result",
          "data": {
            "text/plain": [
              "[<matplotlib.lines.Line2D at 0x7f0891b709e8>]"
            ]
          },
          "metadata": {
            "tags": []
          },
          "execution_count": 9
        },
        {
          "output_type": "execute_result",
          "data": {
            "text/plain": [
              "[<matplotlib.lines.Line2D at 0x7f0891b70e10>]"
            ]
          },
          "metadata": {
            "tags": []
          },
          "execution_count": 9
        },
        {
          "output_type": "execute_result",
          "data": {
            "text/plain": [
              "[<matplotlib.lines.Line2D at 0x7f0891b70f60>]"
            ]
          },
          "metadata": {
            "tags": []
          },
          "execution_count": 9
        },
        {
          "output_type": "execute_result",
          "data": {
            "text/plain": [
              "[<matplotlib.lines.Line2D at 0x7f0891b7b748>]"
            ]
          },
          "metadata": {
            "tags": []
          },
          "execution_count": 9
        },
        {
          "output_type": "execute_result",
          "data": {
            "text/plain": [
              "[<matplotlib.lines.Line2D at 0x7f0891b7bb70>]"
            ]
          },
          "metadata": {
            "tags": []
          },
          "execution_count": 9
        },
        {
          "output_type": "execute_result",
          "data": {
            "text/plain": [
              "[<matplotlib.lines.Line2D at 0x7f0891b7bcc0>]"
            ]
          },
          "metadata": {
            "tags": []
          },
          "execution_count": 9
        },
        {
          "output_type": "execute_result",
          "data": {
            "text/plain": [
              "[<matplotlib.lines.Line2D at 0x7f0891b844e0>]"
            ]
          },
          "metadata": {
            "tags": []
          },
          "execution_count": 9
        },
        {
          "output_type": "execute_result",
          "data": {
            "text/plain": [
              "[<matplotlib.lines.Line2D at 0x7f0891b84908>]"
            ]
          },
          "metadata": {
            "tags": []
          },
          "execution_count": 9
        },
        {
          "output_type": "execute_result",
          "data": {
            "text/plain": [
              "[<matplotlib.lines.Line2D at 0x7f0891b84d30>]"
            ]
          },
          "metadata": {
            "tags": []
          },
          "execution_count": 9
        },
        {
          "output_type": "execute_result",
          "data": {
            "text/plain": [
              "[<matplotlib.lines.Line2D at 0x7f0891b84e80>]"
            ]
          },
          "metadata": {
            "tags": []
          },
          "execution_count": 9
        },
        {
          "output_type": "execute_result",
          "data": {
            "text/plain": [
              "[<matplotlib.lines.Line2D at 0x7f0891b8c668>]"
            ]
          },
          "metadata": {
            "tags": []
          },
          "execution_count": 9
        },
        {
          "output_type": "execute_result",
          "data": {
            "text/plain": [
              "[<matplotlib.lines.Line2D at 0x7f0891b8c748>]"
            ]
          },
          "metadata": {
            "tags": []
          },
          "execution_count": 9
        },
        {
          "output_type": "execute_result",
          "data": {
            "text/plain": [
              "[<matplotlib.lines.Line2D at 0x7f0891b8cf98>]"
            ]
          },
          "metadata": {
            "tags": []
          },
          "execution_count": 9
        },
        {
          "output_type": "execute_result",
          "data": {
            "text/plain": [
              "[<matplotlib.lines.Line2D at 0x7f0891b94390>]"
            ]
          },
          "metadata": {
            "tags": []
          },
          "execution_count": 9
        },
        {
          "output_type": "execute_result",
          "data": {
            "text/plain": [
              "[<matplotlib.lines.Line2D at 0x7f0891b94828>]"
            ]
          },
          "metadata": {
            "tags": []
          },
          "execution_count": 9
        },
        {
          "output_type": "execute_result",
          "data": {
            "text/plain": [
              "[<matplotlib.lines.Line2D at 0x7f0891b94c50>]"
            ]
          },
          "metadata": {
            "tags": []
          },
          "execution_count": 9
        },
        {
          "output_type": "execute_result",
          "data": {
            "text/plain": [
              "[<matplotlib.lines.Line2D at 0x7f0891b94da0>]"
            ]
          },
          "metadata": {
            "tags": []
          },
          "execution_count": 9
        },
        {
          "output_type": "execute_result",
          "data": {
            "text/plain": [
              "[<matplotlib.lines.Line2D at 0x7f0891b98588>]"
            ]
          },
          "metadata": {
            "tags": []
          },
          "execution_count": 9
        },
        {
          "output_type": "execute_result",
          "data": {
            "text/plain": [
              "[<matplotlib.lines.Line2D at 0x7f0891b989e8>]"
            ]
          },
          "metadata": {
            "tags": []
          },
          "execution_count": 9
        },
        {
          "output_type": "execute_result",
          "data": {
            "text/plain": [
              "[<matplotlib.lines.Line2D at 0x7f0891b98e10>]"
            ]
          },
          "metadata": {
            "tags": []
          },
          "execution_count": 9
        },
        {
          "output_type": "execute_result",
          "data": {
            "text/plain": [
              "[<matplotlib.lines.Line2D at 0x7f0891b98f60>]"
            ]
          },
          "metadata": {
            "tags": []
          },
          "execution_count": 9
        },
        {
          "output_type": "execute_result",
          "data": {
            "text/plain": [
              "[<matplotlib.lines.Line2D at 0x7f0891ba0748>]"
            ]
          },
          "metadata": {
            "tags": []
          },
          "execution_count": 9
        },
        {
          "output_type": "execute_result",
          "data": {
            "text/plain": [
              "[<matplotlib.lines.Line2D at 0x7f0891ba0b70>]"
            ]
          },
          "metadata": {
            "tags": []
          },
          "execution_count": 9
        },
        {
          "output_type": "execute_result",
          "data": {
            "text/plain": [
              "[<matplotlib.lines.Line2D at 0x7f0891ba0cc0>]"
            ]
          },
          "metadata": {
            "tags": []
          },
          "execution_count": 9
        },
        {
          "output_type": "execute_result",
          "data": {
            "text/plain": [
              "[<matplotlib.lines.Line2D at 0x7f0891b2a4a8>]"
            ]
          },
          "metadata": {
            "tags": []
          },
          "execution_count": 9
        },
        {
          "output_type": "execute_result",
          "data": {
            "text/plain": [
              "[<matplotlib.lines.Line2D at 0x7f0891b2a908>]"
            ]
          },
          "metadata": {
            "tags": []
          },
          "execution_count": 9
        },
        {
          "output_type": "execute_result",
          "data": {
            "text/plain": [
              "[<matplotlib.lines.Line2D at 0x7f0891b2ad30>]"
            ]
          },
          "metadata": {
            "tags": []
          },
          "execution_count": 9
        },
        {
          "output_type": "execute_result",
          "data": {
            "text/plain": [
              "[<matplotlib.lines.Line2D at 0x7f0891b2ae80>]"
            ]
          },
          "metadata": {
            "tags": []
          },
          "execution_count": 9
        },
        {
          "output_type": "execute_result",
          "data": {
            "text/plain": [
              "[<matplotlib.lines.Line2D at 0x7f0891b35668>]"
            ]
          },
          "metadata": {
            "tags": []
          },
          "execution_count": 9
        },
        {
          "output_type": "execute_result",
          "data": {
            "text/plain": [
              "[<matplotlib.lines.Line2D at 0x7f0891b35a90>]"
            ]
          },
          "metadata": {
            "tags": []
          },
          "execution_count": 9
        },
        {
          "output_type": "execute_result",
          "data": {
            "text/plain": [
              "[<matplotlib.lines.Line2D at 0x7f0891b35f28>]"
            ]
          },
          "metadata": {
            "tags": []
          },
          "execution_count": 9
        },
        {
          "output_type": "execute_result",
          "data": {
            "text/plain": [
              "[<matplotlib.lines.Line2D at 0x7f0891b3e400>]"
            ]
          },
          "metadata": {
            "tags": []
          },
          "execution_count": 9
        },
        {
          "output_type": "execute_result",
          "data": {
            "text/plain": [
              "[<matplotlib.lines.Line2D at 0x7f0891b3e828>]"
            ]
          },
          "metadata": {
            "tags": []
          },
          "execution_count": 9
        },
        {
          "output_type": "execute_result",
          "data": {
            "text/plain": [
              "[<matplotlib.lines.Line2D at 0x7f0891b3ec50>]"
            ]
          },
          "metadata": {
            "tags": []
          },
          "execution_count": 9
        },
        {
          "output_type": "execute_result",
          "data": {
            "text/plain": [
              "[<matplotlib.lines.Line2D at 0x7f0891b3eda0>]"
            ]
          },
          "metadata": {
            "tags": []
          },
          "execution_count": 9
        },
        {
          "output_type": "execute_result",
          "data": {
            "text/plain": [
              "[<matplotlib.lines.Line2D at 0x7f0891b42588>]"
            ]
          },
          "metadata": {
            "tags": []
          },
          "execution_count": 9
        },
        {
          "output_type": "execute_result",
          "data": {
            "text/plain": [
              "[<matplotlib.lines.Line2D at 0x7f0891b429e8>]"
            ]
          },
          "metadata": {
            "tags": []
          },
          "execution_count": 9
        },
        {
          "output_type": "execute_result",
          "data": {
            "text/plain": [
              "[<matplotlib.lines.Line2D at 0x7f0891b42e10>]"
            ]
          },
          "metadata": {
            "tags": []
          },
          "execution_count": 9
        },
        {
          "output_type": "execute_result",
          "data": {
            "text/plain": [
              "[<matplotlib.lines.Line2D at 0x7f0891b42f60>]"
            ]
          },
          "metadata": {
            "tags": []
          },
          "execution_count": 9
        },
        {
          "output_type": "execute_result",
          "data": {
            "text/plain": [
              "[<matplotlib.lines.Line2D at 0x7f0891b4f748>]"
            ]
          },
          "metadata": {
            "tags": []
          },
          "execution_count": 9
        },
        {
          "output_type": "execute_result",
          "data": {
            "text/plain": [
              "[<matplotlib.lines.Line2D at 0x7f0891b4fb70>]"
            ]
          },
          "metadata": {
            "tags": []
          },
          "execution_count": 9
        },
        {
          "output_type": "execute_result",
          "data": {
            "text/plain": [
              "[<matplotlib.lines.Line2D at 0x7f0891b4fcc0>]"
            ]
          },
          "metadata": {
            "tags": []
          },
          "execution_count": 9
        },
        {
          "output_type": "execute_result",
          "data": {
            "text/plain": [
              "[<matplotlib.lines.Line2D at 0x7f0891b584e0>]"
            ]
          },
          "metadata": {
            "tags": []
          },
          "execution_count": 9
        },
        {
          "output_type": "execute_result",
          "data": {
            "text/plain": [
              "[<matplotlib.lines.Line2D at 0x7f0891b58908>]"
            ]
          },
          "metadata": {
            "tags": []
          },
          "execution_count": 9
        },
        {
          "output_type": "execute_result",
          "data": {
            "text/plain": [
              "[<matplotlib.lines.Line2D at 0x7f0891b58d30>]"
            ]
          },
          "metadata": {
            "tags": []
          },
          "execution_count": 9
        },
        {
          "output_type": "execute_result",
          "data": {
            "text/plain": [
              "[<matplotlib.lines.Line2D at 0x7f0891b58e80>]"
            ]
          },
          "metadata": {
            "tags": []
          },
          "execution_count": 9
        },
        {
          "output_type": "execute_result",
          "data": {
            "text/plain": [
              "[<matplotlib.lines.Line2D at 0x7f0891b5f668>]"
            ]
          },
          "metadata": {
            "tags": []
          },
          "execution_count": 9
        },
        {
          "output_type": "execute_result",
          "data": {
            "text/plain": [
              "[<matplotlib.lines.Line2D at 0x7f0891b5fa90>]"
            ]
          },
          "metadata": {
            "tags": []
          },
          "execution_count": 9
        },
        {
          "output_type": "execute_result",
          "data": {
            "text/plain": [
              "[<matplotlib.lines.Line2D at 0x7f0891b5ff28>]"
            ]
          },
          "metadata": {
            "tags": []
          },
          "execution_count": 9
        },
        {
          "output_type": "execute_result",
          "data": {
            "text/plain": [
              "[<matplotlib.lines.Line2D at 0x7f0891b663c8>]"
            ]
          },
          "metadata": {
            "tags": []
          },
          "execution_count": 9
        },
        {
          "output_type": "execute_result",
          "data": {
            "text/plain": [
              "[<matplotlib.lines.Line2D at 0x7f0891b66828>]"
            ]
          },
          "metadata": {
            "tags": []
          },
          "execution_count": 9
        },
        {
          "output_type": "execute_result",
          "data": {
            "text/plain": [
              "[<matplotlib.lines.Line2D at 0x7f0891b66c50>]"
            ]
          },
          "metadata": {
            "tags": []
          },
          "execution_count": 9
        },
        {
          "output_type": "execute_result",
          "data": {
            "text/plain": [
              "[<matplotlib.lines.Line2D at 0x7f0891b66da0>]"
            ]
          },
          "metadata": {
            "tags": []
          },
          "execution_count": 9
        },
        {
          "output_type": "execute_result",
          "data": {
            "text/plain": [
              "[<matplotlib.lines.Line2D at 0x7f0891aee588>]"
            ]
          },
          "metadata": {
            "tags": []
          },
          "execution_count": 9
        },
        {
          "output_type": "execute_result",
          "data": {
            "text/plain": [
              "[<matplotlib.lines.Line2D at 0x7f0891aeea20>]"
            ]
          },
          "metadata": {
            "tags": []
          },
          "execution_count": 9
        },
        {
          "output_type": "execute_result",
          "data": {
            "text/plain": [
              "[<matplotlib.lines.Line2D at 0x7f0891aeedd8>]"
            ]
          },
          "metadata": {
            "tags": []
          },
          "execution_count": 9
        },
        {
          "output_type": "execute_result",
          "data": {
            "text/plain": [
              "[<matplotlib.lines.Line2D at 0x7f0891aeef60>]"
            ]
          },
          "metadata": {
            "tags": []
          },
          "execution_count": 9
        },
        {
          "output_type": "execute_result",
          "data": {
            "text/plain": [
              "[<matplotlib.lines.Line2D at 0x7f0891af7748>]"
            ]
          },
          "metadata": {
            "tags": []
          },
          "execution_count": 9
        },
        {
          "output_type": "execute_result",
          "data": {
            "text/plain": [
              "[<matplotlib.lines.Line2D at 0x7f0891af7b70>]"
            ]
          },
          "metadata": {
            "tags": []
          },
          "execution_count": 9
        },
        {
          "output_type": "execute_result",
          "data": {
            "text/plain": [
              "[<matplotlib.lines.Line2D at 0x7f0891af7cc0>]"
            ]
          },
          "metadata": {
            "tags": []
          },
          "execution_count": 9
        },
        {
          "output_type": "execute_result",
          "data": {
            "text/plain": [
              "[<matplotlib.lines.Line2D at 0x7f0891b024e0>]"
            ]
          },
          "metadata": {
            "tags": []
          },
          "execution_count": 9
        },
        {
          "output_type": "execute_result",
          "data": {
            "text/plain": [
              "[<matplotlib.lines.Line2D at 0x7f0891b02908>]"
            ]
          },
          "metadata": {
            "tags": []
          },
          "execution_count": 9
        },
        {
          "output_type": "execute_result",
          "data": {
            "text/plain": [
              "[<matplotlib.lines.Line2D at 0x7f0891b02d30>]"
            ]
          },
          "metadata": {
            "tags": []
          },
          "execution_count": 9
        },
        {
          "output_type": "execute_result",
          "data": {
            "text/plain": [
              "[<matplotlib.lines.Line2D at 0x7f0891b02e80>]"
            ]
          },
          "metadata": {
            "tags": []
          },
          "execution_count": 9
        },
        {
          "output_type": "execute_result",
          "data": {
            "text/plain": [
              "[<matplotlib.lines.Line2D at 0x7f0891b0a668>]"
            ]
          },
          "metadata": {
            "tags": []
          },
          "execution_count": 9
        },
        {
          "output_type": "execute_result",
          "data": {
            "text/plain": [
              "[<matplotlib.lines.Line2D at 0x7f0891b0aa90>]"
            ]
          },
          "metadata": {
            "tags": []
          },
          "execution_count": 9
        },
        {
          "output_type": "execute_result",
          "data": {
            "text/plain": [
              "[<matplotlib.lines.Line2D at 0x7f0891b0af28>]"
            ]
          },
          "metadata": {
            "tags": []
          },
          "execution_count": 9
        },
        {
          "output_type": "execute_result",
          "data": {
            "text/plain": [
              "[<matplotlib.lines.Line2D at 0x7f0891b12400>]"
            ]
          },
          "metadata": {
            "tags": []
          },
          "execution_count": 9
        },
        {
          "output_type": "execute_result",
          "data": {
            "text/plain": [
              "[<matplotlib.lines.Line2D at 0x7f0891b12828>]"
            ]
          },
          "metadata": {
            "tags": []
          },
          "execution_count": 9
        },
        {
          "output_type": "execute_result",
          "data": {
            "text/plain": [
              "[<matplotlib.lines.Line2D at 0x7f0891b12c50>]"
            ]
          },
          "metadata": {
            "tags": []
          },
          "execution_count": 9
        },
        {
          "output_type": "execute_result",
          "data": {
            "text/plain": [
              "[<matplotlib.lines.Line2D at 0x7f0891b12da0>]"
            ]
          },
          "metadata": {
            "tags": []
          },
          "execution_count": 9
        },
        {
          "output_type": "execute_result",
          "data": {
            "text/plain": [
              "[<matplotlib.lines.Line2D at 0x7f0891b19588>]"
            ]
          },
          "metadata": {
            "tags": []
          },
          "execution_count": 9
        },
        {
          "output_type": "execute_result",
          "data": {
            "text/plain": [
              "[<matplotlib.lines.Line2D at 0x7f0891b199e8>]"
            ]
          },
          "metadata": {
            "tags": []
          },
          "execution_count": 9
        },
        {
          "output_type": "execute_result",
          "data": {
            "text/plain": [
              "[<matplotlib.lines.Line2D at 0x7f0891b19e10>]"
            ]
          },
          "metadata": {
            "tags": []
          },
          "execution_count": 9
        },
        {
          "output_type": "execute_result",
          "data": {
            "text/plain": [
              "[<matplotlib.lines.Line2D at 0x7f0891b19f60>]"
            ]
          },
          "metadata": {
            "tags": []
          },
          "execution_count": 9
        },
        {
          "output_type": "execute_result",
          "data": {
            "text/plain": [
              "[<matplotlib.lines.Line2D at 0x7f0891b23748>]"
            ]
          },
          "metadata": {
            "tags": []
          },
          "execution_count": 9
        },
        {
          "output_type": "execute_result",
          "data": {
            "text/plain": [
              "[<matplotlib.lines.Line2D at 0x7f0891b23b70>]"
            ]
          },
          "metadata": {
            "tags": []
          },
          "execution_count": 9
        },
        {
          "output_type": "execute_result",
          "data": {
            "text/plain": [
              "[<matplotlib.lines.Line2D at 0x7f0891b23cc0>]"
            ]
          },
          "metadata": {
            "tags": []
          },
          "execution_count": 9
        },
        {
          "output_type": "execute_result",
          "data": {
            "text/plain": [
              "[<matplotlib.lines.Line2D at 0x7f0891b274a8>]"
            ]
          },
          "metadata": {
            "tags": []
          },
          "execution_count": 9
        },
        {
          "output_type": "execute_result",
          "data": {
            "text/plain": [
              "[<matplotlib.lines.Line2D at 0x7f0891b27908>]"
            ]
          },
          "metadata": {
            "tags": []
          },
          "execution_count": 9
        },
        {
          "output_type": "execute_result",
          "data": {
            "text/plain": [
              "[<matplotlib.lines.Line2D at 0x7f0891b27dd8>]"
            ]
          },
          "metadata": {
            "tags": []
          },
          "execution_count": 9
        },
        {
          "output_type": "execute_result",
          "data": {
            "text/plain": [
              "[<matplotlib.lines.Line2D at 0x7f0891b27e80>]"
            ]
          },
          "metadata": {
            "tags": []
          },
          "execution_count": 9
        },
        {
          "output_type": "execute_result",
          "data": {
            "text/plain": [
              "[<matplotlib.lines.Line2D at 0x7f0891ab26a0>]"
            ]
          },
          "metadata": {
            "tags": []
          },
          "execution_count": 9
        },
        {
          "output_type": "execute_result",
          "data": {
            "text/plain": [
              "[<matplotlib.lines.Line2D at 0x7f0891ab2a90>]"
            ]
          },
          "metadata": {
            "tags": []
          },
          "execution_count": 9
        },
        {
          "output_type": "execute_result",
          "data": {
            "text/plain": [
              "[<matplotlib.lines.Line2D at 0x7f0891ab2f28>]"
            ]
          },
          "metadata": {
            "tags": []
          },
          "execution_count": 9
        },
        {
          "output_type": "execute_result",
          "data": {
            "text/plain": [
              "[<matplotlib.lines.Line2D at 0x7f0891abc400>]"
            ]
          },
          "metadata": {
            "tags": []
          },
          "execution_count": 9
        },
        {
          "output_type": "execute_result",
          "data": {
            "text/plain": [
              "[<matplotlib.lines.Line2D at 0x7f0891abc828>]"
            ]
          },
          "metadata": {
            "tags": []
          },
          "execution_count": 9
        },
        {
          "output_type": "execute_result",
          "data": {
            "text/plain": [
              "[<matplotlib.lines.Line2D at 0x7f0891abcc50>]"
            ]
          },
          "metadata": {
            "tags": []
          },
          "execution_count": 9
        },
        {
          "output_type": "execute_result",
          "data": {
            "text/plain": [
              "[<matplotlib.lines.Line2D at 0x7f0891abcda0>]"
            ]
          },
          "metadata": {
            "tags": []
          },
          "execution_count": 9
        },
        {
          "output_type": "execute_result",
          "data": {
            "text/plain": [
              "[<matplotlib.lines.Line2D at 0x7f0891abd588>]"
            ]
          },
          "metadata": {
            "tags": []
          },
          "execution_count": 9
        },
        {
          "output_type": "execute_result",
          "data": {
            "text/plain": [
              "[<matplotlib.lines.Line2D at 0x7f0891abd9e8>]"
            ]
          },
          "metadata": {
            "tags": []
          },
          "execution_count": 9
        },
        {
          "output_type": "execute_result",
          "data": {
            "text/plain": [
              "[<matplotlib.lines.Line2D at 0x7f0891abde10>]"
            ]
          },
          "metadata": {
            "tags": []
          },
          "execution_count": 9
        },
        {
          "output_type": "execute_result",
          "data": {
            "text/plain": [
              "[<matplotlib.lines.Line2D at 0x7f0891abdf60>]"
            ]
          },
          "metadata": {
            "tags": []
          },
          "execution_count": 9
        },
        {
          "output_type": "execute_result",
          "data": {
            "text/plain": [
              "[<matplotlib.lines.Line2D at 0x7f0891acb748>]"
            ]
          },
          "metadata": {
            "tags": []
          },
          "execution_count": 9
        },
        {
          "output_type": "execute_result",
          "data": {
            "text/plain": [
              "[<matplotlib.lines.Line2D at 0x7f0891acbb70>]"
            ]
          },
          "metadata": {
            "tags": []
          },
          "execution_count": 9
        },
        {
          "output_type": "execute_result",
          "data": {
            "text/plain": [
              "[<matplotlib.lines.Line2D at 0x7f0891acbcc0>]"
            ]
          },
          "metadata": {
            "tags": []
          },
          "execution_count": 9
        },
        {
          "output_type": "execute_result",
          "data": {
            "text/plain": [
              "[<matplotlib.lines.Line2D at 0x7f0891ad54e0>]"
            ]
          },
          "metadata": {
            "tags": []
          },
          "execution_count": 9
        },
        {
          "output_type": "execute_result",
          "data": {
            "text/plain": [
              "[<matplotlib.lines.Line2D at 0x7f0891ad5940>]"
            ]
          },
          "metadata": {
            "tags": []
          },
          "execution_count": 9
        },
        {
          "output_type": "execute_result",
          "data": {
            "text/plain": [
              "[<matplotlib.lines.Line2D at 0x7f0891ad5da0>]"
            ]
          },
          "metadata": {
            "tags": []
          },
          "execution_count": 9
        },
        {
          "output_type": "execute_result",
          "data": {
            "text/plain": [
              "[<matplotlib.lines.Line2D at 0x7f0891ad5e10>]"
            ]
          },
          "metadata": {
            "tags": []
          },
          "execution_count": 9
        },
        {
          "output_type": "execute_result",
          "data": {
            "text/plain": [
              "[<matplotlib.lines.Line2D at 0x7f0891ada5f8>]"
            ]
          },
          "metadata": {
            "tags": []
          },
          "execution_count": 9
        },
        {
          "output_type": "execute_result",
          "data": {
            "text/plain": [
              "[<matplotlib.lines.Line2D at 0x7f0891adaa90>]"
            ]
          },
          "metadata": {
            "tags": []
          },
          "execution_count": 9
        },
        {
          "output_type": "execute_result",
          "data": {
            "text/plain": [
              "[<matplotlib.lines.Line2D at 0x7f0891adaf28>]"
            ]
          },
          "metadata": {
            "tags": []
          },
          "execution_count": 9
        },
        {
          "output_type": "execute_result",
          "data": {
            "text/plain": [
              "[<matplotlib.lines.Line2D at 0x7f0891ae5400>]"
            ]
          },
          "metadata": {
            "tags": []
          },
          "execution_count": 9
        },
        {
          "output_type": "execute_result",
          "data": {
            "text/plain": [
              "[<matplotlib.lines.Line2D at 0x7f0891ae5828>]"
            ]
          },
          "metadata": {
            "tags": []
          },
          "execution_count": 9
        },
        {
          "output_type": "execute_result",
          "data": {
            "text/plain": [
              "[<matplotlib.lines.Line2D at 0x7f0891ae5cf8>]"
            ]
          },
          "metadata": {
            "tags": []
          },
          "execution_count": 9
        },
        {
          "output_type": "execute_result",
          "data": {
            "text/plain": [
              "[<matplotlib.lines.Line2D at 0x7f0891ae5d68>]"
            ]
          },
          "metadata": {
            "tags": []
          },
          "execution_count": 9
        },
        {
          "output_type": "execute_result",
          "data": {
            "text/plain": [
              "[<matplotlib.lines.Line2D at 0x7f0891a6c588>]"
            ]
          },
          "metadata": {
            "tags": []
          },
          "execution_count": 9
        },
        {
          "output_type": "execute_result",
          "data": {
            "text/plain": [
              "[<matplotlib.lines.Line2D at 0x7f0891a6c9e8>]"
            ]
          },
          "metadata": {
            "tags": []
          },
          "execution_count": 9
        },
        {
          "output_type": "execute_result",
          "data": {
            "text/plain": [
              "[<matplotlib.lines.Line2D at 0x7f0891a6ce10>]"
            ]
          },
          "metadata": {
            "tags": []
          },
          "execution_count": 9
        },
        {
          "output_type": "execute_result",
          "data": {
            "text/plain": [
              "[<matplotlib.lines.Line2D at 0x7f0891a6cf60>]"
            ]
          },
          "metadata": {
            "tags": []
          },
          "execution_count": 9
        },
        {
          "output_type": "execute_result",
          "data": {
            "text/plain": [
              "[<matplotlib.lines.Line2D at 0x7f0891a73748>]"
            ]
          },
          "metadata": {
            "tags": []
          },
          "execution_count": 9
        },
        {
          "output_type": "execute_result",
          "data": {
            "text/plain": [
              "[<matplotlib.lines.Line2D at 0x7f0891a73c18>]"
            ]
          },
          "metadata": {
            "tags": []
          },
          "execution_count": 9
        },
        {
          "output_type": "execute_result",
          "data": {
            "text/plain": [
              "[<matplotlib.lines.Line2D at 0x7f0891a73c88>]"
            ]
          },
          "metadata": {
            "tags": []
          },
          "execution_count": 9
        },
        {
          "output_type": "execute_result",
          "data": {
            "text/plain": [
              "[<matplotlib.lines.Line2D at 0x7f0891a7d4e0>]"
            ]
          },
          "metadata": {
            "tags": []
          },
          "execution_count": 9
        },
        {
          "output_type": "execute_result",
          "data": {
            "text/plain": [
              "[<matplotlib.lines.Line2D at 0x7f0891a7d908>]"
            ]
          },
          "metadata": {
            "tags": []
          },
          "execution_count": 9
        },
        {
          "output_type": "execute_result",
          "data": {
            "text/plain": [
              "[<matplotlib.lines.Line2D at 0x7f0891a7dcc0>]"
            ]
          },
          "metadata": {
            "tags": []
          },
          "execution_count": 9
        },
        {
          "output_type": "execute_result",
          "data": {
            "text/plain": [
              "[<matplotlib.lines.Line2D at 0x7f0891a7deb8>]"
            ]
          },
          "metadata": {
            "tags": []
          },
          "execution_count": 9
        },
        {
          "output_type": "execute_result",
          "data": {
            "text/plain": [
              "[<matplotlib.lines.Line2D at 0x7f0891a85668>]"
            ]
          },
          "metadata": {
            "tags": []
          },
          "execution_count": 9
        },
        {
          "output_type": "execute_result",
          "data": {
            "text/plain": [
              "[<matplotlib.lines.Line2D at 0x7f0891a85a90>]"
            ]
          },
          "metadata": {
            "tags": []
          },
          "execution_count": 9
        },
        {
          "output_type": "execute_result",
          "data": {
            "text/plain": [
              "[<matplotlib.lines.Line2D at 0x7f0891a85f28>]"
            ]
          },
          "metadata": {
            "tags": []
          },
          "execution_count": 9
        },
        {
          "output_type": "execute_result",
          "data": {
            "text/plain": [
              "[<matplotlib.lines.Line2D at 0x7f0891a8f400>]"
            ]
          },
          "metadata": {
            "tags": []
          },
          "execution_count": 9
        },
        {
          "output_type": "execute_result",
          "data": {
            "text/plain": [
              "[<matplotlib.lines.Line2D at 0x7f0891a8f828>]"
            ]
          },
          "metadata": {
            "tags": []
          },
          "execution_count": 9
        },
        {
          "output_type": "execute_result",
          "data": {
            "text/plain": [
              "[<matplotlib.lines.Line2D at 0x7f0891a8fc50>]"
            ]
          },
          "metadata": {
            "tags": []
          },
          "execution_count": 9
        },
        {
          "output_type": "execute_result",
          "data": {
            "text/plain": [
              "[<matplotlib.lines.Line2D at 0x7f0891a8fda0>]"
            ]
          },
          "metadata": {
            "tags": []
          },
          "execution_count": 9
        },
        {
          "output_type": "execute_result",
          "data": {
            "text/plain": [
              "[<matplotlib.lines.Line2D at 0x7f0891a8fcc0>]"
            ]
          },
          "metadata": {
            "tags": []
          },
          "execution_count": 9
        },
        {
          "output_type": "execute_result",
          "data": {
            "text/plain": [
              "[<matplotlib.lines.Line2D at 0x7f0891a90a20>]"
            ]
          },
          "metadata": {
            "tags": []
          },
          "execution_count": 9
        },
        {
          "output_type": "execute_result",
          "data": {
            "text/plain": [
              "[<matplotlib.lines.Line2D at 0x7f0891a90e10>]"
            ]
          },
          "metadata": {
            "tags": []
          },
          "execution_count": 9
        },
        {
          "output_type": "execute_result",
          "data": {
            "text/plain": [
              "[<matplotlib.lines.Line2D at 0x7f0891a90f60>]"
            ]
          },
          "metadata": {
            "tags": []
          },
          "execution_count": 9
        },
        {
          "output_type": "execute_result",
          "data": {
            "text/plain": [
              "[<matplotlib.lines.Line2D at 0x7f0891a9f748>]"
            ]
          },
          "metadata": {
            "tags": []
          },
          "execution_count": 9
        },
        {
          "output_type": "execute_result",
          "data": {
            "text/plain": [
              "[<matplotlib.lines.Line2D at 0x7f0891a9fb70>]"
            ]
          },
          "metadata": {
            "tags": []
          },
          "execution_count": 9
        },
        {
          "output_type": "execute_result",
          "data": {
            "text/plain": [
              "[<matplotlib.lines.Line2D at 0x7f0891a9fcc0>]"
            ]
          },
          "metadata": {
            "tags": []
          },
          "execution_count": 9
        },
        {
          "output_type": "execute_result",
          "data": {
            "text/plain": [
              "[<matplotlib.lines.Line2D at 0x7f0891aa64e0>]"
            ]
          },
          "metadata": {
            "tags": []
          },
          "execution_count": 9
        },
        {
          "output_type": "execute_result",
          "data": {
            "text/plain": [
              "[<matplotlib.lines.Line2D at 0x7f0891aa6908>]"
            ]
          },
          "metadata": {
            "tags": []
          },
          "execution_count": 9
        },
        {
          "output_type": "execute_result",
          "data": {
            "text/plain": [
              "[<matplotlib.lines.Line2D at 0x7f0891aa6d30>]"
            ]
          },
          "metadata": {
            "tags": []
          },
          "execution_count": 9
        },
        {
          "output_type": "execute_result",
          "data": {
            "text/plain": [
              "[<matplotlib.lines.Line2D at 0x7f0891aa6e80>]"
            ]
          },
          "metadata": {
            "tags": []
          },
          "execution_count": 9
        },
        {
          "output_type": "execute_result",
          "data": {
            "text/plain": [
              "[<matplotlib.lines.Line2D at 0x7f0891aa7630>]"
            ]
          },
          "metadata": {
            "tags": []
          },
          "execution_count": 9
        },
        {
          "output_type": "execute_result",
          "data": {
            "text/plain": [
              "[<matplotlib.lines.Line2D at 0x7f0891aa7a58>]"
            ]
          },
          "metadata": {
            "tags": []
          },
          "execution_count": 9
        },
        {
          "output_type": "execute_result",
          "data": {
            "text/plain": [
              "[<matplotlib.lines.Line2D at 0x7f0891aa7f28>]"
            ]
          },
          "metadata": {
            "tags": []
          },
          "execution_count": 9
        },
        {
          "output_type": "execute_result",
          "data": {
            "text/plain": [
              "[<matplotlib.lines.Line2D at 0x7f0891a33400>]"
            ]
          },
          "metadata": {
            "tags": []
          },
          "execution_count": 9
        },
        {
          "output_type": "execute_result",
          "data": {
            "text/plain": [
              "[<matplotlib.lines.Line2D at 0x7f0891a33828>]"
            ]
          },
          "metadata": {
            "tags": []
          },
          "execution_count": 9
        },
        {
          "output_type": "execute_result",
          "data": {
            "text/plain": [
              "[<matplotlib.lines.Line2D at 0x7f0891a33c50>]"
            ]
          },
          "metadata": {
            "tags": []
          },
          "execution_count": 9
        },
        {
          "output_type": "execute_result",
          "data": {
            "text/plain": [
              "[<matplotlib.lines.Line2D at 0x7f0891a33da0>]"
            ]
          },
          "metadata": {
            "tags": []
          },
          "execution_count": 9
        },
        {
          "output_type": "execute_result",
          "data": {
            "text/plain": [
              "[<matplotlib.lines.Line2D at 0x7f0891a38588>]"
            ]
          },
          "metadata": {
            "tags": []
          },
          "execution_count": 9
        },
        {
          "output_type": "execute_result",
          "data": {
            "text/plain": [
              "[<matplotlib.lines.Line2D at 0x7f0891a389e8>]"
            ]
          },
          "metadata": {
            "tags": []
          },
          "execution_count": 9
        },
        {
          "output_type": "execute_result",
          "data": {
            "text/plain": [
              "[<matplotlib.lines.Line2D at 0x7f0891a38e10>]"
            ]
          },
          "metadata": {
            "tags": []
          },
          "execution_count": 9
        },
        {
          "output_type": "execute_result",
          "data": {
            "text/plain": [
              "[<matplotlib.lines.Line2D at 0x7f0891a38f60>]"
            ]
          },
          "metadata": {
            "tags": []
          },
          "execution_count": 9
        },
        {
          "output_type": "execute_result",
          "data": {
            "text/plain": [
              "[<matplotlib.lines.Line2D at 0x7f0891a3f748>]"
            ]
          },
          "metadata": {
            "tags": []
          },
          "execution_count": 9
        },
        {
          "output_type": "execute_result",
          "data": {
            "text/plain": [
              "[<matplotlib.lines.Line2D at 0x7f0891a3fb70>]"
            ]
          },
          "metadata": {
            "tags": []
          },
          "execution_count": 9
        },
        {
          "output_type": "execute_result",
          "data": {
            "text/plain": [
              "[<matplotlib.lines.Line2D at 0x7f0891a3fcc0>]"
            ]
          },
          "metadata": {
            "tags": []
          },
          "execution_count": 9
        },
        {
          "output_type": "execute_result",
          "data": {
            "text/plain": [
              "[<matplotlib.lines.Line2D at 0x7f0891a484e0>]"
            ]
          },
          "metadata": {
            "tags": []
          },
          "execution_count": 9
        },
        {
          "output_type": "execute_result",
          "data": {
            "text/plain": [
              "[<matplotlib.lines.Line2D at 0x7f0891a48908>]"
            ]
          },
          "metadata": {
            "tags": []
          },
          "execution_count": 9
        },
        {
          "output_type": "execute_result",
          "data": {
            "text/plain": [
              "[<matplotlib.lines.Line2D at 0x7f0891a48d30>]"
            ]
          },
          "metadata": {
            "tags": []
          },
          "execution_count": 9
        },
        {
          "output_type": "execute_result",
          "data": {
            "text/plain": [
              "[<matplotlib.lines.Line2D at 0x7f0891a48e80>]"
            ]
          },
          "metadata": {
            "tags": []
          },
          "execution_count": 9
        },
        {
          "output_type": "execute_result",
          "data": {
            "text/plain": [
              "[<matplotlib.lines.Line2D at 0x7f0891a51668>]"
            ]
          },
          "metadata": {
            "tags": []
          },
          "execution_count": 9
        },
        {
          "output_type": "execute_result",
          "data": {
            "text/plain": [
              "[<matplotlib.lines.Line2D at 0x7f0891a51a90>]"
            ]
          },
          "metadata": {
            "tags": []
          },
          "execution_count": 9
        },
        {
          "output_type": "execute_result",
          "data": {
            "text/plain": [
              "[<matplotlib.lines.Line2D at 0x7f0891a51f28>]"
            ]
          },
          "metadata": {
            "tags": []
          },
          "execution_count": 9
        },
        {
          "output_type": "execute_result",
          "data": {
            "text/plain": [
              "[<matplotlib.lines.Line2D at 0x7f0891a58400>]"
            ]
          },
          "metadata": {
            "tags": []
          },
          "execution_count": 9
        },
        {
          "output_type": "execute_result",
          "data": {
            "text/plain": [
              "[<matplotlib.lines.Line2D at 0x7f0891a58828>]"
            ]
          },
          "metadata": {
            "tags": []
          },
          "execution_count": 9
        },
        {
          "output_type": "execute_result",
          "data": {
            "text/plain": [
              "[<matplotlib.lines.Line2D at 0x7f0891a58c50>]"
            ]
          },
          "metadata": {
            "tags": []
          },
          "execution_count": 9
        },
        {
          "output_type": "execute_result",
          "data": {
            "text/plain": [
              "[<matplotlib.lines.Line2D at 0x7f0891a58da0>]"
            ]
          },
          "metadata": {
            "tags": []
          },
          "execution_count": 9
        },
        {
          "output_type": "execute_result",
          "data": {
            "text/plain": [
              "[<matplotlib.lines.Line2D at 0x7f0891a5e588>]"
            ]
          },
          "metadata": {
            "tags": []
          },
          "execution_count": 9
        },
        {
          "output_type": "execute_result",
          "data": {
            "text/plain": [
              "[<matplotlib.lines.Line2D at 0x7f0891a5e9e8>]"
            ]
          },
          "metadata": {
            "tags": []
          },
          "execution_count": 9
        },
        {
          "output_type": "execute_result",
          "data": {
            "text/plain": [
              "[<matplotlib.lines.Line2D at 0x7f0891a5ee10>]"
            ]
          },
          "metadata": {
            "tags": []
          },
          "execution_count": 9
        },
        {
          "output_type": "execute_result",
          "data": {
            "text/plain": [
              "[<matplotlib.lines.Line2D at 0x7f0891a5ef60>]"
            ]
          },
          "metadata": {
            "tags": []
          },
          "execution_count": 9
        },
        {
          "output_type": "execute_result",
          "data": {
            "text/plain": [
              "[<matplotlib.lines.Line2D at 0x7f0891a61748>]"
            ]
          },
          "metadata": {
            "tags": []
          },
          "execution_count": 9
        },
        {
          "output_type": "execute_result",
          "data": {
            "text/plain": [
              "[<matplotlib.lines.Line2D at 0x7f0891a61b70>]"
            ]
          },
          "metadata": {
            "tags": []
          },
          "execution_count": 9
        },
        {
          "output_type": "execute_result",
          "data": {
            "text/plain": [
              "[<matplotlib.lines.Line2D at 0x7f0891a61cc0>]"
            ]
          },
          "metadata": {
            "tags": []
          },
          "execution_count": 9
        },
        {
          "output_type": "execute_result",
          "data": {
            "text/plain": [
              "[<matplotlib.lines.Line2D at 0x7f08919ed4e0>]"
            ]
          },
          "metadata": {
            "tags": []
          },
          "execution_count": 9
        },
        {
          "output_type": "execute_result",
          "data": {
            "text/plain": [
              "[<matplotlib.lines.Line2D at 0x7f08919ed908>]"
            ]
          },
          "metadata": {
            "tags": []
          },
          "execution_count": 9
        },
        {
          "output_type": "execute_result",
          "data": {
            "text/plain": [
              "[<matplotlib.lines.Line2D at 0x7f08919edd30>]"
            ]
          },
          "metadata": {
            "tags": []
          },
          "execution_count": 9
        },
        {
          "output_type": "execute_result",
          "data": {
            "text/plain": [
              "[<matplotlib.lines.Line2D at 0x7f08919ede80>]"
            ]
          },
          "metadata": {
            "tags": []
          },
          "execution_count": 9
        },
        {
          "output_type": "execute_result",
          "data": {
            "text/plain": [
              "[<matplotlib.lines.Line2D at 0x7f08919f9668>]"
            ]
          },
          "metadata": {
            "tags": []
          },
          "execution_count": 9
        },
        {
          "output_type": "execute_result",
          "data": {
            "text/plain": [
              "[<matplotlib.lines.Line2D at 0x7f08919f9a90>]"
            ]
          },
          "metadata": {
            "tags": []
          },
          "execution_count": 9
        },
        {
          "output_type": "execute_result",
          "data": {
            "text/plain": [
              "[<matplotlib.lines.Line2D at 0x7f08919f9f28>]"
            ]
          },
          "metadata": {
            "tags": []
          },
          "execution_count": 9
        },
        {
          "output_type": "execute_result",
          "data": {
            "text/plain": [
              "[<matplotlib.lines.Line2D at 0x7f0891a03400>]"
            ]
          },
          "metadata": {
            "tags": []
          },
          "execution_count": 9
        },
        {
          "output_type": "execute_result",
          "data": {
            "text/plain": [
              "[<matplotlib.lines.Line2D at 0x7f0891a03828>]"
            ]
          },
          "metadata": {
            "tags": []
          },
          "execution_count": 9
        },
        {
          "output_type": "execute_result",
          "data": {
            "text/plain": [
              "[<matplotlib.lines.Line2D at 0x7f0891a03c50>]"
            ]
          },
          "metadata": {
            "tags": []
          },
          "execution_count": 9
        },
        {
          "output_type": "execute_result",
          "data": {
            "text/plain": [
              "[<matplotlib.lines.Line2D at 0x7f0891a03da0>]"
            ]
          },
          "metadata": {
            "tags": []
          },
          "execution_count": 9
        },
        {
          "output_type": "execute_result",
          "data": {
            "text/plain": [
              "[<matplotlib.lines.Line2D at 0x7f0891a09588>]"
            ]
          },
          "metadata": {
            "tags": []
          },
          "execution_count": 9
        },
        {
          "output_type": "execute_result",
          "data": {
            "text/plain": [
              "[<matplotlib.lines.Line2D at 0x7f0891a099e8>]"
            ]
          },
          "metadata": {
            "tags": []
          },
          "execution_count": 9
        },
        {
          "output_type": "execute_result",
          "data": {
            "text/plain": [
              "[<matplotlib.lines.Line2D at 0x7f0891a09e10>]"
            ]
          },
          "metadata": {
            "tags": []
          },
          "execution_count": 9
        },
        {
          "output_type": "execute_result",
          "data": {
            "text/plain": [
              "[<matplotlib.lines.Line2D at 0x7f0891a09f60>]"
            ]
          },
          "metadata": {
            "tags": []
          },
          "execution_count": 9
        },
        {
          "output_type": "execute_result",
          "data": {
            "text/plain": [
              "[<matplotlib.lines.Line2D at 0x7f0891a13748>]"
            ]
          },
          "metadata": {
            "tags": []
          },
          "execution_count": 9
        },
        {
          "output_type": "execute_result",
          "data": {
            "text/plain": [
              "[<matplotlib.lines.Line2D at 0x7f0891a13b70>]"
            ]
          },
          "metadata": {
            "tags": []
          },
          "execution_count": 9
        },
        {
          "output_type": "execute_result",
          "data": {
            "text/plain": [
              "[<matplotlib.lines.Line2D at 0x7f0891a13cc0>]"
            ]
          },
          "metadata": {
            "tags": []
          },
          "execution_count": 9
        },
        {
          "output_type": "execute_result",
          "data": {
            "text/plain": [
              "[<matplotlib.lines.Line2D at 0x7f0891a1c4e0>]"
            ]
          },
          "metadata": {
            "tags": []
          },
          "execution_count": 9
        },
        {
          "output_type": "execute_result",
          "data": {
            "text/plain": [
              "[<matplotlib.lines.Line2D at 0x7f0891a1c940>]"
            ]
          },
          "metadata": {
            "tags": []
          },
          "execution_count": 9
        },
        {
          "output_type": "execute_result",
          "data": {
            "text/plain": [
              "[<matplotlib.lines.Line2D at 0x7f0891a1ccf8>]"
            ]
          },
          "metadata": {
            "tags": []
          },
          "execution_count": 9
        },
        {
          "output_type": "execute_result",
          "data": {
            "text/plain": [
              "[<matplotlib.lines.Line2D at 0x7f0891a1ce80>]"
            ]
          },
          "metadata": {
            "tags": []
          },
          "execution_count": 9
        },
        {
          "output_type": "execute_result",
          "data": {
            "text/plain": [
              "[<matplotlib.lines.Line2D at 0x7f0891a23668>]"
            ]
          },
          "metadata": {
            "tags": []
          },
          "execution_count": 9
        },
        {
          "output_type": "execute_result",
          "data": {
            "text/plain": [
              "[<matplotlib.lines.Line2D at 0x7f0891a23a90>]"
            ]
          },
          "metadata": {
            "tags": []
          },
          "execution_count": 9
        },
        {
          "output_type": "execute_result",
          "data": {
            "text/plain": [
              "[<matplotlib.lines.Line2D at 0x7f0891a23f28>]"
            ]
          },
          "metadata": {
            "tags": []
          },
          "execution_count": 9
        },
        {
          "output_type": "execute_result",
          "data": {
            "text/plain": [
              "[<matplotlib.lines.Line2D at 0x7f08919a8400>]"
            ]
          },
          "metadata": {
            "tags": []
          },
          "execution_count": 9
        },
        {
          "output_type": "execute_result",
          "data": {
            "text/plain": [
              "[<matplotlib.lines.Line2D at 0x7f08919a8828>]"
            ]
          },
          "metadata": {
            "tags": []
          },
          "execution_count": 9
        },
        {
          "output_type": "execute_result",
          "data": {
            "text/plain": [
              "[<matplotlib.lines.Line2D at 0x7f08919a8c50>]"
            ]
          },
          "metadata": {
            "tags": []
          },
          "execution_count": 9
        },
        {
          "output_type": "execute_result",
          "data": {
            "text/plain": [
              "[<matplotlib.lines.Line2D at 0x7f08919a8da0>]"
            ]
          },
          "metadata": {
            "tags": []
          },
          "execution_count": 9
        },
        {
          "output_type": "execute_result",
          "data": {
            "text/plain": [
              "[<matplotlib.lines.Line2D at 0x7f08919af588>]"
            ]
          },
          "metadata": {
            "tags": []
          },
          "execution_count": 9
        },
        {
          "output_type": "execute_result",
          "data": {
            "text/plain": [
              "[<matplotlib.lines.Line2D at 0x7f08919af9e8>]"
            ]
          },
          "metadata": {
            "tags": []
          },
          "execution_count": 9
        },
        {
          "output_type": "execute_result",
          "data": {
            "text/plain": [
              "[<matplotlib.lines.Line2D at 0x7f08919afe10>]"
            ]
          },
          "metadata": {
            "tags": []
          },
          "execution_count": 9
        },
        {
          "output_type": "execute_result",
          "data": {
            "text/plain": [
              "[<matplotlib.lines.Line2D at 0x7f08919aff60>]"
            ]
          },
          "metadata": {
            "tags": []
          },
          "execution_count": 9
        },
        {
          "output_type": "execute_result",
          "data": {
            "text/plain": [
              "[<matplotlib.lines.Line2D at 0x7f08919bb748>]"
            ]
          },
          "metadata": {
            "tags": []
          },
          "execution_count": 9
        },
        {
          "output_type": "execute_result",
          "data": {
            "text/plain": [
              "[<matplotlib.lines.Line2D at 0x7f08919bbb70>]"
            ]
          },
          "metadata": {
            "tags": []
          },
          "execution_count": 9
        },
        {
          "output_type": "execute_result",
          "data": {
            "text/plain": [
              "[<matplotlib.lines.Line2D at 0x7f08919bbcc0>]"
            ]
          },
          "metadata": {
            "tags": []
          },
          "execution_count": 9
        },
        {
          "output_type": "execute_result",
          "data": {
            "text/plain": [
              "[<matplotlib.lines.Line2D at 0x7f08919c54e0>]"
            ]
          },
          "metadata": {
            "tags": []
          },
          "execution_count": 9
        },
        {
          "output_type": "execute_result",
          "data": {
            "text/plain": [
              "[<matplotlib.lines.Line2D at 0x7f08919c5908>]"
            ]
          },
          "metadata": {
            "tags": []
          },
          "execution_count": 9
        },
        {
          "output_type": "execute_result",
          "data": {
            "text/plain": [
              "[<matplotlib.lines.Line2D at 0x7f08919c5d30>]"
            ]
          },
          "metadata": {
            "tags": []
          },
          "execution_count": 9
        },
        {
          "output_type": "execute_result",
          "data": {
            "text/plain": [
              "[<matplotlib.lines.Line2D at 0x7f08919c5e80>]"
            ]
          },
          "metadata": {
            "tags": []
          },
          "execution_count": 9
        },
        {
          "output_type": "execute_result",
          "data": {
            "text/plain": [
              "[<matplotlib.lines.Line2D at 0x7f08919c4668>]"
            ]
          },
          "metadata": {
            "tags": []
          },
          "execution_count": 9
        },
        {
          "output_type": "execute_result",
          "data": {
            "text/plain": [
              "[<matplotlib.lines.Line2D at 0x7f08919c4a90>]"
            ]
          },
          "metadata": {
            "tags": []
          },
          "execution_count": 9
        },
        {
          "output_type": "execute_result",
          "data": {
            "text/plain": [
              "[<matplotlib.lines.Line2D at 0x7f08919c4f28>]"
            ]
          },
          "metadata": {
            "tags": []
          },
          "execution_count": 9
        },
        {
          "output_type": "execute_result",
          "data": {
            "text/plain": [
              "[<matplotlib.lines.Line2D at 0x7f08919d7400>]"
            ]
          },
          "metadata": {
            "tags": []
          },
          "execution_count": 9
        },
        {
          "output_type": "execute_result",
          "data": {
            "text/plain": [
              "[<matplotlib.lines.Line2D at 0x7f08919d7828>]"
            ]
          },
          "metadata": {
            "tags": []
          },
          "execution_count": 9
        },
        {
          "output_type": "execute_result",
          "data": {
            "text/plain": [
              "[<matplotlib.lines.Line2D at 0x7f08919d7c50>]"
            ]
          },
          "metadata": {
            "tags": []
          },
          "execution_count": 9
        },
        {
          "output_type": "execute_result",
          "data": {
            "text/plain": [
              "[<matplotlib.lines.Line2D at 0x7f08919d7da0>]"
            ]
          },
          "metadata": {
            "tags": []
          },
          "execution_count": 9
        },
        {
          "output_type": "execute_result",
          "data": {
            "text/plain": [
              "[<matplotlib.lines.Line2D at 0x7f08919de588>]"
            ]
          },
          "metadata": {
            "tags": []
          },
          "execution_count": 9
        },
        {
          "output_type": "execute_result",
          "data": {
            "text/plain": [
              "[<matplotlib.lines.Line2D at 0x7f08919de9e8>]"
            ]
          },
          "metadata": {
            "tags": []
          },
          "execution_count": 9
        },
        {
          "output_type": "execute_result",
          "data": {
            "text/plain": [
              "[<matplotlib.lines.Line2D at 0x7f08919dee10>]"
            ]
          },
          "metadata": {
            "tags": []
          },
          "execution_count": 9
        },
        {
          "output_type": "execute_result",
          "data": {
            "text/plain": [
              "[<matplotlib.lines.Line2D at 0x7f08919def60>]"
            ]
          },
          "metadata": {
            "tags": []
          },
          "execution_count": 9
        },
        {
          "output_type": "execute_result",
          "data": {
            "text/plain": [
              "[<matplotlib.lines.Line2D at 0x7f08919e5748>]"
            ]
          },
          "metadata": {
            "tags": []
          },
          "execution_count": 9
        },
        {
          "output_type": "execute_result",
          "data": {
            "text/plain": [
              "[<matplotlib.lines.Line2D at 0x7f08919e5b70>]"
            ]
          },
          "metadata": {
            "tags": []
          },
          "execution_count": 9
        },
        {
          "output_type": "execute_result",
          "data": {
            "text/plain": [
              "[<matplotlib.lines.Line2D at 0x7f08919e5cc0>]"
            ]
          },
          "metadata": {
            "tags": []
          },
          "execution_count": 9
        },
        {
          "output_type": "execute_result",
          "data": {
            "text/plain": [
              "[<matplotlib.lines.Line2D at 0x7f089196c4e0>]"
            ]
          },
          "metadata": {
            "tags": []
          },
          "execution_count": 9
        },
        {
          "output_type": "execute_result",
          "data": {
            "text/plain": [
              "[<matplotlib.lines.Line2D at 0x7f089196c908>]"
            ]
          },
          "metadata": {
            "tags": []
          },
          "execution_count": 9
        },
        {
          "output_type": "execute_result",
          "data": {
            "text/plain": [
              "[<matplotlib.lines.Line2D at 0x7f089196cd30>]"
            ]
          },
          "metadata": {
            "tags": []
          },
          "execution_count": 9
        },
        {
          "output_type": "execute_result",
          "data": {
            "text/plain": [
              "[<matplotlib.lines.Line2D at 0x7f089196ce80>]"
            ]
          },
          "metadata": {
            "tags": []
          },
          "execution_count": 9
        },
        {
          "output_type": "execute_result",
          "data": {
            "text/plain": [
              "[<matplotlib.lines.Line2D at 0x7f0891976668>]"
            ]
          },
          "metadata": {
            "tags": []
          },
          "execution_count": 9
        },
        {
          "output_type": "execute_result",
          "data": {
            "text/plain": [
              "[<matplotlib.lines.Line2D at 0x7f0891976a90>]"
            ]
          },
          "metadata": {
            "tags": []
          },
          "execution_count": 9
        },
        {
          "output_type": "execute_result",
          "data": {
            "text/plain": [
              "[<matplotlib.lines.Line2D at 0x7f0891976f28>]"
            ]
          },
          "metadata": {
            "tags": []
          },
          "execution_count": 9
        },
        {
          "output_type": "execute_result",
          "data": {
            "text/plain": [
              "[<matplotlib.lines.Line2D at 0x7f08919809b0>]"
            ]
          },
          "metadata": {
            "tags": []
          },
          "execution_count": 9
        },
        {
          "output_type": "execute_result",
          "data": {
            "text/plain": [
              "[<matplotlib.lines.Line2D at 0x7f0891980828>]"
            ]
          },
          "metadata": {
            "tags": []
          },
          "execution_count": 9
        },
        {
          "output_type": "execute_result",
          "data": {
            "text/plain": [
              "[<matplotlib.lines.Line2D at 0x7f0891980908>]"
            ]
          },
          "metadata": {
            "tags": []
          },
          "execution_count": 9
        },
        {
          "output_type": "execute_result",
          "data": {
            "text/plain": [
              "[<matplotlib.lines.Line2D at 0x7f0891980da0>]"
            ]
          },
          "metadata": {
            "tags": []
          },
          "execution_count": 9
        },
        {
          "output_type": "execute_result",
          "data": {
            "text/plain": [
              "[<matplotlib.lines.Line2D at 0x7f08919835f8>]"
            ]
          },
          "metadata": {
            "tags": []
          },
          "execution_count": 9
        },
        {
          "output_type": "execute_result",
          "data": {
            "text/plain": [
              "[<matplotlib.lines.Line2D at 0x7f0891983a20>]"
            ]
          },
          "metadata": {
            "tags": []
          },
          "execution_count": 9
        },
        {
          "output_type": "execute_result",
          "data": {
            "text/plain": [
              "[<matplotlib.lines.Line2D at 0x7f0891983e80>]"
            ]
          },
          "metadata": {
            "tags": []
          },
          "execution_count": 9
        },
        {
          "output_type": "execute_result",
          "data": {
            "text/plain": [
              "[<matplotlib.lines.Line2D at 0x7f0891983ef0>]"
            ]
          },
          "metadata": {
            "tags": []
          },
          "execution_count": 9
        },
        {
          "output_type": "execute_result",
          "data": {
            "text/plain": [
              "[<matplotlib.lines.Line2D at 0x7f0891990748>]"
            ]
          },
          "metadata": {
            "tags": []
          },
          "execution_count": 9
        },
        {
          "output_type": "execute_result",
          "data": {
            "text/plain": [
              "[<matplotlib.lines.Line2D at 0x7f0891990be0>]"
            ]
          },
          "metadata": {
            "tags": []
          },
          "execution_count": 9
        },
        {
          "output_type": "execute_result",
          "data": {
            "text/plain": [
              "[<matplotlib.lines.Line2D at 0x7f0891990c50>]"
            ]
          },
          "metadata": {
            "tags": []
          },
          "execution_count": 9
        },
        {
          "output_type": "execute_result",
          "data": {
            "text/plain": [
              "[<matplotlib.lines.Line2D at 0x7f0891999470>]"
            ]
          },
          "metadata": {
            "tags": []
          },
          "execution_count": 9
        },
        {
          "output_type": "execute_result",
          "data": {
            "text/plain": [
              "[<matplotlib.lines.Line2D at 0x7f0891999978>]"
            ]
          },
          "metadata": {
            "tags": []
          },
          "execution_count": 9
        },
        {
          "output_type": "execute_result",
          "data": {
            "text/plain": [
              "[<matplotlib.lines.Line2D at 0x7f0891999dd8>]"
            ]
          },
          "metadata": {
            "tags": []
          },
          "execution_count": 9
        },
        {
          "output_type": "execute_result",
          "data": {
            "text/plain": [
              "[<matplotlib.lines.Line2D at 0x7f0891999e48>]"
            ]
          },
          "metadata": {
            "tags": []
          },
          "execution_count": 9
        },
        {
          "output_type": "execute_result",
          "data": {
            "text/plain": [
              "[<matplotlib.lines.Line2D at 0x7f08919a1668>]"
            ]
          },
          "metadata": {
            "tags": []
          },
          "execution_count": 9
        },
        {
          "output_type": "execute_result",
          "data": {
            "text/plain": [
              "[<matplotlib.lines.Line2D at 0x7f08919a1b00>]"
            ]
          },
          "metadata": {
            "tags": []
          },
          "execution_count": 9
        },
        {
          "output_type": "execute_result",
          "data": {
            "text/plain": [
              "[<matplotlib.lines.Line2D at 0x7f08919a1f98>]"
            ]
          },
          "metadata": {
            "tags": []
          },
          "execution_count": 9
        },
        {
          "output_type": "execute_result",
          "data": {
            "text/plain": [
              "[<matplotlib.lines.Line2D at 0x7f08919a3400>]"
            ]
          },
          "metadata": {
            "tags": []
          },
          "execution_count": 9
        },
        {
          "output_type": "execute_result",
          "data": {
            "text/plain": [
              "[<matplotlib.lines.Line2D at 0x7f08919a3828>]"
            ]
          },
          "metadata": {
            "tags": []
          },
          "execution_count": 9
        },
        {
          "output_type": "execute_result",
          "data": {
            "text/plain": [
              "[<matplotlib.lines.Line2D at 0x7f08919a3cc0>]"
            ]
          },
          "metadata": {
            "tags": []
          },
          "execution_count": 9
        },
        {
          "output_type": "execute_result",
          "data": {
            "text/plain": [
              "[<matplotlib.lines.Line2D at 0x7f08919a3d30>]"
            ]
          },
          "metadata": {
            "tags": []
          },
          "execution_count": 9
        },
        {
          "output_type": "execute_result",
          "data": {
            "text/plain": [
              "[<matplotlib.lines.Line2D at 0x7f089192f588>]"
            ]
          },
          "metadata": {
            "tags": []
          },
          "execution_count": 9
        },
        {
          "output_type": "execute_result",
          "data": {
            "text/plain": [
              "[<matplotlib.lines.Line2D at 0x7f089192ff60>]"
            ]
          },
          "metadata": {
            "tags": []
          },
          "execution_count": 9
        },
        {
          "output_type": "execute_result",
          "data": {
            "text/plain": [
              "[<matplotlib.lines.Line2D at 0x7f089192fe10>]"
            ]
          },
          "metadata": {
            "tags": []
          },
          "execution_count": 9
        },
        {
          "output_type": "execute_result",
          "data": {
            "text/plain": [
              "[<matplotlib.lines.Line2D at 0x7f089192ff98>]"
            ]
          },
          "metadata": {
            "tags": []
          },
          "execution_count": 9
        },
        {
          "output_type": "execute_result",
          "data": {
            "text/plain": [
              "[<matplotlib.lines.Line2D at 0x7f089193a748>]"
            ]
          },
          "metadata": {
            "tags": []
          },
          "execution_count": 9
        },
        {
          "output_type": "execute_result",
          "data": {
            "text/plain": [
              "[<matplotlib.lines.Line2D at 0x7f089193ab70>]"
            ]
          },
          "metadata": {
            "tags": []
          },
          "execution_count": 9
        },
        {
          "output_type": "execute_result",
          "data": {
            "text/plain": [
              "[<matplotlib.lines.Line2D at 0x7f089193acc0>]"
            ]
          },
          "metadata": {
            "tags": []
          },
          "execution_count": 9
        },
        {
          "output_type": "execute_result",
          "data": {
            "text/plain": [
              "[<matplotlib.lines.Line2D at 0x7f089193f4e0>]"
            ]
          },
          "metadata": {
            "tags": []
          },
          "execution_count": 9
        },
        {
          "output_type": "execute_result",
          "data": {
            "text/plain": [
              "[<matplotlib.lines.Line2D at 0x7f089193f908>]"
            ]
          },
          "metadata": {
            "tags": []
          },
          "execution_count": 9
        },
        {
          "output_type": "execute_result",
          "data": {
            "text/plain": [
              "[<matplotlib.lines.Line2D at 0x7f089193fd30>]"
            ]
          },
          "metadata": {
            "tags": []
          },
          "execution_count": 9
        },
        {
          "output_type": "execute_result",
          "data": {
            "text/plain": [
              "[<matplotlib.lines.Line2D at 0x7f089193fe80>]"
            ]
          },
          "metadata": {
            "tags": []
          },
          "execution_count": 9
        },
        {
          "output_type": "execute_result",
          "data": {
            "text/plain": [
              "[<matplotlib.lines.Line2D at 0x7f089194a668>]"
            ]
          },
          "metadata": {
            "tags": []
          },
          "execution_count": 9
        },
        {
          "output_type": "display_data",
          "data": {
            "image/png": "[encoded data removed]",
            "text/plain": [
              "<matplotlib.figure.Figure at 0x7f08945059b0>"
            ]
          },
          "metadata": {
            "tags": []
          }
        }
      ]
    },
    {
      "metadata": {
        "id": "0xmYdFjpqw9o",
        "colab_type": "code",
        "colab": {
          "base_uri": "https://localhost:8080/",
          "height": 27880
        },
        "outputId": "538694b8-c0bd-4d0d-d92a-f69a869cf4e0"
      },
      "cell_type": "code",
      "source": [
        "#Get the mappings\n",
        "mappings = som.win_map(X) #returns a dictionary of all the mappings from winning nodes to customers\n",
        "mappings"
      ],
      "execution_count": 10,
      "outputs": [
        {
          "output_type": "execute_result",
          "data": {
            "text/plain": [
              "defaultdict(list,\n",
              "            {(0,\n",
              "              0): [array([0.48842545, 0.        , 0.11909774, 0.41071429, 0.        ,\n",
              "                     0.30769231, 0.25      , 0.        , 1.        , 1.        ,\n",
              "                     0.1641791 , 1.        , 0.5       , 0.        , 0.        ]), array([2.91900420e-01, 0.00000000e+00, 6.31578947e-01, 2.52857143e-01,\n",
              "                     5.00000000e-01, 2.30769231e-01, 8.75000000e-01, 2.36842105e-01,\n",
              "                     1.00000000e+00, 1.00000000e+00, 4.47761194e-02, 1.00000000e+00,\n",
              "                     5.00000000e-01, 5.00000000e-02, 5.00000000e-04]), array([0.41230694, 0.        , 0.50631579, 0.10714286, 0.5       ,\n",
              "                     1.        , 0.375     , 0.48684211, 1.        , 1.        ,\n",
              "                     0.02985075, 1.        , 0.5       , 0.2595    , 0.01704   ]), array([0.22236104, 0.        , 0.07774436, 0.33035714, 0.        ,\n",
              "                     0.53846154, 0.375     , 0.03508772, 1.        , 1.        ,\n",
              "                     0.05970149, 1.        , 0.5       , 0.04      , 0.005     ]), array([0.28353535, 0.        , 0.14661654, 0.32142857, 0.5       ,\n",
              "                     0.76923077, 0.375     , 0.29824561, 1.        , 1.        ,\n",
              "                     0.07462687, 1.        , 0.5       , 0.06      , 0.        ]), array([0.26859115, 0.        , 0.30075188, 0.02678571, 0.5       ,\n",
              "                     0.23076923, 0.5       , 0.03508772, 1.        , 1.        ,\n",
              "                     0.04477612, 1.        , 0.5       , 0.106     , 0.        ]), array([0.0084892 , 0.        , 0.2443609 , 0.18892857, 0.5       ,\n",
              "                     0.69230769, 0.125     , 0.07894737, 1.        , 1.        ,\n",
              "                     0.07462687, 1.        , 0.5       , 0.0495    , 0.005     ]), array([0.10139391, 0.        , 0.07639098, 0.33928571, 0.5       ,\n",
              "                     0.61538462, 0.375     , 0.05701754, 1.        , 1.        ,\n",
              "                     0.08955224, 1.        , 0.5       , 0.02      , 0.006     ]), array([0.42925731, 0.        , 0.41233083, 0.23214286, 0.5       ,\n",
              "                     0.76923077, 0.375     , 0.01754386, 1.        , 1.        ,\n",
              "                     0.04477612, 1.        , 0.5       , 0.0725    , 0.        ]), array([0.51641179, 0.        , 0.22556391, 0.13392857, 0.5       ,\n",
              "                     0.53846154, 0.375     , 0.03807018, 1.        , 1.        ,\n",
              "                     0.01492537, 1.        , 0.5       , 0.1855    , 0.        ]), array([0.17254704, 0.        , 0.2243609 , 0.03714286, 0.5       ,\n",
              "                     0.53846154, 0.375     , 0.0877193 , 1.        , 1.        ,\n",
              "                     0.07462687, 1.        , 0.5       , 0.15      , 0.0143    ]), array([0.26249655, 0.        , 0.48240602, 0.375     , 0.5       ,\n",
              "                     0.76923077, 0.375     , 0.1754386 , 1.        , 1.        ,\n",
              "                     0.10447761, 1.        , 0.5       , 0.        , 0.        ]), array([0.18209739, 0.        , 0.22180451, 0.03571429, 0.5       ,\n",
              "                     0.76923077, 0.375     , 0.03508772, 1.        , 1.        ,\n",
              "                     0.02985075, 1.        , 0.5       , 0.0835    , 0.005     ])],\n",
              "             (0,\n",
              "              1): [array([8.31729595e-01, 0.00000000e+00, 1.05263158e-01, 3.69107143e-01,\n",
              "                     5.00000000e-01, 9.23076923e-01, 8.75000000e-01, 1.17543860e-02,\n",
              "                     1.00000000e+00, 1.00000000e+00, 1.49253731e-02, 1.00000000e+00,\n",
              "                     5.00000000e-01, 4.00000000e-02, 5.00000000e-04]), array([0.46839574, 0.        , 0.26315789, 0.13392857, 0.5       ,\n",
              "                     0.92307692, 0.875     , 0.02192982, 1.        , 1.        ,\n",
              "                     0.13432836, 1.        , 0.5       , 0.0905    , 0.        ]), array([0.56816789, 0.        , 0.13654135, 0.08178571, 0.5       ,\n",
              "                     0.76923077, 0.875     , 0.08035088, 1.        , 1.        ,\n",
              "                     0.10447761, 1.        , 0.5       , 0.07      , 0.02384   ]), array([0.62071686, 0.        , 0.14541353, 0.02821429, 0.        ,\n",
              "                     0.76923077, 0.375     , 0.05263158, 1.        , 1.        ,\n",
              "                     0.02985075, 1.        , 0.5       , 0.04      , 0.004     ]), array([0.13174281, 0.        , 0.13909774, 0.41964286, 0.5       ,\n",
              "                     1.        , 0.875     , 0.01754386, 1.        , 1.        ,\n",
              "                     0.02985075, 1.        , 0.5       , 0.15      , 0.00551   ]), array([5.87713081e-01, 0.00000000e+00, 4.95037594e-01, 1.64285714e-02,\n",
              "                     5.00000000e-01, 9.23076923e-01, 8.75000000e-01, 1.45614035e-02,\n",
              "                     1.00000000e+00, 1.00000000e+00, 1.64179104e-01, 1.00000000e+00,\n",
              "                     5.00000000e-01, 2.20000000e-01, 6.00000000e-05]), array([0.02661685, 0.        , 0.40977444, 0.07285714, 0.        ,\n",
              "                     0.76923077, 0.875     , 0.00438596, 1.        , 1.        ,\n",
              "                     0.34328358, 1.        , 0.5       , 0.2275    , 0.01236   ]), array([5.31808480e-01, 0.00000000e+00, 9.02255639e-02, 2.67857143e-02,\n",
              "                     5.00000000e-01, 5.38461538e-01, 3.75000000e-01, 2.78947368e-02,\n",
              "                     1.00000000e+00, 1.00000000e+00, 7.46268657e-02, 1.00000000e+00,\n",
              "                     5.00000000e-01, 7.00000000e-02, 5.00000000e-05])],\n",
              "             (0,\n",
              "              3): [array([0.31526975, 1.        , 0.29699248, 0.0625    , 0.5       ,\n",
              "                     1.        , 0.875     , 0.15789474, 1.        , 1.        ,\n",
              "                     0.05970149, 1.        , 0.5       , 0.1265    , 0.00857   ]), array([0.08079959, 1.        , 0.41609023, 0.17857143, 0.5       ,\n",
              "                     0.76923077, 0.875     , 0.1754386 , 1.        , 1.        ,\n",
              "                     0.08955224, 1.        , 0.5       , 0.235     , 0.        ]), array([0.17475744, 1.        , 0.10406015, 0.04464286, 0.        ,\n",
              "                     0.53846154, 0.875     , 0.04824561, 1.        , 1.        ,\n",
              "                     0.04477612, 1.        , 0.5       , 0.07      , 0.0021    ]), array([0.59413604, 1.        , 0.28571429, 0.05357143, 0.5       ,\n",
              "                     0.92307692, 0.875     , 0.19298246, 1.        , 1.        ,\n",
              "                     0.04477612, 1.        , 0.5       , 0.        , 0.        ]), array([0.08973327, 1.        , 0.29203008, 0.10857143, 0.        ,\n",
              "                     0.53846154, 0.875     , 0.07157895, 1.        , 1.        ,\n",
              "                     0.01492537, 1.        , 0.5       , 0.09      , 0.18027   ]), array([0.21101274, 1.        , 0.14030075, 0.08928571, 0.5       ,\n",
              "                     0.53846154, 0.375     , 0.03807018, 1.        , 1.        ,\n",
              "                     0.1641791 , 1.        , 0.5       , 0.03      , 0.02184   ]), array([0.42733523, 1.        , 0.19924812, 0.02678571, 0.5       ,\n",
              "                     0.53846154, 0.875     , 0.14912281, 1.        , 1.        ,\n",
              "                     0.04477612, 1.        , 0.5       , 0.156     , 0.0015    ]), array([0.07194199, 1.        , 0.14030075, 0.41071429, 0.5       ,\n",
              "                     0.61538462, 0.875     , 0.0745614 , 1.        , 1.        ,\n",
              "                     0.1641791 , 1.        , 0.5       , 0.145     , 0.00284   ]), array([0.20676013, 1.        , 0.74556391, 0.01928571, 0.5       ,\n",
              "                     0.53846154, 0.375     , 0.02052632, 1.        , 1.        ,\n",
              "                     0.04477612, 1.        , 0.5       , 0.09      , 0.        ]), array([0.02673298, 1.        , 0.21172932, 0.14285714, 0.        ,\n",
              "                     0.15384615, 0.875     , 0.20175439, 1.        , 1.        ,\n",
              "                     0.02985075, 1.        , 0.5       , 0.0375    , 0.        ]), array([0.03815736, 1.        , 0.30571429, 0.00285714, 0.        ,\n",
              "                     0.46153846, 0.5       , 0.00140351, 1.        , 1.        ,\n",
              "                     0.01492537, 1.        , 0.5       , 0.14      , 0.02      ]), array([2.93418065e-01, 1.00000000e+00, 1.69172932e-01, 4.28571429e-01,\n",
              "                     5.00000000e-01, 2.30769231e-01, 3.75000000e-01, 7.89473684e-02,\n",
              "                     1.00000000e+00, 1.00000000e+00, 2.98507463e-02, 1.00000000e+00,\n",
              "                     5.00000000e-01, 6.00000000e-02, 5.00000000e-05]), array([0.00312739, 1.        , 0.46992481, 0.30357143, 0.5       ,\n",
              "                     0.92307692, 0.875     , 0.49122807, 1.        , 1.        ,\n",
              "                     0.01492537, 1.        , 0.5       , 0.044     , 0.02      ]), array([0.39034313, 1.        , 0.21428571, 0.07142857, 0.5       ,\n",
              "                     0.23076923, 0.875     , 0.14614035, 1.        , 1.        ,\n",
              "                     0.02985075, 1.        , 0.5       , 0.0905    , 0.        ]), array([0.2890213 , 1.        , 0.38225564, 0.06107143, 0.5       ,\n",
              "                     1.        , 0.375     , 0.00438596, 1.        , 1.        ,\n",
              "                     0.07462687, 1.        , 0.5       , 0.24      , 0.        ]), array([0.24617085, 1.        , 0.37969925, 0.17857143, 0.5       ,\n",
              "                     0.92307692, 0.375     , 0.12280702, 1.        , 1.        ,\n",
              "                     0.14925373, 1.        , 0.5       , 0.        , 0.        ]), array([0.01266973, 1.        , 0.26796992, 0.14285714, 0.5       ,\n",
              "                     1.        , 0.375     , 0.1754386 , 1.        , 1.        ,\n",
              "                     0.04477612, 1.        , 0.5       , 0.145     , 0.02279   ]), array([0.29294555, 1.        , 0.21804511, 0.03125   , 0.5       ,\n",
              "                     0.46153846, 0.375     , 0.03368421, 1.        , 1.        ,\n",
              "                     0.04477612, 1.        , 0.5       , 0.198     , 0.        ]), array([0.16831045, 1.        , 0.38090226, 0.21428571, 0.5       ,\n",
              "                     0.46153846, 0.375     , 0.04526316, 1.        , 1.        ,\n",
              "                     0.07462687, 1.        , 0.5       , 0.054     , 0.01097   ]), array([0.2642024 , 1.        , 0.27819549, 0.00589286, 0.        ,\n",
              "                     0.53846154, 0.875     , 0.11403509, 1.        , 1.        ,\n",
              "                     0.01492537, 1.        , 0.5       , 0.216     , 0.08      ]), array([0.42373933, 1.        , 0.28451128, 0.19642857, 0.5       ,\n",
              "                     0.76923077, 0.875     , 0.19298246, 1.        , 1.        ,\n",
              "                     0.17910448, 1.        , 0.5       , 0.204     , 0.01      ]), array([0.15841973, 1.        , 0.08902256, 0.01339286, 0.5       ,\n",
              "                     0.76923077, 0.375     , 0.07017544, 1.        , 1.        ,\n",
              "                     0.02985075, 1.        , 0.5       , 0.04      , 0.        ]), array([8.19288108e-02, 1.00000000e+00, 2.45563910e-01, 3.71428571e-02,\n",
              "                     0.00000000e+00, 1.53846154e-01, 5.00000000e-01, 1.75438596e-02,\n",
              "                     1.00000000e+00, 1.00000000e+00, 1.49253731e-01, 1.00000000e+00,\n",
              "                     5.00000000e-01, 6.60000000e-02, 2.80000000e-04]), array([0.15868001, 1.        , 0.51007519, 0.08928571, 0.5       ,\n",
              "                     0.46153846, 0.5       , 0.0877193 , 1.        , 1.        ,\n",
              "                     0.17910448, 1.        , 0.5       , 0.205     , 0.0251    ]), array([0.0586716 , 1.        , 0.2318797 , 0.125     , 0.5       ,\n",
              "                     0.61538462, 0.375     , 0.12280702, 1.        , 1.        ,\n",
              "                     0.04477612, 1.        , 0.5       , 0.1645    , 0.        ]), array([3.35227386e-01, 1.00000000e+00, 4.54887218e-01, 7.14285714e-02,\n",
              "                     5.00000000e-01, 4.61538462e-01, 3.75000000e-01, 6.14035088e-02,\n",
              "                     1.00000000e+00, 1.00000000e+00, 2.98507463e-02, 1.00000000e+00,\n",
              "                     5.00000000e-01, 0.00000000e+00, 1.50000000e-04]), array([0.11731117, 1.        , 0.30706767, 0.3275    , 0.5       ,\n",
              "                     0.53846154, 0.375     , 0.15789474, 1.        , 1.        ,\n",
              "                     0.17910448, 1.        , 0.5       , 0.        , 0.00221   ]), array([0.07142943, 1.        , 0.10150376, 0.08625   , 0.5       ,\n",
              "                     0.53846154, 0.375     , 0.07017544, 1.        , 1.        ,\n",
              "                     0.1641791 , 1.        , 0.5       , 0.1       , 0.03      ]), array([0.19214829, 1.        , 0.35458647, 0.23214286, 0.5       ,\n",
              "                     0.46153846, 0.875     , 0.14912281, 1.        , 1.        ,\n",
              "                     0.17910448, 1.        , 0.5       , 0.0465    , 0.        ]), array([0.01473597, 1.        , 0.61022556, 0.24107143, 0.5       ,\n",
              "                     0.53846154, 0.875     , 0.09210526, 1.        , 1.        ,\n",
              "                     0.1641791 , 1.        , 0.5       , 0.        , 0.00284   ]), array([0.11587361, 1.        , 0.29203008, 0.11303571, 0.        ,\n",
              "                     1.        , 0.375     , 0.11105263, 1.        , 1.        ,\n",
              "                     0.04477612, 1.        , 0.5       , 0.19      , 0.        ])],\n",
              "             (0,\n",
              "              5): [array([0.44607555, 1.        , 0.21052632, 0.02089286, 0.        ,\n",
              "                     0.92307692, 0.375     , 0.00877193, 1.        , 1.        ,\n",
              "                     0.02985075, 0.        , 0.5       , 0.13      , 0.005     ]), array([0.12742613, 1.        , 0.20932331, 0.07142857, 0.5       ,\n",
              "                     1.        , 0.875     , 0.03508772, 1.        , 1.        ,\n",
              "                     0.05970149, 0.        , 0.5       , 0.07      , 0.07544   ]), array([0.24820906, 1.        , 0.13413534, 0.05660714, 0.        ,\n",
              "                     0.61538462, 0.375     , 0.10824561, 1.        , 1.        ,\n",
              "                     0.08955224, 0.        , 0.5       , 0.04      , 0.        ]), array([0.07799655, 1.        , 0.25684211, 0.        , 0.5       ,\n",
              "                     0.61538462, 0.375     , 0.04385965, 1.        , 1.        ,\n",
              "                     0.01492537, 0.        , 0.5       , 0.101     , 0.        ]), array([0.22830749, 1.        , 0.33954887, 0.07589286, 0.        ,\n",
              "                     0.61538462, 0.375     , 0.00298246, 1.        , 1.        ,\n",
              "                     0.01492537, 0.        , 0.5       , 0.025     , 0.01187   ]), array([0.02230418, 1.        , 0.28691729, 0.08928571, 0.5       ,\n",
              "                     0.92307692, 0.875     , 0.09649123, 1.        , 1.        ,\n",
              "                     0.08955224, 0.        , 0.5       , 0.08      , 0.02072   ]), array([0.02095471, 1.        , 0.20300752, 0.05946429, 0.5       ,\n",
              "                     0.92307692, 0.875     , 0.17842105, 1.        , 1.        ,\n",
              "                     0.13432836, 0.        , 0.5       , 0.1995    , 0.00827   ]), array([5.68484237e-01, 1.00000000e+00, 1.19097744e-01, 4.16071429e-02,\n",
              "                     0.00000000e+00, 2.30769231e-01, 3.75000000e-01, 8.77192982e-02,\n",
              "                     1.00000000e+00, 1.00000000e+00, 1.49253731e-02, 0.00000000e+00,\n",
              "                     5.00000000e-01, 9.00000000e-02, 2.00000000e-04]), array([0.13163069, 1.        , 0.19428571, 0.09678571, 0.        ,\n",
              "                     0.92307692, 0.375     , 0.18421053, 1.        , 1.        ,\n",
              "                     0.01492537, 0.        , 0.5       , 0.1055    , 0.        ]), array([0.54468644, 1.        , 0.39353383, 0.01928571, 0.        ,\n",
              "                     0.38461538, 0.375     , 0.01754386, 1.        , 1.        ,\n",
              "                     0.04477612, 0.        , 0.5       , 0.1       , 0.01      ]), array([0.49836022, 1.        , 0.5237594 , 0.00732143, 0.        ,\n",
              "                     0.23076923, 0.375     , 0.00877193, 1.        , 1.        ,\n",
              "                     0.1641791 , 0.        , 0.5       , 0.19      , 0.02732   ]), array([0.69932607, 1.        , 0.43984962, 0.01035714, 0.        ,\n",
              "                     0.92307692, 0.875     , 0.06140351, 1.        , 1.        ,\n",
              "                     0.11940299, 0.        , 0.5       , 0.05      , 0.00375   ])],\n",
              "             (0,\n",
              "              6): [array([0.53757874, 0.        , 0.75684211, 0.00589286, 0.5       ,\n",
              "                     0.        , 0.        , 0.        , 1.        , 1.        ,\n",
              "                     0.01492537, 0.        , 0.5       , 0.116     , 0.001     ]), array([0.06401339, 0.        , 0.17548872, 0.04017857, 0.5       ,\n",
              "                     0.76923077, 0.375     , 0.04526316, 1.        , 1.        ,\n",
              "                     0.02985075, 0.        , 0.5       , 0.1       , 0.        ]), array([0.40793821, 0.        , 0.16165414, 0.03714286, 0.        ,\n",
              "                     0.        , 0.        , 0.01754386, 1.        , 1.        ,\n",
              "                     0.04477612, 0.        , 0.5       , 0.09      , 0.00147   ])],\n",
              "             (0,\n",
              "              7): [array([0.02165147, 0.        , 0.0312782 , 0.02089286, 0.5       ,\n",
              "                     0.53846154, 0.875     , 0.05263158, 1.        , 1.        ,\n",
              "                     0.02985075, 0.        , 0.5       , 0.05      , 0.        ]), array([0.37911496, 0.        , 0.67548872, 0.15928571, 0.5       ,\n",
              "                     0.76923077, 0.875     , 0.10666667, 1.        , 1.        ,\n",
              "                     0.08955224, 0.        , 0.5       , 0.0215    , 0.0056    ]), array([0.89913466, 0.        , 0.07774436, 0.32142857, 0.5       ,\n",
              "                     0.38461538, 0.375     , 0.02631579, 1.        , 1.        ,\n",
              "                     0.02985075, 0.        , 0.5       , 0.044     , 0.00591   ]), array([0.81242467, 0.        , 0.13037594, 0.20232143, 0.5       ,\n",
              "                     0.76923077, 0.375     , 0.09070175, 1.        , 1.        ,\n",
              "                     0.10447761, 0.        , 0.5       , 0.0645    , 0.03257   ]), array([7.32145646e-01, 0.00000000e+00, 2.54436090e-01, 4.28571429e-01,\n",
              "                     5.00000000e-01, 5.38461538e-01, 3.75000000e-01, 7.01754386e-02,\n",
              "                     1.00000000e+00, 1.00000000e+00, 1.49253731e-02, 0.00000000e+00,\n",
              "                     5.00000000e-01, 1.10000000e-01, 1.90000000e-04]), array([0.76784434, 0.        , 0.58766917, 0.53571429, 0.5       ,\n",
              "                     0.53846154, 0.375     , 0.19298246, 1.        , 1.        ,\n",
              "                     0.20895522, 0.        , 0.5       , 0.        , 0.022     ]), array([0.46795526, 0.        , 0.27699248, 0.05214286, 0.5       ,\n",
              "                     0.61538462, 0.375     , 0.03807018, 1.        , 1.        ,\n",
              "                     0.23880597, 0.        , 0.5       , 0.06      , 0.02079   ]), array([0.30704083, 0.        , 0.10030075, 0.02982143, 0.5       ,\n",
              "                     0.76923077, 0.375     , 0.05561404, 1.        , 1.        ,\n",
              "                     0.01492537, 0.        , 0.5       , 0.        , 0.        ]), array([0.94393122, 0.        , 0.33082707, 0.03267857, 0.5       ,\n",
              "                     0.38461538, 0.375     , 0.02631579, 1.        , 1.        ,\n",
              "                     0.05970149, 0.        , 0.5       , 0.        , 0.01583   ]), array([1.        , 0.        , 0.65157895, 0.69642857, 0.5       ,\n",
              "                     0.53846154, 0.375     , 0.19298246, 1.        , 1.        ,\n",
              "                     0.10447761, 0.        , 0.5       , 0.        , 0.03      ]), array([0.73166512, 0.        , 0.67037594, 0.35714286, 0.5       ,\n",
              "                     0.76923077, 0.375     , 0.14035088, 1.        , 1.        ,\n",
              "                     0.20895522, 0.        , 0.5       , 0.        , 0.01602   ]), array([0.04725522, 0.        , 0.82586466, 0.53571429, 0.5       ,\n",
              "                     0.69230769, 1.        , 0.        , 1.        , 1.        ,\n",
              "                     0.20895522, 0.        , 0.5       , 0.        , 0.03376   ]), array([0.13249563, 0.        , 0.50631579, 0.28571429, 0.5       ,\n",
              "                     0.69230769, 0.5       , 0.22807018, 1.        , 1.        ,\n",
              "                     0.08955224, 0.        , 0.5       , 0.1875    , 0.511     ]), array([0.57262072, 0.        , 0.07518797, 0.26785714, 0.5       ,\n",
              "                     0.76923077, 0.375     , 0.09508772, 1.        , 1.        ,\n",
              "                     0.07462687, 0.        , 0.5       , 0.092     , 0.26726   ]), array([0.55912209, 0.        , 0.09894737, 0.35714286, 0.5       ,\n",
              "                     0.53846154, 0.875     , 0.03508772, 1.        , 1.        ,\n",
              "                     0.05970149, 0.        , 0.5       , 0.025     , 0.01465   ]), array([0.36865562, 0.        , 0.16541353, 0.10714286, 0.5       ,\n",
              "                     0.76923077, 0.875     , 0.06438596, 1.        , 1.        ,\n",
              "                     0.28358209, 0.        , 0.5       , 0.        , 0.005     ]), array([0.89063345, 0.        , 0.23684211, 0.01642857, 0.5       ,\n",
              "                     0.23076923, 0.375     , 0.01894737, 1.        , 1.        ,\n",
              "                     0.05970149, 0.        , 0.5       , 0.19      , 0.005     ]), array([0.3481534 , 0.        , 0.29067669, 0.16517857, 0.5       ,\n",
              "                     0.76923077, 0.875     , 0.05701754, 1.        , 1.        ,\n",
              "                     0.02985075, 0.        , 0.5       , 0.        , 0.        ]), array([2.78421809e-01, 0.00000000e+00, 1.04060150e-01, 1.07142857e-01,\n",
              "                     5.00000000e-01, 7.69230769e-01, 3.75000000e-01, 5.78947368e-03,\n",
              "                     1.00000000e+00, 1.00000000e+00, 4.47761194e-02, 0.00000000e+00,\n",
              "                     5.00000000e-01, 5.00000000e-02, 6.00000000e-05]), array([0.23577959, 0.        , 0.13037594, 0.40178571, 0.        ,\n",
              "                     1.        , 0.875     , 0.02631579, 1.        , 1.        ,\n",
              "                     0.05970149, 0.        , 0.5       , 0.        , 0.00321   ]), array([4.90731953e-01, 0.00000000e+00, 8.90225564e-02, 7.50000000e-03,\n",
              "                     5.00000000e-01, 7.69230769e-01, 8.75000000e-01, 1.01754386e-02,\n",
              "                     1.00000000e+00, 1.00000000e+00, 1.64179104e-01, 0.00000000e+00,\n",
              "                     5.00000000e-01, 4.00000000e-02, 9.90000000e-04]), array([0.8254628 , 0.        , 0.16165414, 0.45535714, 0.5       ,\n",
              "                     0.53846154, 0.5       , 0.16666667, 1.        , 1.        ,\n",
              "                     0.02985075, 0.        , 0.5       , 0.0365    , 0.00444   ]), array([3.33008982e-01, 0.00000000e+00, 7.09323308e-01, 1.78571429e-01,\n",
              "                     5.00000000e-01, 3.84615385e-01, 3.75000000e-01, 1.40350877e-01,\n",
              "                     1.00000000e+00, 1.00000000e+00, 5.97014925e-02, 0.00000000e+00,\n",
              "                     5.00000000e-01, 0.00000000e+00, 9.90000000e-04]), array([0.45521345, 0.        , 0.33458647, 0.03571429, 0.5       ,\n",
              "                     0.53846154, 0.375     , 0.07017544, 1.        , 1.        ,\n",
              "                     0.1641791 , 0.        , 0.5       , 0.        , 0.00456   ]), array([0.62039251, 0.        , 0.39969925, 0.26928571, 0.        ,\n",
              "                     0.76923077, 0.875     , 0.28070175, 1.        , 1.        ,\n",
              "                     0.20895522, 0.        , 0.5       , 0.        , 0.023     ]), array([0.52285878, 0.        , 0.67172932, 0.75      , 0.5       ,\n",
              "                     0.15384615, 0.5       , 0.35087719, 1.        , 1.        ,\n",
              "                     0.19402985, 0.        , 0.5       , 0.        , 0.067     ]), array([0.97028779, 0.        , 0.21684211, 0.01339286, 0.5       ,\n",
              "                     0.76923077, 0.375     , 0.02052632, 1.        , 1.        ,\n",
              "                     0.05970149, 0.        , 0.5       , 0.04      , 0.        ]), array([0.91845561, 0.        , 0.08150376, 0.30660714, 0.5       ,\n",
              "                     0.92307692, 0.875     , 0.02631579, 1.        , 1.        ,\n",
              "                     0.10447761, 0.        , 0.5       , 0.048     , 0.        ]), array([0.97174137, 0.        , 0.13157895, 0.30357143, 0.5       ,\n",
              "                     0.76923077, 0.375     , 0.06140351, 1.        , 1.        ,\n",
              "                     0.14925373, 0.        , 0.5       , 0.04      , 0.0099    ]), array([0.72295969, 0.        , 0.15533835, 0.01785714, 0.5       ,\n",
              "                     0.76923077, 0.875     , 0.04385965, 1.        , 1.        ,\n",
              "                     0.01492537, 0.        , 0.5       , 0.        , 0.00678   ]), array([0.31699963, 0.        , 0.5037594 , 0.02678571, 0.5       ,\n",
              "                     0.76923077, 0.875     , 0.09649123, 1.        , 1.        ,\n",
              "                     0.01492537, 0.        , 0.5       , 0.1665    , 0.00892   ]), array([0.4255533 , 0.        , 0.16917293, 0.44035714, 0.5       ,\n",
              "                     0.92307692, 0.875     , 0.12280702, 1.        , 1.        ,\n",
              "                     0.08955224, 0.        , 0.5       , 0.2       , 0.00458   ]), array([0.79737235, 0.        , 0.10030075, 0.26785714, 0.5       ,\n",
              "                     0.23076923, 0.375     , 0.05263158, 1.        , 1.        ,\n",
              "                     0.01492537, 0.        , 0.5       , 0.08      , 0.00234   ]), array([0.73253407, 0.        , 0.11278195, 0.08339286, 0.5       ,\n",
              "                     0.15384615, 0.5       , 0.01754386, 1.        , 1.        ,\n",
              "                     0.05970149, 0.        , 0.        , 0.04      , 0.        ]), array([0.65672789, 0.        , 0.11654135, 0.21428571, 0.5       ,\n",
              "                     0.38461538, 0.375     , 0.0877193 , 1.        , 1.        ,\n",
              "                     0.04477612, 0.        , 0.5       , 0.04      , 0.00918   ]), array([0.88425854, 0.        , 0.10406015, 0.06553571, 0.5       ,\n",
              "                     0.76923077, 0.375     , 0.07315789, 1.        , 1.        ,\n",
              "                     0.07462687, 0.        , 0.5       , 0.11      , 0.02503   ]), array([0.83315114, 0.        , 0.32586466, 0.42857143, 0.5       ,\n",
              "                     0.76923077, 0.875     , 0.49122807, 1.        , 1.        ,\n",
              "                     0.11940299, 0.        , 0.5       , 0.        , 0.0659    ]), array([0.85144697, 0.        , 0.06135338, 0.39285714, 0.5       ,\n",
              "                     1.        , 0.875     , 0.03508772, 1.        , 1.        ,\n",
              "                     0.1641791 , 0.        , 0.5       , 0.        , 0.03      ]), array([0.53977311, 0.        , 0.22180451, 0.10857143, 0.        ,\n",
              "                     1.        , 0.875     , 0.08912281, 1.        , 1.        ,\n",
              "                     0.01492537, 0.        , 0.5       , 0.035     , 0.        ]), array([0.90520124, 0.        , 0.19804511, 0.48214286, 0.5       ,\n",
              "                     0.76923077, 0.875     , 0.1754386 , 1.        , 1.        ,\n",
              "                     0.02985075, 0.        , 0.5       , 0.        , 0.05      ]), array([0.25395128, 0.        , 0.07022556, 0.33035714, 0.5       ,\n",
              "                     0.76923077, 0.375     , 0.04245614, 1.        , 1.        ,\n",
              "                     0.05970149, 0.        , 0.5       , 0.03      , 0.0054    ]), array([0.15716637, 0.        , 0.14285714, 0.20982143, 0.5       ,\n",
              "                     0.76923077, 0.375     , 0.11122807, 1.        , 1.        ,\n",
              "                     0.14925373, 0.        , 0.5       , 0.06      , 0.00245   ]), array([8.44034934e-01, 0.00000000e+00, 2.05563910e-01, 5.17857143e-01,\n",
              "                     5.00000000e-01, 1.00000000e+00, 8.75000000e-01, 1.08245614e-01,\n",
              "                     1.00000000e+00, 1.00000000e+00, 1.49253731e-02, 0.00000000e+00,\n",
              "                     5.00000000e-01, 6.00000000e-02, 1.10000000e-04])],\n",
              "             (0,\n",
              "              8): [array([0.80274618, 0.        , 0.16165414, 0.01785714, 0.5       ,\n",
              "                     0.76923077, 0.875     , 0.05263158, 1.        , 0.        ,\n",
              "                     0.        , 0.        , 0.5       , 0.14      , 0.00824   ]), array([0.97284657, 0.        , 0.48496241, 0.14285714, 0.5       ,\n",
              "                     0.30769231, 0.25      , 0.        , 1.        , 0.        ,\n",
              "                     0.        , 0.        , 0.5       , 0.05      , 0.0096    ]), array([0.47654858, 0.        , 0.20932331, 0.05357143, 0.5       ,\n",
              "                     0.46153846, 0.375     , 0.07017544, 1.        , 0.        ,\n",
              "                     0.        , 0.        , 0.        , 0.184     , 0.        ]), array([0.82735685, 0.        , 0.21548872, 0.53571429, 0.        ,\n",
              "                     0.69230769, 1.        , 0.        , 1.        , 0.        ,\n",
              "                     0.        , 0.        , 0.5       , 0.        , 0.13212   ]), array([0.6764733 , 0.        , 0.40721805, 0.35714286, 0.5       ,\n",
              "                     0.76923077, 0.875     , 0.06140351, 1.        , 0.        ,\n",
              "                     0.        , 0.        , 0.5       , 0.0145    , 0.00837   ]), array([0.32182085, 0.        , 0.07639098, 0.15767857, 0.        ,\n",
              "                     0.53846154, 0.875     , 0.10526316, 1.        , 0.        ,\n",
              "                     0.        , 0.        , 0.5       , 0.12      , 0.        ]), array([0.60831942, 0.        , 0.17172932, 0.10267857, 0.5       ,\n",
              "                     1.        , 0.875     , 0.03070175, 1.        , 0.        ,\n",
              "                     0.        , 0.        , 0.5       , 0.18      , 0.        ]), array([0.76672713, 0.        , 0.10646617, 0.10714286, 0.5       ,\n",
              "                     0.38461538, 0.375     , 0.00140351, 1.        , 0.        ,\n",
              "                     0.        , 0.        , 0.5       , 0.05      , 0.        ]), array([0.53271747, 0.        , 0.64285714, 0.57142857, 0.5       ,\n",
              "                     0.30769231, 0.        , 0.        , 1.        , 1.        ,\n",
              "                     0.2238806 , 0.        , 0.5       , 0.        , 0.00247   ]), array([0.15545651, 0.        , 0.10150376, 0.42267857, 0.5       ,\n",
              "                     0.53846154, 0.875     , 0.21052632, 1.        , 0.        ,\n",
              "                     0.        , 0.        , 0.5       , 0.17      , 0.        ]), array([0.27983935, 0.        , 0.16285714, 0.02392857, 0.5       ,\n",
              "                     0.38461538, 0.875     , 0.06140351, 1.        , 0.        ,\n",
              "                     0.        , 0.        , 0.5       , 0.2       , 0.        ]), array([0.32626167, 0.        , 0.2793985 , 0.01928571, 0.5       ,\n",
              "                     0.92307692, 0.375     , 0.00140351, 1.        , 0.        ,\n",
              "                     0.        , 0.        , 0.5       , 0.22      , 0.11177   ]), array([0.84423916, 0.        , 0.16917293, 0.39285714, 0.        ,\n",
              "                     0.38461538, 0.375     , 0.15789474, 1.        , 0.        ,\n",
              "                     0.        , 0.        , 0.5       , 0.06      , 0.        ]), array([0.90655471, 0.        , 0.30330827, 0.05660714, 0.        ,\n",
              "                     0.        , 0.        , 0.        , 1.        , 0.        ,\n",
              "                     0.        , 0.        , 0.5       , 0.16      , 0.        ]), array([0.23087026, 0.        , 0.45984962, 0.        , 0.5       ,\n",
              "                     0.53846154, 0.375     , 0.0877193 , 1.        , 0.        ,\n",
              "                     0.        , 0.        , 0.5       , 0.        , 0.        ]), array([0.91371847, 0.        , 0.2206015 , 0.125     , 0.5       ,\n",
              "                     0.61538462, 0.375     , 0.02929825, 1.        , 0.        ,\n",
              "                     0.        , 0.        , 0.        , 0.14      , 0.        ]), array([0.33987643, 0.        , 0.18541353, 0.30946429, 0.5       ,\n",
              "                     0.38461538, 0.375     , 0.04964912, 1.        , 0.        ,\n",
              "                     0.        , 0.        , 0.5       , 0.08      , 0.0015    ]), array([0.99098623, 0.        , 0.16796992, 0.04464286, 0.5       ,\n",
              "                     0.        , 0.        , 0.        , 1.        , 0.        ,\n",
              "                     0.        , 0.        , 0.5       , 0.04      , 0.        ]), array([0.43942033, 0.        , 0.07639098, 0.34071429, 0.5       ,\n",
              "                     0.38461538, 0.375     , 0.00298246, 1.        , 0.        ,\n",
              "                     0.        , 0.        , 0.5       , 0.05      , 0.        ])],\n",
              "             (1,\n",
              "              0): [array([0.89655987, 0.        , 0.5112782 , 0.28571429, 0.5       ,\n",
              "                     0.53846154, 0.375     , 0.27631579, 1.        , 1.        ,\n",
              "                     0.08955224, 1.        , 0.5       , 0.        , 0.0126    ]), array([0.69184196, 0.        , 0.10526316, 0.36607143, 0.5       ,\n",
              "                     0.76923077, 0.375     , 0.02491228, 1.        , 1.        ,\n",
              "                     0.02985075, 1.        , 0.5       , 0.0245    , 0.        ]), array([0.33414621, 0.        , 0.5       , 0.46428571, 0.5       ,\n",
              "                     0.15384615, 0.5       , 0.18122807, 1.        , 1.        ,\n",
              "                     0.13432836, 1.        , 0.5       , 0.        , 0.        ]), array([0.86558229, 0.        , 0.16541353, 0.44642857, 0.5       ,\n",
              "                     0.38461538, 0.375     , 0.05263158, 1.        , 1.        ,\n",
              "                     0.17910448, 1.        , 0.5       , 0.06      , 0.00567   ]), array([0.97755167, 0.        , 0.48616541, 0.10714286, 0.5       ,\n",
              "                     0.53846154, 0.375     , 0.08333333, 1.        , 1.        ,\n",
              "                     0.11940299, 1.        , 0.5       , 0.198     , 0.04159   ]), array([0.78421008, 0.        , 0.2518797 , 0.23214286, 0.5       ,\n",
              "                     0.53846154, 0.5       , 0.14035088, 1.        , 1.        ,\n",
              "                     0.10447761, 1.        , 0.5       , 0.        , 0.03065   ]), array([0.98497171, 0.        , 0.54631579, 0.44785714, 0.5       ,\n",
              "                     0.38461538, 0.375     , 0.08035088, 1.        , 1.        ,\n",
              "                     0.04477612, 1.        , 0.5       , 0.078     , 0.        ]), array([0.99860649, 0.        , 0.13278195, 0.38392857, 0.5       ,\n",
              "                     0.76923077, 0.375     , 0.0145614 , 1.        , 1.        ,\n",
              "                     0.07462687, 1.        , 0.5       , 0.        , 0.0056    ]), array([0.82980751, 0.        , 0.77323308, 0.5       , 0.5       ,\n",
              "                     0.        , 0.        , 0.        , 1.        , 1.        ,\n",
              "                     0.1641791 , 1.        , 0.5       , 0.        , 0.014     ]), array([0.77553268, 0.        , 0.45744361, 0.23803571, 0.5       ,\n",
              "                     0.76923077, 0.375     , 0.25877193, 1.        , 1.        ,\n",
              "                     0.04477612, 1.        , 0.5       , 0.        , 0.        ])],\n",
              "             (1,\n",
              "              2): [array([0.66103256, 1.        , 0.20300752, 0.05660714, 0.5       ,\n",
              "                     0.92307692, 0.875     , 0.06438596, 1.        , 1.        ,\n",
              "                     0.17910448, 1.        , 0.5       , 0.2915    , 0.00713   ])],\n",
              "             (1,\n",
              "              3): [array([0.47032583, 1.        , 0.23804511, 0.16071429, 0.5       ,\n",
              "                     0.61538462, 0.375     , 0.26315789, 1.        , 1.        ,\n",
              "                     0.02985075, 1.        , 0.5       , 0.165     , 0.        ]), array([4.69092496e-01, 1.00000000e+00, 2.11729323e-01, 5.35714286e-02,\n",
              "                     5.00000000e-01, 6.15384615e-01, 3.75000000e-01, 7.01754386e-02,\n",
              "                     1.00000000e+00, 1.00000000e+00, 1.64179104e-01, 1.00000000e+00,\n",
              "                     5.00000000e-01, 2.17000000e-01, 3.50000000e-04]), array([8.41055704e-01, 1.00000000e+00, 2.18045113e-01, 1.80000000e-01,\n",
              "                     0.00000000e+00, 5.38461538e-01, 5.00000000e-01, 5.26315789e-02,\n",
              "                     1.00000000e+00, 1.00000000e+00, 1.19402985e-01, 1.00000000e+00,\n",
              "                     5.00000000e-01, 7.20000000e-02, 7.00000000e-05]), array([4.99173104e-01, 1.00000000e+00, 1.09022556e-01, 1.07142857e-01,\n",
              "                     0.00000000e+00, 7.69230769e-02, 3.75000000e-01, 3.80701754e-02,\n",
              "                     1.00000000e+00, 1.00000000e+00, 1.19402985e-01, 1.00000000e+00,\n",
              "                     5.00000000e-01, 8.00000000e-02, 1.00000000e-05]), array([0.83899347, 1.        , 0.44105263, 0.01339286, 0.        ,\n",
              "                     0.53846154, 0.375     , 0.01315789, 1.        , 1.        ,\n",
              "                     0.11940299, 1.        , 0.5       , 0.15      , 0.00162   ]), array([0.85842653, 1.        , 0.31203008, 0.14428571, 0.        ,\n",
              "                     0.15384615, 0.5       , 0.29824561, 1.        , 1.        ,\n",
              "                     0.10447761, 1.        , 0.5       , 0.0975    , 0.        ]), array([0.49965362, 1.        , 0.17413534, 0.02071429, 0.5       ,\n",
              "                     0.53846154, 0.375     , 0.01017544, 1.        , 1.        ,\n",
              "                     0.10447761, 1.        , 0.5       , 0.048     , 0.05124   ]), array([5.63610954e-01, 1.00000000e+00, 1.70375940e-01, 6.10714286e-02,\n",
              "                     5.00000000e-01, 1.00000000e+00, 3.75000000e-01, 5.84210526e-02,\n",
              "                     1.00000000e+00, 1.00000000e+00, 1.49253731e-02, 1.00000000e+00,\n",
              "                     5.00000000e-01, 1.97500000e-01, 2.00000000e-04]), array([8.11920121e-01, 1.00000000e+00, 1.22857143e-01, 1.92857143e-02,\n",
              "                     0.00000000e+00, 1.00000000e+00, 3.75000000e-01, 1.40350877e-03,\n",
              "                     1.00000000e+00, 1.00000000e+00, 1.49253731e-02, 1.00000000e+00,\n",
              "                     5.00000000e-01, 4.20000000e-01, 5.90000000e-04]), array([0.78617622, 1.        , 0.10902256, 0.17107143, 0.        ,\n",
              "                     0.61538462, 0.375     , 0.07894737, 1.        , 1.        ,\n",
              "                     0.01492537, 1.        , 0.5       , 0.04      , 0.003     ]), array([0.73985   , 1.        , 0.34466165, 0.15767857, 0.        ,\n",
              "                     0.23076923, 0.375     , 0.00877193, 1.        , 1.        ,\n",
              "                     0.14925373, 1.        , 0.5       , 0.16      , 0.        ]), array([0.48778075, 1.        , 0.03503759, 0.02678571, 0.5       ,\n",
              "                     0.53846154, 0.375     , 0.06140351, 1.        , 1.        ,\n",
              "                     0.07462687, 1.        , 0.5       , 0.176     , 0.0069    ]), array([0.62409652, 1.        , 0.14285714, 0.05357143, 0.5       ,\n",
              "                     0.76923077, 0.375     , 0.08333333, 1.        , 1.        ,\n",
              "                     0.04477612, 1.        , 0.5       , 0.        , 0.00582   ]), array([0.93759635, 1.        , 0.14781955, 0.01642857, 0.        ,\n",
              "                     0.61538462, 0.375     , 0.09210526, 1.        , 1.        ,\n",
              "                     0.08955224, 1.        , 0.5       , 0.104     , 0.00347   ]), array([0.32374694, 1.        , 0.19428571, 0.0625    , 0.        ,\n",
              "                     0.53846154, 0.375     , 0.03508772, 1.        , 1.        ,\n",
              "                     0.07462687, 1.        , 0.5       , 0.08      , 0.05777   ]), array([0.89416928, 1.        , 0.20796992, 0.07285714, 0.        ,\n",
              "                     0.38461538, 0.375     , 0.07017544, 1.        , 1.        ,\n",
              "                     0.04477612, 1.        , 0.5       , 0.185     , 0.0056    ]), array([0.34571075, 1.        , 0.        , 0.14285714, 0.        ,\n",
              "                     0.61538462, 0.375     , 0.06140351, 1.        , 1.        ,\n",
              "                     0.02985075, 1.        , 0.5       , 0.06      , 0.01      ]), array([0.43661729, 1.        , 0.26947368, 0.02964286, 0.5       ,\n",
              "                     1.        , 0.375     , 0.04684211, 1.        , 1.        ,\n",
              "                     0.11940299, 1.        , 0.5       , 0.1515    , 0.0329    ])],\n",
              "             (1,\n",
              "              5): [array([0.55406861, 1.        , 0.17172932, 0.125     , 0.5       ,\n",
              "                     0.92307692, 0.375     , 0.02192982, 1.        , 1.        ,\n",
              "                     0.10447761, 0.        , 0.5       , 0.        , 0.07059   ]), array([0.63336657, 1.        , 0.33834586, 0.17857143, 0.5       ,\n",
              "                     0.53846154, 0.5       , 0.0877193 , 1.        , 1.        ,\n",
              "                     0.08955224, 0.        , 0.5       , 0.        , 0.00367   ]), array([0.28336317, 1.        , 0.40345865, 0.17857143, 0.5       ,\n",
              "                     0.53846154, 0.375     , 0.1754386 , 1.        , 1.        ,\n",
              "                     0.10447761, 0.        , 0.5       , 0.        , 0.03065   ]), array([0.49680654, 1.        , 0.38345865, 0.33928571, 0.5       ,\n",
              "                     0.46153846, 0.375     , 0.22807018, 1.        , 1.        ,\n",
              "                     0.20895522, 0.        , 0.5       , 0.12      , 0.04607   ]), array([0.52695522, 1.        , 0.41233083, 0.14428571, 0.5       ,\n",
              "                     0.92307692, 0.875     , 0.24561404, 1.        , 1.        ,\n",
              "                     0.11940299, 0.        , 0.5       , 0.16      , 0.        ]), array([0.54205559, 1.        , 0.10030075, 0.06553571, 0.5       ,\n",
              "                     0.53846154, 0.375     , 0.07894737, 1.        , 1.        ,\n",
              "                     0.01492537, 0.        , 0.5       , 0.05      , 0.0015    ]), array([0.42393154, 1.        , 0.12902256, 0.39285714, 0.5       ,\n",
              "                     0.61538462, 0.375     , 0.07017544, 1.        , 1.        ,\n",
              "                     0.01492537, 0.        , 0.5       , 0.04      , 0.00278   ]), array([0.18261395, 1.        , 0.16661654, 0.09821429, 0.5       ,\n",
              "                     0.53846154, 0.375     , 0.07894737, 1.        , 1.        ,\n",
              "                     0.08955224, 0.        , 0.5       , 0.092     , 0.006     ]), array([0.62774047, 1.        , 0.10406015, 0.18892857, 0.5       ,\n",
              "                     0.76923077, 0.375     , 0.01315789, 1.        , 1.        ,\n",
              "                     0.01492537, 0.        , 0.5       , 0.08      , 0.        ]), array([0.65929868, 1.        , 0.39353383, 0.22178571, 0.5       ,\n",
              "                     0.76923077, 0.375     , 0.00140351, 1.        , 1.        ,\n",
              "                     0.01492537, 0.        , 0.5       , 0.1       , 0.003     ]), array([0.74249687, 1.        , 0.29819549, 0.09821429, 0.5       ,\n",
              "                     0.46153846, 0.375     , 0.14912281, 1.        , 1.        ,\n",
              "                     0.08955224, 0.        , 0.5       , 0.102     , 0.        ]), array([0.3043339 , 1.        , 0.08526316, 0.23214286, 0.5       ,\n",
              "                     0.61538462, 0.875     , 0.05122807, 1.        , 1.        ,\n",
              "                     0.10447761, 0.        , 0.5       , 0.04      , 0.02954   ]), array([0.39390299, 1.        , 0.37338346, 0.11910714, 0.5       ,\n",
              "                     0.61538462, 0.375     , 0.14035088, 1.        , 1.        ,\n",
              "                     0.20895522, 0.        , 0.5       , 0.1915    , 0.01344   ]), array([0.50127939, 1.        , 0.17172932, 0.21428571, 0.5       ,\n",
              "                     0.53846154, 0.375     , 0.03508772, 1.        , 1.        ,\n",
              "                     0.04477612, 0.        , 0.5       , 0.        , 0.        ]), array([0.10656351, 1.        , 0.14165414, 0.39732143, 0.5       ,\n",
              "                     1.        , 0.875     , 0.01614035, 1.        , 1.        ,\n",
              "                     0.01492537, 0.        , 0.5       , 0.05      , 0.        ]), array([0.22741852, 1.        , 0.15293233, 0.05357143, 0.5       ,\n",
              "                     0.07692308, 0.875     , 0.06578947, 1.        , 1.        ,\n",
              "                     0.08955224, 0.        , 0.5       , 0.1       , 0.00327   ]), array([0.29955272, 1.        , 0.13654135, 0.10714286, 0.5       ,\n",
              "                     0.46153846, 0.375     , 0.04526316, 1.        , 1.        ,\n",
              "                     0.01492537, 0.        , 0.5       , 0.13      , 0.008     ]), array([0.10224684, 1.        , 0.24691729, 0.01785714, 0.5       ,\n",
              "                     0.53846154, 0.375     , 0.06140351, 1.        , 1.        ,\n",
              "                     0.1641791 , 0.        , 0.5       , 0.016     , 0.0054    ]), array([0.55044869, 1.        , 0.24691729, 0.23214286, 0.5       ,\n",
              "                     0.92307692, 0.375     , 0.10964912, 1.        , 1.        ,\n",
              "                     0.11940299, 0.        , 0.5       , 0.165     , 0.012     ]), array([0.37367306, 1.        , 0.10030075, 0.25      , 0.5       ,\n",
              "                     0.53846154, 0.375     , 0.05701754, 1.        , 1.        ,\n",
              "                     0.04477612, 0.        , 0.5       , 0.1       , 0.01391   ]), array([0.67228075, 1.        , 0.12150376, 0.39285714, 0.5       ,\n",
              "                     1.        , 0.375     , 0.01017544, 1.        , 1.        ,\n",
              "                     0.08955224, 0.        , 0.5       , 0.0605    , 0.        ]), array([0.56416355, 1.        , 0.2393985 , 0.05053571, 0.5       ,\n",
              "                     0.61538462, 0.875     , 0.02631579, 1.        , 1.        ,\n",
              "                     0.01492537, 0.        , 0.5       , 0.12      , 0.001     ]), array([0.65017679, 1.        , 0.27323308, 0.15928571, 0.5       ,\n",
              "                     0.92307692, 0.875     , 0.21192982, 1.        , 1.        ,\n",
              "                     0.04477612, 0.        , 0.5       , 0.1555    , 0.003     ]), array([0.30586756, 1.        , 0.51007519, 0.01035714, 0.5       ,\n",
              "                     0.53846154, 0.5       , 0.52631579, 1.        , 1.        ,\n",
              "                     0.29850746, 0.        , 0.5       , 0.        , 0.15      ]), array([0.43832314, 1.        , 0.44360902, 0.10714286, 0.5       ,\n",
              "                     0.76923077, 0.875     , 0.21052632, 1.        , 1.        ,\n",
              "                     0.1641791 , 0.        , 0.5       , 0.04      , 0.        ]), array([0.51122617, 1.        , 0.13278195, 0.35857143, 0.5       ,\n",
              "                     1.        , 0.375     , 0.00140351, 1.        , 1.        ,\n",
              "                     0.13432836, 0.        , 0.5       , 0.03      , 0.00396   ]), array([0.02345342, 1.        , 0.38225564, 0.05803571, 0.5       ,\n",
              "                     0.53846154, 0.375     , 0.05263158, 1.        , 1.        ,\n",
              "                     0.14925373, 0.        , 0.5       , 0.093     , 0.047     ]), array([0.81182001, 1.        , 0.42360902, 0.015     , 0.5       ,\n",
              "                     0.53846154, 0.875     , 0.00736842, 1.        , 1.        ,\n",
              "                     0.08955224, 0.        , 0.5       , 0.11      , 0.00948   ]), array([7.48359221e-01, 1.00000000e+00, 2.18045113e-01, 1.83035714e-01,\n",
              "                     5.00000000e-01, 1.00000000e+00, 3.75000000e-01, 1.66666667e-01,\n",
              "                     1.00000000e+00, 1.00000000e+00, 2.98507463e-02, 0.00000000e+00,\n",
              "                     5.00000000e-01, 2.10000000e-01, 7.00000000e-05]), array([2.68110632e-01, 1.00000000e+00, 7.39849624e-02, 1.78571429e-01,\n",
              "                     5.00000000e-01, 7.69230769e-01, 3.75000000e-01, 1.31578947e-02,\n",
              "                     1.00000000e+00, 1.00000000e+00, 2.98507463e-02, 0.00000000e+00,\n",
              "                     5.00000000e-01, 0.00000000e+00, 3.80000000e-04])],\n",
              "             (1,\n",
              "              6): [array([0.98109951, 1.        , 0.36721805, 0.36160714, 0.5       ,\n",
              "                     1.        , 0.375     , 0.0877193 , 1.        , 1.        ,\n",
              "                     0.08955224, 0.        , 0.5       , 0.26      , 0.00196   ])],\n",
              "             (2,\n",
              "              0): [array([5.59266245e-01, 0.00000000e+00, 2.53082707e-01, 3.80892857e-01,\n",
              "                     5.00000000e-01, 7.69230769e-01, 8.75000000e-01, 2.98245614e-03,\n",
              "                     0.00000000e+00, 1.00000000e+00, 1.79104478e-01, 1.00000000e+00,\n",
              "                     5.00000000e-01, 6.45000000e-02, 3.00000000e-05])],\n",
              "             (2,\n",
              "              1): [array([1.14488105e-01, 0.00000000e+00, 1.50375940e-01, 2.53571429e-02,\n",
              "                     5.00000000e-01, 6.15384615e-01, 3.75000000e-01, 8.77192982e-03,\n",
              "                     0.00000000e+00, 1.00000000e+00, 1.49253731e-02, 1.00000000e+00,\n",
              "                     5.00000000e-01, 1.20000000e-01, 4.00000000e-05]), array([3.96746073e-01, 0.00000000e+00, 5.38345865e-02, 3.39285714e-01,\n",
              "                     5.00000000e-01, 3.84615385e-01, 3.75000000e-01, 6.14035088e-02,\n",
              "                     0.00000000e+00, 1.00000000e+00, 1.49253731e-01, 1.00000000e+00,\n",
              "                     5.00000000e-01, 0.00000000e+00, 1.00000000e-04]), array([4.17712801e-01, 0.00000000e+00, 4.76691729e-02, 1.78571429e-02,\n",
              "                     5.00000000e-01, 1.53846154e-01, 3.75000000e-01, 5.78947368e-03,\n",
              "                     0.00000000e+00, 1.00000000e+00, 8.95522388e-02, 1.00000000e+00,\n",
              "                     5.00000000e-01, 1.20000000e-01, 3.50000000e-04]), array([7.92318874e-01, 0.00000000e+00, 3.38345865e-02, 5.89285714e-03,\n",
              "                     5.00000000e-01, 3.84615385e-01, 3.75000000e-01, 3.50877193e-02,\n",
              "                     0.00000000e+00, 1.00000000e+00, 2.98507463e-02, 1.00000000e+00,\n",
              "                     5.00000000e-01, 1.60000000e-01, 1.00000000e-05]), array([0.38631877, 0.        , 0.22300752, 0.13392857, 0.5       ,\n",
              "                     0.53846154, 0.375     , 0.00877193, 0.        , 1.        ,\n",
              "                     0.01492537, 1.        , 0.5       , 0.02      , 0.00154   ]), array([9.13434163e-01, 0.00000000e+00, 2.73233083e-01, 1.11607143e-01,\n",
              "                     5.00000000e-01, 0.00000000e+00, 0.00000000e+00, 1.06666667e-01,\n",
              "                     0.00000000e+00, 1.00000000e+00, 2.98507463e-02, 1.00000000e+00,\n",
              "                     5.00000000e-01, 1.00000000e-01, 4.00000000e-05]), array([0.5231551 , 0.        , 0.26796992, 0.05357143, 0.5       ,\n",
              "                     0.        , 0.        , 0.        , 0.        , 1.        ,\n",
              "                     0.02985075, 1.        , 0.5       , 0.1       , 0.00105   ]), array([0.01103196, 0.        , 0.0312782 , 0.27232143, 0.5       ,\n",
              "                     0.76923077, 0.375     , 0.00438596, 0.        , 1.        ,\n",
              "                     0.01492537, 1.        , 0.5       , 0.        , 0.0016    ]), array([0.86671952, 0.        , 0.13413534, 0.02678571, 0.5       ,\n",
              "                     0.53846154, 0.375     , 0.07017544, 0.        , 1.        ,\n",
              "                     0.02985075, 1.        , 0.5       , 0.1       , 0.00394   ]), array([0.08315013, 0.        , 0.20300752, 0.01035714, 0.5       ,\n",
              "                     0.46153846, 0.875     , 0.00438596, 0.        , 1.        ,\n",
              "                     0.01492537, 1.        , 0.5       , 0.136     , 0.00108   ]), array([6.08603726e-01, 0.00000000e+00, 1.47819549e-01, 2.96428571e-02,\n",
              "                     5.00000000e-01, 7.69230769e-01, 3.75000000e-01, 1.45614035e-02,\n",
              "                     0.00000000e+00, 1.00000000e+00, 1.49253731e-02, 1.00000000e+00,\n",
              "                     5.00000000e-01, 1.00000000e-01, 1.10000000e-04]), array([7.38360383e-01, 0.00000000e+00, 1.72932331e-01, 4.82142857e-01,\n",
              "                     0.00000000e+00, 0.00000000e+00, 0.00000000e+00, 7.01754386e-02,\n",
              "                     0.00000000e+00, 1.00000000e+00, 1.49253731e-02, 1.00000000e+00,\n",
              "                     5.00000000e-01, 1.00000000e-01, 1.00000000e-05]), array([3.23634820e-01, 0.00000000e+00, 6.27067669e-02, 1.92857143e-02,\n",
              "                     5.00000000e-01, 5.38461538e-01, 3.75000000e-01, 6.14035088e-02,\n",
              "                     0.00000000e+00, 1.00000000e+00, 1.49253731e-02, 1.00000000e+00,\n",
              "                     5.00000000e-01, 4.00000000e-02, 5.00000000e-05]), array([7.37799775e-01, 0.00000000e+00, 2.07969925e-01, 1.07142857e-01,\n",
              "                     5.00000000e-01, 4.61538462e-01, 3.75000000e-01, 9.78947368e-02,\n",
              "                     0.00000000e+00, 1.00000000e+00, 1.49253731e-02, 1.00000000e+00,\n",
              "                     5.00000000e-01, 1.40000000e-01, 1.00000000e-04])],\n",
              "             (2,\n",
              "              3): [array([0.95168763, 1.        , 0.31834586, 0.17857143, 0.5       ,\n",
              "                     1.        , 0.875     , 0.26315789, 1.        , 1.        ,\n",
              "                     0.08955224, 1.        , 0.5       , 0.        , 0.01      ]), array([0.45316323, 1.        , 0.38842105, 0.49696429, 0.5       ,\n",
              "                     0.61538462, 0.375     , 0.30263158, 1.        , 1.        ,\n",
              "                     0.08955224, 1.        , 0.5       , 0.035     , 0.        ]), array([0.42468035, 1.        , 0.64661654, 0.4375    , 0.5       ,\n",
              "                     0.46153846, 0.375     , 0.04385965, 1.        , 1.        ,\n",
              "                     0.05970149, 1.        , 0.5       , 0.1       , 0.        ]), array([0.89321625, 1.        , 0.29203008, 0.03571429, 0.5       ,\n",
              "                     1.        , 0.375     , 0.02631579, 1.        , 1.        ,\n",
              "                     0.10447761, 1.        , 0.5       , 0.17      , 0.04071   ]), array([0.79903816, 1.        , 0.13533835, 0.39285714, 0.5       ,\n",
              "                     0.76923077, 0.375     , 0.0877193 , 1.        , 1.        ,\n",
              "                     0.10447761, 1.        , 0.5       , 0.05      , 0.00809   ]), array([0.79490968, 1.        , 0.18045113, 0.01785714, 0.5       ,\n",
              "                     0.53846154, 0.375     , 0.05122807, 1.        , 1.        ,\n",
              "                     0.07462687, 1.        , 0.5       , 0.156     , 0.        ]), array([0.83509725, 1.        , 0.23308271, 0.52821429, 0.5       ,\n",
              "                     0.38461538, 0.375     , 0.17684211, 1.        , 1.        ,\n",
              "                     0.07462687, 1.        , 0.5       , 0.084     , 0.        ]), array([0.80694273, 1.        , 0.15669173, 0.03125   , 0.5       ,\n",
              "                     0.76923077, 0.375     , 0.1622807 , 1.        , 1.        ,\n",
              "                     0.02985075, 1.        , 0.5       , 0.26      , 0.02      ]), array([0.74163193, 1.        , 0.53759398, 0.27089286, 0.5       ,\n",
              "                     0.15384615, 0.5       , 0.26614035, 1.        , 1.        ,\n",
              "                     0.2238806 , 1.        , 0.5       , 0.        , 0.05      ]), array([0.64988848, 1.        , 0.69669173, 0.51785714, 0.5       ,\n",
              "                     0.        , 0.        , 0.63157895, 1.        , 1.        ,\n",
              "                     0.2238806 , 1.        , 0.5       , 0.        , 0.01      ]), array([0.78886313, 1.        , 0.30706767, 0.055     , 0.5       ,\n",
              "                     0.92307692, 0.375     , 0.05403509, 1.        , 1.        ,\n",
              "                     0.01492537, 1.        , 0.5       , 0.26      , 0.5       ]), array([0.49475231, 1.        , 0.61398496, 0.33625   , 0.5       ,\n",
              "                     0.        , 0.        , 0.50578947, 1.        , 1.        ,\n",
              "                     0.1641791 , 1.        , 0.5       , 0.015     , 0.003     ]), array([0.66582175, 1.        , 0.81203008, 0.19642857, 0.5       ,\n",
              "                     0.69230769, 1.        , 0.45614035, 1.        , 1.        ,\n",
              "                     0.01492537, 1.        , 0.5       , 0.        , 0.        ]), array([7.82179883e-01, 1.00000000e+00, 2.11729323e-01, 5.50000000e-02,\n",
              "                     5.00000000e-01, 6.15384615e-01, 3.75000000e-01, 1.31578947e-01,\n",
              "                     1.00000000e+00, 1.00000000e+00, 7.46268657e-02, 1.00000000e+00,\n",
              "                     5.00000000e-01, 5.00000000e-02, 3.00000000e-05]), array([6.06060970e-01, 1.00000000e+00, 9.65413534e-02, 3.30357143e-01,\n",
              "                     5.00000000e-01, 5.38461538e-01, 3.75000000e-01, 5.84210526e-02,\n",
              "                     1.00000000e+00, 1.00000000e+00, 4.47761194e-02, 1.00000000e+00,\n",
              "                     5.00000000e-01, 2.00000000e-02, 2.80000000e-04]), array([0.71561172, 1.        , 0.66285714, 0.25142857, 0.5       ,\n",
              "                     0.46153846, 0.375     , 0.49122807, 1.        , 1.        ,\n",
              "                     0.08955224, 1.        , 0.5       , 0.18      , 0.01332   ]), array([0.82367286, 1.        , 0.19428571, 0.15178571, 0.5       ,\n",
              "                     0.92307692, 0.375     , 0.15052632, 1.        , 1.        ,\n",
              "                     0.01492537, 1.        , 0.5       , 0.06      , 0.        ]), array([0.99468624, 1.        , 0.42601504, 0.03714286, 0.5       ,\n",
              "                     0.61538462, 0.375     , 0.1754386 , 1.        , 1.        ,\n",
              "                     0.08955224, 1.        , 0.5       , 0.25      , 0.1       ]), array([8.49637007e-01, 1.00000000e+00, 3.60902256e-01, 2.50000000e-01,\n",
              "                     5.00000000e-01, 7.69230769e-01, 8.75000000e-01, 4.03508772e-01,\n",
              "                     1.00000000e+00, 1.00000000e+00, 1.04477612e-01, 1.00000000e+00,\n",
              "                     5.00000000e-01, 1.50000000e-01, 5.00000000e-05]), array([8.80918916e-01, 1.00000000e+00, 6.87969925e-01, 9.82142857e-02,\n",
              "                     5.00000000e-01, 6.15384615e-01, 3.75000000e-01, 6.14035088e-02,\n",
              "                     1.00000000e+00, 1.00000000e+00, 7.46268657e-02, 1.00000000e+00,\n",
              "                     5.00000000e-01, 3.00000000e-02, 5.80000000e-04])],\n",
              "             (2,\n",
              "              4): [array([0.63794754, 1.        , 0.77699248, 0.39285714, 0.5       ,\n",
              "                     0.69230769, 1.        , 0.70175439, 1.        , 1.        ,\n",
              "                     0.10447761, 1.        , 0.5       , 0.011     , 0.        ]), array([0.79578263, 1.        , 0.38466165, 0.20982143, 0.5       ,\n",
              "                     0.92307692, 0.875     , 0.35087719, 1.        , 1.        ,\n",
              "                     0.20895522, 1.        , 0.5       , 0.1995    , 0.        ])],\n",
              "             (2,\n",
              "              5): [array([0.85004144, 1.        , 0.42481203, 0.34964286, 0.5       ,\n",
              "                     1.        , 0.875     , 0.27929825, 1.        , 1.        ,\n",
              "                     0.11940299, 0.        , 0.5       , 0.        , 0.        ]), array([0.52909354, 1.        , 0.65669173, 0.30357143, 0.5       ,\n",
              "                     0.69230769, 0.875     , 0.24561404, 1.        , 1.        ,\n",
              "                     0.04477612, 0.        , 0.5       , 0.        , 0.        ]), array([0.39907259, 1.        , 0.2243609 , 0.33339286, 0.5       ,\n",
              "                     0.76923077, 0.875     , 0.19877193, 1.        , 1.        ,\n",
              "                     0.08955224, 0.        , 0.5       , 0.1905    , 0.00168   ])],\n",
              "             (2,\n",
              "              6): [array([0.60079526, 1.        , 0.09654135, 0.29178571, 0.5       ,\n",
              "                     0.38461538, 0.375     , 0.06877193, 1.        , 1.        ,\n",
              "                     0.20895522, 0.        , 0.5       , 0.03      , 0.00158   ]), array([0.89491809, 1.        , 0.07142857, 0.07142857, 0.5       ,\n",
              "                     0.15384615, 0.375     , 0.05263158, 1.        , 1.        ,\n",
              "                     0.02985075, 0.        , 0.5       , 0.06      , 0.003     ]), array([9.98386251e-01, 1.00000000e+00, 7.89473684e-02, 0.00000000e+00,\n",
              "                     0.00000000e+00, 0.00000000e+00, 0.00000000e+00, 0.00000000e+00,\n",
              "                     0.00000000e+00, 1.00000000e+00, 5.97014925e-02, 0.00000000e+00,\n",
              "                     5.00000000e-01, 2.25000000e-02, 1.00000000e-05]), array([0.68123045, 1.        , 0.58270677, 0.23214286, 0.5       ,\n",
              "                     0.23076923, 0.375     , 0.22070175, 1.        , 1.        ,\n",
              "                     0.2238806 , 0.        , 0.5       , 0.        , 0.11202   ]), array([0.85122673, 1.        , 0.16917293, 0.40178571, 0.5       ,\n",
              "                     0.53846154, 0.375     , 0.0877193 , 1.        , 1.        ,\n",
              "                     0.25373134, 0.        , 0.5       , 0.1       , 0.01208   ]), array([9.37300033e-01, 1.00000000e+00, 6.41654135e-01, 1.00000000e+00,\n",
              "                     0.00000000e+00, 5.38461538e-01, 3.75000000e-01, 1.00000000e+00,\n",
              "                     1.00000000e+00, 1.00000000e+00, 5.97014925e-01, 0.00000000e+00,\n",
              "                     5.00000000e-01, 0.00000000e+00, 1.50000000e-04]), array([0.55500563, 1.        , 0.31082707, 0.15178571, 0.5       ,\n",
              "                     0.15384615, 0.5       , 0.11403509, 1.        , 1.        ,\n",
              "                     0.02985075, 0.        , 0.5       , 0.137     , 0.0061    ]), array([0.80466826, 1.        , 0.60406015, 0.34375   , 0.5       ,\n",
              "                     0.69230769, 0.375     , 0.30403509, 1.        , 1.        ,\n",
              "                     0.07462687, 0.        , 0.5       , 0.        , 0.        ]), array([0.93835718, 1.        , 0.14030075, 0.41071429, 0.5       ,\n",
              "                     0.15384615, 0.375     , 0.12280702, 1.        , 1.        ,\n",
              "                     0.13432836, 0.        , 0.5       , 0.028     , 0.00742   ]), array([0.87956545, 1.        , 0.56511278, 0.35714286, 0.5       ,\n",
              "                     0.15384615, 0.5       , 0.        , 1.        , 1.        ,\n",
              "                     0.1641791 , 0.        , 0.5       , 0.        , 0.01249   ]), array([0.94543685, 1.        , 0.17669173, 0.01339286, 0.5       ,\n",
              "                     0.46153846, 0.375     , 0.00877193, 1.        , 1.        ,\n",
              "                     0.04477612, 0.        , 0.5       , 0.13      , 0.15108   ]), array([0.86437698, 1.        , 0.53879699, 0.67857143, 0.5       ,\n",
              "                     0.        , 0.        , 0.        , 1.        , 1.        ,\n",
              "                     0.01492537, 0.        , 0.5       , 0.047     , 0.        ]), array([0.92529502, 1.        , 0.38721805, 0.15178571, 0.5       ,\n",
              "                     0.53846154, 0.5       , 0.22807018, 1.        , 1.        ,\n",
              "                     0.23880597, 0.        , 0.5       , 0.0585    , 0.0121    ]), array([0.63784342, 1.        , 0.11398496, 0.26785714, 0.5       ,\n",
              "                     0.38461538, 0.375     , 0.04964912, 1.        , 1.        ,\n",
              "                     0.01492537, 0.        , 0.5       , 0.04      , 0.098     ])],\n",
              "             (2,\n",
              "              7): [array([0.78541139, 1.        , 0.26315789, 0.10125   , 0.5       ,\n",
              "                     0.        , 0.        , 0.        , 0.        , 1.        ,\n",
              "                     0.07462687, 0.        , 0.5       , 0.088     , 0.00146   ]), array([0.8918788 , 1.        , 0.08766917, 0.02089286, 0.5       ,\n",
              "                     0.        , 0.        , 0.        , 0.        , 1.        ,\n",
              "                     0.04477612, 0.        , 0.5       , 0.175     , 0.00769   ]), array([9.42453620e-01, 1.00000000e+00, 3.88421053e-01, 1.78571429e-01,\n",
              "                     5.00000000e-01, 0.00000000e+00, 0.00000000e+00, 0.00000000e+00,\n",
              "                     0.00000000e+00, 1.00000000e+00, 2.98507463e-02, 0.00000000e+00,\n",
              "                     5.00000000e-01, 8.50000000e-03, 1.00000000e-05])],\n",
              "             (2,\n",
              "              8): [array([0.64370578, 1.        , 0.05518797, 0.23214286, 0.5       ,\n",
              "                     0.15384615, 0.375     , 0.00438596, 0.        , 0.        ,\n",
              "                     0.        , 0.        , 0.5       , 0.03      , 0.001     ]), array([0.50732594, 1.        , 0.5162406 , 0.21571429, 0.5       ,\n",
              "                     0.23076923, 0.375     , 0.00140351, 0.        , 0.        ,\n",
              "                     0.        , 0.        , 0.5       , 0.        , 0.0269    ]), array([0.51582315, 1.        , 0.41233083, 0.04767857, 0.5       ,\n",
              "                     0.07692308, 0.375     , 0.00578947, 0.        , 0.        ,\n",
              "                     0.        , 0.        , 0.5       , 0.084     , 0.        ]), array([0.16048196, 1.        , 0.08646617, 0.34232143, 0.5       ,\n",
              "                     0.38461538, 0.375     , 0.0277193 , 0.        , 0.        ,\n",
              "                     0.        , 0.        , 0.5       , 0.04      , 0.0035    ]), array([0.40738961, 1.        , 0.39353383, 0.17857143, 0.5       ,\n",
              "                     0.15384615, 0.5       , 0.00736842, 0.        , 0.        ,\n",
              "                     0.        , 0.        , 0.5       , 0.275     , 0.        ]), array([0.14119706, 1.        , 0.12661654, 0.02089286, 0.        ,\n",
              "                     0.        , 0.        , 0.        , 0.        , 0.        ,\n",
              "                     0.        , 0.        , 0.5       , 0.05      , 0.        ]), array([0.79043283, 1.        , 0.2243609 , 0.51785714, 0.5       ,\n",
              "                     0.07692308, 0.375     , 0.00438596, 0.        , 0.        ,\n",
              "                     0.        , 0.        , 0.5       , 0.        , 0.00286   ]), array([0.63378703, 1.        , 0.12781955, 0.32142857, 0.5       ,\n",
              "                     0.38461538, 0.375     , 0.00298246, 0.        , 0.        ,\n",
              "                     0.        , 0.        , 0.5       , 0.        , 0.        ]), array([0.55578247, 1.        , 0.16285714, 0.48214286, 0.        ,\n",
              "                     0.        , 0.        , 0.        , 0.        , 0.        ,\n",
              "                     0.        , 0.        , 0.5       , 0.092     , 0.        ]), array([0.53508403, 1.        , 0.14165414, 0.        , 0.5       ,\n",
              "                     0.53846154, 0.375     , 0.        , 0.        , 0.        ,\n",
              "                     0.        , 0.        , 1.        , 0.092     , 0.        ]), array([0.66940564, 1.        , 0.06270677, 0.00732143, 0.5       ,\n",
              "                     0.38461538, 0.375     , 0.00140351, 0.        , 0.        ,\n",
              "                     0.        , 0.        , 0.5       , 0.14      , 0.0075    ]), array([0.47541935, 1.        , 0.29954887, 0.07732143, 0.5       ,\n",
              "                     0.53846154, 0.375     , 0.05263158, 0.        , 0.        ,\n",
              "                     0.        , 0.        , 1.        , 0.06      , 0.        ]), array([0.65900636, 1.        , 0.33714286, 0.19642857, 0.5       ,\n",
              "                     0.15384615, 0.5       , 0.1754386 , 0.        , 0.        ,\n",
              "                     0.        , 0.        , 0.5       , 0.105     , 0.00687   ]), array([0.61922724, 1.        , 0.08646617, 0.01035714, 0.5       ,\n",
              "                     0.23076923, 0.375     , 0.01017544, 0.        , 0.        ,\n",
              "                     0.        , 0.        , 0.5       , 0.14      , 0.00364   ]), array([0.65347637, 1.        , 0.23308271, 0.46428571, 0.5       ,\n",
              "                     0.07692308, 0.875     , 0.01754386, 0.        , 0.        ,\n",
              "                     0.        , 0.        , 0.5       , 0.114     , 0.        ]), array([0.68392538, 1.        , 0.41729323, 0.055     , 0.5       ,\n",
              "                     0.15384615, 0.5       , 0.12280702, 0.        , 0.        ,\n",
              "                     0.        , 0.        , 0.5       , 0.108     , 0.        ]), array([2.32067561e-01, 1.00000000e+00, 5.72631579e-01, 1.07142857e-01,\n",
              "                     0.00000000e+00, 0.00000000e+00, 0.00000000e+00, 5.26315789e-02,\n",
              "                     0.00000000e+00, 0.00000000e+00, 0.00000000e+00, 0.00000000e+00,\n",
              "                     5.00000000e-01, 9.00000000e-02, 4.00000000e-05]), array([0.57070665, 1.        , 0.07263158, 0.20392857, 0.5       ,\n",
              "                     0.07692308, 0.375     , 0.01894737, 0.        , 0.        ,\n",
              "                     0.        , 0.        , 0.5       , 0.06      , 0.        ]), array([0.48434903, 1.        , 0.19669173, 0.01928571, 0.5       ,\n",
              "                     0.23076923, 0.        , 0.        , 0.        , 0.        ,\n",
              "                     0.        , 0.        , 0.5       , 0.05      , 0.        ]), array([2.05626900e-01, 1.00000000e+00, 1.26616541e-01, 8.03571429e-02,\n",
              "                     5.00000000e-01, 1.53846154e-01, 3.75000000e-01, 4.38596491e-03,\n",
              "                     0.00000000e+00, 0.00000000e+00, 0.00000000e+00, 0.00000000e+00,\n",
              "                     5.00000000e-01, 8.00000000e-02, 1.00000000e-04]), array([0.68356498, 1.        , 0.12526316, 0.08339286, 0.5       ,\n",
              "                     0.23076923, 0.375     , 0.02631579, 0.        , 0.        ,\n",
              "                     0.        , 0.        , 0.5       , 0.09      , 0.        ]), array([0.64250848, 1.        , 0.33714286, 0.64732143, 0.5       ,\n",
              "                     0.61538462, 0.375     , 0.00298246, 0.        , 0.        ,\n",
              "                     0.        , 0.        , 0.5       , 0.16      , 0.03552   ]), array([0.23680069, 1.        , 0.55639098, 0.02089286, 0.5       ,\n",
              "                     0.        , 0.        , 0.        , 0.        , 0.        ,\n",
              "                     0.        , 0.        , 0.5       , 0.0725    , 0.        ]), array([0.79838145, 1.        , 0.26796992, 0.02232143, 0.5       ,\n",
              "                     0.23076923, 0.375     , 0.00877193, 0.        , 0.        ,\n",
              "                     0.        , 0.        , 0.5       , 0.19      , 0.0201    ]), array([0.70709849, 1.        , 0.17293233, 0.03571429, 0.5       ,\n",
              "                     0.38461538, 0.375     , 0.01754386, 0.        , 0.        ,\n",
              "                     0.        , 0.        , 0.5       , 0.1       , 0.        ]), array([0.48991106, 1.        , 0.28075188, 0.07732143, 0.        ,\n",
              "                     0.23076923, 0.        , 0.        , 0.        , 0.        ,\n",
              "                     0.        , 0.        , 0.5       , 0.06      , 0.        ]), array([0.85242403, 1.        , 0.10030075, 0.        , 0.5       ,\n",
              "                     0.53846154, 0.375     , 0.        , 0.        , 0.        ,\n",
              "                     0.        , 0.        , 1.        , 0.092     , 0.        ]), array([3.78606409e-01, 1.00000000e+00, 5.72631579e-01, 7.28571429e-02,\n",
              "                     0.00000000e+00, 0.00000000e+00, 0.00000000e+00, 5.26315789e-02,\n",
              "                     0.00000000e+00, 0.00000000e+00, 0.00000000e+00, 0.00000000e+00,\n",
              "                     5.00000000e-01, 6.00000000e-02, 1.00000000e-05]), array([0.26653292, 1.        , 0.13533835, 0.41071429, 0.5       ,\n",
              "                     0.15384615, 0.375     , 0.0145614 , 0.        , 0.        ,\n",
              "                     0.        , 0.        , 0.5       , 0.        , 0.        ]), array([0.68805785, 1.        , 0.30075188, 0.09821429, 0.5       ,\n",
              "                     0.15384615, 0.5       , 0.        , 0.        , 0.        ,\n",
              "                     0.        , 0.        , 0.5       , 0.09      , 0.        ]), array([1.98062700e-01, 1.00000000e+00, 5.32631579e-01, 8.17857143e-02,\n",
              "                     5.00000000e-01, 0.00000000e+00, 0.00000000e+00, 1.01754386e-02,\n",
              "                     0.00000000e+00, 0.00000000e+00, 0.00000000e+00, 0.00000000e+00,\n",
              "                     5.00000000e-01, 1.00000000e-01, 3.00000000e-05]), array([0.36320571, 1.        , 0.40345865, 0.05357143, 0.5       ,\n",
              "                     0.15384615, 0.5       , 0.        , 0.        , 0.        ,\n",
              "                     0.        , 0.        , 0.        , 0.15      , 0.        ]), array([0.73270225, 1.        , 0.33578947, 0.09071429, 0.5       ,\n",
              "                     0.        , 0.        , 0.        , 0.        , 0.        ,\n",
              "                     0.        , 0.        , 0.5       , 0.        , 0.01      ]), array([2.00040844e-01, 1.00000000e+00, 3.40902256e-01, 2.67857143e-02,\n",
              "                     0.00000000e+00, 7.69230769e-02, 3.75000000e-01, 2.05263158e-02,\n",
              "                     0.00000000e+00, 0.00000000e+00, 0.00000000e+00, 0.00000000e+00,\n",
              "                     5.00000000e-01, 1.20000000e-01, 3.00000000e-05]), array([7.33883530e-01, 1.00000000e+00, 5.16240602e-01, 1.33928571e-01,\n",
              "                     5.00000000e-01, 1.53846154e-01, 5.00000000e-01, 3.50877193e-02,\n",
              "                     0.00000000e+00, 0.00000000e+00, 0.00000000e+00, 0.00000000e+00,\n",
              "                     5.00000000e-01, 5.00000000e-02, 2.00000000e-05]), array([0.64909162, 1.        , 0.07263158, 0.3675    , 0.5       ,\n",
              "                     0.        , 0.        , 0.0145614 , 0.        , 0.        ,\n",
              "                     0.        , 0.        , 0.5       , 0.04      , 0.        ]), array([3.99937532e-01, 1.00000000e+00, 1.46616541e-01, 9.82142857e-02,\n",
              "                     5.00000000e-01, 0.00000000e+00, 0.00000000e+00, 1.57894737e-01,\n",
              "                     0.00000000e+00, 0.00000000e+00, 0.00000000e+00, 0.00000000e+00,\n",
              "                     5.00000000e-01, 8.00000000e-02, 2.50000000e-04]), array([0.34818944, 1.        , 0.09398496, 0.        , 0.5       ,\n",
              "                     0.07692308, 0.375     , 0.01754386, 0.        , 0.        ,\n",
              "                     0.        , 0.        , 0.5       , 0.072     , 0.        ])],\n",
              "             (2,\n",
              "              9): [array([0.39333838, 1.        , 0.21172932, 0.03571429, 0.        ,\n",
              "                     0.07692308, 0.875     , 0.10526316, 0.        , 0.        ,\n",
              "                     0.        , 0.        , 0.5       , 0.088     , 0.00537   ]), array([8.08936888e-01, 1.00000000e+00, 9.39849624e-02, 4.46428571e-02,\n",
              "                     0.00000000e+00, 2.30769231e-01, 3.75000000e-01, 4.38596491e-03,\n",
              "                     0.00000000e+00, 0.00000000e+00, 0.00000000e+00, 0.00000000e+00,\n",
              "                     5.00000000e-01, 7.00000000e-02, 4.00000000e-05]), array([5.83560580e-01, 1.00000000e+00, 1.31578947e-01, 4.46428571e-03,\n",
              "                     0.00000000e+00, 2.30769231e-01, 3.75000000e-01, 4.38596491e-03,\n",
              "                     0.00000000e+00, 0.00000000e+00, 0.00000000e+00, 0.00000000e+00,\n",
              "                     5.00000000e-01, 1.00000000e-01, 7.00000000e-04]), array([0.68839822, 1.        , 0.03639098, 0.00142857, 0.5       ,\n",
              "                     0.53846154, 0.375     , 0.00140351, 0.        , 0.        ,\n",
              "                     0.        , 0.        , 0.5       , 0.        , 0.        ]), array([0.61993201, 1.        , 0.11022556, 0.14732143, 0.        ,\n",
              "                     0.15384615, 0.875     , 0.00140351, 0.        , 0.        ,\n",
              "                     0.        , 0.        , 0.5       , 0.07      , 0.001     ]), array([0.12446692, 1.        , 0.21684211, 0.00446429, 0.        ,\n",
              "                     0.23076923, 0.375     , 0.00298246, 0.        , 0.        ,\n",
              "                     0.        , 0.        , 0.5       , 0.108     , 0.021     ]), array([0.57560395, 1.        , 0.2356391 , 0.04464286, 0.5       ,\n",
              "                     0.61538462, 0.375     , 0.06140351, 0.        , 0.        ,\n",
              "                     0.        , 0.        , 0.5       , 0.1       , 0.        ]), array([7.46509216e-01, 1.00000000e+00, 3.42105263e-01, 1.51785714e-01,\n",
              "                     5.00000000e-01, 7.69230769e-01, 3.75000000e-01, 1.22807018e-01,\n",
              "                     0.00000000e+00, 0.00000000e+00, 0.00000000e+00, 0.00000000e+00,\n",
              "                     5.00000000e-01, 2.27000000e-01, 5.00000000e-04]), array([0.80564132, 1.        , 0.24180451, 0.125     , 0.5       ,\n",
              "                     0.53846154, 0.375     , 0.00578947, 0.        , 0.        ,\n",
              "                     0.        , 0.        , 0.5       , 0.108     , 0.        ]), array([3.59389578e-01, 1.00000000e+00, 1.12781955e-01, 5.35714286e-02,\n",
              "                     5.00000000e-01, 6.15384615e-01, 3.75000000e-01, 5.26315789e-02,\n",
              "                     0.00000000e+00, 0.00000000e+00, 0.00000000e+00, 0.00000000e+00,\n",
              "                     5.00000000e-01, 7.50000000e-02, 8.00000000e-05]), array([0.88887955, 1.        , 0.2718797 , 0.00142857, 0.        ,\n",
              "                     0.46153846, 0.375     , 0.00140351, 0.        , 0.        ,\n",
              "                     0.        , 0.        , 0.5       , 0.        , 0.        ]), array([0.49051572, 1.        , 0.36842105, 0.36160714, 0.        ,\n",
              "                     0.23076923, 0.375     , 0.00438596, 0.        , 0.        ,\n",
              "                     0.        , 0.        , 0.5       , 0.08      , 0.        ]), array([0.53080339, 1.        , 0.2281203 , 0.01339286, 0.5       ,\n",
              "                     0.53846154, 0.375     , 0.01017544, 0.        , 0.        ,\n",
              "                     0.        , 0.        , 0.5       , 0.11      , 0.0014    ]), array([0.17208254, 1.        , 0.02135338, 0.25      , 0.5       ,\n",
              "                     0.69230769, 0.375     , 0.03508772, 0.        , 0.        ,\n",
              "                     0.        , 0.        , 0.5       , 0.3       , 0.        ]), array([9.33736170e-01, 1.00000000e+00, 3.05714286e-01, 8.92857143e-02,\n",
              "                     5.00000000e-01, 5.38461538e-01, 3.75000000e-01, 3.50877193e-02,\n",
              "                     0.00000000e+00, 0.00000000e+00, 0.00000000e+00, 0.00000000e+00,\n",
              "                     5.00000000e-01, 2.30000000e-01, 1.60000000e-04]), array([0.10891807, 1.        , 0.10526316, 0.18160714, 0.        ,\n",
              "                     0.30769231, 0.375     , 0.01017544, 0.        , 0.        ,\n",
              "                     0.        , 0.        , 0.5       , 0.07      , 0.00184   ]), array([0.56430371, 1.        , 0.09398496, 0.25      , 0.5       ,\n",
              "                     0.53846154, 0.375     , 0.01754386, 0.        , 0.        ,\n",
              "                     0.        , 0.        , 0.5       , 0.        , 0.        ]), array([9.11596170e-01, 1.00000000e+00, 2.67969925e-01, 1.07142857e-01,\n",
              "                     0.00000000e+00, 1.53846154e-01, 5.00000000e-01, 2.45614035e-01,\n",
              "                     0.00000000e+00, 0.00000000e+00, 0.00000000e+00, 0.00000000e+00,\n",
              "                     5.00000000e-01, 0.00000000e+00, 1.00000000e-05]), array([0.66055204, 1.        , 0.29954887, 0.04464286, 0.5       ,\n",
              "                     0.61538462, 0.375     , 0.04087719, 0.        , 0.        ,\n",
              "                     0.        , 0.        , 0.5       , 0.06      , 0.        ]), array([0.06469813, 1.        , 0.04135338, 0.00446429, 0.5       ,\n",
              "                     0.53846154, 0.375     , 0.00578947, 0.        , 0.        ,\n",
              "                     0.        , 0.        , 0.5       , 0.066     , 0.        ]), array([0.1852368 , 1.        , 0.06887218, 0.04321429, 0.        ,\n",
              "                     0.69230769, 0.125     , 0.        , 0.        , 0.        ,\n",
              "                     0.        , 0.        , 0.5       , 0.05      , 0.        ]), array([0.91139996, 1.        , 0.11022556, 0.36017857, 0.        ,\n",
              "                     0.69230769, 0.875     , 0.04385965, 0.        , 0.        ,\n",
              "                     0.        , 0.        , 0.5       , 0.13      , 0.        ]), array([0.99167097, 1.        , 0.2593985 , 0.07446429, 0.5       ,\n",
              "                     0.53846154, 0.375     , 0.00298246, 0.        , 0.        ,\n",
              "                     0.        , 0.        , 0.5       , 0.15      , 0.        ]), array([0.10997521, 1.        , 0.2606015 , 0.05357143, 0.        ,\n",
              "                     0.61538462, 0.375     , 0.00140351, 0.        , 0.        ,\n",
              "                     0.        , 0.        , 0.        , 0.08      , 0.        ]), array([0.67830328, 1.        , 0.03759398, 0.        , 0.        ,\n",
              "                     0.38461538, 0.375     , 0.00877193, 0.        , 0.        ,\n",
              "                     0.        , 0.        , 0.5       , 0.03      , 0.        ]), array([8.56039947e-01, 1.00000000e+00, 7.63909774e-02, 0.00000000e+00,\n",
              "                     5.00000000e-01, 7.69230769e-01, 3.75000000e-01, 2.33333333e-02,\n",
              "                     0.00000000e+00, 0.00000000e+00, 0.00000000e+00, 0.00000000e+00,\n",
              "                     5.00000000e-01, 8.00000000e-02, 1.00000000e-05]), array([0.32357876, 1.        , 0.24180451, 0.04464286, 0.        ,\n",
              "                     0.23076923, 0.375     , 0.00877193, 0.        , 0.        ,\n",
              "                     0.        , 0.        , 0.5       , 0.112     , 0.        ]), array([0.50741404, 1.        , 0.11157895, 0.00892857, 0.        ,\n",
              "                     0.53846154, 0.875     , 0.00877193, 0.        , 0.        ,\n",
              "                     0.        , 0.        , 0.5       , 0.14      , 0.00204   ]), array([5.39925279e-01, 1.00000000e+00, 1.81654135e-01, 4.58392857e-01,\n",
              "                     5.00000000e-01, 9.23076923e-01, 3.75000000e-01, 1.75438596e-02,\n",
              "                     0.00000000e+00, 0.00000000e+00, 0.00000000e+00, 0.00000000e+00,\n",
              "                     5.00000000e-01, 0.00000000e+00, 2.00000000e-05]), array([0.56592546, 1.        , 0.09518797, 0.00892857, 0.5       ,\n",
              "                     0.76923077, 0.375     , 0.00438596, 0.        , 0.        ,\n",
              "                     0.        , 0.        , 0.5       , 0.1       , 0.        ]), array([3.19774636e-01, 1.00000000e+00, 1.00300752e-01, 3.87500000e-02,\n",
              "                     5.00000000e-01, 7.69230769e-01, 3.75000000e-01, 5.26315789e-02,\n",
              "                     0.00000000e+00, 0.00000000e+00, 0.00000000e+00, 0.00000000e+00,\n",
              "                     5.00000000e-01, 5.40000000e-02, 7.00000000e-05]), array([0.13389714, 1.        , 0.04766917, 0.01196429, 0.        ,\n",
              "                     0.23076923, 0.375     , 0.01017544, 0.        , 0.        ,\n",
              "                     0.        , 0.        , 0.        , 0.1       , 0.        ]), array([0.4707583 , 1.        , 0.2393985 , 0.02678571, 0.        ,\n",
              "                     0.53846154, 0.375     , 0.00140351, 0.        , 0.        ,\n",
              "                     0.        , 0.        , 0.5       , 0.12      , 0.        ]), array([0.3466758 , 1.        , 0.06511278, 0.24107143, 0.        ,\n",
              "                     0.46153846, 0.375     , 0.00140351, 0.        , 0.        ,\n",
              "                     0.        , 0.        , 0.5       , 0.07      , 0.        ]), array([0.30547914, 1.        , 0.31699248, 0.08928571, 0.        ,\n",
              "                     0.61538462, 0.375     , 0.10526316, 0.        , 0.        ,\n",
              "                     0.        , 0.        , 0.        , 0.1       , 0.        ]), array([6.55362413e-01, 1.00000000e+00, 6.64661654e-02, 3.66071429e-01,\n",
              "                     5.00000000e-01, 5.38461538e-01, 8.75000000e-01, 3.80701754e-02,\n",
              "                     0.00000000e+00, 0.00000000e+00, 0.00000000e+00, 0.00000000e+00,\n",
              "                     5.00000000e-01, 1.60000000e-01, 1.30000000e-04]), array([0.21779209, 1.        , 0.12285714, 0.01785714, 0.5       ,\n",
              "                     0.53846154, 0.375     , 0.00438596, 0.        , 0.        ,\n",
              "                     0.        , 0.        , 0.5       , 0.18      , 0.        ]), array([0.30572741, 1.        , 0.31458647, 0.03857143, 0.5       ,\n",
              "                     0.46153846, 0.375     , 0.04087719, 0.        , 0.        ,\n",
              "                     0.        , 0.        , 0.        , 0.014     , 0.        ]), array([0.81313344, 1.        , 0.24691729, 0.03875   , 0.        ,\n",
              "                     0.53846154, 0.375     , 0.00140351, 0.        , 0.        ,\n",
              "                     0.        , 0.        , 0.5       , 0.085     , 0.00179   ]), array([0.90342732, 1.        , 0.05007519, 0.00303571, 0.        ,\n",
              "                     0.53846154, 0.375     , 0.00140351, 0.        , 0.        ,\n",
              "                     0.        , 0.        , 0.5       , 0.07      , 0.00722   ]), array([0.67876378, 1.        , 0.13789474, 0.00607143, 0.5       ,\n",
              "                     0.46153846, 0.375     , 0.00298246, 0.        , 0.        ,\n",
              "                     0.        , 0.        , 0.        , 0.        , 0.        ]), array([0.86643922, 1.        , 0.31578947, 0.08928571, 0.5       ,\n",
              "                     0.92307692, 0.5       , 0.01754386, 0.        , 0.        ,\n",
              "                     0.        , 0.        , 0.5       , 0.174     , 0.        ]), array([0.31177797, 1.        , 0.11157895, 0.03125   , 0.        ,\n",
              "                     0.53846154, 0.875     , 0.00877193, 0.        , 0.        ,\n",
              "                     0.        , 0.        , 0.5       , 0.14      , 0.00204   ]), array([0.13543081, 1.        , 0.38601504, 0.06107143, 0.        ,\n",
              "                     0.46153846, 0.375     , 0.00578947, 0.        , 0.        ,\n",
              "                     0.        , 0.        , 0.        , 0.2       , 0.        ]), array([0.45275078, 1.        , 0.11774436, 0.02821429, 0.        ,\n",
              "                     0.92307692, 0.375     , 0.02333333, 0.        , 0.        ,\n",
              "                     0.        , 0.        , 0.5       , 0.08      , 0.        ]), array([0.85641636, 1.        , 0.13789474, 0.11303571, 0.        ,\n",
              "                     0.53846154, 0.375     , 0.00578947, 0.        , 0.        ,\n",
              "                     0.        , 0.        , 0.5       , 0.08      , 0.01058   ]), array([0.54585571, 1.        , 0.16285714, 0.04464286, 0.5       ,\n",
              "                     0.53846154, 0.375     , 0.00877193, 0.        , 0.        ,\n",
              "                     0.        , 0.        , 0.5       , 0.055     , 0.        ]), array([0.35657052, 1.        , 0.15037594, 0.42857143, 0.5       ,\n",
              "                     0.53846154, 0.375     , 0.07315789, 0.        , 0.        ,\n",
              "                     0.        , 0.        , 0.        , 0.04      , 0.        ]), array([0.70443961, 1.        , 0.18676692, 0.02982143, 0.5       ,\n",
              "                     0.92307692, 0.375     , 0.04087719, 0.        , 0.        ,\n",
              "                     0.        , 0.        , 0.5       , 0.05      , 0.        ]), array([0.4027686 , 1.        , 0.15293233, 0.02375   , 0.5       ,\n",
              "                     0.53846154, 0.375     , 0.00578947, 0.        , 0.        ,\n",
              "                     0.        , 0.        , 0.5       , 0.05      , 0.        ]), array([0.65845777, 1.        , 0.19548872, 0.16071429, 0.        ,\n",
              "                     0.53846154, 0.5       , 0.0877193 , 0.        , 0.        ,\n",
              "                     0.        , 0.        , 0.5       , 0.1       , 0.0121    ]), array([0.18452002, 1.        , 0.05894737, 0.15928571, 0.5       ,\n",
              "                     0.53846154, 0.375     , 0.00877193, 0.        , 0.        ,\n",
              "                     0.        , 0.        , 0.        , 0.04      , 0.        ]), array([8.17950659e-01, 1.00000000e+00, 1.04060150e-01, 1.48214286e-02,\n",
              "                     5.00000000e-01, 5.38461538e-01, 3.75000000e-01, 4.38596491e-03,\n",
              "                     0.00000000e+00, 0.00000000e+00, 0.00000000e+00, 0.00000000e+00,\n",
              "                     5.00000000e-01, 0.00000000e+00, 4.40000000e-04])],\n",
              "             (3,\n",
              "              0): [array([0.61757345, 0.        , 0.32210526, 0.13392857, 0.5       ,\n",
              "                     0.        , 0.        , 0.        , 0.        , 1.        ,\n",
              "                     0.08955224, 0.        , 0.5       , 0.        , 0.002     ]), array([7.82624365e-01, 0.00000000e+00, 4.13533835e-02, 4.46428571e-02,\n",
              "                     5.00000000e-01, 7.69230769e-01, 3.75000000e-01, 8.77192982e-03,\n",
              "                     0.00000000e+00, 1.00000000e+00, 1.49253731e-02, 0.00000000e+00,\n",
              "                     5.00000000e-01, 5.40000000e-02, 9.80000000e-04]), array([5.84745865e-01, 0.00000000e+00, 1.39097744e-01, 6.55357143e-02,\n",
              "                     5.00000000e-01, 3.07692308e-01, 2.50000000e-01, 0.00000000e+00,\n",
              "                     0.00000000e+00, 1.00000000e+00, 1.49253731e-02, 0.00000000e+00,\n",
              "                     5.00000000e-01, 1.00000000e-01, 5.30000000e-04]), array([0.78492686, 0.        , 0.03503759, 0.01196429, 0.5       ,\n",
              "                     0.        , 0.        , 0.        , 0.        , 1.        ,\n",
              "                     0.01492537, 0.        , 0.5       , 0.08      , 0.00126   ]), array([8.22015064e-01, 0.00000000e+00, 3.99699248e-01, 2.90178571e-01,\n",
              "                     0.00000000e+00, 2.30769231e-01, 3.75000000e-01, 5.78947368e-03,\n",
              "                     0.00000000e+00, 1.00000000e+00, 2.98507463e-02, 0.00000000e+00,\n",
              "                     5.00000000e-01, 9.20000000e-02, 1.80000000e-04]), array([6.83480893e-01, 0.00000000e+00, 3.43308271e-01, 1.03571429e-02,\n",
              "                     5.00000000e-01, 0.00000000e+00, 0.00000000e+00, 0.00000000e+00,\n",
              "                     0.00000000e+00, 1.00000000e+00, 1.49253731e-01, 0.00000000e+00,\n",
              "                     5.00000000e-01, 1.00000000e-01, 1.80000000e-04]), array([0.80495257, 0.        , 0.20180451, 0.04464286, 0.5       ,\n",
              "                     0.        , 0.        , 0.        , 0.        , 1.        ,\n",
              "                     0.01492537, 0.        , 0.5       , 0.046     , 0.003     ]), array([4.09323707e-01, 0.00000000e+00, 6.59097744e-01, 7.14285714e-02,\n",
              "                     5.00000000e-01, 0.00000000e+00, 0.00000000e+00, 2.28070175e-01,\n",
              "                     0.00000000e+00, 1.00000000e+00, 1.49253731e-02, 0.00000000e+00,\n",
              "                     5.00000000e-01, 0.00000000e+00, 1.00000000e-04]), array([3.97923349e-01, 0.00000000e+00, 6.76691729e-02, 3.57142857e-01,\n",
              "                     5.00000000e-01, 6.15384615e-01, 3.75000000e-01, 3.50877193e-02,\n",
              "                     0.00000000e+00, 1.00000000e+00, 1.49253731e-02, 0.00000000e+00,\n",
              "                     5.00000000e-01, 6.00000000e-02, 1.00000000e-05])],\n",
              "             (3,\n",
              "              2): [array([0.99309251, 1.        , 0.43729323, 0.04464286, 0.5       ,\n",
              "                     0.46153846, 0.375     , 0.48684211, 0.        , 1.        ,\n",
              "                     0.01492537, 1.        , 0.5       , 0.176     , 0.00112   ]), array([9.99311253e-01, 1.00000000e+00, 2.07969925e-01, 1.16071429e-01,\n",
              "                     0.00000000e+00, 7.69230769e-01, 8.75000000e-01, 1.78421053e-01,\n",
              "                     0.00000000e+00, 1.00000000e+00, 2.98507463e-02, 1.00000000e+00,\n",
              "                     5.00000000e-01, 1.84500000e-01, 1.00000000e-05]), array([7.15011072e-01, 1.00000000e+00, 1.34135338e-01, 2.67857143e-02,\n",
              "                     5.00000000e-01, 1.53846154e-01, 3.75000000e-01, 5.56140351e-02,\n",
              "                     0.00000000e+00, 1.00000000e+00, 1.49253731e-02, 1.00000000e+00,\n",
              "                     5.00000000e-01, 2.00000000e-01, 9.00000000e-05]), array([0.83378382, 1.        , 0.28827068, 0.08928571, 0.5       ,\n",
              "                     0.38461538, 0.375     , 0.06140351, 0.        , 1.        ,\n",
              "                     0.02985075, 1.        , 0.5       , 0.36      , 0.        ]), array([0.0211269 , 1.        , 0.2356391 , 0.04464286, 0.5       ,\n",
              "                     0.53846154, 0.875     , 0.00877193, 0.        , 1.        ,\n",
              "                     0.02985075, 1.        , 0.5       , 0.2       , 0.00108   ]), array([5.14649880e-01, 1.00000000e+00, 2.38045113e-01, 1.69642857e-01,\n",
              "                     5.00000000e-01, 4.61538462e-01, 3.75000000e-01, 7.01754386e-02,\n",
              "                     0.00000000e+00, 1.00000000e+00, 1.49253731e-02, 1.00000000e+00,\n",
              "                     5.00000000e-01, 2.30000000e-01, 6.80000000e-04]), array([9.60693392e-01, 1.00000000e+00, 2.11729323e-01, 5.35714286e-02,\n",
              "                     5.00000000e-01, 6.15384615e-01, 3.75000000e-01, 7.89473684e-02,\n",
              "                     0.00000000e+00, 1.00000000e+00, 1.49253731e-02, 1.00000000e+00,\n",
              "                     5.00000000e-01, 5.00000000e-02, 3.00000000e-05]), array([0.50856729, 1.        , 0.12661654, 0.43303571, 0.5       ,\n",
              "                     0.53846154, 0.375     , 0.11701754, 0.        , 1.        ,\n",
              "                     0.02985075, 1.        , 0.5       , 0.09      , 0.00173   ]), array([0.89757697, 1.        , 0.06646617, 0.08785714, 0.5       ,\n",
              "                     0.53846154, 0.75      , 0.03368421, 0.        , 1.        ,\n",
              "                     0.02985075, 1.        , 0.5       , 0.08      , 0.00587   ]), array([2.12186010e-01, 1.00000000e+00, 1.79248120e-01, 1.16071429e-01,\n",
              "                     5.00000000e-01, 5.38461538e-01, 8.75000000e-01, 8.03508772e-02,\n",
              "                     0.00000000e+00, 1.00000000e+00, 1.49253731e-02, 1.00000000e+00,\n",
              "                     5.00000000e-01, 2.08000000e-01, 2.10000000e-04]), array([7.69710366e-01, 1.00000000e+00, 2.60601504e-01, 1.10178571e-01,\n",
              "                     5.00000000e-01, 5.38461538e-01, 3.75000000e-01, 8.77192982e-02,\n",
              "                     0.00000000e+00, 1.00000000e+00, 2.98507463e-02, 1.00000000e+00,\n",
              "                     5.00000000e-01, 8.00000000e-02, 4.10000000e-04]), array([4.47208774e-01, 1.00000000e+00, 8.39097744e-02, 3.89821429e-01,\n",
              "                     5.00000000e-01, 5.38461538e-01, 5.00000000e-01, 2.05263158e-02,\n",
              "                     0.00000000e+00, 1.00000000e+00, 2.98507463e-02, 1.00000000e+00,\n",
              "                     5.00000000e-01, 1.00000000e-01, 7.00000000e-05]), array([7.21181761e-02, 1.00000000e+00, 1.83007519e-01, 3.12500000e-02,\n",
              "                     5.00000000e-01, 2.30769231e-01, 3.75000000e-01, 1.31578947e-02,\n",
              "                     0.00000000e+00, 1.00000000e+00, 2.98507463e-02, 1.00000000e+00,\n",
              "                     5.00000000e-01, 8.70000000e-02, 3.00000000e-05]), array([9.81071481e-01, 1.00000000e+00, 1.46616541e-01, 1.13035714e-01,\n",
              "                     0.00000000e+00, 2.30769231e-01, 3.75000000e-01, 1.45614035e-02,\n",
              "                     0.00000000e+00, 1.00000000e+00, 1.49253731e-02, 1.00000000e+00,\n",
              "                     5.00000000e-01, 1.40000000e-01, 8.00000000e-04])],\n",
              "             (3,\n",
              "              3): [array([0.35696695, 1.        , 0.75684211, 0.71428571, 0.5       ,\n",
              "                     1.        , 0.875     , 0.61403509, 1.        , 1.        ,\n",
              "                     0.13432836, 1.        , 0.5       , 0.        , 0.01      ]), array([0.63313832, 1.        , 0.94736842, 0.79607143, 0.5       ,\n",
              "                     0.69230769, 1.        , 0.44736842, 1.        , 1.        ,\n",
              "                     0.01492537, 1.        , 0.5       , 0.        , 0.00109   ]), array([0.72591089, 1.        , 0.31578947, 0.53571429, 0.5       ,\n",
              "                     0.84615385, 0.75      , 0.18859649, 1.        , 1.        ,\n",
              "                     0.13432836, 1.        , 0.5       , 0.        , 0.00134   ]), array([0.40742565, 1.        , 0.32210526, 0.89732143, 0.5       ,\n",
              "                     1.        , 0.875     , 0.05701754, 1.        , 1.        ,\n",
              "                     0.01492537, 1.        , 0.5       , 0.2575    , 0.005     ])],\n",
              "             (3,\n",
              "              4): [array([0.3832074 , 1.        , 0.52631579, 0.30357143, 0.5       ,\n",
              "                     0.53846154, 0.875     , 0.43859649, 1.        , 1.        ,\n",
              "                     0.13432836, 0.        , 0.5       , 0.0905    , 0.01655   ]), array([0.14712749, 1.        , 0.51759398, 0.27232143, 0.5       ,\n",
              "                     0.61538462, 0.875     , 0.54385965, 1.        , 1.        ,\n",
              "                     0.17910448, 0.        , 0.5       , 0.        , 0.0079    ])],\n",
              "             (3,\n",
              "              5): [array([0.42277429, 1.        , 0.61774436, 0.55357143, 0.5       ,\n",
              "                     0.69230769, 1.        , 0.        , 1.        , 1.        ,\n",
              "                     0.29850746, 0.        , 0.5       , 0.076     , 0.0013    ])],\n",
              "             (3,\n",
              "              7): [array([0.56480425, 0.        , 0.40721805, 0.125     , 0.5       ,\n",
              "                     0.15384615, 0.5       , 0.01754386, 0.        , 0.        ,\n",
              "                     0.        , 0.        , 0.        , 0.58      , 0.        ]), array([4.29185237e-01, 0.00000000e+00, 7.26315789e-02, 3.57142857e-01,\n",
              "                     5.00000000e-01, 7.69230769e-02, 3.75000000e-01, 1.45614035e-02,\n",
              "                     0.00000000e+00, 0.00000000e+00, 0.00000000e+00, 0.00000000e+00,\n",
              "                     5.00000000e-01, 4.00000000e-02, 4.20000000e-04]), array([0.87362301, 0.        , 0.37849624, 0.05946429, 0.5       ,\n",
              "                     0.38461538, 0.375     , 0.00877193, 0.        , 0.        ,\n",
              "                     0.        , 0.        , 0.5       , 0.        , 0.0039    ]), array([0.34498997, 0.        , 0.37593985, 0.05357143, 0.5       ,\n",
              "                     0.        , 0.        , 0.        , 0.        , 0.        ,\n",
              "                     0.        , 0.        , 0.5       , 0.038     , 0.        ]), array([0.6021247 , 0.        , 0.12781955, 0.04464286, 0.        ,\n",
              "                     0.        , 0.        , 0.11403509, 0.        , 0.        ,\n",
              "                     0.        , 0.        , 0.5       , 0.14      , 0.        ]), array([0.3433562 , 0.        , 0.83834586, 0.21428571, 0.5       ,\n",
              "                     0.        , 0.        , 0.        , 0.        , 0.        ,\n",
              "                     0.        , 0.        , 0.        , 0.        , 0.        ]), array([0.42815612, 0.        , 0.34586466, 0.16821429, 0.5       ,\n",
              "                     0.        , 0.        , 0.        , 0.        , 0.        ,\n",
              "                     0.        , 0.        , 0.5       , 0.08      , 0.        ]), array([0.81622078, 0.        , 0.27443609, 0.21428571, 0.5       ,\n",
              "                     0.07692308, 0.375     , 0.04385965, 0.        , 0.        ,\n",
              "                     0.        , 0.        , 0.5       , 0.136     , 0.        ]), array([0.74733011, 0.        , 0.11022556, 0.17857143, 0.        ,\n",
              "                     0.        , 0.        , 0.        , 0.        , 0.        ,\n",
              "                     0.        , 0.        , 0.5       , 0.        , 0.        ]), array([0.68401747, 0.        , 0.26796992, 0.40178571, 0.5       ,\n",
              "                     0.        , 0.        , 0.        , 0.        , 0.        ,\n",
              "                     0.        , 0.        , 0.5       , 0.092     , 0.052     ]), array([8.54898710e-01, 0.00000000e+00, 2.04210526e-01, 5.94642857e-02,\n",
              "                     5.00000000e-01, 0.00000000e+00, 0.00000000e+00, 0.00000000e+00,\n",
              "                     0.00000000e+00, 0.00000000e+00, 0.00000000e+00, 0.00000000e+00,\n",
              "                     5.00000000e-01, 1.70000000e-01, 1.00000000e-05]), array([0.74826712, 0.        , 0.41849624, 0.03714286, 0.5       ,\n",
              "                     0.38461538, 0.375     , 0.02333333, 0.        , 0.        ,\n",
              "                     0.        , 0.        , 0.5       , 0.12      , 0.00237   ]), array([0.19854322, 0.        , 0.06270677, 0.36464286, 0.5       ,\n",
              "                     0.        , 0.        , 0.        , 0.        , 0.        ,\n",
              "                     0.        , 0.        , 0.5       , 0.        , 0.0005    ]), array([0.9592278 , 0.        , 0.51759398, 0.04767857, 0.5       ,\n",
              "                     0.15384615, 0.75      , 0.01175439, 0.        , 0.        ,\n",
              "                     0.        , 0.        , 0.5       , 0.        , 0.0012    ])],\n",
              "             (4,\n",
              "              0): [array([0.56142458, 0.        , 0.35458647, 0.08928571, 0.5       ,\n",
              "                     0.15384615, 0.875     , 0.00736842, 0.        , 0.        ,\n",
              "                     0.        , 0.        , 0.5       , 0.13      , 0.00246   ]), array([1.71710134e-01, 0.00000000e+00, 2.50676692e-01, 4.91071429e-02,\n",
              "                     5.00000000e-01, 6.15384615e-01, 8.75000000e-01, 1.40350877e-03,\n",
              "                     0.00000000e+00, 1.00000000e+00, 4.47761194e-02, 0.00000000e+00,\n",
              "                     5.00000000e-01, 0.00000000e+00, 3.30000000e-04]), array([3.96069339e-02, 0.00000000e+00, 1.65413534e-01, 4.88035714e-01,\n",
              "                     5.00000000e-01, 7.69230769e-01, 8.75000000e-01, 5.26315789e-02,\n",
              "                     0.00000000e+00, 0.00000000e+00, 0.00000000e+00, 0.00000000e+00,\n",
              "                     5.00000000e-01, 1.40000000e-01, 1.00000000e-05]), array([0.4413264 , 0.        , 0.08150376, 0.19339286, 0.5       ,\n",
              "                     0.15384615, 0.875     , 0.01017544, 0.        , 0.        ,\n",
              "                     0.        , 0.        , 0.5       , 0.04      , 0.00484   ]), array([0.40224403, 0.        , 0.09518797, 0.00446429, 0.5       ,\n",
              "                     0.76923077, 0.375     , 0.03508772, 0.        , 1.        ,\n",
              "                     0.01492537, 0.        , 0.5       , 0.12      , 0.00768   ]), array([1.60806314e-01, 0.00000000e+00, 8.76691729e-02, 2.37500000e-02,\n",
              "                     0.00000000e+00, 5.38461538e-01, 3.75000000e-01, 3.50877193e-02,\n",
              "                     0.00000000e+00, 1.00000000e+00, 1.49253731e-02, 0.00000000e+00,\n",
              "                     5.00000000e-01, 1.00000000e+00, 2.00000000e-05]), array([3.79667560e-01, 0.00000000e+00, 1.22857143e-01, 4.16607143e-01,\n",
              "                     5.00000000e-01, 2.30769231e-01, 8.75000000e-01, 2.98245614e-03,\n",
              "                     0.00000000e+00, 0.00000000e+00, 0.00000000e+00, 0.00000000e+00,\n",
              "                     5.00000000e-01, 1.60000000e-01, 5.00000000e-05]), array([0.58297194, 0.        , 0.13413534, 0.01196429, 0.5       ,\n",
              "                     0.76923077, 0.375     , 0.02631579, 0.        , 0.        ,\n",
              "                     0.        , 0.        , 0.        , 0.08      , 0.        ]), array([0.40196373, 0.        , 0.58270677, 0.25      , 0.5       ,\n",
              "                     0.38461538, 0.875     , 0.10526316, 0.        , 0.        ,\n",
              "                     0.        , 0.        , 0.5       , 0.        , 0.        ])],\n",
              "             (4,\n",
              "              4): [array([0.22357035, 1.        , 0.39473684, 0.23214286, 0.5       ,\n",
              "                     0.38461538, 0.5       , 0.12280702, 1.        , 1.        ,\n",
              "                     0.01492537, 0.        , 0.5       , 0.        , 0.005     ]), array([0.08065143, 1.        , 0.39849624, 0.76785714, 0.5       ,\n",
              "                     0.69230769, 1.        , 0.70175439, 1.        , 1.        ,\n",
              "                     0.1641791 , 0.        , 0.5       , 0.        , 0.012     ]), array([0.10346416, 1.        , 0.32210526, 0.08928571, 0.5       ,\n",
              "                     0.23076923, 0.375     , 0.15789474, 1.        , 1.        ,\n",
              "                     0.10447761, 0.        , 0.5       , 0.075     , 0.0127    ]), array([1.02695322e-01, 1.00000000e+00, 5.18796992e-01, 8.95892857e-01,\n",
              "                     5.00000000e-01, 6.15384615e-01, 3.75000000e-01, 6.14035088e-02,\n",
              "                     1.00000000e+00, 1.00000000e+00, 4.47761194e-02, 0.00000000e+00,\n",
              "                     5.00000000e-01, 6.00000000e-02, 1.40000000e-04]), array([0.33423831, 1.        , 0.56887218, 0.53571429, 0.5       ,\n",
              "                     0.53846154, 0.375     , 0.29824561, 1.        , 1.        ,\n",
              "                     0.13432836, 0.        , 0.5       , 0.        , 0.        ]), array([0.0967729 , 1.        , 0.2281203 , 0.53571429, 0.5       ,\n",
              "                     0.53846154, 0.875     , 0.18719298, 1.        , 1.        ,\n",
              "                     0.1641791 , 0.        , 0.5       , 0.        , 0.02283   ]), array([0.1303493 , 1.        , 0.26947368, 0.57732143, 0.5       ,\n",
              "                     0.07692308, 0.375     , 0.10526316, 1.        , 1.        ,\n",
              "                     0.13432836, 0.        , 0.5       , 0.125     , 0.0073    ]), array([3.23710903e-02, 1.00000000e+00, 2.78195489e-01, 5.00000000e-01,\n",
              "                     0.00000000e+00, 0.00000000e+00, 0.00000000e+00, 0.00000000e+00,\n",
              "                     0.00000000e+00, 1.00000000e+00, 2.98507463e-02, 0.00000000e+00,\n",
              "                     5.00000000e-01, 8.00000000e-02, 1.00000000e-05]), array([0.11204145, 1.        , 0.63413534, 0.41071429, 0.5       ,\n",
              "                     0.        , 0.        , 0.1754386 , 1.        , 1.        ,\n",
              "                     0.07462687, 0.        , 0.5       , 0.        , 0.08851   ]), array([5.95245246e-02, 1.00000000e+00, 4.43609023e-01, 9.00357143e-01,\n",
              "                     5.00000000e-01, 7.69230769e-01, 8.75000000e-01, 7.36842105e-03,\n",
              "                     1.00000000e+00, 1.00000000e+00, 1.49253731e-02, 0.00000000e+00,\n",
              "                     5.00000000e-01, 3.80000000e-01, 9.00000000e-04]), array([0.01243348, 1.        , 0.2643609 , 0.69642857, 0.5       ,\n",
              "                     0.53846154, 0.375     , 0.24561404, 1.        , 1.        ,\n",
              "                     0.23880597, 0.        , 0.5       , 0.        , 0.05      ])],\n",
              "             (4,\n",
              "              5): [array([0.56333065, 1.        , 0.64406015, 0.66071429, 0.5       ,\n",
              "                     0.07692308, 0.5       , 0.52631579, 1.        , 1.        ,\n",
              "                     0.25373134, 1.        , 0.5       , 0.        , 0.        ])],\n",
              "             (4,\n",
              "              9): [array([0.92539913, 1.        , 0.41849624, 0.0625    , 0.5       ,\n",
              "                     0.23076923, 0.375     , 0.00736842, 1.        , 0.        ,\n",
              "                     0.        , 0.        , 0.5       , 0.08      , 0.        ]), array([0.75232352, 1.        , 0.19548872, 0.04017857, 0.5       ,\n",
              "                     1.        , 0.875     , 0.04385965, 1.        , 0.        ,\n",
              "                     0.        , 0.        , 0.5       , 0.        , 0.05298   ]), array([6.62526178e-01, 1.00000000e+00, 4.08571429e-01, 2.98214286e-02,\n",
              "                     5.00000000e-01, 0.00000000e+00, 0.00000000e+00, 0.00000000e+00,\n",
              "                     1.00000000e+00, 0.00000000e+00, 0.00000000e+00, 0.00000000e+00,\n",
              "                     5.00000000e-01, 6.50000000e-02, 1.00000000e-05]), array([0.33502317, 1.        , 0.43609023, 0.10714286, 0.5       ,\n",
              "                     0.15384615, 0.5       , 0.03508772, 1.        , 0.        ,\n",
              "                     0.        , 0.        , 0.5       , 0.        , 0.002     ]), array([0.46781111, 1.        , 0.73308271, 0.45535714, 0.        ,\n",
              "                     0.53846154, 0.875     , 0.1754386 , 1.        , 0.        ,\n",
              "                     0.        , 0.        , 0.5       , 0.056     , 0.        ]), array([0.92713301, 1.        , 0.14541353, 0.02089286, 0.5       ,\n",
              "                     0.53846154, 0.875     , 0.00298246, 1.        , 0.        ,\n",
              "                     0.        , 0.        , 0.5       , 0.09      , 0.        ]), array([0.94125632, 1.        , 0.61157895, 0.01785714, 0.        ,\n",
              "                     0.23076923, 0.875     , 0.13894737, 1.        , 0.        ,\n",
              "                     0.        , 0.        , 0.5       , 0.09      , 0.00314   ]), array([0.65694012, 1.        , 0.44240602, 0.08035714, 0.5       ,\n",
              "                     0.15384615, 0.5       , 0.02631579, 1.        , 0.        ,\n",
              "                     0.        , 0.        , 0.5       , 0.28      , 0.        ]), array([0.54448222, 1.        , 1.        , 0.19642857, 0.5       ,\n",
              "                     0.53846154, 0.375     , 0.01894737, 1.        , 0.        ,\n",
              "                     0.        , 0.        , 0.5       , 0.        , 0.0034    ]), array([0.5628261 , 1.        , 0.14285714, 0.03571429, 0.5       ,\n",
              "                     0.53846154, 0.375     , 0.02929825, 1.        , 0.        ,\n",
              "                     0.        , 0.        , 0.        , 0.15      , 0.        ]), array([0.6801693 , 1.        , 0.45864662, 0.01785714, 0.5       ,\n",
              "                     0.46153846, 0.375     , 0.37719298, 1.        , 0.        ,\n",
              "                     0.        , 0.        , 0.        , 0.2       , 0.        ]), array([0.742617  , 1.        , 0.41473684, 0.        , 0.5       ,\n",
              "                     0.53846154, 0.5       , 0.52631579, 1.        , 0.        ,\n",
              "                     0.        , 0.        , 0.5       , 0.        , 0.        ]), array([0.62384825, 1.        , 0.06511278, 0.19642857, 0.5       ,\n",
              "                     0.23076923, 0.375     , 0.01754386, 1.        , 0.        ,\n",
              "                     0.        , 0.        , 0.5       , 0.04      , 0.        ]), array([0.94659411, 1.        , 0.09654135, 0.20089286, 0.5       ,\n",
              "                     0.61538462, 0.375     , 0.06      , 1.        , 0.        ,\n",
              "                     0.        , 0.        , 0.        , 0.06      , 0.        ]), array([0.98988904, 1.        , 0.42105263, 0.03428571, 0.5       ,\n",
              "                     1.        , 0.375     , 0.0877193 , 1.        , 0.        ,\n",
              "                     0.        , 0.        , 0.5       , 0.255     , 0.006     ]), array([0.59987026, 1.        , 0.24315789, 0.06553571, 0.5       ,\n",
              "                     0.53846154, 0.875     , 0.15210526, 1.        , 0.        ,\n",
              "                     0.        , 0.        , 0.5       , 0.13      , 0.002     ]), array([0.28369953, 1.        , 0.42481203, 0.00732143, 0.5       ,\n",
              "                     0.15384615, 0.875     , 0.17982456, 1.        , 0.        ,\n",
              "                     0.        , 0.        , 0.5       , 0.2       , 0.        ]), array([0.58277172, 1.        , 0.26796992, 0.17857143, 0.        ,\n",
              "                     0.38461538, 0.375     , 0.29824561, 1.        , 0.        ,\n",
              "                     0.        , 0.        , 0.5       , 0.        , 0.        ]), array([0.98928038, 1.        , 0.11654135, 0.34821429, 0.5       ,\n",
              "                     0.53846154, 0.375     , 0.00877193, 1.        , 0.        ,\n",
              "                     0.        , 0.        , 0.5       , 0.07      , 0.        ]), array([0.8761978 , 1.        , 0.43729323, 0.16517857, 0.5       ,\n",
              "                     0.76923077, 0.375     , 0.16070175, 1.        , 0.        ,\n",
              "                     0.        , 0.        , 0.        , 0.        , 0.        ]), array([0.48873379, 1.        , 0.39218045, 0.01785714, 0.5       ,\n",
              "                     0.46153846, 0.375     , 0.00877193, 1.        , 0.        ,\n",
              "                     0.        , 0.        , 0.        , 0.144     , 0.        ]), array([0.37156277, 1.        , 0.45864662, 0.39285714, 0.        ,\n",
              "                     0.07692308, 0.375     , 0.05263158, 1.        , 0.        ,\n",
              "                     0.        , 0.        , 0.        , 0.        , 0.        ]), array([0.76719964, 1.        , 0.14406015, 0.05357143, 0.5       ,\n",
              "                     0.53846154, 0.875     , 0.04964912, 1.        , 0.        ,\n",
              "                     0.        , 0.        , 0.5       , 0.211     , 0.002     ]), array([5.37911096e-01, 1.00000000e+00, 1.39097744e-01, 2.23214286e-02,\n",
              "                     0.00000000e+00, 3.84615385e-01, 3.75000000e-01, 4.38596491e-03,\n",
              "                     1.00000000e+00, 0.00000000e+00, 0.00000000e+00, 0.00000000e+00,\n",
              "                     5.00000000e-01, 9.00000000e-02, 1.00000000e-05]), array([0.81545195, 1.        , 0.51759398, 0.125     , 0.5       ,\n",
              "                     0.38461538, 0.375     , 0.12280702, 1.        , 0.        ,\n",
              "                     0.        , 0.        , 0.        , 0.115     , 0.        ]), array([0.58481394, 1.        , 0.13413534, 0.09071429, 0.        ,\n",
              "                     0.53846154, 0.875     , 0.09070175, 1.        , 0.        ,\n",
              "                     0.        , 0.        , 0.5       , 0.        , 0.        ]), array([0.97108866, 1.        , 0.26796992, 0.375     , 0.5       ,\n",
              "                     1.        , 0.375     , 0.22807018, 1.        , 0.        ,\n",
              "                     0.        , 0.        , 0.5       , 0.        , 0.        ])],\n",
              "             (5,\n",
              "              1): [array([0.69609056, 0.        , 0.13413534, 0.25      , 0.5       ,\n",
              "                     0.53846154, 0.375     , 0.00578947, 0.        , 0.        ,\n",
              "                     0.        , 0.        , 0.5       , 0.08      , 0.        ]), array([0.5370822 , 0.        , 0.21684211, 0.02089286, 0.5       ,\n",
              "                     0.38461538, 0.375     , 0.00140351, 0.        , 0.        ,\n",
              "                     0.        , 0.        , 0.5       , 0.13      , 0.01004   ]), array([0.32977748, 0.        , 0.16165414, 0.0625    , 0.        ,\n",
              "                     0.53846154, 0.375     , 0.00578947, 0.        , 0.        ,\n",
              "                     0.        , 0.        , 0.5       , 0.066     , 0.        ]), array([6.64208001e-01, 0.00000000e+00, 2.36842105e-01, 7.14285714e-02,\n",
              "                     0.00000000e+00, 6.92307692e-01, 8.75000000e-01, 7.01754386e-02,\n",
              "                     0.00000000e+00, 0.00000000e+00, 0.00000000e+00, 0.00000000e+00,\n",
              "                     5.00000000e-01, 1.28000000e-01, 1.70000000e-04]), array([0.31529778, 0.        , 0.06646617, 0.35714286, 0.        ,\n",
              "                     0.76923077, 0.875     , 0.00578947, 0.        , 0.        ,\n",
              "                     0.        , 0.        , 0.5       , 0.17      , 0.        ]), array([0.76412431, 0.        , 0.38090226, 0.14285714, 0.5       ,\n",
              "                     0.53846154, 0.375     , 0.10526316, 0.        , 0.        ,\n",
              "                     0.        , 0.        , 0.5       , 0.24      , 0.        ]), array([0.94405936, 0.        , 0.10646617, 0.01785714, 0.        ,\n",
              "                     0.69230769, 0.125     , 0.03508772, 0.        , 0.        ,\n",
              "                     0.        , 0.        , 0.5       , 0.13      , 0.        ]), array([0.65194271, 0.        , 0.36962406, 0.15767857, 0.5       ,\n",
              "                     0.53846154, 0.375     , 0.00438596, 0.        , 0.        ,\n",
              "                     0.        , 0.        , 0.5       , 0.08      , 0.        ]), array([0.32387108, 0.        , 0.03263158, 0.10267857, 0.5       ,\n",
              "                     0.76923077, 0.375     , 0.00298246, 0.        , 0.        ,\n",
              "                     0.        , 0.        , 0.5       , 0.06      , 0.        ]), array([0.53467559, 0.        , 0.13157895, 0.30214286, 0.        ,\n",
              "                     1.        , 0.375     , 0.08631579, 0.        , 0.        ,\n",
              "                     0.        , 0.        , 0.5       , 0.082     , 0.        ]), array([0.1131026 , 0.        , 0.12030075, 0.0625    , 0.        ,\n",
              "                     0.30769231, 0.25      , 0.        , 0.        , 0.        ,\n",
              "                     0.        , 0.        , 0.5       , 0.08      , 0.        ]), array([0.25642196, 0.        , 0.15909774, 0.08928571, 0.        ,\n",
              "                     0.15384615, 0.5       , 0.15789474, 0.        , 0.        ,\n",
              "                     0.        , 0.        , 0.5       , 0.1       , 0.00456   ]), array([9.14951808e-01, 0.00000000e+00, 8.76691729e-02, 2.37500000e-02,\n",
              "                     5.00000000e-01, 6.15384615e-01, 3.75000000e-01, 5.84210526e-02,\n",
              "                     0.00000000e+00, 0.00000000e+00, 0.00000000e+00, 0.00000000e+00,\n",
              "                     5.00000000e-01, 1.10000000e-01, 5.00000000e-05]), array([6.73906515e-01, 0.00000000e+00, 3.00751880e-02, 1.33928571e-02,\n",
              "                     5.00000000e-01, 5.38461538e-01, 3.75000000e-01, 3.50877193e-02,\n",
              "                     0.00000000e+00, 0.00000000e+00, 0.00000000e+00, 0.00000000e+00,\n",
              "                     5.00000000e-01, 6.00000000e-02, 1.80000000e-04]), array([1.09258436e-01, 0.00000000e+00, 2.70676692e-01, 1.07142857e-01,\n",
              "                     0.00000000e+00, 3.07692308e-01, 2.50000000e-01, 0.00000000e+00,\n",
              "                     0.00000000e+00, 0.00000000e+00, 0.00000000e+00, 0.00000000e+00,\n",
              "                     5.00000000e-01, 8.00000000e-02, 2.00000000e-04]), array([0.7677122 , 0.        , 0.17789474, 0.        , 0.5       ,\n",
              "                     0.53846154, 0.375     , 0.        , 0.        , 0.        ,\n",
              "                     0.        , 0.        , 1.        , 0.092     , 0.        ]), array([4.82803359e-02, 0.00000000e+00, 2.36842105e-01, 3.87500000e-02,\n",
              "                     0.00000000e+00, 1.00000000e+00, 3.75000000e-01, 3.50877193e-02,\n",
              "                     0.00000000e+00, 0.00000000e+00, 0.00000000e+00, 0.00000000e+00,\n",
              "                     5.00000000e-01, 1.40000000e-01, 1.30000000e-04]), array([0.70594524, 0.        , 0.29323308, 0.10714286, 0.        ,\n",
              "                     0.38461538, 0.375     , 0.07017544, 0.        , 0.        ,\n",
              "                     0.        , 0.        , 0.5       , 0.09      , 0.        ]), array([1.12602061e-01, 0.00000000e+00, 3.87969925e-02, 7.50000000e-03,\n",
              "                     5.00000000e-01, 3.84615385e-01, 3.75000000e-01, 4.38596491e-03,\n",
              "                     0.00000000e+00, 0.00000000e+00, 0.00000000e+00, 0.00000000e+00,\n",
              "                     5.00000000e-01, 1.00000000e-01, 1.00000000e-05]), array([0.43324163, 0.        , 0.86962406, 0.        , 0.5       ,\n",
              "                     0.53846154, 0.375     , 0.        , 0.        , 0.        ,\n",
              "                     0.        , 0.        , 1.        , 0.092     , 0.        ]), array([0.68952745, 0.        , 0.10646617, 0.30357143, 0.5       ,\n",
              "                     0.53846154, 0.375     , 0.00578947, 0.        , 0.        ,\n",
              "                     0.        , 0.        , 0.5       , 0.        , 0.00351   ]), array([1.34377665e-01, 0.00000000e+00, 2.99548872e-01, 1.33928571e-02,\n",
              "                     5.00000000e-01, 9.23076923e-01, 3.75000000e-01, 1.31578947e-02,\n",
              "                     0.00000000e+00, 0.00000000e+00, 0.00000000e+00, 0.00000000e+00,\n",
              "                     5.00000000e-01, 1.50000000e-01, 4.40000000e-04]), array([0.18297835, 0.        , 0.14781955, 0.02089286, 0.        ,\n",
              "                     0.        , 0.        , 0.00438596, 0.        , 0.        ,\n",
              "                     0.        , 0.        , 0.5       , 0.06      , 0.00087   ]), array([0.17728418, 0.        , 0.13413534, 0.02821429, 0.5       ,\n",
              "                     0.15384615, 0.375     , 0.00298246, 0.        , 0.        ,\n",
              "                     0.        , 0.        , 0.5       , 0.072     , 0.        ]), array([0.62383624, 0.        , 0.16165414, 0.08625   , 0.        ,\n",
              "                     0.53846154, 0.375     , 0.        , 0.        , 0.        ,\n",
              "                     0.        , 0.        , 0.5       , 0.06      , 0.        ]), array([0.17636718, 0.        , 0.10526316, 0.34071429, 0.5       ,\n",
              "                     0.15384615, 0.375     , 0.00140351, 0.        , 0.        ,\n",
              "                     0.        , 0.        , 0.5       , 0.1       , 0.01      ]), array([0.18407153, 0.        , 0.09518797, 0.04464286, 0.5       ,\n",
              "                     0.53846154, 0.375     , 0.        , 0.        , 0.        ,\n",
              "                     0.        , 0.        , 0.5       , 0.        , 0.        ]), array([0.17299553, 0.        , 0.05894737, 0.        , 0.        ,\n",
              "                     0.30769231, 0.        , 0.        , 0.        , 0.        ,\n",
              "                     0.        , 0.        , 0.5       , 0.043     , 0.        ]), array([0.21040408, 0.        , 0.13533835, 0.22017857, 0.5       ,\n",
              "                     0.38461538, 0.375     , 0.00578947, 0.        , 0.        ,\n",
              "                     0.        , 0.        , 0.5       , 0.11      , 0.01      ])],\n",
              "             (5,\n",
              "              2): [array([0.51636774, 0.        , 0.19172932, 0.09678571, 0.        ,\n",
              "                     0.53846154, 0.375     , 0.00298246, 0.        , 0.        ,\n",
              "                     0.        , 0.        , 0.        , 0.04      , 0.        ])],\n",
              "             (5,\n",
              "              3): [array([0.80707487, 1.        , 0.91849624, 0.67857143, 0.        ,\n",
              "                     0.        , 0.        , 0.00140351, 0.        , 1.        ,\n",
              "                     0.02985075, 0.        , 0.5       , 0.        , 0.00351   ]), array([5.56070781e-01, 1.00000000e+00, 1.50375940e-01, 1.48214286e-02,\n",
              "                     0.00000000e+00, 5.38461538e-01, 3.75000000e-01, 1.40350877e-03,\n",
              "                     0.00000000e+00, 1.00000000e+00, 2.98507463e-02, 0.00000000e+00,\n",
              "                     5.00000000e-01, 6.40000000e-02, 6.00000000e-05]), array([0.64094278, 1.        , 0.14030075, 0.        , 0.5       ,\n",
              "                     0.23076923, 0.375     , 0.03508772, 0.        , 1.        ,\n",
              "                     0.1641791 , 0.        , 0.        , 0.        , 0.        ]), array([0.52755587, 1.        , 0.12406015, 0.02821429, 0.5       ,\n",
              "                     0.61538462, 0.375     , 0.01017544, 0.        , 1.        ,\n",
              "                     0.01492537, 0.        , 0.5       , 0.21      , 0.00283   ]), array([6.89883834e-01, 1.00000000e+00, 7.63909774e-02, 1.48214286e-02,\n",
              "                     0.00000000e+00, 5.38461538e-01, 3.75000000e-01, 5.78947368e-03,\n",
              "                     0.00000000e+00, 1.00000000e+00, 1.49253731e-02, 0.00000000e+00,\n",
              "                     5.00000000e-01, 1.00000000e-01, 1.00000000e-05]), array([8.19648499e-02, 1.00000000e+00, 5.00751880e-02, 8.92857143e-03,\n",
              "                     5.00000000e-01, 7.69230769e-01, 3.75000000e-01, 1.17543860e-02,\n",
              "                     0.00000000e+00, 1.00000000e+00, 5.97014925e-02, 0.00000000e+00,\n",
              "                     5.00000000e-01, 8.00000000e-02, 8.00000000e-05]), array([6.13493026e-01, 1.00000000e+00, 3.87969925e-02, 9.82142857e-02,\n",
              "                     5.00000000e-01, 3.84615385e-01, 3.75000000e-01, 2.33333333e-02,\n",
              "                     0.00000000e+00, 1.00000000e+00, 1.49253731e-02, 0.00000000e+00,\n",
              "                     5.00000000e-01, 4.00000000e-02, 2.10000000e-04]), array([2.73216166e-01, 1.00000000e+00, 2.63157895e-01, 4.01785714e-02,\n",
              "                     5.00000000e-01, 0.00000000e+00, 0.00000000e+00, 0.00000000e+00,\n",
              "                     0.00000000e+00, 1.00000000e+00, 1.49253731e-02, 0.00000000e+00,\n",
              "                     5.00000000e-01, 4.80000000e-02, 1.90000000e-04]), array([0.1692795 , 1.        , 0.37097744, 0.02517857, 0.5       ,\n",
              "                     0.53846154, 0.375     , 0.01315789, 0.        , 1.        ,\n",
              "                     0.02985075, 0.        , 0.5       , 0.1125    , 0.005     ]), array([4.73629414e-01, 1.00000000e+00, 3.38345865e-02, 1.11607143e-01,\n",
              "                     5.00000000e-01, 6.15384615e-01, 3.75000000e-01, 2.98245614e-03,\n",
              "                     0.00000000e+00, 1.00000000e+00, 1.49253731e-02, 0.00000000e+00,\n",
              "                     5.00000000e-01, 0.00000000e+00, 6.00000000e-05]), array([9.29219274e-01, 1.00000000e+00, 1.71729323e-01, 1.07142857e-01,\n",
              "                     5.00000000e-01, 5.38461538e-01, 3.75000000e-01, 4.38596491e-02,\n",
              "                     0.00000000e+00, 1.00000000e+00, 1.49253731e-02, 0.00000000e+00,\n",
              "                     5.00000000e-01, 0.00000000e+00, 2.20000000e-04]), array([0.71409408, 1.        , 0.14285714, 0.45089286, 0.5       ,\n",
              "                     0.53846154, 0.375     , 0.00438596, 0.        , 1.        ,\n",
              "                     0.02985075, 0.        , 0.5       , 0.        , 0.05552   ]), array([2.65471771e-01, 1.00000000e+00, 3.30827068e-01, 8.62500000e-02,\n",
              "                     5.00000000e-01, 6.15384615e-01, 3.75000000e-01, 4.38596491e-03,\n",
              "                     0.00000000e+00, 1.00000000e+00, 2.98507463e-02, 0.00000000e+00,\n",
              "                     5.00000000e-01, 1.10000000e-01, 1.00000000e-05]), array([0.95511935, 1.        , 0.23684211, 0.02071429, 0.5       ,\n",
              "                     0.61538462, 0.375     , 0.01017544, 0.        , 1.        ,\n",
              "                     0.01492537, 0.        , 0.5       , 0.17      , 0.02803   ]), array([0.24687161, 1.        , 0.16045113, 0.07142857, 0.5       ,\n",
              "                     0.69230769, 0.125     , 0.00578947, 0.        , 1.        ,\n",
              "                     0.02985075, 0.        , 0.5       , 0.16      , 0.013     ]), array([5.38928198e-01, 1.00000000e+00, 5.75939850e-02, 3.57142857e-01,\n",
              "                     5.00000000e-01, 6.15384615e-01, 8.75000000e-01, 5.78947368e-03,\n",
              "                     0.00000000e+00, 1.00000000e+00, 1.49253731e-02, 0.00000000e+00,\n",
              "                     5.00000000e-01, 6.00000000e-02, 1.00000000e-05]), array([3.26678119e-01, 1.00000000e+00, 8.33383459e-01, 3.21428571e-01,\n",
              "                     5.00000000e-01, 0.00000000e+00, 0.00000000e+00, 1.40350877e-01,\n",
              "                     0.00000000e+00, 1.00000000e+00, 1.49253731e-02, 0.00000000e+00,\n",
              "                     5.00000000e-01, 3.50000000e-02, 6.00000000e-05]), array([9.05901998e-01, 1.00000000e+00, 8.52631579e-02, 2.58928571e-01,\n",
              "                     5.00000000e-01, 4.61538462e-01, 3.75000000e-01, 1.40350877e-03,\n",
              "                     0.00000000e+00, 1.00000000e+00, 1.49253731e-02, 0.00000000e+00,\n",
              "                     5.00000000e-01, 5.00000000e-02, 1.00000000e-05]), array([0.0439116 , 1.        , 0.15533835, 0.03125   , 0.5       ,\n",
              "                     0.46153846, 0.375     , 0.00298246, 0.        , 1.        ,\n",
              "                     0.05970149, 0.        , 0.5       , 0.127     , 0.0195    ]), array([0.21966211, 1.        , 0.17548872, 0.01928571, 0.5       ,\n",
              "                     0.61538462, 0.375     , 0.00578947, 0.        , 1.        ,\n",
              "                     0.01492537, 0.        , 0.5       , 0.136     , 0.00444   ]), array([0.10690789, 1.        , 0.40977444, 0.00142857, 0.5       ,\n",
              "                     0.69230769, 0.375     , 0.00140351, 0.        , 1.        ,\n",
              "                     0.01492537, 0.        , 0.        , 0.28      , 0.        ])],\n",
              "             (5,\n",
              "              5): [array([0.50624076, 1.        , 0.52631579, 0.94053571, 0.        ,\n",
              "                     0.        , 0.        , 0.        , 1.        , 0.        ,\n",
              "                     0.        , 1.        , 0.5       , 0.        , 0.        ])],\n",
              "             (5,\n",
              "              7): [array([0.95903159, 1.        , 0.08902256, 0.35714286, 0.        ,\n",
              "                     0.23076923, 0.875     , 0.02929825, 1.        , 0.        ,\n",
              "                     0.        , 1.        , 0.5       , 0.07      , 0.        ]), array([0.87945333, 1.        , 0.32330827, 0.11303571, 0.5       ,\n",
              "                     1.        , 0.875     , 0.13157895, 1.        , 0.        ,\n",
              "                     0.        , 1.        , 0.5       , 0.34      , 0.        ]), array([0.69973451, 1.        , 0.14406015, 0.41517857, 0.        ,\n",
              "                     0.61538462, 0.375     , 0.02929825, 1.        , 0.        ,\n",
              "                     0.        , 1.        , 0.5       , 0.08      , 0.003     ]), array([0.95290495, 1.        , 0.5237594 , 0.23214286, 0.5       ,\n",
              "                     0.76923077, 0.875     , 0.21052632, 1.        , 0.        ,\n",
              "                     0.        , 1.        , 0.5       , 0.175     , 0.        ]), array([0.81965651, 1.        , 0.28451128, 0.32142857, 0.        ,\n",
              "                     0.61538462, 0.875     , 0.18421053, 1.        , 0.        ,\n",
              "                     0.        , 1.        , 0.5       , 0.077     , 0.        ]), array([0.78756572, 1.        , 0.34466165, 0.11607143, 0.5       ,\n",
              "                     0.76923077, 0.875     , 0.31578947, 1.        , 0.        ,\n",
              "                     0.        , 1.        , 0.5       , 0.051     , 0.00639   ]), array([0.53489983, 1.        , 0.16045113, 0.44053571, 0.5       ,\n",
              "                     0.76923077, 0.875     , 0.05561404, 1.        , 0.        ,\n",
              "                     0.        , 1.        , 0.5       , 0.06      , 0.        ])],\n",
              "             (5,\n",
              "              8): [array([0.92442207, 1.        , 0.20932331, 0.49107143, 0.5       ,\n",
              "                     0.61538462, 0.375     , 0.20175439, 1.        , 0.        ,\n",
              "                     0.        , 1.        , 0.5       , 0.2435    , 0.005     ]), array([0.96837772, 1.        , 0.11398496, 0.375     , 0.5       ,\n",
              "                     0.53846154, 0.375     , 0.10526316, 1.        , 0.        ,\n",
              "                     0.        , 1.        , 0.5       , 0.        , 0.        ]), array([0.83352354, 1.        , 0.14285714, 0.14285714, 0.5       ,\n",
              "                     0.53846154, 0.5       , 0.00877193, 1.        , 0.        ,\n",
              "                     0.        , 1.        , 0.5       , 0.08      , 0.        ]), array([0.92258809, 1.        , 0.20300752, 0.02232143, 0.5       ,\n",
              "                     0.38461538, 0.375     , 0.01596491, 1.        , 0.        ,\n",
              "                     0.        , 1.        , 0.5       , 0.1       , 0.        ]), array([0.97740351, 1.        , 0.30571429, 0.23214286, 0.5       ,\n",
              "                     0.38461538, 0.375     , 0.00438596, 1.        , 0.        ,\n",
              "                     0.        , 1.        , 0.5       , 0.2215    , 0.        ]), array([0.94645396, 1.        , 0.19924812, 0.05357143, 0.        ,\n",
              "                     0.61538462, 0.375     , 0.01315789, 1.        , 0.        ,\n",
              "                     0.        , 1.        , 0.5       , 0.13      , 0.01065   ]), array([0.90064029, 1.        , 0.35714286, 0.0625    , 0.        ,\n",
              "                     0.53846154, 0.5       , 0.00877193, 1.        , 0.        ,\n",
              "                     0.        , 1.        , 0.5       , 0.082     , 0.004     ]), array([0.73816417, 1.        , 0.33954887, 0.13535714, 0.5       ,\n",
              "                     0.61538462, 0.375     , 0.04087719, 1.        , 0.        ,\n",
              "                     0.        , 1.        , 0.5       , 0.1       , 0.        ]), array([0.66964189, 1.        , 0.30827068, 0.0625    , 0.5       ,\n",
              "                     0.61538462, 0.5       , 0.00877193, 1.        , 0.        ,\n",
              "                     0.        , 1.        , 0.5       , 0.0815    , 0.        ]), array([0.81905185, 1.        , 0.2756391 , 0.14285714, 0.5       ,\n",
              "                     0.46153846, 0.375     , 0.0877193 , 1.        , 0.        ,\n",
              "                     0.        , 1.        , 0.5       , 0.18      , 0.        ]), array([0.83320319, 1.        , 0.35593985, 0.07285714, 0.5       ,\n",
              "                     0.61538462, 0.375     , 0.00140351, 1.        , 0.        ,\n",
              "                     0.        , 1.        , 0.5       , 0.2       , 0.058     ]), array([0.91761069, 1.        , 0.31834586, 0.08928571, 0.5       ,\n",
              "                     0.61538462, 0.375     , 0.        , 1.        , 0.        ,\n",
              "                     0.        , 1.        , 0.5       , 0.1195    , 0.002     ]), array([0.5597748 , 1.        , 0.18676692, 0.00892857, 0.5       ,\n",
              "                     0.15384615, 0.5       , 0.        , 1.        , 0.        ,\n",
              "                     0.        , 1.        , 0.5       , 0.        , 0.        ]), array([0.9880951 , 1.        , 0.21924812, 0.17857143, 0.5       ,\n",
              "                     0.61538462, 0.375     , 0.38596491, 1.        , 0.        ,\n",
              "                     0.        , 1.        , 0.5       , 0.035     , 0.        ])],\n",
              "             (5,\n",
              "              9): [array([0.44526266, 1.        , 0.89729323, 0.63392857, 0.5       ,\n",
              "                     0.        , 0.        , 0.        , 1.        , 0.        ,\n",
              "                     0.        , 1.        , 0.5       , 0.        , 0.        ]), array([0.73193342, 1.        , 0.45984962, 0.01785714, 0.5       ,\n",
              "                     0.15384615, 0.875     , 0.1754386 , 1.        , 0.        ,\n",
              "                     0.        , 1.        , 0.5       , 0.16      , 0.        ]), array([0.86598273, 1.        , 0.63533835, 0.44642857, 0.5       ,\n",
              "                     0.23076923, 0.875     , 0.28070175, 1.        , 0.        ,\n",
              "                     0.        , 1.        , 0.5       , 0.012     , 0.02028   ])],\n",
              "             (6,\n",
              "              0): [array([0.27187071, 0.        , 0.13789474, 0.41375   , 0.5       ,\n",
              "                     0.92307692, 0.375     , 0.00140351, 1.        , 0.        ,\n",
              "                     0.        , 0.        , 0.5       , 0.04      , 0.01349   ])],\n",
              "             (6,\n",
              "              2): [array([0.02282875, 1.        , 0.35834586, 0.        , 0.5       ,\n",
              "                     0.53846154, 0.375     , 0.        , 0.        , 0.        ,\n",
              "                     0.        , 0.        , 1.        , 0.092     , 0.        ]), array([0.        , 1.        , 0.43609023, 0.14589286, 0.5       ,\n",
              "                     0.38461538, 0.375     , 0.00140351, 0.        , 0.        ,\n",
              "                     0.        , 0.        , 0.5       , 0.054     , 0.001     ]), array([1.73612196e-01, 1.00000000e+00, 6.39097744e-02, 5.89285714e-03,\n",
              "                     5.00000000e-01, 7.69230769e-01, 7.50000000e-01, 7.36842105e-03,\n",
              "                     0.00000000e+00, 0.00000000e+00, 0.00000000e+00, 0.00000000e+00,\n",
              "                     5.00000000e-01, 1.00000000e-01, 4.00000000e-04]), array([3.38763219e-01, 1.00000000e+00, 3.57142857e-01, 2.98214286e-02,\n",
              "                     5.00000000e-01, 6.92307692e-01, 3.75000000e-01, 1.40350877e-03,\n",
              "                     0.00000000e+00, 0.00000000e+00, 0.00000000e+00, 0.00000000e+00,\n",
              "                     5.00000000e-01, 6.00000000e-02, 5.00000000e-05]), array([0.03893821, 1.        , 0.41233083, 0.04464286, 0.        ,\n",
              "                     0.61538462, 0.375     , 0.00877193, 0.        , 0.        ,\n",
              "                     0.        , 0.        , 0.5       , 0.        , 0.00195   ]), array([0.00112922, 1.        , 0.18796992, 0.055     , 0.5       ,\n",
              "                     0.61538462, 0.375     , 0.00438596, 0.        , 0.        ,\n",
              "                     0.        , 0.        , 0.5       , 0.05      , 0.        ]), array([0.31508555, 1.        , 0.31323308, 0.        , 0.5       ,\n",
              "                     0.53846154, 0.375     , 0.        , 0.        , 0.        ,\n",
              "                     0.        , 0.        , 1.        , 0.092     , 0.        ]), array([2.94839606e-02, 1.00000000e+00, 4.67368421e-01, 2.50000000e-01,\n",
              "                     0.00000000e+00, 5.38461538e-01, 3.75000000e-01, 5.70175439e-02,\n",
              "                     0.00000000e+00, 0.00000000e+00, 0.00000000e+00, 0.00000000e+00,\n",
              "                     5.00000000e-01, 8.00000000e-02, 2.00000000e-05]), array([2.83955808e-01, 1.00000000e+00, 7.36842105e-01, 2.50000000e-01,\n",
              "                     5.00000000e-01, 6.92307692e-01, 1.00000000e+00, 0.00000000e+00,\n",
              "                     0.00000000e+00, 0.00000000e+00, 0.00000000e+00, 0.00000000e+00,\n",
              "                     5.00000000e-01, 0.00000000e+00, 1.20000000e-04]), array([0.29054695, 1.        , 0.29819549, 0.01196429, 0.        ,\n",
              "                     0.92307692, 0.375     , 0.00298246, 0.        , 0.        ,\n",
              "                     0.        , 0.        , 0.5       , 0.09      , 0.        ]), array([3.33909958e-01, 1.00000000e+00, 1.52932331e-01, 2.08928571e-02,\n",
              "                     0.00000000e+00, 9.23076923e-01, 8.75000000e-01, 4.38596491e-03,\n",
              "                     0.00000000e+00, 0.00000000e+00, 0.00000000e+00, 0.00000000e+00,\n",
              "                     5.00000000e-01, 1.20000000e-01, 1.00000000e-05]), array([1.37400943e-01, 1.00000000e+00, 2.41804511e-01, 7.28571429e-02,\n",
              "                     0.00000000e+00, 1.00000000e+00, 8.75000000e-01, 1.40350877e-03,\n",
              "                     0.00000000e+00, 0.00000000e+00, 0.00000000e+00, 0.00000000e+00,\n",
              "                     5.00000000e-01, 6.40000000e-02, 1.00000000e-05]), array([0.08931682, 1.        , 0.50255639, 0.20839286, 0.5       ,\n",
              "                     0.61538462, 0.375     , 0.19298246, 0.        , 0.        ,\n",
              "                     0.        , 0.        , 0.5       , 0.2325    , 0.0015    ]), array([0.03776894, 1.        , 0.38721805, 0.05803571, 0.5       ,\n",
              "                     0.53846154, 0.375     , 0.05263158, 0.        , 0.        ,\n",
              "                     0.        , 0.        , 0.5       , 0.        , 0.00316   ])],\n",
              "             (6,\n",
              "              3): [array([0.28326706, 0.        , 0.57774436, 0.        , 0.        ,\n",
              "                     0.        , 0.        , 0.        , 0.        , 0.        ,\n",
              "                     0.        , 0.        , 0.5       , 0.        , 0.        ])],\n",
              "             (6,\n",
              "              7): [array([0.06086598, 1.        , 0.58015038, 0.04910714, 0.        ,\n",
              "                     0.53846154, 0.875     , 0.33192982, 1.        , 0.        ,\n",
              "                     0.        , 1.        , 0.5       , 0.1       , 0.001     ]), array([0.16927149, 1.        , 0.40857143, 0.08035714, 0.        ,\n",
              "                     1.        , 0.875     , 0.35087719, 1.        , 0.        ,\n",
              "                     0.        , 1.        , 0.5       , 0.088     , 0.        ]), array([5.20884639e-02, 1.00000000e+00, 8.52631579e-02, 5.35714286e-02,\n",
              "                     0.00000000e+00, 9.23076923e-01, 3.75000000e-01, 7.01754386e-02,\n",
              "                     1.00000000e+00, 0.00000000e+00, 0.00000000e+00, 1.00000000e+00,\n",
              "                     5.00000000e-01, 5.00000000e-02, 2.00000000e-04]), array([0.10168222, 1.        , 0.27443609, 0.0625    , 0.        ,\n",
              "                     0.69230769, 0.875     , 0.00140351, 1.        , 0.        ,\n",
              "                     0.        , 1.        , 0.5       , 0.1965    , 0.        ])],\n",
              "             (6,\n",
              "              8): [array([0.47570767, 1.        , 0.43233083, 0.17553571, 0.        ,\n",
              "                     0.61538462, 0.375     , 0.11105263, 1.        , 0.        ,\n",
              "                     0.        , 1.        , 0.5       , 0.026     , 0.01442   ]), array([0.4129116 , 1.        , 0.37473684, 0.0075    , 0.5       ,\n",
              "                     0.23076923, 0.375     , 0.00298246, 1.        , 0.        ,\n",
              "                     0.        , 1.        , 0.5       , 0.14      , 0.        ]), array([0.58929079, 1.        , 0.31699248, 0.14285714, 0.5       ,\n",
              "                     0.07692308, 0.5       , 0.43859649, 1.        , 0.        ,\n",
              "                     0.        , 1.        , 0.5       , 0.092     , 0.        ]), array([0.50228848, 1.        , 0.4724812 , 0.05357143, 0.5       ,\n",
              "                     0.53846154, 0.375     , 0.0877193 , 1.        , 0.        ,\n",
              "                     0.        , 1.        , 0.5       , 0.07      , 0.        ]), array([0.08094374, 1.        , 0.52255639, 0.15178571, 0.5       ,\n",
              "                     0.46153846, 0.375     , 0.00438596, 1.        , 0.        ,\n",
              "                     0.        , 1.        , 0.5       , 0.1125    , 0.        ]), array([0.06948732, 1.        , 0.12150376, 0.00892857, 0.5       ,\n",
              "                     0.07692308, 0.875     , 0.02333333, 1.        , 0.        ,\n",
              "                     0.        , 1.        , 0.5       , 0.        , 0.        ]), array([0.45684322, 1.        , 0.30451128, 0.16071429, 0.5       ,\n",
              "                     0.38461538, 0.375     , 0.03508772, 1.        , 0.        ,\n",
              "                     0.        , 1.        , 0.5       , 0.12      , 0.        ]), array([0.01588922, 1.        , 0.69052632, 0.055     , 0.5       ,\n",
              "                     0.76923077, 0.375     , 0.00438596, 1.        , 0.        ,\n",
              "                     0.        , 1.        , 0.5       , 0.13      , 0.        ]), array([0.08538856, 1.        , 0.08390977, 0.33928571, 0.5       ,\n",
              "                     0.76923077, 0.375     , 0.03508772, 1.        , 0.        ,\n",
              "                     0.        , 1.        , 0.5       , 0.03      , 0.004     ]), array([0.10835346, 1.        , 0.2718797 , 0.08928571, 0.5       ,\n",
              "                     0.38461538, 0.375     , 0.26315789, 1.        , 0.        ,\n",
              "                     0.        , 1.        , 0.5       , 0.2615    , 0.        ]), array([0.43594857, 1.        , 0.22556391, 0.05357143, 0.        ,\n",
              "                     0.53846154, 0.375     , 0.05263158, 1.        , 0.        ,\n",
              "                     0.        , 1.        , 0.5       , 0.        , 0.00225   ]), array([0.09266044, 1.        , 0.18421053, 0.03571429, 0.5       ,\n",
              "                     0.76923077, 0.375     , 0.06140351, 1.        , 0.        ,\n",
              "                     0.        , 1.        , 0.5       , 0.14      , 0.        ])],\n",
              "             (6,\n",
              "              9): [array([0.48351213, 1.        , 0.16917293, 0.44642857, 0.5       ,\n",
              "                     0.38461538, 0.375     , 0.10526316, 1.        , 0.        ,\n",
              "                     0.        , 1.        , 0.        , 0.01      , 0.        ]), array([4.60214873e-01, 1.00000000e+00, 1.16541353e-01, 4.10714286e-01,\n",
              "                     5.00000000e-01, 1.53846154e-01, 3.75000000e-01, 1.75438596e-02,\n",
              "                     1.00000000e+00, 0.00000000e+00, 0.00000000e+00, 1.00000000e+00,\n",
              "                     5.00000000e-01, 5.00000000e-02, 6.80000000e-04]), array([0.03125788, 1.        , 0.15909774, 0.23660714, 0.        ,\n",
              "                     0.07692308, 0.375     , 0.19298246, 1.        , 0.        ,\n",
              "                     0.        , 1.        , 0.        , 0.05      , 0.        ]), array([0.48520997, 1.        , 0.35218045, 0.14285714, 0.5       ,\n",
              "                     0.53846154, 0.5       , 0.1754386 , 1.        , 0.        ,\n",
              "                     0.        , 1.        , 0.        , 0.14      , 0.        ]), array([0.46122397, 1.        , 0.2793985 , 0.26785714, 0.5       ,\n",
              "                     0.69230769, 0.5       , 0.05561404, 1.        , 0.        ,\n",
              "                     0.        , 1.        , 0.        , 0.21      , 0.        ]), array([0.22968097, 1.        , 0.26796992, 0.01785714, 0.5       ,\n",
              "                     0.53846154, 0.5       , 0.02929825, 1.        , 0.        ,\n",
              "                     0.        , 1.        , 0.        , 0.16      , 0.        ]), array([0.32909274, 1.        , 0.16285714, 0.44642857, 0.5       ,\n",
              "                     0.61538462, 0.375     , 0.03070175, 1.        , 0.        ,\n",
              "                     0.        , 1.        , 0.5       , 0.13      , 0.        ]), array([0.89096981, 1.        , 0.26796992, 0.01339286, 0.5       ,\n",
              "                     0.07692308, 0.375     , 0.03070175, 1.        , 0.        ,\n",
              "                     0.        , 1.        , 0.        , 0.464     , 0.        ]), array([0.62796471, 1.        , 0.13909774, 0.02678571, 0.5       ,\n",
              "                     0.46153846, 0.375     , 0.01754386, 1.        , 0.        ,\n",
              "                     0.        , 1.        , 0.        , 0.16      , 0.        ])],\n",
              "             (7,\n",
              "              0): [array([0.26417036, 1.        , 0.14165414, 0.        , 0.5       ,\n",
              "                     0.92307692, 0.375     , 0.00298246, 1.        , 0.        ,\n",
              "                     0.        , 0.        , 0.5       , 0.        , 0.        ]), array([0.08642569, 1.        , 0.07022556, 0.37196429, 0.        ,\n",
              "                     0.38461538, 0.375     , 0.00438596, 1.        , 0.        ,\n",
              "                     0.        , 0.        , 0.5       , 0.06      , 0.00375   ]), array([0.17662746, 1.        , 0.22556391, 0.04160714, 0.5       ,\n",
              "                     0.23076923, 0.375     , 0.01754386, 1.        , 0.        ,\n",
              "                     0.        , 0.        , 0.        , 0.14      , 0.        ]), array([0.19660912, 1.        , 0.09774436, 0.35571429, 0.5       ,\n",
              "                     0.69230769, 0.125     , 0.        , 1.        , 0.        ,\n",
              "                     0.        , 0.        , 0.5       , 0.        , 0.        ]), array([0.11379936, 1.        , 0.52      , 0.42857143, 0.5       ,\n",
              "                     0.46153846, 0.375     , 0.56140351, 1.        , 0.        ,\n",
              "                     0.        , 0.        , 0.        , 0.055     , 0.        ]), array([0.0214913 , 1.        , 0.13413534, 0.375     , 0.5       ,\n",
              "                     0.76923077, 0.875     , 0.04684211, 1.        , 0.        ,\n",
              "                     0.        , 0.        , 0.5       , 0.05      , 0.        ]), array([0.35011152, 1.        , 0.03759398, 0.02982143, 0.5       ,\n",
              "                     0.46153846, 0.375     , 0.00298246, 1.        , 0.        ,\n",
              "                     0.        , 0.        , 0.        , 0.1       , 0.        ]), array([0.85063409, 1.        , 0.12526316, 0.39285714, 0.5       ,\n",
              "                     0.92307692, 0.375     , 0.02333333, 1.        , 0.        ,\n",
              "                     0.        , 0.        , 0.5       , 0.05      , 0.        ]), array([0.23940752, 1.        , 0.26571429, 0.55357143, 0.5       ,\n",
              "                     0.53846154, 0.375     , 0.01754386, 1.        , 0.        ,\n",
              "                     0.        , 0.        , 0.5       , 0.06      , 0.        ]), array([0.25979362, 1.        , 0.56646617, 0.00142857, 0.5       ,\n",
              "                     1.        , 0.875     , 0.00140351, 1.        , 0.        ,\n",
              "                     0.        , 0.        , 0.5       , 0.        , 0.03      ]), array([9.54114260e-02, 1.00000000e+00, 1.80451128e-01, 2.67857143e-02,\n",
              "                     5.00000000e-01, 5.38461538e-01, 5.00000000e-01, 8.77192982e-03,\n",
              "                     1.00000000e+00, 0.00000000e+00, 0.00000000e+00, 0.00000000e+00,\n",
              "                     5.00000000e-01, 1.74500000e-01, 2.30000000e-04]), array([0.01554085, 1.        , 0.10150376, 0.35714286, 0.        ,\n",
              "                     0.53846154, 0.375     , 0.0877193 , 1.        , 0.        ,\n",
              "                     0.        , 0.        , 0.        , 0.02      , 0.        ]), array([0.13158264, 1.        , 0.08150376, 0.33928571, 0.5       ,\n",
              "                     0.61538462, 0.375     , 0.05263158, 1.        , 0.        ,\n",
              "                     0.        , 0.        , 0.5       , 0.06      , 0.02206   ]), array([0.08701032, 1.        , 0.17924812, 0.07892857, 0.        ,\n",
              "                     0.38461538, 0.375     , 0.14035088, 1.        , 0.        ,\n",
              "                     0.        , 0.        , 0.5       , 0.094     , 0.        ]), array([0.39829976, 1.        , 0.32330827, 0.58928571, 0.        ,\n",
              "                     0.53846154, 0.375     , 0.14035088, 1.        , 0.        ,\n",
              "                     0.        , 0.        , 0.5       , 0.04      , 0.        ])],\n",
              "             (7,\n",
              "              4): [array([0.92090226, 1.        , 0.2681203 , 0.02678571, 0.        ,\n",
              "                     0.38461538, 0.375     , 0.12280702, 0.        , 0.        ,\n",
              "                     0.        , 1.        , 0.5       , 0.16      , 0.        ]), array([0.79995916, 1.        , 0.34586466, 0.00446429, 0.        ,\n",
              "                     0.53846154, 0.375     , 0.05263158, 0.        , 0.        ,\n",
              "                     0.        , 1.        , 0.5       , 0.116     , 0.00113   ]), array([0.59078441, 1.        , 0.12406015, 0.27982143, 0.        ,\n",
              "                     0.15384615, 0.5       , 0.00578947, 0.        , 0.        ,\n",
              "                     0.        , 1.        , 0.5       , 0.092     , 0.        ]), array([3.81041048e-01, 1.00000000e+00, 1.86766917e-01, 4.46428571e-01,\n",
              "                     0.00000000e+00, 2.30769231e-01, 8.75000000e-01, 4.38596491e-02,\n",
              "                     0.00000000e+00, 0.00000000e+00, 0.00000000e+00, 1.00000000e+00,\n",
              "                     5.00000000e-01, 0.00000000e+00, 1.70000000e-04])],\n",
              "             (7,\n",
              "              5): [array([3.60166420e-01, 1.00000000e+00, 1.32781955e-01, 5.35714286e-02,\n",
              "                     0.00000000e+00, 3.84615385e-01, 3.75000000e-01, 1.89473684e-02,\n",
              "                     0.00000000e+00, 0.00000000e+00, 0.00000000e+00, 1.00000000e+00,\n",
              "                     5.00000000e-01, 6.00000000e-02, 6.70000000e-04]), array([4.64667700e-01, 1.00000000e+00, 7.89473684e-02, 6.25000000e-02,\n",
              "                     0.00000000e+00, 5.38461538e-01, 3.75000000e-01, 8.19298246e-02,\n",
              "                     0.00000000e+00, 0.00000000e+00, 0.00000000e+00, 1.00000000e+00,\n",
              "                     5.00000000e-01, 5.60000000e-02, 6.00000000e-05]), array([3.09703719e-01, 1.00000000e+00, 7.63909774e-02, 1.26428571e-01,\n",
              "                     0.00000000e+00, 0.00000000e+00, 0.00000000e+00, 0.00000000e+00,\n",
              "                     0.00000000e+00, 0.00000000e+00, 0.00000000e+00, 1.00000000e+00,\n",
              "                     5.00000000e-01, 9.00000000e-02, 1.00000000e-05]), array([0.49829615, 1.        , 0.30451128, 0.19642857, 0.        ,\n",
              "                     0.53846154, 0.375     , 0.05263158, 0.        , 0.        ,\n",
              "                     0.        , 1.        , 0.5       , 0.03      , 0.        ]), array([0.26323334, 1.        , 0.16165414, 0.47625   , 0.        ,\n",
              "                     0.38461538, 0.375     , 0.00140351, 0.        , 0.        ,\n",
              "                     0.        , 1.        , 0.5       , 0.06      , 0.00475   ]), array([5.84317400e-01, 1.00000000e+00, 3.37142857e-01, 1.50000000e-02,\n",
              "                     0.00000000e+00, 6.15384615e-01, 3.75000000e-01, 1.01754386e-02,\n",
              "                     0.00000000e+00, 0.00000000e+00, 0.00000000e+00, 1.00000000e+00,\n",
              "                     5.00000000e-01, 1.54500000e-01, 2.00000000e-05]), array([0.58568688, 1.        , 0.17924812, 0.01035714, 0.        ,\n",
              "                     0.53846154, 0.375     , 0.05263158, 0.        , 0.        ,\n",
              "                     0.        , 1.        , 0.5       , 0.08      , 0.        ])],\n",
              "             (7,\n",
              "              6): [array([0.15204081, 1.        , 0.10406015, 0.02982143, 0.        ,\n",
              "                     0.53846154, 0.375     , 0.07017544, 0.        , 0.        ,\n",
              "                     0.        , 1.        , 0.        , 0.12      , 0.        ]), array([3.73949361e-01, 1.00000000e+00, 8.15037594e-02, 0.00000000e+00,\n",
              "                     0.00000000e+00, 4.61538462e-01, 5.00000000e-01, 0.00000000e+00,\n",
              "                     0.00000000e+00, 0.00000000e+00, 0.00000000e+00, 1.00000000e+00,\n",
              "                     0.00000000e+00, 2.50000000e-01, 1.00000000e-05]), array([0.12193618, 1.        , 0.40857143, 0.01785714, 0.        ,\n",
              "                     0.46153846, 0.375     , 0.01754386, 0.        , 0.        ,\n",
              "                     0.        , 1.        , 0.5       , 0.065     , 0.        ]), array([3.66453235e-01, 1.00000000e+00, 1.15338346e-01, 2.67857143e-02,\n",
              "                     0.00000000e+00, 8.46153846e-01, 7.50000000e-01, 2.63157895e-02,\n",
              "                     0.00000000e+00, 0.00000000e+00, 0.00000000e+00, 1.00000000e+00,\n",
              "                     5.00000000e-01, 6.60000000e-02, 2.00000000e-05]), array([0.03890617, 1.        , 0.28947368, 0.08928571, 0.        ,\n",
              "                     0.61538462, 0.375     , 0.24561404, 0.        , 0.        ,\n",
              "                     0.        , 1.        , 0.5       , 0.14      , 0.        ])],\n",
              "             (7,\n",
              "              9): [array([0.45047231, 1.        , 0.42736842, 0.18      , 0.5       ,\n",
              "                     0.76923077, 0.875     , 0.44736842, 1.        , 0.        ,\n",
              "                     0.        , 1.        , 0.5       , 0.046     , 0.        ]), array([0.3960333 , 1.        , 0.29203008, 0.03714286, 0.5       ,\n",
              "                     0.84615385, 0.875     , 0.22807018, 1.        , 0.        ,\n",
              "                     0.        , 1.        , 0.5       , 0.082     , 0.31285   ]), array([0.60290155, 1.        , 0.30827068, 0.10714286, 0.5       ,\n",
              "                     0.92307692, 0.875     , 0.26017544, 1.        , 0.        ,\n",
              "                     0.        , 1.        , 0.5       , 0.        , 0.        ])],\n",
              "             (8,\n",
              "              2): [array([0.89100585, 1.        , 0.09398496, 0.39446429, 0.5       ,\n",
              "                     0.53846154, 0.375     , 0.07017544, 0.        , 0.        ,\n",
              "                     0.        , 1.        , 0.5       , 0.068     , 0.        ]), array([0.7976967 , 1.        , 0.13157895, 0.41071429, 0.        ,\n",
              "                     0.46153846, 0.375     , 0.05263158, 0.        , 0.        ,\n",
              "                     0.        , 1.        , 0.5       , 0.        , 0.04      ]), array([0.7562758 , 1.        , 0.2756391 , 0.14285714, 0.        ,\n",
              "                     0.92307692, 0.375     , 0.05263158, 0.        , 0.        ,\n",
              "                     0.        , 1.        , 0.5       , 0.06      , 0.        ]), array([0.97783998, 1.        , 0.25308271, 0.09678571, 0.        ,\n",
              "                     0.46153846, 0.375     , 0.00438596, 0.        , 0.        ,\n",
              "                     0.        , 1.        , 0.        , 0.04      , 0.        ]), array([9.23797396e-01, 1.00000000e+00, 1.47819549e-01, 6.39285714e-02,\n",
              "                     5.00000000e-01, 5.38461538e-01, 3.75000000e-01, 1.89473684e-02,\n",
              "                     0.00000000e+00, 0.00000000e+00, 0.00000000e+00, 1.00000000e+00,\n",
              "                     5.00000000e-01, 6.80000000e-02, 1.00000000e-05]), array([0.84574479, 1.        , 0.18917293, 0.46428571, 0.5       ,\n",
              "                     0.69230769, 0.125     , 0.        , 0.        , 0.        ,\n",
              "                     0.        , 1.        , 0.5       , 0.07      , 0.0111    ])],\n",
              "             (8,\n",
              "              3): [array([0.46368263, 1.        , 0.50496241, 0.23214286, 0.5       ,\n",
              "                     0.53846154, 0.375     , 0.03508772, 0.        , 0.        ,\n",
              "                     0.        , 1.        , 0.5       , 0.        , 0.00228   ]), array([5.45275078e-01, 1.00000000e+00, 5.26315789e-02, 1.07142857e-01,\n",
              "                     5.00000000e-01, 2.30769231e-01, 3.75000000e-01, 1.40350877e-03,\n",
              "                     0.00000000e+00, 0.00000000e+00, 0.00000000e+00, 1.00000000e+00,\n",
              "                     5.00000000e-01, 8.00000000e-02, 4.00000000e-04]), array([0.75215934, 1.        , 0.32827068, 0.02678571, 0.5       ,\n",
              "                     0.23076923, 0.375     , 0.05263158, 0.        , 0.        ,\n",
              "                     0.        , 1.        , 0.5       , 0.1155    , 0.        ]), array([0.63723877, 1.        , 0.31954887, 0.08928571, 0.5       ,\n",
              "                     0.15384615, 0.375     , 0.03508772, 0.        , 0.        ,\n",
              "                     0.        , 1.        , 0.5       , 0.105     , 0.        ]), array([0.88702153, 1.        , 0.12150376, 0.055     , 0.5       ,\n",
              "                     0.23076923, 0.375     , 0.00298246, 0.        , 0.        ,\n",
              "                     0.        , 1.        , 0.5       , 0.178     , 0.        ]), array([0.59042402, 1.        , 0.20556391, 0.44642857, 0.5       ,\n",
              "                     0.38461538, 0.5       , 0.00877193, 0.        , 0.        ,\n",
              "                     0.        , 1.        , 0.5       , 0.36      , 0.        ]), array([0.67920025, 1.        , 0.19428571, 0.52089286, 0.5       ,\n",
              "                     0.15384615, 0.5       , 0.        , 0.        , 0.        ,\n",
              "                     0.        , 1.        , 0.5       , 0.089     , 0.        ])],\n",
              "             (8,\n",
              "              5): [array([0.26744591, 1.        , 0.35714286, 0.04017857, 0.        ,\n",
              "                     0.07692308, 0.375     , 0.05263158, 0.        , 0.        ,\n",
              "                     0.        , 1.        , 0.5       , 0.2155    , 0.        ]), array([0.46124799, 1.        , 0.30451128, 0.18160714, 0.        ,\n",
              "                     0.15384615, 0.5       , 0.03807018, 0.        , 0.        ,\n",
              "                     0.        , 1.        , 0.5       , 0.24      , 0.        ]), array([0.43260094, 1.        , 0.26796992, 0.00142857, 0.        ,\n",
              "                     0.07692308, 0.375     , 0.14912281, 0.        , 0.        ,\n",
              "                     0.        , 1.        , 0.5       , 0.23      , 0.        ]), array([0.45612644, 1.        , 0.26796992, 0.14285714, 0.        ,\n",
              "                     0.15384615, 0.375     , 0.00298246, 0.        , 0.        ,\n",
              "                     0.        , 1.        , 0.5       , 0.2055    , 0.        ])],\n",
              "             (8,\n",
              "              6): [array([0.11651831, 1.        , 0.2793985 , 0.08928571, 0.5       ,\n",
              "                     0.53846154, 0.375     , 0.04385965, 0.        , 0.        ,\n",
              "                     0.        , 1.        , 0.5       , 0.14      , 0.        ]), array([0.08630155, 1.        , 0.22300752, 0.12946429, 0.5       ,\n",
              "                     0.38461538, 0.375     , 0.00877193, 0.        , 0.        ,\n",
              "                     0.        , 1.        , 0.5       , 0.05      , 0.        ]), array([8.59331515e-03, 1.00000000e+00, 3.78496241e-01, 6.25000000e-02,\n",
              "                     5.00000000e-01, 2.30769231e-01, 3.75000000e-01, 1.75438596e-02,\n",
              "                     0.00000000e+00, 0.00000000e+00, 0.00000000e+00, 1.00000000e+00,\n",
              "                     5.00000000e-01, 1.50000000e-01, 2.00000000e-05]), array([0.01683024, 1.        , 0.08150376, 0.14285714, 0.        ,\n",
              "                     0.15384615, 0.375     , 0.03508772, 0.        , 0.        ,\n",
              "                     0.        , 1.        , 0.5       , 0.18      , 0.01      ]), array([2.35090838e-01, 1.00000000e+00, 1.65413534e-01, 1.92857143e-02,\n",
              "                     5.00000000e-01, 4.61538462e-01, 3.75000000e-01, 3.50877193e-02,\n",
              "                     0.00000000e+00, 0.00000000e+00, 0.00000000e+00, 1.00000000e+00,\n",
              "                     5.00000000e-01, 6.00000000e-02, 1.00000000e-05])],\n",
              "             (8,\n",
              "              7): [array([0.13505039, 1.        , 0.67413534, 0.09678571, 0.5       ,\n",
              "                     0.53846154, 0.375     , 0.08473684, 0.        , 0.        ,\n",
              "                     0.        , 1.        , 0.5       , 0.16      , 0.        ]), array([2.00689547e-01, 1.00000000e+00, 3.07067669e-01, 1.87500000e-01,\n",
              "                     5.00000000e-01, 6.15384615e-01, 3.75000000e-01, 2.98245614e-03,\n",
              "                     0.00000000e+00, 0.00000000e+00, 0.00000000e+00, 1.00000000e+00,\n",
              "                     5.00000000e-01, 1.45000000e-01, 6.00000000e-05]), array([0.1012938 , 1.        , 0.5124812 , 0.14875   , 0.5       ,\n",
              "                     1.        , 0.5       , 0.00298246, 0.        , 0.        ,\n",
              "                     0.        , 1.        , 0.5       , 0.26      , 0.        ]), array([2.30233573e-01, 0.00000000e+00, 1.92932331e-01, 9.07142857e-02,\n",
              "                     0.00000000e+00, 0.00000000e+00, 0.00000000e+00, 0.00000000e+00,\n",
              "                     0.00000000e+00, 0.00000000e+00, 0.00000000e+00, 1.00000000e+00,\n",
              "                     5.00000000e-01, 9.00000000e-02, 6.00000000e-04]), array([0.60318585, 1.        , 0.32210526, 0.16071429, 0.5       ,\n",
              "                     1.        , 0.875     , 0.20175439, 0.        , 0.        ,\n",
              "                     0.        , 1.        , 0.        , 0.3555    , 0.        ]), array([0.09818643, 1.        , 0.12526316, 0.02964286, 0.5       ,\n",
              "                     0.53846154, 0.875     , 0.07596491, 0.        , 0.        ,\n",
              "                     0.        , 1.        , 0.5       , 0.064     , 0.        ]), array([0.30726908, 1.        , 0.20932331, 0.02678571, 0.5       ,\n",
              "                     0.76923077, 0.875     , 0.00578947, 0.        , 0.        ,\n",
              "                     0.        , 1.        , 0.5       , 0.11      , 0.00251   ]), array([0.22071125, 1.        , 0.35458647, 0.09517857, 0.5       ,\n",
              "                     0.92307692, 0.375     , 0.00578947, 0.        , 0.        ,\n",
              "                     0.        , 1.        , 0.5       , 0.        , 0.00501   ])],\n",
              "             (8,\n",
              "              8): [array([0.38898166, 0.        , 0.23804511, 0.0625    , 0.        ,\n",
              "                     0.23076923, 0.375     , 0.04385965, 0.        , 0.        ,\n",
              "                     0.        , 1.        , 0.5       , 0.14      , 0.        ]), array([1.77504415e-01, 0.00000000e+00, 1.00300752e-01, 3.75000000e-01,\n",
              "                     0.00000000e+00, 1.00000000e+00, 8.75000000e-01, 0.00000000e+00,\n",
              "                     0.00000000e+00, 0.00000000e+00, 0.00000000e+00, 1.00000000e+00,\n",
              "                     5.00000000e-01, 7.70000000e-02, 3.20000000e-04]), array([0.00980263, 0.        , 0.08646617, 0.00589286, 0.5       ,\n",
              "                     0.76923077, 0.375     , 0.00140351, 0.        , 0.        ,\n",
              "                     0.        , 1.        , 0.5       , 0.19      , 0.        ]), array([0.71942386, 0.        , 0.29067669, 0.05803571, 0.5       ,\n",
              "                     0.07692308, 0.375     , 0.01894737, 0.        , 0.        ,\n",
              "                     0.        , 1.        , 0.5       , 0.        , 0.        ]), array([2.93394039e-01, 0.00000000e+00, 6.47819549e-01, 1.51785714e-01,\n",
              "                     0.00000000e+00, 0.00000000e+00, 0.00000000e+00, 1.75438596e-01,\n",
              "                     0.00000000e+00, 0.00000000e+00, 0.00000000e+00, 1.00000000e+00,\n",
              "                     5.00000000e-01, 0.00000000e+00, 4.00000000e-05]), array([3.56029936e-01, 0.00000000e+00, 5.95187970e-01, 5.89285714e-03,\n",
              "                     5.00000000e-01, 0.00000000e+00, 0.00000000e+00, 0.00000000e+00,\n",
              "                     0.00000000e+00, 0.00000000e+00, 0.00000000e+00, 1.00000000e+00,\n",
              "                     0.00000000e+00, 3.10000000e-02, 2.70000000e-04]), array([0.38617061, 0.        , 0.2406015 , 0.02375   , 0.5       ,\n",
              "                     0.61538462, 0.375     , 0.00877193, 0.        , 0.        ,\n",
              "                     0.        , 1.        , 0.5       , 0.15      , 0.        ]), array([0.67618899, 0.        , 0.12030075, 0.41964286, 0.5       ,\n",
              "                     0.53846154, 0.375     , 0.00877193, 0.        , 0.        ,\n",
              "                     0.        , 1.        , 0.5       , 0.09      , 0.        ]), array([0.01919681, 0.        , 0.57398496, 0.23214286, 0.5       ,\n",
              "                     0.15384615, 0.5       , 0.10824561, 0.        , 0.        ,\n",
              "                     0.        , 1.        , 0.5       , 0.0365    , 0.        ]), array([9.20249551e-01, 0.00000000e+00, 4.28571429e-01, 6.25000000e-02,\n",
              "                     0.00000000e+00, 5.38461538e-01, 3.75000000e-01, 0.00000000e+00,\n",
              "                     0.00000000e+00, 0.00000000e+00, 0.00000000e+00, 1.00000000e+00,\n",
              "                     5.00000000e-01, 7.50000000e-02, 1.00000000e-05]), array([0.30440598, 0.        , 0.54887218, 0.02982143, 0.5       ,\n",
              "                     0.38461538, 0.375     , 0.01754386, 0.        , 0.        ,\n",
              "                     0.        , 1.        , 0.5       , 0.12      , 0.00117   ]), array([3.78129893e-01, 0.00000000e+00, 1.86766917e-01, 7.14285714e-02,\n",
              "                     5.00000000e-01, 3.07692308e-01, 2.50000000e-01, 0.00000000e+00,\n",
              "                     0.00000000e+00, 0.00000000e+00, 0.00000000e+00, 1.00000000e+00,\n",
              "                     5.00000000e-01, 1.38000000e-01, 1.00000000e-05]), array([0.1515683 , 0.        , 0.13789474, 0.04464286, 0.5       ,\n",
              "                     0.76923077, 0.375     , 0.00877193, 0.        , 0.        ,\n",
              "                     0.        , 1.        , 0.5       , 0.06      , 0.00809   ]), array([0.94964942, 0.        , 0.2481203 , 0.19642857, 0.5       ,\n",
              "                     0.23076923, 0.375     , 0.19298246, 0.        , 0.        ,\n",
              "                     0.        , 1.        , 0.        , 0.05      , 0.        ]), array([3.96453756e-01, 0.00000000e+00, 1.66616541e-01, 1.60714286e-01,\n",
              "                     5.00000000e-01, 6.15384615e-01, 3.75000000e-01, 3.50877193e-02,\n",
              "                     0.00000000e+00, 0.00000000e+00, 0.00000000e+00, 1.00000000e+00,\n",
              "                     5.00000000e-01, 1.80000000e-01, 6.00000000e-05]), array([2.46723448e-01, 0.00000000e+00, 1.47819549e-01, 4.10714286e-01,\n",
              "                     0.00000000e+00, 2.30769231e-01, 8.75000000e-01, 1.05263158e-01,\n",
              "                     0.00000000e+00, 0.00000000e+00, 0.00000000e+00, 1.00000000e+00,\n",
              "                     5.00000000e-01, 1.00000000e-02, 1.60000000e-04]), array([0.32077172, 0.        , 0.06511278, 0.01339286, 1.        ,\n",
              "                     0.92307692, 0.        , 0.35087719, 0.        , 0.        ,\n",
              "                     0.        , 1.        , 0.        , 0.15      , 0.        ]), array([0.94037937, 0.        , 0.47488722, 0.03571429, 0.5       ,\n",
              "                     0.76923077, 0.375     , 0.00438596, 0.        , 0.        ,\n",
              "                     0.        , 1.        , 0.5       , 0.1315    , 0.        ]), array([0.20933492, 0.        , 0.31699248, 0.04464286, 0.        ,\n",
              "                     0.15384615, 0.875     , 0.01754386, 0.        , 0.        ,\n",
              "                     0.        , 1.        , 0.5       , 0.08      , 0.        ]), array([5.22190054e-01, 0.00000000e+00, 2.93233083e-01, 8.92857143e-02,\n",
              "                     0.00000000e+00, 5.38461538e-01, 3.75000000e-01, 8.77192982e-02,\n",
              "                     0.00000000e+00, 0.00000000e+00, 0.00000000e+00, 1.00000000e+00,\n",
              "                     5.00000000e-01, 0.00000000e+00, 2.00000000e-05]), array([0.7401263 , 0.        , 0.46992481, 0.16375   , 0.5       ,\n",
              "                     0.23076923, 0.875     , 0.03508772, 0.        , 0.        ,\n",
              "                     0.        , 1.        , 0.        , 0.12      , 0.        ]), array([0.00882957, 0.        , 0.14661654, 0.05357143, 0.5       ,\n",
              "                     0.61538462, 0.375     , 0.03070175, 0.        , 0.        ,\n",
              "                     0.        , 1.        , 0.5       , 0.08      , 0.        ]), array([0.48820922, 0.        , 0.29203008, 0.08035714, 0.        ,\n",
              "                     0.92307692, 0.375     , 0.12280702, 0.        , 0.        ,\n",
              "                     0.        , 1.        , 0.5       , 0.1       , 0.00141   ]), array([2.92465032e-01, 0.00000000e+00, 2.09323308e-01, 7.28571429e-02,\n",
              "                     5.00000000e-01, 6.15384615e-01, 3.75000000e-01, 8.77192982e-03,\n",
              "                     0.00000000e+00, 0.00000000e+00, 0.00000000e+00, 1.00000000e+00,\n",
              "                     5.00000000e-01, 9.00000000e-02, 5.00000000e-04]), array([0.30149882, 0.        , 0.17293233, 0.44642857, 0.5       ,\n",
              "                     0.07692308, 0.375     , 0.03508772, 0.        , 0.        ,\n",
              "                     0.        , 1.        , 0.5       , 0.09      , 0.01062   ]), array([0.39763103, 0.        , 0.13157895, 0.01482143, 0.5       ,\n",
              "                     0.15384615, 0.375     , 0.01175439, 0.        , 0.        ,\n",
              "                     0.        , 1.        , 0.        , 0.072     , 0.        ]), array([0.16353727, 0.        , 0.27819549, 0.05357143, 0.5       ,\n",
              "                     0.53846154, 0.375     , 0.00877193, 0.        , 0.        ,\n",
              "                     0.        , 1.        , 0.5       , 0.186     , 0.00122   ])],\n",
              "             (9,\n",
              "              0): [array([0.22307782, 1.        , 0.17924812, 0.44642857, 0.5       ,\n",
              "                     0.92307692, 0.375     , 0.04245614, 1.        , 1.        ,\n",
              "                     1.        , 1.        , 0.5       , 0.07      , 0.00258   ])],\n",
              "             (9,\n",
              "              2): [array([0.84268147, 1.        , 0.12526316, 0.40928571, 0.5       ,\n",
              "                     0.23076923, 0.375     , 0.05561404, 0.        , 0.        ,\n",
              "                     0.        , 1.        , 0.5       , 0.05      , 0.01212   ]), array([0.78919549, 1.        , 0.25443609, 0.08928571, 0.5       ,\n",
              "                     0.92307692, 0.875     , 0.07894737, 0.        , 0.        ,\n",
              "                     0.        , 1.        , 0.        , 0.17      , 0.        ]), array([0.72114172, 1.        , 0.15533835, 0.32142857, 0.5       ,\n",
              "                     0.38461538, 0.375     , 0.00877193, 0.        , 0.        ,\n",
              "                     0.        , 1.        , 0.5       , 0.        , 0.        ]), array([0.7907772 , 1.        , 0.13413534, 0.00589286, 0.5       ,\n",
              "                     0.53846154, 0.25      , 0.07894737, 0.        , 0.        ,\n",
              "                     0.        , 1.        , 0.        , 0.        , 0.        ]), array([0.69954631, 1.        , 0.40345865, 0.1175    , 0.5       ,\n",
              "                     0.46153846, 0.375     , 0.12280702, 0.        , 0.        ,\n",
              "                     0.        , 1.        , 0.        , 0.2       , 0.        ]), array([4.85322089e-01, 1.00000000e+00, 2.14285714e-01, 1.07142857e-01,\n",
              "                     5.00000000e-01, 6.15384615e-01, 3.75000000e-01, 2.63157895e-02,\n",
              "                     0.00000000e+00, 0.00000000e+00, 0.00000000e+00, 1.00000000e+00,\n",
              "                     5.00000000e-01, 1.50000000e-01, 6.70000000e-04]), array([0.90087655, 1.        , 0.11157895, 0.        , 0.5       ,\n",
              "                     0.53846154, 0.375     , 0.01754386, 0.        , 0.        ,\n",
              "                     0.        , 1.        , 0.        , 0.        , 0.        ])],\n",
              "             (9,\n",
              "              3): [array([0.12811888, 1.        , 0.2793985 , 0.125     , 0.5       ,\n",
              "                     0.23076923, 0.375     , 0.01754386, 0.        , 0.        ,\n",
              "                     0.        , 1.        , 0.5       , 0.116     , 0.        ]), array([0.30921519, 1.        , 0.44240602, 0.17857143, 0.5       ,\n",
              "                     0.15384615, 0.5       , 0.07894737, 0.        , 0.        ,\n",
              "                     0.        , 1.        , 0.5       , 0.0705    , 0.        ]), array([0.28452042, 1.        , 0.14541353, 0.03571429, 0.5       ,\n",
              "                     0.53846154, 0.375     , 0.01754386, 0.        , 0.        ,\n",
              "                     0.        , 1.        , 0.        , 0.14      , 0.        ]), array([0.50077484, 1.        , 0.21052632, 0.04607143, 0.5       ,\n",
              "                     0.23076923, 0.875     , 0.00877193, 0.        , 0.        ,\n",
              "                     0.        , 1.        , 0.        , 0.07      , 0.        ]), array([0.8735269 , 1.        , 0.29819549, 0.00892857, 0.5       ,\n",
              "                     0.15384615, 0.5       , 0.14035088, 0.        , 0.        ,\n",
              "                     0.        , 1.        , 0.        , 0.21      , 0.        ]), array([0.59371959, 1.        , 0.06766917, 0.00589286, 0.5       ,\n",
              "                     0.07692308, 0.375     , 0.00877193, 0.        , 0.        ,\n",
              "                     0.        , 1.        , 0.        , 0.14      , 0.        ]), array([0.33222814, 1.        , 0.13909774, 0.02678571, 0.5       ,\n",
              "                     0.46153846, 0.375     , 0.01754386, 0.        , 0.        ,\n",
              "                     0.        , 1.        , 0.        , 0.16      , 0.        ]), array([0.54633222, 1.        , 0.28571429, 0.08339286, 0.5       ,\n",
              "                     0.07692308, 0.875     , 0.20175439, 0.        , 0.        ,\n",
              "                     0.        , 1.        , 0.5       , 0.146     , 0.        ]), array([0.42018348, 1.        , 0.28075188, 0.10714286, 0.5       ,\n",
              "                     0.07692308, 0.375     , 0.00578947, 0.        , 0.        ,\n",
              "                     0.        , 1.        , 0.5       , 0.06      , 0.        ]), array([0.40162736, 1.        , 0.2556391 , 0.05660714, 0.5       ,\n",
              "                     0.07692308, 0.375     , 0.02052632, 0.        , 0.        ,\n",
              "                     0.        , 1.        , 0.        , 0.        , 0.        ]), array([2.38646693e-01, 1.00000000e+00, 5.00751880e-02, 1.17500000e-01,\n",
              "                     5.00000000e-01, 1.53846154e-01, 3.75000000e-01, 1.17543860e-02,\n",
              "                     0.00000000e+00, 0.00000000e+00, 0.00000000e+00, 1.00000000e+00,\n",
              "                     5.00000000e-01, 7.00000000e-02, 2.00000000e-05]), array([4.42247396e-01, 1.00000000e+00, 1.27819549e-01, 1.64285714e-02,\n",
              "                     5.00000000e-01, 2.30769231e-01, 3.75000000e-01, 4.38596491e-03,\n",
              "                     0.00000000e+00, 0.00000000e+00, 0.00000000e+00, 1.00000000e+00,\n",
              "                     5.00000000e-01, 1.40000000e-01, 5.50000000e-04]), array([0.41314785, 1.        , 0.31082707, 0.04767857, 0.5       ,\n",
              "                     0.15384615, 0.5       , 0.00438596, 0.        , 0.        ,\n",
              "                     0.        , 1.        , 0.5       , 0.22      , 0.045     ]), array([0.5783229 , 1.        , 0.38225564, 0.08928571, 0.        ,\n",
              "                     0.15384615, 0.875     , 0.35087719, 0.        , 0.        ,\n",
              "                     0.        , 1.        , 0.        , 0.1       , 0.        ]), array([0.43056273, 1.        , 0.03879699, 0.14589286, 0.5       ,\n",
              "                     0.15384615, 0.875     , 0.0145614 , 0.        , 0.        ,\n",
              "                     0.        , 1.        , 0.5       , 0.06      , 0.        ]), array([0.15409504, 1.        , 0.19548872, 0.07142857, 0.5       ,\n",
              "                     0.07692308, 0.375     , 0.02631579, 0.        , 0.        ,\n",
              "                     0.        , 1.        , 0.5       , 0.04      , 0.        ]), array([0.19204418, 1.        , 0.24932331, 0.01785714, 0.5       ,\n",
              "                     0.07692308, 0.875     , 0.00298246, 0.        , 0.        ,\n",
              "                     0.        , 1.        , 0.        , 0.126     , 0.        ])],\n",
              "             (9,\n",
              "              4): [array([0.81120334, 1.        , 0.17789474, 0.01196429, 0.5       ,\n",
              "                     0.23076923, 0.875     , 0.12280702, 0.        , 0.        ,\n",
              "                     0.        , 1.        , 0.5       , 0.17      , 0.        ]), array([0.7289622 , 1.        , 0.31954887, 0.12053571, 0.5       ,\n",
              "                     0.53846154, 0.875     , 0.29087719, 0.        , 0.        ,\n",
              "                     0.        , 1.        , 0.5       , 0.        , 0.        ]), array([0.98014648, 1.        , 0.30706767, 0.09821429, 0.5       ,\n",
              "                     0.15384615, 0.5       , 0.0877193 , 0.        , 0.        ,\n",
              "                     0.        , 1.        , 0.5       , 0.116     , 0.002     ]), array([7.74515575e-01, 1.00000000e+00, 1.47819549e-01, 2.98214286e-02,\n",
              "                     5.00000000e-01, 1.53846154e-01, 8.75000000e-01, 2.98245614e-03,\n",
              "                     0.00000000e+00, 0.00000000e+00, 0.00000000e+00, 1.00000000e+00,\n",
              "                     5.00000000e-01, 1.10000000e-01, 5.00000000e-05]), array([0.89857005, 1.        , 0.05639098, 0.78571429, 1.        ,\n",
              "                     0.        , 0.75      , 0.        , 0.        , 0.        ,\n",
              "                     0.        , 1.        , 1.        , 0.225     , 1.        ]), array([0.77188873, 1.        , 0.19804511, 0.08035714, 0.5       ,\n",
              "                     0.15384615, 0.5       , 0.01754386, 0.        , 0.        ,\n",
              "                     0.        , 1.        , 0.5       , 0.32      , 0.04      ])],\n",
              "             (9,\n",
              "              5): [array([0.57477506, 1.        , 0.14030075, 0.08928571, 0.5       ,\n",
              "                     0.        , 0.        , 0.00298246, 0.        , 0.        ,\n",
              "                     0.        , 1.        , 0.5       , 0.05      , 0.04208   ]), array([0.49682656, 1.        , 0.58150376, 0.05357143, 0.5       ,\n",
              "                     0.07692308, 0.375     , 0.13157895, 0.        , 0.        ,\n",
              "                     0.        , 1.        , 0.5       , 0.        , 0.0035    ]), array([0.15383075, 1.        , 0.34466165, 0.07142857, 0.5       ,\n",
              "                     0.15384615, 0.375     , 0.00877193, 0.        , 0.        ,\n",
              "                     0.        , 1.        , 0.5       , 0.1105    , 0.        ])],\n",
              "             (9,\n",
              "              9): [array([0.88304923, 0.        , 0.08150376, 0.02089286, 0.        ,\n",
              "                     0.38461538, 0.375     , 0.02052632, 1.        , 0.        ,\n",
              "                     0.        , 1.        , 0.5       , 0.08      , 0.        ]), array([0.0989873 , 0.        , 0.16917293, 0.03125   , 0.5       ,\n",
              "                     1.        , 0.875     , 0.03649123, 1.        , 0.        ,\n",
              "                     0.        , 1.        , 0.5       , 0.08      , 0.0586    ]), array([0.80745128, 0.        , 0.54255639, 0.48517857, 0.5       ,\n",
              "                     0.23076923, 0.875     , 0.29824561, 1.        , 0.        ,\n",
              "                     0.        , 1.        , 0.5       , 0.        , 0.        ]), array([0.00850922, 0.        , 0.22300752, 0.12642857, 0.5       ,\n",
              "                     0.15384615, 0.5       , 0.01754386, 1.        , 0.        ,\n",
              "                     0.        , 1.        , 0.5       , 0.0855    , 0.        ]), array([4.21657076e-01, 0.00000000e+00, 1.74135338e-01, 7.44642857e-02,\n",
              "                     5.00000000e-01, 5.38461538e-01, 8.75000000e-01, 9.64912281e-02,\n",
              "                     1.00000000e+00, 0.00000000e+00, 0.00000000e+00, 1.00000000e+00,\n",
              "                     5.00000000e-01, 1.80000000e-01, 1.00000000e-05]), array([0.0555362 , 0.        , 0.17037594, 0.09071429, 0.        ,\n",
              "                     0.38461538, 0.375     , 0.00877193, 1.        , 0.        ,\n",
              "                     0.        , 1.        , 0.5       , 0.185     , 0.        ]), array([0.30682059, 0.        , 0.65157895, 0.01196429, 0.5       ,\n",
              "                     0.15384615, 0.5       , 0.03508772, 1.        , 0.        ,\n",
              "                     0.        , 1.        , 0.5       , 0.126     , 0.02197   ]), array([6.99850638e-01, 0.00000000e+00, 5.30075188e-01, 5.35714286e-02,\n",
              "                     5.00000000e-01, 3.07692308e-01, 2.50000000e-01, 0.00000000e+00,\n",
              "                     1.00000000e+00, 0.00000000e+00, 0.00000000e+00, 1.00000000e+00,\n",
              "                     5.00000000e-01, 5.00000000e-02, 2.70000000e-04]), array([0.11064394, 0.        , 0.37338346, 0.17857143, 0.5       ,\n",
              "                     0.92307692, 0.375     , 0.47368421, 1.        , 0.        ,\n",
              "                     0.        , 1.        , 0.5       , 0.49      , 0.        ]), array([0.98517994, 0.        , 0.34586466, 0.18303571, 0.5       ,\n",
              "                     0.69230769, 0.375     , 0.1754386 , 1.        , 0.        ,\n",
              "                     0.        , 1.        , 0.5       , 0.        , 0.04      ]), array([0.54802206, 0.        , 0.13157895, 0.39285714, 0.        ,\n",
              "                     0.76923077, 0.375     , 0.10526316, 1.        , 0.        ,\n",
              "                     0.        , 1.        , 0.5       , 0.134     , 0.        ]), array([0.22572068, 0.        , 0.05759398, 0.32142857, 0.5       ,\n",
              "                     0.38461538, 0.375     , 0.04824561, 1.        , 0.        ,\n",
              "                     0.        , 1.        , 0.5       , 0.        , 0.        ]), array([0.32225332, 0.        , 0.70421053, 0.58928571, 0.5       ,\n",
              "                     0.76923077, 0.375     , 0.38596491, 1.        , 0.        ,\n",
              "                     0.        , 1.        , 0.5       , 0.0105    , 0.10561   ]), array([0.60142394, 0.        , 0.26796992, 0.125     , 0.5       ,\n",
              "                     0.07692308, 0.375     , 0.10526316, 1.        , 0.        ,\n",
              "                     0.        , 1.        , 0.5       , 0.15      , 0.        ]), array([0.81139155, 0.        , 0.41473684, 0.03571429, 0.5       ,\n",
              "                     0.15384615, 0.5       , 0.07894737, 1.        , 0.        ,\n",
              "                     0.        , 1.        , 0.5       , 0.        , 0.003     ]), array([0.73206556, 0.        , 0.36842105, 0.21428571, 0.5       ,\n",
              "                     0.23076923, 0.375     , 0.03508772, 1.        , 0.        ,\n",
              "                     0.        , 1.        , 0.5       , 0.        , 0.        ]), array([0.49645015, 0.        , 0.22300752, 0.05946429, 0.5       ,\n",
              "                     0.76923077, 0.375     , 0.08473684, 1.        , 0.        ,\n",
              "                     0.        , 1.        , 0.5       , 0.22      , 0.        ]), array([0.42703491, 0.        , 0.36090226, 0.19642857, 0.5       ,\n",
              "                     0.76923077, 0.375     , 0.00438596, 1.        , 0.        ,\n",
              "                     0.        , 1.        , 0.5       , 0.114     , 0.        ]), array([0.89264763, 0.        , 0.18045113, 0.01785714, 0.5       ,\n",
              "                     0.53846154, 0.875     , 0.03070175, 1.        , 0.        ,\n",
              "                     0.        , 1.        , 0.5       , 0.2455    , 0.        ])]})"
            ]
          },
          "metadata": {
            "tags": []
          },
          "execution_count": 10
        }
      ]
    },
    {
      "metadata": {
        "id": "1tuHdd4kuuOp",
        "colab_type": "code",
        "colab": {
          "base_uri": "https://localhost:8080/",
          "height": 2941
        },
        "outputId": "e836ea44-eca9-4294-f90b-4d8abcb7f71d"
      },
      "cell_type": "code",
      "source": [
        "#Finding the frauds\n",
        "frauds = np.concatenate((mappings[(5,1)], mappings[(3,7)]), axis = 0)\n",
        "frauds"
      ],
      "execution_count": 11,
      "outputs": [
        {
          "output_type": "execute_result",
          "data": {
            "text/plain": [
              "array([[6.96090562e-01, 0.00000000e+00, 1.34135338e-01, 2.50000000e-01,\n",
              "        5.00000000e-01, 5.38461538e-01, 3.75000000e-01, 5.78947368e-03,\n",
              "        0.00000000e+00, 0.00000000e+00, 0.00000000e+00, 0.00000000e+00,\n",
              "        5.00000000e-01, 8.00000000e-02, 0.00000000e+00],\n",
              "       [5.37082197e-01, 0.00000000e+00, 2.16842105e-01, 2.08928571e-02,\n",
              "        5.00000000e-01, 3.84615385e-01, 3.75000000e-01, 1.40350877e-03,\n",
              "        0.00000000e+00, 0.00000000e+00, 0.00000000e+00, 0.00000000e+00,\n",
              "        5.00000000e-01, 1.30000000e-01, 1.00400000e-02],\n",
              "       [3.29777479e-01, 0.00000000e+00, 1.61654135e-01, 6.25000000e-02,\n",
              "        0.00000000e+00, 5.38461538e-01, 3.75000000e-01, 5.78947368e-03,\n",
              "        0.00000000e+00, 0.00000000e+00, 0.00000000e+00, 0.00000000e+00,\n",
              "        5.00000000e-01, 6.60000000e-02, 0.00000000e+00],\n",
              "       [6.64208001e-01, 0.00000000e+00, 2.36842105e-01, 7.14285714e-02,\n",
              "        0.00000000e+00, 6.92307692e-01, 8.75000000e-01, 7.01754386e-02,\n",
              "        0.00000000e+00, 0.00000000e+00, 0.00000000e+00, 0.00000000e+00,\n",
              "        5.00000000e-01, 1.28000000e-01, 1.70000000e-04],\n",
              "       [3.15297783e-01, 0.00000000e+00, 6.64661654e-02, 3.57142857e-01,\n",
              "        0.00000000e+00, 7.69230769e-01, 8.75000000e-01, 5.78947368e-03,\n",
              "        0.00000000e+00, 0.00000000e+00, 0.00000000e+00, 0.00000000e+00,\n",
              "        5.00000000e-01, 1.70000000e-01, 0.00000000e+00],\n",
              "       [7.64124311e-01, 0.00000000e+00, 3.80902256e-01, 1.42857143e-01,\n",
              "        5.00000000e-01, 5.38461538e-01, 3.75000000e-01, 1.05263158e-01,\n",
              "        0.00000000e+00, 0.00000000e+00, 0.00000000e+00, 0.00000000e+00,\n",
              "        5.00000000e-01, 2.40000000e-01, 0.00000000e+00],\n",
              "       [9.44059360e-01, 0.00000000e+00, 1.06466165e-01, 1.78571429e-02,\n",
              "        0.00000000e+00, 6.92307692e-01, 1.25000000e-01, 3.50877193e-02,\n",
              "        0.00000000e+00, 0.00000000e+00, 0.00000000e+00, 0.00000000e+00,\n",
              "        5.00000000e-01, 1.30000000e-01, 0.00000000e+00],\n",
              "       [6.51942706e-01, 0.00000000e+00, 3.69624060e-01, 1.57678571e-01,\n",
              "        5.00000000e-01, 5.38461538e-01, 3.75000000e-01, 4.38596491e-03,\n",
              "        0.00000000e+00, 0.00000000e+00, 0.00000000e+00, 0.00000000e+00,\n",
              "        5.00000000e-01, 8.00000000e-02, 0.00000000e+00],\n",
              "       [3.23871076e-01, 0.00000000e+00, 3.26315789e-02, 1.02678571e-01,\n",
              "        5.00000000e-01, 7.69230769e-01, 3.75000000e-01, 2.98245614e-03,\n",
              "        0.00000000e+00, 0.00000000e+00, 0.00000000e+00, 0.00000000e+00,\n",
              "        5.00000000e-01, 6.00000000e-02, 0.00000000e+00],\n",
              "       [5.34675588e-01, 0.00000000e+00, 1.31578947e-01, 3.02142857e-01,\n",
              "        0.00000000e+00, 1.00000000e+00, 3.75000000e-01, 8.63157895e-02,\n",
              "        0.00000000e+00, 0.00000000e+00, 0.00000000e+00, 0.00000000e+00,\n",
              "        5.00000000e-01, 8.20000000e-02, 0.00000000e+00],\n",
              "       [1.13102603e-01, 0.00000000e+00, 1.20300752e-01, 6.25000000e-02,\n",
              "        0.00000000e+00, 3.07692308e-01, 2.50000000e-01, 0.00000000e+00,\n",
              "        0.00000000e+00, 0.00000000e+00, 0.00000000e+00, 0.00000000e+00,\n",
              "        5.00000000e-01, 8.00000000e-02, 0.00000000e+00],\n",
              "       [2.56421961e-01, 0.00000000e+00, 1.59097744e-01, 8.92857143e-02,\n",
              "        0.00000000e+00, 1.53846154e-01, 5.00000000e-01, 1.57894737e-01,\n",
              "        0.00000000e+00, 0.00000000e+00, 0.00000000e+00, 0.00000000e+00,\n",
              "        5.00000000e-01, 1.00000000e-01, 4.56000000e-03],\n",
              "       [9.14951808e-01, 0.00000000e+00, 8.76691729e-02, 2.37500000e-02,\n",
              "        5.00000000e-01, 6.15384615e-01, 3.75000000e-01, 5.84210526e-02,\n",
              "        0.00000000e+00, 0.00000000e+00, 0.00000000e+00, 0.00000000e+00,\n",
              "        5.00000000e-01, 1.10000000e-01, 5.00000000e-05],\n",
              "       [6.73906515e-01, 0.00000000e+00, 3.00751880e-02, 1.33928571e-02,\n",
              "        5.00000000e-01, 5.38461538e-01, 3.75000000e-01, 3.50877193e-02,\n",
              "        0.00000000e+00, 0.00000000e+00, 0.00000000e+00, 0.00000000e+00,\n",
              "        5.00000000e-01, 6.00000000e-02, 1.80000000e-04],\n",
              "       [1.09258436e-01, 0.00000000e+00, 2.70676692e-01, 1.07142857e-01,\n",
              "        0.00000000e+00, 3.07692308e-01, 2.50000000e-01, 0.00000000e+00,\n",
              "        0.00000000e+00, 0.00000000e+00, 0.00000000e+00, 0.00000000e+00,\n",
              "        5.00000000e-01, 8.00000000e-02, 2.00000000e-04],\n",
              "       [7.67712200e-01, 0.00000000e+00, 1.77894737e-01, 0.00000000e+00,\n",
              "        5.00000000e-01, 5.38461538e-01, 3.75000000e-01, 0.00000000e+00,\n",
              "        0.00000000e+00, 0.00000000e+00, 0.00000000e+00, 0.00000000e+00,\n",
              "        1.00000000e+00, 9.20000000e-02, 0.00000000e+00],\n",
              "       [4.82803359e-02, 0.00000000e+00, 2.36842105e-01, 3.87500000e-02,\n",
              "        0.00000000e+00, 1.00000000e+00, 3.75000000e-01, 3.50877193e-02,\n",
              "        0.00000000e+00, 0.00000000e+00, 0.00000000e+00, 0.00000000e+00,\n",
              "        5.00000000e-01, 1.40000000e-01, 1.30000000e-04],\n",
              "       [7.05945245e-01, 0.00000000e+00, 2.93233083e-01, 1.07142857e-01,\n",
              "        0.00000000e+00, 3.84615385e-01, 3.75000000e-01, 7.01754386e-02,\n",
              "        0.00000000e+00, 0.00000000e+00, 0.00000000e+00, 0.00000000e+00,\n",
              "        5.00000000e-01, 9.00000000e-02, 0.00000000e+00],\n",
              "       [1.12602061e-01, 0.00000000e+00, 3.87969925e-02, 7.50000000e-03,\n",
              "        5.00000000e-01, 3.84615385e-01, 3.75000000e-01, 4.38596491e-03,\n",
              "        0.00000000e+00, 0.00000000e+00, 0.00000000e+00, 0.00000000e+00,\n",
              "        5.00000000e-01, 1.00000000e-01, 1.00000000e-05],\n",
              "       [4.33241634e-01, 0.00000000e+00, 8.69624060e-01, 0.00000000e+00,\n",
              "        5.00000000e-01, 5.38461538e-01, 3.75000000e-01, 0.00000000e+00,\n",
              "        0.00000000e+00, 0.00000000e+00, 0.00000000e+00, 0.00000000e+00,\n",
              "        1.00000000e+00, 9.20000000e-02, 0.00000000e+00],\n",
              "       [6.89527448e-01, 0.00000000e+00, 1.06466165e-01, 3.03571429e-01,\n",
              "        5.00000000e-01, 5.38461538e-01, 3.75000000e-01, 5.78947368e-03,\n",
              "        0.00000000e+00, 0.00000000e+00, 0.00000000e+00, 0.00000000e+00,\n",
              "        5.00000000e-01, 0.00000000e+00, 3.51000000e-03],\n",
              "       [1.34377665e-01, 0.00000000e+00, 2.99548872e-01, 1.33928571e-02,\n",
              "        5.00000000e-01, 9.23076923e-01, 3.75000000e-01, 1.31578947e-02,\n",
              "        0.00000000e+00, 0.00000000e+00, 0.00000000e+00, 0.00000000e+00,\n",
              "        5.00000000e-01, 1.50000000e-01, 4.40000000e-04],\n",
              "       [1.82978349e-01, 0.00000000e+00, 1.47819549e-01, 2.08928571e-02,\n",
              "        0.00000000e+00, 0.00000000e+00, 0.00000000e+00, 4.38596491e-03,\n",
              "        0.00000000e+00, 0.00000000e+00, 0.00000000e+00, 0.00000000e+00,\n",
              "        5.00000000e-01, 6.00000000e-02, 8.70000000e-04],\n",
              "       [1.77284176e-01, 0.00000000e+00, 1.34135338e-01, 2.82142857e-02,\n",
              "        5.00000000e-01, 1.53846154e-01, 3.75000000e-01, 2.98245614e-03,\n",
              "        0.00000000e+00, 0.00000000e+00, 0.00000000e+00, 0.00000000e+00,\n",
              "        5.00000000e-01, 7.20000000e-02, 0.00000000e+00],\n",
              "       [6.23836238e-01, 0.00000000e+00, 1.61654135e-01, 8.62500000e-02,\n",
              "        0.00000000e+00, 5.38461538e-01, 3.75000000e-01, 0.00000000e+00,\n",
              "        0.00000000e+00, 0.00000000e+00, 0.00000000e+00, 0.00000000e+00,\n",
              "        5.00000000e-01, 6.00000000e-02, 0.00000000e+00],\n",
              "       [1.76367182e-01, 0.00000000e+00, 1.05263158e-01, 3.40714286e-01,\n",
              "        5.00000000e-01, 1.53846154e-01, 3.75000000e-01, 1.40350877e-03,\n",
              "        0.00000000e+00, 0.00000000e+00, 0.00000000e+00, 0.00000000e+00,\n",
              "        5.00000000e-01, 1.00000000e-01, 1.00000000e-02],\n",
              "       [1.84071534e-01, 0.00000000e+00, 9.51879699e-02, 4.46428571e-02,\n",
              "        5.00000000e-01, 5.38461538e-01, 3.75000000e-01, 0.00000000e+00,\n",
              "        0.00000000e+00, 0.00000000e+00, 0.00000000e+00, 0.00000000e+00,\n",
              "        5.00000000e-01, 0.00000000e+00, 0.00000000e+00],\n",
              "       [1.72995527e-01, 0.00000000e+00, 5.89473684e-02, 0.00000000e+00,\n",
              "        0.00000000e+00, 3.07692308e-01, 0.00000000e+00, 0.00000000e+00,\n",
              "        0.00000000e+00, 0.00000000e+00, 0.00000000e+00, 0.00000000e+00,\n",
              "        5.00000000e-01, 4.30000000e-02, 0.00000000e+00],\n",
              "       [2.10404078e-01, 0.00000000e+00, 1.35338346e-01, 2.20178571e-01,\n",
              "        5.00000000e-01, 3.84615385e-01, 3.75000000e-01, 5.78947368e-03,\n",
              "        0.00000000e+00, 0.00000000e+00, 0.00000000e+00, 0.00000000e+00,\n",
              "        5.00000000e-01, 1.10000000e-01, 1.00000000e-02],\n",
              "       [5.64804248e-01, 0.00000000e+00, 4.07218045e-01, 1.25000000e-01,\n",
              "        5.00000000e-01, 1.53846154e-01, 5.00000000e-01, 1.75438596e-02,\n",
              "        0.00000000e+00, 0.00000000e+00, 0.00000000e+00, 0.00000000e+00,\n",
              "        0.00000000e+00, 5.80000000e-01, 0.00000000e+00],\n",
              "       [4.29185237e-01, 0.00000000e+00, 7.26315789e-02, 3.57142857e-01,\n",
              "        5.00000000e-01, 7.69230769e-02, 3.75000000e-01, 1.45614035e-02,\n",
              "        0.00000000e+00, 0.00000000e+00, 0.00000000e+00, 0.00000000e+00,\n",
              "        5.00000000e-01, 4.00000000e-02, 4.20000000e-04],\n",
              "       [8.73623007e-01, 0.00000000e+00, 3.78496241e-01, 5.94642857e-02,\n",
              "        5.00000000e-01, 3.84615385e-01, 3.75000000e-01, 8.77192982e-03,\n",
              "        0.00000000e+00, 0.00000000e+00, 0.00000000e+00, 0.00000000e+00,\n",
              "        5.00000000e-01, 0.00000000e+00, 3.90000000e-03],\n",
              "       [3.44989969e-01, 0.00000000e+00, 3.75939850e-01, 5.35714286e-02,\n",
              "        5.00000000e-01, 0.00000000e+00, 0.00000000e+00, 0.00000000e+00,\n",
              "        0.00000000e+00, 0.00000000e+00, 0.00000000e+00, 0.00000000e+00,\n",
              "        5.00000000e-01, 3.80000000e-02, 0.00000000e+00],\n",
              "       [6.02124703e-01, 0.00000000e+00, 1.27819549e-01, 4.46428571e-02,\n",
              "        0.00000000e+00, 0.00000000e+00, 0.00000000e+00, 1.14035088e-01,\n",
              "        0.00000000e+00, 0.00000000e+00, 0.00000000e+00, 0.00000000e+00,\n",
              "        5.00000000e-01, 1.40000000e-01, 0.00000000e+00],\n",
              "       [3.43356198e-01, 0.00000000e+00, 8.38345865e-01, 2.14285714e-01,\n",
              "        5.00000000e-01, 0.00000000e+00, 0.00000000e+00, 0.00000000e+00,\n",
              "        0.00000000e+00, 0.00000000e+00, 0.00000000e+00, 0.00000000e+00,\n",
              "        0.00000000e+00, 0.00000000e+00, 0.00000000e+00],\n",
              "       [4.28156121e-01, 0.00000000e+00, 3.45864662e-01, 1.68214286e-01,\n",
              "        5.00000000e-01, 0.00000000e+00, 0.00000000e+00, 0.00000000e+00,\n",
              "        0.00000000e+00, 0.00000000e+00, 0.00000000e+00, 0.00000000e+00,\n",
              "        5.00000000e-01, 8.00000000e-02, 0.00000000e+00],\n",
              "       [8.16220783e-01, 0.00000000e+00, 2.74436090e-01, 2.14285714e-01,\n",
              "        5.00000000e-01, 7.69230769e-02, 3.75000000e-01, 4.38596491e-02,\n",
              "        0.00000000e+00, 0.00000000e+00, 0.00000000e+00, 0.00000000e+00,\n",
              "        5.00000000e-01, 1.36000000e-01, 0.00000000e+00],\n",
              "       [7.47330106e-01, 0.00000000e+00, 1.10225564e-01, 1.78571429e-01,\n",
              "        0.00000000e+00, 0.00000000e+00, 0.00000000e+00, 0.00000000e+00,\n",
              "        0.00000000e+00, 0.00000000e+00, 0.00000000e+00, 0.00000000e+00,\n",
              "        5.00000000e-01, 0.00000000e+00, 0.00000000e+00],\n",
              "       [6.84017475e-01, 0.00000000e+00, 2.67969925e-01, 4.01785714e-01,\n",
              "        5.00000000e-01, 0.00000000e+00, 0.00000000e+00, 0.00000000e+00,\n",
              "        0.00000000e+00, 0.00000000e+00, 0.00000000e+00, 0.00000000e+00,\n",
              "        5.00000000e-01, 9.20000000e-02, 5.20000000e-02],\n",
              "       [8.54898710e-01, 0.00000000e+00, 2.04210526e-01, 5.94642857e-02,\n",
              "        5.00000000e-01, 0.00000000e+00, 0.00000000e+00, 0.00000000e+00,\n",
              "        0.00000000e+00, 0.00000000e+00, 0.00000000e+00, 0.00000000e+00,\n",
              "        5.00000000e-01, 1.70000000e-01, 1.00000000e-05],\n",
              "       [7.48267122e-01, 0.00000000e+00, 4.18496241e-01, 3.71428571e-02,\n",
              "        5.00000000e-01, 3.84615385e-01, 3.75000000e-01, 2.33333333e-02,\n",
              "        0.00000000e+00, 0.00000000e+00, 0.00000000e+00, 0.00000000e+00,\n",
              "        5.00000000e-01, 1.20000000e-01, 2.37000000e-03],\n",
              "       [1.98543221e-01, 0.00000000e+00, 6.27067669e-02, 3.64642857e-01,\n",
              "        5.00000000e-01, 0.00000000e+00, 0.00000000e+00, 0.00000000e+00,\n",
              "        0.00000000e+00, 0.00000000e+00, 0.00000000e+00, 0.00000000e+00,\n",
              "        5.00000000e-01, 0.00000000e+00, 5.00000000e-04],\n",
              "       [9.59227803e-01, 0.00000000e+00, 5.17593985e-01, 4.76785714e-02,\n",
              "        5.00000000e-01, 1.53846154e-01, 7.50000000e-01, 1.17543860e-02,\n",
              "        0.00000000e+00, 0.00000000e+00, 0.00000000e+00, 0.00000000e+00,\n",
              "        5.00000000e-01, 0.00000000e+00, 1.20000000e-03]])"
            ]
          },
          "metadata": {
            "tags": []
          },
          "execution_count": 11
        }
      ]
    },
    {
      "metadata": {
        "id": "Z_cXhC43wACU",
        "colab_type": "code",
        "colab": {
          "base_uri": "https://localhost:8080/",
          "height": 2941
        },
        "outputId": "44b94be9-9b29-455b-bbe4-c19b74abb662"
      },
      "cell_type": "code",
      "source": [
        "#Inverse scaling to get fraud customers list\n",
        "frauds = sc.inverse_transform(frauds)\n",
        "frauds"
      ],
      "execution_count": 12,
      "outputs": [
        {
          "output_type": "execute_result",
          "data": {
            "text/plain": [
              "array([[1.5739548e+07, 0.0000000e+00, 2.2670000e+01, 7.0000000e+00,\n",
              "        2.0000000e+00, 8.0000000e+00, 4.0000000e+00, 1.6500000e-01,\n",
              "        0.0000000e+00, 0.0000000e+00, 0.0000000e+00, 0.0000000e+00,\n",
              "        2.0000000e+00, 1.6000000e+02, 1.0000000e+00],\n",
              "       [1.5699839e+07, 0.0000000e+00, 2.8170000e+01, 5.8500000e-01,\n",
              "        2.0000000e+00, 6.0000000e+00, 4.0000000e+00, 4.0000000e-02,\n",
              "        0.0000000e+00, 0.0000000e+00, 0.0000000e+00, 0.0000000e+00,\n",
              "        2.0000000e+00, 2.6000000e+02, 1.0050000e+03],\n",
              "       [1.5648069e+07, 0.0000000e+00, 2.4500000e+01, 1.7500000e+00,\n",
              "        1.0000000e+00, 8.0000000e+00, 4.0000000e+00, 1.6500000e-01,\n",
              "        0.0000000e+00, 0.0000000e+00, 0.0000000e+00, 0.0000000e+00,\n",
              "        2.0000000e+00, 1.3200000e+02, 1.0000000e+00],\n",
              "       [1.5731586e+07, 0.0000000e+00, 2.9500000e+01, 2.0000000e+00,\n",
              "        1.0000000e+00, 1.0000000e+01, 8.0000000e+00, 2.0000000e+00,\n",
              "        0.0000000e+00, 0.0000000e+00, 0.0000000e+00, 0.0000000e+00,\n",
              "        2.0000000e+00, 2.5600000e+02, 1.8000000e+01],\n",
              "       [1.5644453e+07, 0.0000000e+00, 1.8170000e+01, 1.0000000e+01,\n",
              "        1.0000000e+00, 1.1000000e+01, 8.0000000e+00, 1.6500000e-01,\n",
              "        0.0000000e+00, 0.0000000e+00, 0.0000000e+00, 0.0000000e+00,\n",
              "        2.0000000e+00, 3.4000000e+02, 1.0000000e+00],\n",
              "       [1.5756538e+07, 0.0000000e+00, 3.9080000e+01, 4.0000000e+00,\n",
              "        2.0000000e+00, 8.0000000e+00, 4.0000000e+00, 3.0000000e+00,\n",
              "        0.0000000e+00, 0.0000000e+00, 0.0000000e+00, 0.0000000e+00,\n",
              "        2.0000000e+00, 4.8000000e+02, 1.0000000e+00],\n",
              "       [1.5801473e+07, 0.0000000e+00, 2.0830000e+01, 5.0000000e-01,\n",
              "        1.0000000e+00, 1.0000000e+01, 2.0000000e+00, 1.0000000e+00,\n",
              "        0.0000000e+00, 0.0000000e+00, 0.0000000e+00, 0.0000000e+00,\n",
              "        2.0000000e+00, 2.6000000e+02, 1.0000000e+00],\n",
              "       [1.5728523e+07, 0.0000000e+00, 3.8330000e+01, 4.4150000e+00,\n",
              "        2.0000000e+00, 8.0000000e+00, 4.0000000e+00, 1.2500000e-01,\n",
              "        0.0000000e+00, 0.0000000e+00, 0.0000000e+00, 0.0000000e+00,\n",
              "        2.0000000e+00, 1.6000000e+02, 1.0000000e+00],\n",
              "       [1.5646594e+07, 0.0000000e+00, 1.5920000e+01, 2.8750000e+00,\n",
              "        2.0000000e+00, 1.1000000e+01, 4.0000000e+00, 8.5000000e-02,\n",
              "        0.0000000e+00, 0.0000000e+00, 0.0000000e+00, 0.0000000e+00,\n",
              "        2.0000000e+00, 1.2000000e+02, 1.0000000e+00],\n",
              "       [1.5699238e+07, 0.0000000e+00, 2.2500000e+01, 8.4600000e+00,\n",
              "        1.0000000e+00, 1.4000000e+01, 4.0000000e+00, 2.4600000e+00,\n",
              "        0.0000000e+00, 0.0000000e+00, 0.0000000e+00, 0.0000000e+00,\n",
              "        2.0000000e+00, 1.6400000e+02, 1.0000000e+00],\n",
              "       [1.5593959e+07, 0.0000000e+00, 2.1750000e+01, 1.7500000e+00,\n",
              "        1.0000000e+00, 5.0000000e+00, 3.0000000e+00, 0.0000000e+00,\n",
              "        0.0000000e+00, 0.0000000e+00, 0.0000000e+00, 0.0000000e+00,\n",
              "        2.0000000e+00, 1.6000000e+02, 1.0000000e+00],\n",
              "       [1.5629750e+07, 0.0000000e+00, 2.4330000e+01, 2.5000000e+00,\n",
              "        1.0000000e+00, 3.0000000e+00, 5.0000000e+00, 4.5000000e+00,\n",
              "        0.0000000e+00, 0.0000000e+00, 0.0000000e+00, 0.0000000e+00,\n",
              "        2.0000000e+00, 2.0000000e+02, 4.5700000e+02],\n",
              "       [1.5794204e+07, 0.0000000e+00, 1.9580000e+01, 6.6500000e-01,\n",
              "        2.0000000e+00, 9.0000000e+00, 4.0000000e+00, 1.6650000e+00,\n",
              "        0.0000000e+00, 0.0000000e+00, 0.0000000e+00, 0.0000000e+00,\n",
              "        2.0000000e+00, 2.2000000e+02, 6.0000000e+00],\n",
              "       [1.5734008e+07, 0.0000000e+00, 1.5750000e+01, 3.7500000e-01,\n",
              "        2.0000000e+00, 8.0000000e+00, 4.0000000e+00, 1.0000000e+00,\n",
              "        0.0000000e+00, 0.0000000e+00, 0.0000000e+00, 0.0000000e+00,\n",
              "        2.0000000e+00, 1.2000000e+02, 1.9000000e+01],\n",
              "       [1.5592999e+07, 0.0000000e+00, 3.1750000e+01, 3.0000000e+00,\n",
              "        1.0000000e+00, 5.0000000e+00, 3.0000000e+00, 0.0000000e+00,\n",
              "        0.0000000e+00, 0.0000000e+00, 0.0000000e+00, 0.0000000e+00,\n",
              "        2.0000000e+00, 1.6000000e+02, 2.1000000e+01],\n",
              "       [1.5757434e+07, 0.0000000e+00, 2.5580000e+01, 0.0000000e+00,\n",
              "        2.0000000e+00, 8.0000000e+00, 4.0000000e+00, 0.0000000e+00,\n",
              "        0.0000000e+00, 0.0000000e+00, 0.0000000e+00, 0.0000000e+00,\n",
              "        3.0000000e+00, 1.8400000e+02, 1.0000000e+00],\n",
              "       [1.5577771e+07, 0.0000000e+00, 2.9500000e+01, 1.0850000e+00,\n",
              "        1.0000000e+00, 1.4000000e+01, 4.0000000e+00, 1.0000000e+00,\n",
              "        0.0000000e+00, 0.0000000e+00, 0.0000000e+00, 0.0000000e+00,\n",
              "        2.0000000e+00, 2.8000000e+02, 1.4000000e+01],\n",
              "       [1.5742009e+07, 0.0000000e+00, 3.3250000e+01, 3.0000000e+00,\n",
              "        1.0000000e+00, 6.0000000e+00, 4.0000000e+00, 2.0000000e+00,\n",
              "        0.0000000e+00, 0.0000000e+00, 0.0000000e+00, 0.0000000e+00,\n",
              "        2.0000000e+00, 1.8000000e+02, 1.0000000e+00],\n",
              "       [1.5593834e+07, 0.0000000e+00, 1.6330000e+01, 2.1000000e-01,\n",
              "        2.0000000e+00, 6.0000000e+00, 4.0000000e+00, 1.2500000e-01,\n",
              "        0.0000000e+00, 0.0000000e+00, 0.0000000e+00, 0.0000000e+00,\n",
              "        2.0000000e+00, 2.0000000e+02, 2.0000000e+00],\n",
              "       [1.5673907e+07, 0.0000000e+00, 7.1580000e+01, 0.0000000e+00,\n",
              "        2.0000000e+00, 8.0000000e+00, 4.0000000e+00, 0.0000000e+00,\n",
              "        0.0000000e+00, 0.0000000e+00, 0.0000000e+00, 0.0000000e+00,\n",
              "        3.0000000e+00, 1.8400000e+02, 1.0000000e+00],\n",
              "       [1.5737909e+07, 0.0000000e+00, 2.0830000e+01, 8.5000000e+00,\n",
              "        2.0000000e+00, 8.0000000e+00, 4.0000000e+00, 1.6500000e-01,\n",
              "        0.0000000e+00, 0.0000000e+00, 0.0000000e+00, 0.0000000e+00,\n",
              "        2.0000000e+00, 0.0000000e+00, 3.5200000e+02],\n",
              "       [1.5599272e+07, 0.0000000e+00, 3.3670000e+01, 3.7500000e-01,\n",
              "        2.0000000e+00, 1.3000000e+01, 4.0000000e+00, 3.7500000e-01,\n",
              "        0.0000000e+00, 0.0000000e+00, 0.0000000e+00, 0.0000000e+00,\n",
              "        2.0000000e+00, 3.0000000e+02, 4.5000000e+01],\n",
              "       [1.5611409e+07, 0.0000000e+00, 2.3580000e+01, 5.8500000e-01,\n",
              "        1.0000000e+00, 1.0000000e+00, 1.0000000e+00, 1.2500000e-01,\n",
              "        0.0000000e+00, 0.0000000e+00, 0.0000000e+00, 0.0000000e+00,\n",
              "        2.0000000e+00, 1.2000000e+02, 8.8000000e+01],\n",
              "       [1.5609987e+07, 0.0000000e+00, 2.2670000e+01, 7.9000000e-01,\n",
              "        2.0000000e+00, 3.0000000e+00, 4.0000000e+00, 8.5000000e-02,\n",
              "        0.0000000e+00, 0.0000000e+00, 0.0000000e+00, 0.0000000e+00,\n",
              "        2.0000000e+00, 1.4400000e+02, 1.0000000e+00],\n",
              "       [1.5721504e+07, 0.0000000e+00, 2.4500000e+01, 2.4150000e+00,\n",
              "        1.0000000e+00, 8.0000000e+00, 4.0000000e+00, 0.0000000e+00,\n",
              "        0.0000000e+00, 0.0000000e+00, 0.0000000e+00, 0.0000000e+00,\n",
              "        2.0000000e+00, 1.2000000e+02, 1.0000000e+00],\n",
              "       [1.5609758e+07, 0.0000000e+00, 2.0750000e+01, 9.5400000e+00,\n",
              "        2.0000000e+00, 3.0000000e+00, 4.0000000e+00, 4.0000000e-02,\n",
              "        0.0000000e+00, 0.0000000e+00, 0.0000000e+00, 0.0000000e+00,\n",
              "        2.0000000e+00, 2.0000000e+02, 1.0010000e+03],\n",
              "       [1.5611682e+07, 0.0000000e+00, 2.0080000e+01, 1.2500000e+00,\n",
              "        2.0000000e+00, 8.0000000e+00, 4.0000000e+00, 0.0000000e+00,\n",
              "        0.0000000e+00, 0.0000000e+00, 0.0000000e+00, 0.0000000e+00,\n",
              "        2.0000000e+00, 0.0000000e+00, 1.0000000e+00],\n",
              "       [1.5608916e+07, 0.0000000e+00, 1.7670000e+01, 0.0000000e+00,\n",
              "        1.0000000e+00, 5.0000000e+00, 1.0000000e+00, 0.0000000e+00,\n",
              "        0.0000000e+00, 0.0000000e+00, 0.0000000e+00, 0.0000000e+00,\n",
              "        2.0000000e+00, 8.6000000e+01, 1.0000000e+00],\n",
              "       [1.5618258e+07, 0.0000000e+00, 2.2750000e+01, 6.1650000e+00,\n",
              "        2.0000000e+00, 6.0000000e+00, 4.0000000e+00, 1.6500000e-01,\n",
              "        0.0000000e+00, 0.0000000e+00, 0.0000000e+00, 0.0000000e+00,\n",
              "        2.0000000e+00, 2.2000000e+02, 1.0010000e+03],\n",
              "       [1.5706762e+07, 0.0000000e+00, 4.0830000e+01, 3.5000000e+00,\n",
              "        2.0000000e+00, 3.0000000e+00, 5.0000000e+00, 5.0000000e-01,\n",
              "        0.0000000e+00, 0.0000000e+00, 0.0000000e+00, 0.0000000e+00,\n",
              "        1.0000000e+00, 1.1600000e+03, 1.0000000e+00],\n",
              "       [1.5672894e+07, 0.0000000e+00, 1.8580000e+01, 1.0000000e+01,\n",
              "        2.0000000e+00, 2.0000000e+00, 4.0000000e+00, 4.1500000e-01,\n",
              "        0.0000000e+00, 0.0000000e+00, 0.0000000e+00, 0.0000000e+00,\n",
              "        2.0000000e+00, 8.0000000e+01, 4.3000000e+01],\n",
              "       [1.5783883e+07, 0.0000000e+00, 3.8920000e+01, 1.6650000e+00,\n",
              "        2.0000000e+00, 6.0000000e+00, 4.0000000e+00, 2.5000000e-01,\n",
              "        0.0000000e+00, 0.0000000e+00, 0.0000000e+00, 0.0000000e+00,\n",
              "        2.0000000e+00, 0.0000000e+00, 3.9100000e+02],\n",
              "       [1.5651868e+07, 0.0000000e+00, 3.8750000e+01, 1.5000000e+00,\n",
              "        2.0000000e+00, 1.0000000e+00, 1.0000000e+00, 0.0000000e+00,\n",
              "        0.0000000e+00, 0.0000000e+00, 0.0000000e+00, 0.0000000e+00,\n",
              "        2.0000000e+00, 7.6000000e+01, 1.0000000e+00],\n",
              "       [1.5716082e+07, 0.0000000e+00, 2.2250000e+01, 1.2500000e+00,\n",
              "        1.0000000e+00, 1.0000000e+00, 1.0000000e+00, 3.2500000e+00,\n",
              "        0.0000000e+00, 0.0000000e+00, 0.0000000e+00, 0.0000000e+00,\n",
              "        2.0000000e+00, 2.8000000e+02, 1.0000000e+00],\n",
              "       [1.5651460e+07, 0.0000000e+00, 6.9500000e+01, 6.0000000e+00,\n",
              "        2.0000000e+00, 1.0000000e+00, 1.0000000e+00, 0.0000000e+00,\n",
              "        0.0000000e+00, 0.0000000e+00, 0.0000000e+00, 0.0000000e+00,\n",
              "        1.0000000e+00, 0.0000000e+00, 1.0000000e+00],\n",
              "       [1.5672637e+07, 0.0000000e+00, 3.6750000e+01, 4.7100000e+00,\n",
              "        2.0000000e+00, 1.0000000e+00, 1.0000000e+00, 0.0000000e+00,\n",
              "        0.0000000e+00, 0.0000000e+00, 0.0000000e+00, 0.0000000e+00,\n",
              "        2.0000000e+00, 1.6000000e+02, 1.0000000e+00],\n",
              "       [1.5769548e+07, 0.0000000e+00, 3.2000000e+01, 6.0000000e+00,\n",
              "        2.0000000e+00, 2.0000000e+00, 4.0000000e+00, 1.2500000e+00,\n",
              "        0.0000000e+00, 0.0000000e+00, 0.0000000e+00, 0.0000000e+00,\n",
              "        2.0000000e+00, 2.7200000e+02, 1.0000000e+00],\n",
              "       [1.5752344e+07, 0.0000000e+00, 2.1080000e+01, 5.0000000e+00,\n",
              "        1.0000000e+00, 1.0000000e+00, 1.0000000e+00, 0.0000000e+00,\n",
              "        0.0000000e+00, 0.0000000e+00, 0.0000000e+00, 0.0000000e+00,\n",
              "        2.0000000e+00, 0.0000000e+00, 1.0000000e+00],\n",
              "       [1.5736533e+07, 0.0000000e+00, 3.1570000e+01, 1.1250000e+01,\n",
              "        2.0000000e+00, 1.0000000e+00, 1.0000000e+00, 0.0000000e+00,\n",
              "        0.0000000e+00, 0.0000000e+00, 0.0000000e+00, 0.0000000e+00,\n",
              "        2.0000000e+00, 1.8400000e+02, 5.2010000e+03],\n",
              "       [1.5779207e+07, 0.0000000e+00, 2.7330000e+01, 1.6650000e+00,\n",
              "        2.0000000e+00, 1.0000000e+00, 1.0000000e+00, 0.0000000e+00,\n",
              "        0.0000000e+00, 0.0000000e+00, 0.0000000e+00, 0.0000000e+00,\n",
              "        2.0000000e+00, 3.4000000e+02, 2.0000000e+00],\n",
              "       [1.5752578e+07, 0.0000000e+00, 4.1580000e+01, 1.0400000e+00,\n",
              "        2.0000000e+00, 6.0000000e+00, 4.0000000e+00, 6.6500000e-01,\n",
              "        0.0000000e+00, 0.0000000e+00, 0.0000000e+00, 0.0000000e+00,\n",
              "        2.0000000e+00, 2.4000000e+02, 2.3800000e+02],\n",
              "       [1.5615296e+07, 0.0000000e+00, 1.7920000e+01, 1.0210000e+01,\n",
              "        2.0000000e+00, 1.0000000e+00, 1.0000000e+00, 0.0000000e+00,\n",
              "        0.0000000e+00, 0.0000000e+00, 0.0000000e+00, 0.0000000e+00,\n",
              "        2.0000000e+00, 0.0000000e+00, 5.1000000e+01],\n",
              "       [1.5805261e+07, 0.0000000e+00, 4.8170000e+01, 1.3350000e+00,\n",
              "        2.0000000e+00, 3.0000000e+00, 7.0000000e+00, 3.3500000e-01,\n",
              "        0.0000000e+00, 0.0000000e+00, 0.0000000e+00, 0.0000000e+00,\n",
              "        2.0000000e+00, 0.0000000e+00, 1.2100000e+02]])"
            ]
          },
          "metadata": {
            "tags": []
          },
          "execution_count": 12
        }
      ]
    },
    {
      "metadata": {
        "id": "ASNWVIW3LM7X",
        "colab_type": "code",
        "colab": {
          "base_uri": "https://localhost:8080/",
          "height": 34
        },
        "outputId": "b5891b59-af32-4e4b-c2b1-053cae870f93"
      },
      "cell_type": "code",
      "source": [
        "len(frauds)"
      ],
      "execution_count": 13,
      "outputs": [
        {
          "output_type": "execute_result",
          "data": {
            "text/plain": [
              "43"
            ]
          },
          "metadata": {
            "tags": []
          },
          "execution_count": 13
        }
      ]
    },
    {
      "metadata": {
        "id": "ec_H31xvLl4B",
        "colab_type": "text"
      },
      "cell_type": "markdown",
      "source": [
        "**Going from Unsupervised to Supervised Deep Learning**"
      ]
    },
    {
      "metadata": {
        "id": "YnyjFHphLhy3",
        "colab_type": "code",
        "colab": {}
      },
      "cell_type": "code",
      "source": [
        "#Creating the matrix of features\n",
        "customers = dataset.iloc[:, 1:].values"
      ],
      "execution_count": 0,
      "outputs": []
    },
    {
      "metadata": {
        "id": "OQDCzD4mMehl",
        "colab_type": "code",
        "colab": {}
      },
      "cell_type": "code",
      "source": [
        "#Creating the dependent variable\n",
        "is_fraud = np.zeros(len(dataset))\n",
        "for i in range(len(dataset)):\n",
        "  if dataset.iloc[i, 0] in frauds:\n",
        "    is_fraud[i] = 1"
      ],
      "execution_count": 0,
      "outputs": []
    },
    {
      "metadata": {
        "id": "ulnMXVRwNv0C",
        "colab_type": "code",
        "colab": {}
      },
      "cell_type": "code",
      "source": [
        "# Feature Scaling\n",
        "from sklearn.preprocessing import StandardScaler\n",
        "sc = StandardScaler()\n",
        "customers = sc.fit_transform(customers)"
      ],
      "execution_count": 0,
      "outputs": []
    },
    {
      "metadata": {
        "id": "O4hhvIeSODTG",
        "colab_type": "code",
        "colab": {
          "base_uri": "https://localhost:8080/",
          "height": 34
        },
        "outputId": "6addc1e5-c44f-4680-8009-3b7d938b57f3"
      },
      "cell_type": "code",
      "source": [
        "# Importing the Keras libraries and packages\n",
        "from keras.models import Sequential\n",
        "from keras.layers import Dense"
      ],
      "execution_count": 17,
      "outputs": [
        {
          "output_type": "stream",
          "text": [
            "Using TensorFlow backend.\n"
          ],
          "name": "stderr"
        }
      ]
    },
    {
      "metadata": {
        "id": "B3XPZtl3OEln",
        "colab_type": "code",
        "colab": {}
      },
      "cell_type": "code",
      "source": [
        "# Initialising the ANN\n",
        "classifier = Sequential()\n",
        "\n",
        "# Adding the input layer and the first hidden layer\n",
        "classifier.add(Dense(units = 2, kernel_initializer = 'uniform', activation = 'relu', input_dim = 15))\n",
        "\n",
        "# Adding the output layer\n",
        "classifier.add(Dense(units = 1, kernel_initializer = 'uniform', activation = 'sigmoid'))\n",
        "\n",
        "# Compiling the ANN\n",
        "classifier.compile(optimizer = 'adam', loss = 'binary_crossentropy', metrics = ['accuracy'])"
      ],
      "execution_count": 0,
      "outputs": []
    },
    {
      "metadata": {
        "id": "K9-a8lXkORDj",
        "colab_type": "code",
        "colab": {
          "base_uri": "https://localhost:8080/",
          "height": 102
        },
        "outputId": "da92228d-385d-493b-8fee-b7411b3f0c3b"
      },
      "cell_type": "code",
      "source": [
        "# Fitting the ANN to the Training set\n",
        "classifier.fit(customers, is_fraud, batch_size = 1, epochs = 2, verbose = 2)"
      ],
      "execution_count": 19,
      "outputs": [
        {
          "output_type": "stream",
          "text": [
            "Epoch 1/2\n",
            " - 4s - loss: 0.4883 - acc: 0.9348\n",
            "Epoch 2/2\n",
            " - 3s - loss: 0.2376 - acc: 0.9377\n"
          ],
          "name": "stdout"
        },
        {
          "output_type": "execute_result",
          "data": {
            "text/plain": [
              "<keras.callbacks.History at 0x7f0852057ba8>"
            ]
          },
          "metadata": {
            "tags": []
          },
          "execution_count": 19
        }
      ]
    },
    {
      "metadata": {
        "id": "eE2UBlAiOTzn",
        "colab_type": "code",
        "colab": {}
      },
      "cell_type": "code",
      "source": [
        "# Predicting the probabilities of fraud\n",
        "y_pred = classifier.predict(customers)"
      ],
      "execution_count": 0,
      "outputs": []
    },
    {
      "metadata": {
        "id": "jjt5KJ4BPecD",
        "colab_type": "code",
        "colab": {
          "base_uri": "https://localhost:8080/",
          "height": 136
        },
        "outputId": "48abc4cc-6213-4ece-995d-66369eb756c9"
      },
      "cell_type": "code",
      "source": [
        "#Conatenate customerID to the prediction values\n",
        "y_pred = np.concatenate([dataset.iloc[:,0:1].values, y_pred], axis = 1)\n",
        "#instead of iloc[:,0], by using iloc[:,0:1] makes it 2 dimensional because y_pred is 2D array so we have to make sure to do concatenation with same dimensions\n",
        "y_pred"
      ],
      "execution_count": 22,
      "outputs": [
        {
          "output_type": "execute_result",
          "data": {
            "text/plain": [
              "array([[1.57761560e+07, 9.23738852e-02],\n",
              "       [1.57395480e+07, 2.59565145e-01],\n",
              "       [1.56628540e+07, 2.35934302e-01],\n",
              "       ...,\n",
              "       [1.56754500e+07, 8.95422995e-02],\n",
              "       [1.57764940e+07, 2.76555084e-02],\n",
              "       [1.55924120e+07, 8.43768939e-02]])"
            ]
          },
          "metadata": {
            "tags": []
          },
          "execution_count": 22
        }
      ]
    },
    {
      "metadata": {
        "id": "lNKxro6BQpNR",
        "colab_type": "code",
        "colab": {}
      },
      "cell_type": "code",
      "source": [
        "#Sort the predicted probabilities for ranking\n",
        "y_pred = y_pred[y_pred[:,1].argsort()]"
      ],
      "execution_count": 0,
      "outputs": []
    },
    {
      "metadata": {
        "id": "oSH7AKOGRNdW",
        "colab_type": "code",
        "colab": {
          "base_uri": "https://localhost:8080/",
          "height": 136
        },
        "outputId": "a767afd2-a77d-4fef-86b9-a82e77d0f308"
      },
      "cell_type": "code",
      "source": [
        "y_pred"
      ],
      "execution_count": 24,
      "outputs": [
        {
          "output_type": "execute_result",
          "data": {
            "text/plain": [
              "array([[1.57238270e+07, 5.93121583e-03],\n",
              "       [1.56674600e+07, 6.51087286e-03],\n",
              "       [1.56548590e+07, 6.57021953e-03],\n",
              "       ...,\n",
              "       [1.56114090e+07, 3.36742938e-01],\n",
              "       [1.57523440e+07, 3.36742938e-01],\n",
              "       [1.56089160e+07, 3.36742938e-01]])"
            ]
          },
          "metadata": {
            "tags": []
          },
          "execution_count": 24
        }
      ]
    }
  ]
}